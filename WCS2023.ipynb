{
  "nbformat": 4,
  "nbformat_minor": 0,
  "metadata": {
    "colab": {
      "provenance": [],
      "collapsed_sections": [
        "WAtFPN_4VRuj",
        "OxtCb5HPVZ8H",
        "UsZybwHx1GnI",
        "OQBKIdNuO44Q"
      ],
      "gpuType": "T4"
    },
    "kernelspec": {
      "name": "python3",
      "display_name": "Python 3"
    },
    "language_info": {
      "name": "python"
    },
    "accelerator": "GPU"
  },
  "cells": [
    {
      "cell_type": "code",
      "execution_count": null,
      "metadata": {
        "colab": {
          "base_uri": "https://localhost:8080/"
        },
        "id": "hLa-ot522zpL",
        "outputId": "a0c40e80-ba60-4195-dd63-bc65b1902b7e"
      },
      "outputs": [
        {
          "output_type": "stream",
          "name": "stdout",
          "text": [
            "Mounted at /content/drive\n"
          ]
        }
      ],
      "source": [
        " from google.colab import drive\n",
        "drive.mount('/content/drive')\n"
      ]
    },
    {
      "cell_type": "code",
      "source": [
        "import os\n",
        "import shutil\n",
        "\n",
        "D3_dir = '/content/drive/MyDrive/wcs2023/Hieu/VGG16/D3_YOLO_CUT'\n",
        "D5_dir = '/content/drive/MyDrive/wcs2023/Hieu/VGG16/D5_YOLO_CUT'\n",
        "\n",
        "D3_dir_new = '/content/drive/MyDrive/wcs2023/Hieu/VGG16/D3_YOLO_CUT_new'\n",
        "D5_dir_new = '/content/drive/MyDrive/wcs2023/Hieu/VGG16/D5_YOLO_CUT_new'\n",
        "\n",
        "os.makedirs(D3_dir_new, exist_ok=True)\n",
        "os.makedirs(D5_dir_new, exist_ok=True)\n",
        "\n",
        "os.makedirs(D3_dir_new + '/OK', exist_ok=True)\n",
        "os.makedirs(D3_dir_new + '/NG', exist_ok=True)\n",
        "os.makedirs(D5_dir_new + '/OK', exist_ok=True)\n",
        "os.makedirs(D5_dir_new + '/NG', exist_ok=True)\n",
        "\n"
      ],
      "metadata": {
        "id": "AcEDRxHTJVXR"
      },
      "execution_count": null,
      "outputs": []
    },
    {
      "cell_type": "code",
      "source": [
        "types_of_embryo = ['OK', 'NG']\n",
        "dirs = [D3_dir, D5_dir]\n",
        "for type_of_embryo in types_of_embryo:\n",
        "  for dir in dirs:\n",
        "    number_of_frame = []\n",
        "    file_names = os.listdir(dir + '/' + type_of_embryo)\n",
        "    for file_name in file_names:\n",
        "      file_name_parts = file_name.split('_')\n",
        "      if file_name_parts[1] not in number_of_frame:\n",
        "        number_of_frame.append(file_name_parts)\n",
        "        shutil.copy(src=os.path.join(dir + '/' + type_of_embryo, file_name),\n",
        "                    dst=os.path.join(dir + '_new/' + type_of_embryo))"
      ],
      "metadata": {
        "id": "rYmNun-RKyRH"
      },
      "execution_count": null,
      "outputs": []
    },
    {
      "cell_type": "markdown",
      "source": [
        "###2 data at once\n"
      ],
      "metadata": {
        "id": "WAtFPN_4VRuj"
      }
    },
    {
      "cell_type": "code",
      "source": [
        "!pip install ultralytics==8.0.20\n",
        "from IPython import display\n",
        "display.clear_output()\n",
        "\n",
        "import ultralytics\n",
        "ultralytics.checks()"
      ],
      "metadata": {
        "colab": {
          "base_uri": "https://localhost:8080/"
        },
        "id": "TFvuKb3k3zp7",
        "outputId": "b63e3f91-e28c-4293-b404-45b7f5cb35fc"
      },
      "execution_count": null,
      "outputs": [
        {
          "output_type": "stream",
          "name": "stderr",
          "text": [
            "Ultralytics YOLOv8.0.20 🚀 Python-3.10.12 torch-2.1.0+cu118 CPU\n",
            "Setup complete ✅ (2 CPUs, 12.7 GB RAM, 27.3/107.7 GB disk)\n"
          ]
        }
      ]
    },
    {
      "cell_type": "code",
      "source": [
        "from ultralytics import YOLO\n",
        "\n",
        "from IPython.display import display, Image"
      ],
      "metadata": {
        "id": "46N4-pyn32x3"
      },
      "execution_count": null,
      "outputs": []
    },
    {
      "cell_type": "code",
      "source": [
        "!pip install roboflow\n",
        "\n",
        "from roboflow import Roboflow\n",
        "rf = Roboflow(api_key=\"ivzAeeL9c1XWDlierywz\")\n",
        "project = rf.workspace(\"wcs2023\").project(\"embryo-bgeie\")\n",
        "dataset = project.version(12).download(\"yolov8\")\n",
        "\n",
        "\n"
      ],
      "metadata": {
        "colab": {
          "base_uri": "https://localhost:8080/",
          "height": 1000
        },
        "id": "0Bp9t7Ly4MSn",
        "outputId": "660db7c8-ad60-40df-94c2-afbb9398eac8"
      },
      "execution_count": null,
      "outputs": [
        {
          "output_type": "stream",
          "name": "stdout",
          "text": [
            "Collecting roboflow\n",
            "  Downloading roboflow-1.1.7-py3-none-any.whl (58 kB)\n",
            "\u001b[2K     \u001b[90m━━━━━━━━━━━━━━━━━━━━━━━━━━━━━━━━━━━━━━━━\u001b[0m \u001b[32m58.8/58.8 kB\u001b[0m \u001b[31m1.8 MB/s\u001b[0m eta \u001b[36m0:00:00\u001b[0m\n",
            "\u001b[?25hCollecting certifi==2022.12.7 (from roboflow)\n",
            "  Downloading certifi-2022.12.7-py3-none-any.whl (155 kB)\n",
            "\u001b[2K     \u001b[90m━━━━━━━━━━━━━━━━━━━━━━━━━━━━━━━━━━━━━━\u001b[0m \u001b[32m155.3/155.3 kB\u001b[0m \u001b[31m10.0 MB/s\u001b[0m eta \u001b[36m0:00:00\u001b[0m\n",
            "\u001b[?25hCollecting chardet==4.0.0 (from roboflow)\n",
            "  Downloading chardet-4.0.0-py2.py3-none-any.whl (178 kB)\n",
            "\u001b[2K     \u001b[90m━━━━━━━━━━━━━━━━━━━━━━━━━━━━━━━━━━━━━━\u001b[0m \u001b[32m178.7/178.7 kB\u001b[0m \u001b[31m21.4 MB/s\u001b[0m eta \u001b[36m0:00:00\u001b[0m\n",
            "\u001b[?25hCollecting cycler==0.10.0 (from roboflow)\n",
            "  Downloading cycler-0.10.0-py2.py3-none-any.whl (6.5 kB)\n",
            "Collecting idna==2.10 (from roboflow)\n",
            "  Downloading idna-2.10-py2.py3-none-any.whl (58 kB)\n",
            "\u001b[2K     \u001b[90m━━━━━━━━━━━━━━━━━━━━━━━━━━━━━━━━━━━━━━━━\u001b[0m \u001b[32m58.8/58.8 kB\u001b[0m \u001b[31m8.1 MB/s\u001b[0m eta \u001b[36m0:00:00\u001b[0m\n",
            "\u001b[?25hRequirement already satisfied: kiwisolver>=1.3.1 in /usr/local/lib/python3.10/dist-packages (from roboflow) (1.4.5)\n",
            "Requirement already satisfied: matplotlib in /usr/local/lib/python3.10/dist-packages (from roboflow) (3.7.1)\n",
            "Requirement already satisfied: numpy>=1.18.5 in /usr/local/lib/python3.10/dist-packages (from roboflow) (1.23.5)\n",
            "Collecting opencv-python-headless==4.8.0.74 (from roboflow)\n",
            "  Downloading opencv_python_headless-4.8.0.74-cp37-abi3-manylinux_2_17_x86_64.manylinux2014_x86_64.whl (49.1 MB)\n",
            "\u001b[2K     \u001b[90m━━━━━━━━━━━━━━━━━━━━━━━━━━━━━━━━━━━━━━━━\u001b[0m \u001b[32m49.1/49.1 MB\u001b[0m \u001b[31m15.5 MB/s\u001b[0m eta \u001b[36m0:00:00\u001b[0m\n",
            "\u001b[?25hRequirement already satisfied: Pillow>=7.1.2 in /usr/local/lib/python3.10/dist-packages (from roboflow) (9.4.0)\n",
            "Collecting pyparsing==2.4.7 (from roboflow)\n",
            "  Downloading pyparsing-2.4.7-py2.py3-none-any.whl (67 kB)\n",
            "\u001b[2K     \u001b[90m━━━━━━━━━━━━━━━━━━━━━━━━━━━━━━━━━━━━━━━━\u001b[0m \u001b[32m67.8/67.8 kB\u001b[0m \u001b[31m9.3 MB/s\u001b[0m eta \u001b[36m0:00:00\u001b[0m\n",
            "\u001b[?25hRequirement already satisfied: python-dateutil in /usr/local/lib/python3.10/dist-packages (from roboflow) (2.8.2)\n",
            "Collecting python-dotenv (from roboflow)\n",
            "  Downloading python_dotenv-1.0.0-py3-none-any.whl (19 kB)\n",
            "Requirement already satisfied: requests in /usr/local/lib/python3.10/dist-packages (from roboflow) (2.31.0)\n",
            "Requirement already satisfied: six in /usr/local/lib/python3.10/dist-packages (from roboflow) (1.16.0)\n",
            "Collecting supervision (from roboflow)\n",
            "  Downloading supervision-0.15.0-py3-none-any.whl (69 kB)\n",
            "\u001b[2K     \u001b[90m━━━━━━━━━━━━━━━━━━━━━━━━━━━━━━━━━━━━━━━━\u001b[0m \u001b[32m69.0/69.0 kB\u001b[0m \u001b[31m10.1 MB/s\u001b[0m eta \u001b[36m0:00:00\u001b[0m\n",
            "\u001b[?25hRequirement already satisfied: urllib3>=1.26.6 in /usr/local/lib/python3.10/dist-packages (from roboflow) (2.0.5)\n",
            "Requirement already satisfied: tqdm>=4.41.0 in /usr/local/lib/python3.10/dist-packages (from roboflow) (4.66.1)\n",
            "Requirement already satisfied: PyYAML>=5.3.1 in /usr/local/lib/python3.10/dist-packages (from roboflow) (6.0.1)\n",
            "Collecting requests-toolbelt (from roboflow)\n",
            "  Downloading requests_toolbelt-1.0.0-py2.py3-none-any.whl (54 kB)\n",
            "\u001b[2K     \u001b[90m━━━━━━━━━━━━━━━━━━━━━━━━━━━━━━━━━━━━━━━━\u001b[0m \u001b[32m54.5/54.5 kB\u001b[0m \u001b[31m8.0 MB/s\u001b[0m eta \u001b[36m0:00:00\u001b[0m\n",
            "\u001b[?25hRequirement already satisfied: contourpy>=1.0.1 in /usr/local/lib/python3.10/dist-packages (from matplotlib->roboflow) (1.1.1)\n",
            "Requirement already satisfied: fonttools>=4.22.0 in /usr/local/lib/python3.10/dist-packages (from matplotlib->roboflow) (4.43.0)\n",
            "Requirement already satisfied: packaging>=20.0 in /usr/local/lib/python3.10/dist-packages (from matplotlib->roboflow) (23.1)\n",
            "Requirement already satisfied: charset-normalizer<4,>=2 in /usr/local/lib/python3.10/dist-packages (from requests->roboflow) (3.2.0)\n",
            "Requirement already satisfied: scipy<2.0.0,>=1.9.0 in /usr/local/lib/python3.10/dist-packages (from supervision->roboflow) (1.11.3)\n",
            "Installing collected packages: python-dotenv, pyparsing, opencv-python-headless, idna, cycler, chardet, certifi, supervision, requests-toolbelt, roboflow\n",
            "  Attempting uninstall: pyparsing\n",
            "    Found existing installation: pyparsing 3.1.1\n",
            "    Uninstalling pyparsing-3.1.1:\n",
            "      Successfully uninstalled pyparsing-3.1.1\n",
            "  Attempting uninstall: opencv-python-headless\n",
            "    Found existing installation: opencv-python-headless 4.8.1.78\n",
            "    Uninstalling opencv-python-headless-4.8.1.78:\n",
            "      Successfully uninstalled opencv-python-headless-4.8.1.78\n",
            "  Attempting uninstall: idna\n",
            "    Found existing installation: idna 3.4\n",
            "    Uninstalling idna-3.4:\n",
            "      Successfully uninstalled idna-3.4\n",
            "  Attempting uninstall: cycler\n",
            "    Found existing installation: cycler 0.12.0\n",
            "    Uninstalling cycler-0.12.0:\n",
            "      Successfully uninstalled cycler-0.12.0\n",
            "  Attempting uninstall: chardet\n",
            "    Found existing installation: chardet 5.2.0\n",
            "    Uninstalling chardet-5.2.0:\n",
            "      Successfully uninstalled chardet-5.2.0\n",
            "  Attempting uninstall: certifi\n",
            "    Found existing installation: certifi 2023.7.22\n",
            "    Uninstalling certifi-2023.7.22:\n",
            "      Successfully uninstalled certifi-2023.7.22\n",
            "Successfully installed certifi-2022.12.7 chardet-4.0.0 cycler-0.10.0 idna-2.10 opencv-python-headless-4.8.0.74 pyparsing-2.4.7 python-dotenv-1.0.0 requests-toolbelt-1.0.0 roboflow-1.1.7 supervision-0.15.0\n"
          ]
        },
        {
          "output_type": "display_data",
          "data": {
            "application/vnd.colab-display-data+json": {
              "pip_warning": {
                "packages": [
                  "certifi",
                  "chardet",
                  "cv2",
                  "cycler",
                  "idna",
                  "pyparsing"
                ]
              }
            }
          },
          "metadata": {}
        },
        {
          "output_type": "stream",
          "name": "stdout",
          "text": [
            "loading Roboflow workspace...\n",
            "loading Roboflow project...\n",
            "Dependency ultralytics==8.0.134 is required but found version=8.0.20, to fix: `pip install ultralytics==8.0.134`\n"
          ]
        },
        {
          "output_type": "stream",
          "name": "stderr",
          "text": [
            "Downloading Dataset Version Zip in Embryo-12 to yolov8:: 100%|██████████| 32141/32141 [00:02<00:00, 11502.22it/s]"
          ]
        },
        {
          "output_type": "stream",
          "name": "stdout",
          "text": [
            "\n"
          ]
        },
        {
          "output_type": "stream",
          "name": "stderr",
          "text": [
            "\n",
            "Extracting Dataset Version Zip to Embryo-12 in yolov8:: 100%|██████████| 4687/4687 [00:00<00:00, 5781.78it/s]\n"
          ]
        }
      ]
    },
    {
      "cell_type": "code",
      "source": [
        "!yolo task=detect mode=train model=yolov8s.pt data=/content/Embryo-12/data.yaml epochs=25 imgsz=800 plots=True"
      ],
      "metadata": {
        "colab": {
          "base_uri": "https://localhost:8080/"
        },
        "id": "2BvG9cqY4fTR",
        "outputId": "50b1a4f2-3863-44a0-96c3-4b8b401efbfd"
      },
      "execution_count": null,
      "outputs": [
        {
          "output_type": "stream",
          "name": "stdout",
          "text": [
            "Downloading https://github.com/ultralytics/assets/releases/download/v0.0.0/yolov8s.pt to yolov8s.pt...\n",
            "100% 21.5M/21.5M [00:01<00:00, 16.1MB/s]\n",
            "\n",
            "Ultralytics YOLOv8.0.20 🚀 Python-3.10.12 torch-2.0.1+cu118 CUDA:0 (Tesla T4, 15102MiB)\n",
            "\u001b[34m\u001b[1myolo/engine/trainer: \u001b[0mtask=detect, mode=train, model=yolov8s.yaml, data=/content/Embryo-12/data.yaml, epochs=25, patience=50, batch=16, imgsz=800, save=True, cache=False, device=, workers=8, project=None, name=None, exist_ok=False, pretrained=False, optimizer=SGD, verbose=True, seed=0, deterministic=True, single_cls=False, image_weights=False, rect=False, cos_lr=False, close_mosaic=10, resume=False, overlap_mask=True, mask_ratio=4, dropout=False, val=True, save_json=False, save_hybrid=False, conf=0.001, iou=0.7, max_det=300, half=False, dnn=False, plots=True, source=ultralytics/assets/, show=False, save_txt=False, save_conf=False, save_crop=False, hide_labels=False, hide_conf=False, vid_stride=1, line_thickness=3, visualize=False, augment=False, agnostic_nms=False, classes=None, retina_masks=False, boxes=True, format=torchscript, keras=False, optimize=False, int8=False, dynamic=False, simplify=False, opset=17, workspace=4, nms=False, lr0=0.01, lrf=0.01, momentum=0.937, weight_decay=0.001, warmup_epochs=3.0, warmup_momentum=0.8, warmup_bias_lr=0.1, box=7.5, cls=0.5, dfl=1.5, fl_gamma=0.0, label_smoothing=0.0, nbs=64, hsv_h=0.015, hsv_s=0.7, hsv_v=0.4, degrees=0.0, translate=0.1, scale=0.5, shear=0.0, perspective=0.0, flipud=0.0, fliplr=0.5, mosaic=1.0, mixup=0.0, copy_paste=0.0, cfg=None, v5loader=False, save_dir=runs/detect/train2\n",
            "Downloading https://ultralytics.com/assets/Arial.ttf to /root/.config/Ultralytics/Arial.ttf...\n",
            "100% 755k/755k [00:00<00:00, 15.7MB/s]\n",
            "2023-10-05 14:51:34.948618: W tensorflow/compiler/tf2tensorrt/utils/py_utils.cc:38] TF-TRT Warning: Could not find TensorRT\n",
            "Overriding model.yaml nc=80 with nc=4\n",
            "\n",
            "                   from  n    params  module                                       arguments                     \n",
            "  0                  -1  1       928  ultralytics.nn.modules.Conv                  [3, 32, 3, 2]                 \n",
            "  1                  -1  1     18560  ultralytics.nn.modules.Conv                  [32, 64, 3, 2]                \n",
            "  2                  -1  1     29056  ultralytics.nn.modules.C2f                   [64, 64, 1, True]             \n",
            "  3                  -1  1     73984  ultralytics.nn.modules.Conv                  [64, 128, 3, 2]               \n",
            "  4                  -1  2    197632  ultralytics.nn.modules.C2f                   [128, 128, 2, True]           \n",
            "  5                  -1  1    295424  ultralytics.nn.modules.Conv                  [128, 256, 3, 2]              \n",
            "  6                  -1  2    788480  ultralytics.nn.modules.C2f                   [256, 256, 2, True]           \n",
            "  7                  -1  1   1180672  ultralytics.nn.modules.Conv                  [256, 512, 3, 2]              \n",
            "  8                  -1  1   1838080  ultralytics.nn.modules.C2f                   [512, 512, 1, True]           \n",
            "  9                  -1  1    656896  ultralytics.nn.modules.SPPF                  [512, 512, 5]                 \n",
            " 10                  -1  1         0  torch.nn.modules.upsampling.Upsample         [None, 2, 'nearest']          \n",
            " 11             [-1, 6]  1         0  ultralytics.nn.modules.Concat                [1]                           \n",
            " 12                  -1  1    591360  ultralytics.nn.modules.C2f                   [768, 256, 1]                 \n",
            " 13                  -1  1         0  torch.nn.modules.upsampling.Upsample         [None, 2, 'nearest']          \n",
            " 14             [-1, 4]  1         0  ultralytics.nn.modules.Concat                [1]                           \n",
            " 15                  -1  1    148224  ultralytics.nn.modules.C2f                   [384, 128, 1]                 \n",
            " 16                  -1  1    147712  ultralytics.nn.modules.Conv                  [128, 128, 3, 2]              \n",
            " 17            [-1, 12]  1         0  ultralytics.nn.modules.Concat                [1]                           \n",
            " 18                  -1  1    493056  ultralytics.nn.modules.C2f                   [384, 256, 1]                 \n",
            " 19                  -1  1    590336  ultralytics.nn.modules.Conv                  [256, 256, 3, 2]              \n",
            " 20             [-1, 9]  1         0  ultralytics.nn.modules.Concat                [1]                           \n",
            " 21                  -1  1   1969152  ultralytics.nn.modules.C2f                   [768, 512, 1]                 \n",
            " 22        [15, 18, 21]  1   2117596  ultralytics.nn.modules.Detect                [4, [128, 256, 512]]          \n",
            "Model summary: 225 layers, 11137148 parameters, 11137132 gradients, 28.7 GFLOPs\n",
            "\n",
            "Transferred 349/355 items from pretrained weights\n",
            "\u001b[34m\u001b[1moptimizer:\u001b[0m SGD(lr=0.01) with parameter groups 57 weight(decay=0.0), 64 weight(decay=0.001), 63 bias\n",
            "\u001b[34m\u001b[1mtrain: \u001b[0mScanning /content/Embryo-12/train/labels... 2279 images, 0 backgrounds, 0 corrupt: 100% 2279/2279 [00:00<00:00, 2370.60it/s]\n",
            "\u001b[34m\u001b[1mtrain: \u001b[0mNew cache created: /content/Embryo-12/train/labels.cache\n",
            "\u001b[34m\u001b[1malbumentations: \u001b[0mBlur(p=0.01, blur_limit=(3, 7)), MedianBlur(p=0.01, blur_limit=(3, 7)), ToGray(p=0.01), CLAHE(p=0.01, clip_limit=(1, 4.0), tile_grid_size=(8, 8))\n",
            "\u001b[34m\u001b[1mval: \u001b[0mScanning /content/Embryo-12/valid/labels... 60 images, 0 backgrounds, 0 corrupt: 100% 60/60 [00:00<00:00, 2616.10it/s]\n",
            "\u001b[34m\u001b[1mval: \u001b[0mNew cache created: /content/Embryo-12/valid/labels.cache\n",
            "Image sizes 800 train, 800 val\n",
            "Using 2 dataloader workers\n",
            "Logging results to \u001b[1mruns/detect/train2\u001b[0m\n",
            "Starting training for 25 epochs...\n",
            "\n",
            "      Epoch    GPU_mem   box_loss   cls_loss   dfl_loss  Instances       Size\n",
            "       1/25      5.94G      1.176      2.055      1.894         17        800: 100% 143/143 [01:23<00:00,  1.71it/s]\n",
            "                 Class     Images  Instances      Box(P          R      mAP50  mAP50-95): 100% 2/2 [00:02<00:00,  1.27s/it]\n",
            "                   all         60         60      0.244      0.775      0.299      0.161\n",
            "                 D3-NG         60         26      0.422          1      0.566      0.278\n",
            "                 D3-OK         60          6      0.117          1      0.124     0.0754\n",
            "                 D5-NG         60         18      0.322          1      0.334      0.185\n",
            "                 D5-OK         60         10      0.115        0.1      0.171      0.107\n",
            "\n",
            "      Epoch    GPU_mem   box_loss   cls_loss   dfl_loss  Instances       Size\n",
            "       2/25      7.19G      0.806      1.066      1.528         21        800: 100% 143/143 [01:20<00:00,  1.78it/s]\n",
            "                 Class     Images  Instances      Box(P          R      mAP50  mAP50-95): 100% 2/2 [00:01<00:00,  1.69it/s]\n",
            "                   all         60         60      0.468      0.519       0.37      0.258\n",
            "                 D3-NG         60         26      0.497          1      0.665      0.493\n",
            "                 D3-OK         60          6          1          0      0.124     0.0773\n",
            "                 D5-NG         60         18      0.198      0.278      0.269      0.199\n",
            "                 D5-OK         60         10      0.178        0.8      0.425      0.263\n",
            "\n",
            "      Epoch    GPU_mem   box_loss   cls_loss   dfl_loss  Instances       Size\n",
            "       3/25      7.19G     0.8143      1.021      1.521         16        800: 100% 143/143 [01:19<00:00,  1.80it/s]\n",
            "                 Class     Images  Instances      Box(P          R      mAP50  mAP50-95): 100% 2/2 [00:01<00:00,  1.72it/s]\n",
            "                   all         60         60      0.512      0.622      0.468      0.309\n",
            "                 D3-NG         60         26      0.389          1        0.8      0.493\n",
            "                 D3-OK         60          6          1          0      0.168      0.093\n",
            "                 D5-NG         60         18      0.248          1      0.553      0.431\n",
            "                 D5-OK         60         10      0.411       0.49       0.35      0.221\n",
            "\n",
            "      Epoch    GPU_mem   box_loss   cls_loss   dfl_loss  Instances       Size\n",
            "       4/25      7.19G     0.7838     0.9751      1.489         25        800: 100% 143/143 [01:18<00:00,  1.82it/s]\n",
            "                 Class     Images  Instances      Box(P          R      mAP50  mAP50-95): 100% 2/2 [00:01<00:00,  1.60it/s]\n",
            "                   all         60         60      0.586      0.579       0.49      0.256\n",
            "                 D3-NG         60         26      0.473      0.967      0.787      0.378\n",
            "                 D3-OK         60          6          1          0      0.156     0.0787\n",
            "                 D5-NG         60         18      0.529      0.748      0.646      0.392\n",
            "                 D5-OK         60         10      0.342        0.6      0.371      0.174\n",
            "\n",
            "      Epoch    GPU_mem   box_loss   cls_loss   dfl_loss  Instances       Size\n",
            "       5/25       7.2G     0.7883      0.962      1.481         22        800: 100% 143/143 [01:20<00:00,  1.78it/s]\n",
            "                 Class     Images  Instances      Box(P          R      mAP50  mAP50-95): 100% 2/2 [00:01<00:00,  1.72it/s]\n",
            "                   all         60         60      0.506      0.621      0.396      0.266\n",
            "                 D3-NG         60         26      0.465          1      0.745      0.536\n",
            "                 D3-OK         60          6          1          0       0.17      0.122\n",
            "                 D5-NG         60         18      0.355      0.667      0.358      0.233\n",
            "                 D5-OK         60         10      0.204      0.818      0.311      0.172\n",
            "\n",
            "      Epoch    GPU_mem   box_loss   cls_loss   dfl_loss  Instances       Size\n",
            "       6/25       7.2G      0.759     0.9267       1.45         16        800: 100% 143/143 [01:18<00:00,  1.81it/s]\n",
            "                 Class     Images  Instances      Box(P          R      mAP50  mAP50-95): 100% 2/2 [00:01<00:00,  1.49it/s]\n",
            "                   all         60         60      0.708      0.416      0.495      0.369\n",
            "                 D3-NG         60         26      0.661      0.923      0.808      0.619\n",
            "                 D3-OK         60          6          1          0      0.166      0.102\n",
            "                 D5-NG         60         18      0.683      0.241      0.553      0.457\n",
            "                 D5-OK         60         10      0.489        0.5      0.454      0.298\n",
            "\n",
            "      Epoch    GPU_mem   box_loss   cls_loss   dfl_loss  Instances       Size\n",
            "       7/25       7.2G     0.7225     0.8883      1.411         17        800: 100% 143/143 [01:17<00:00,  1.85it/s]\n",
            "                 Class     Images  Instances      Box(P          R      mAP50  mAP50-95): 100% 2/2 [00:01<00:00,  1.72it/s]\n",
            "                   all         60         60      0.584      0.681      0.449       0.35\n",
            "                 D3-NG         60         26      0.654      0.923      0.732       0.58\n",
            "                 D3-OK         60          6          1          0      0.243      0.172\n",
            "                 D5-NG         60         18      0.337          1      0.447      0.391\n",
            "                 D5-OK         60         10      0.345        0.8      0.373      0.258\n",
            "\n",
            "      Epoch    GPU_mem   box_loss   cls_loss   dfl_loss  Instances       Size\n",
            "       8/25       7.2G      0.716     0.8675      1.405         18        800: 100% 143/143 [01:18<00:00,  1.82it/s]\n",
            "                 Class     Images  Instances      Box(P          R      mAP50  mAP50-95): 100% 2/2 [00:01<00:00,  1.74it/s]\n",
            "                   all         60         60      0.622      0.597      0.483      0.328\n",
            "                 D3-NG         60         26      0.649      0.711       0.73      0.496\n",
            "                 D3-OK         60          6          1          0      0.204      0.116\n",
            "                 D5-NG         60         18      0.502      0.778      0.562      0.407\n",
            "                 D5-OK         60         10      0.338        0.9      0.434      0.293\n",
            "\n",
            "      Epoch    GPU_mem   box_loss   cls_loss   dfl_loss  Instances       Size\n",
            "       9/25       7.2G      0.689     0.8702      1.385         13        800: 100% 143/143 [01:17<00:00,  1.85it/s]\n",
            "                 Class     Images  Instances      Box(P          R      mAP50  mAP50-95): 100% 2/2 [00:01<00:00,  1.30it/s]\n",
            "                   all         60         60      0.566      0.585       0.45      0.357\n",
            "                 D3-NG         60         26      0.418          1      0.739      0.572\n",
            "                 D3-OK         60          6          1          0       0.11     0.0752\n",
            "                 D5-NG         60         18      0.425      0.616      0.457      0.399\n",
            "                 D5-OK         60         10       0.42      0.726      0.494       0.38\n",
            "\n",
            "      Epoch    GPU_mem   box_loss   cls_loss   dfl_loss  Instances       Size\n",
            "      10/25       7.2G     0.6643     0.8156      1.355         15        800: 100% 143/143 [01:18<00:00,  1.82it/s]\n",
            "                 Class     Images  Instances      Box(P          R      mAP50  mAP50-95): 100% 2/2 [00:01<00:00,  1.72it/s]\n",
            "                   all         60         60      0.663      0.544       0.47      0.372\n",
            "                 D3-NG         60         26      0.579          1      0.773      0.623\n",
            "                 D3-OK         60          6          1          0      0.123     0.0781\n",
            "                 D5-NG         60         18        0.7      0.778      0.638      0.548\n",
            "                 D5-OK         60         10      0.374        0.4      0.346      0.241\n",
            "\n",
            "      Epoch    GPU_mem   box_loss   cls_loss   dfl_loss  Instances       Size\n",
            "      11/25       7.2G     0.6489     0.8289       1.34         21        800: 100% 143/143 [01:20<00:00,  1.77it/s]\n",
            "                 Class     Images  Instances      Box(P          R      mAP50  mAP50-95): 100% 2/2 [00:01<00:00,  1.67it/s]\n",
            "                   all         60         60      0.561      0.608      0.458      0.363\n",
            "                 D3-NG         60         26      0.542          1      0.771      0.646\n",
            "                 D3-OK         60          6          1          0      0.171       0.11\n",
            "                 D5-NG         60         18      0.404      0.833      0.509      0.423\n",
            "                 D5-OK         60         10      0.296        0.6       0.38      0.274\n",
            "\n",
            "      Epoch    GPU_mem   box_loss   cls_loss   dfl_loss  Instances       Size\n",
            "      12/25       7.2G     0.6475     0.8074      1.339         17        800: 100% 143/143 [01:18<00:00,  1.83it/s]\n",
            "                 Class     Images  Instances      Box(P          R      mAP50  mAP50-95): 100% 2/2 [00:01<00:00,  1.43it/s]\n",
            "                   all         60         60      0.656      0.688      0.531      0.408\n",
            "                 D3-NG         60         26      0.706      0.962      0.807        0.6\n",
            "                 D3-OK         60          6          1          0      0.141     0.0911\n",
            "                 D5-NG         60         18      0.606      0.889      0.748      0.649\n",
            "                 D5-OK         60         10      0.312        0.9      0.428      0.293\n",
            "\n",
            "      Epoch    GPU_mem   box_loss   cls_loss   dfl_loss  Instances       Size\n",
            "      13/25       7.2G     0.6214     0.7771      1.321         13        800: 100% 143/143 [01:19<00:00,  1.80it/s]\n",
            "                 Class     Images  Instances      Box(P          R      mAP50  mAP50-95): 100% 2/2 [00:01<00:00,  1.74it/s]\n",
            "                   all         60         60      0.614      0.642      0.519      0.393\n",
            "                 D3-NG         60         26      0.551      0.991      0.779      0.579\n",
            "                 D3-OK         60          6          1          0      0.146     0.0923\n",
            "                 D5-NG         60         18      0.455      0.833       0.64      0.541\n",
            "                 D5-OK         60         10      0.451      0.742       0.51      0.361\n",
            "\n",
            "      Epoch    GPU_mem   box_loss   cls_loss   dfl_loss  Instances       Size\n",
            "      14/25       7.2G     0.6069     0.7681      1.301         21        800: 100% 143/143 [01:19<00:00,  1.80it/s]\n",
            "                 Class     Images  Instances      Box(P          R      mAP50  mAP50-95): 100% 2/2 [00:01<00:00,  1.69it/s]\n",
            "                   all         60         60      0.583      0.638      0.565      0.417\n",
            "                 D3-NG         60         26      0.435          1      0.804        0.6\n",
            "                 D3-OK         60          6          1          0       0.17      0.119\n",
            "                 D5-NG         60         18      0.317          1      0.687      0.586\n",
            "                 D5-OK         60         10      0.579      0.552        0.6      0.364\n",
            "\n",
            "      Epoch    GPU_mem   box_loss   cls_loss   dfl_loss  Instances       Size\n",
            "      15/25       7.2G     0.5932     0.7568      1.293         22        800: 100% 143/143 [01:18<00:00,  1.82it/s]\n",
            "                 Class     Images  Instances      Box(P          R      mAP50  mAP50-95): 100% 2/2 [00:01<00:00,  1.28it/s]\n",
            "                   all         60         60      0.642      0.542      0.485      0.374\n",
            "                 D3-NG         60         26      0.626          1      0.759      0.593\n",
            "                 D3-OK         60          6          1          0      0.136     0.0894\n",
            "                 D5-NG         60         18      0.559      0.611      0.634      0.533\n",
            "                 D5-OK         60         10      0.382      0.558      0.409      0.281\n",
            "Closing dataloader mosaic\n",
            "\u001b[34m\u001b[1malbumentations: \u001b[0mBlur(p=0.01, blur_limit=(3, 7)), MedianBlur(p=0.01, blur_limit=(3, 7)), ToGray(p=0.01), CLAHE(p=0.01, clip_limit=(1, 4.0), tile_grid_size=(8, 8))\n",
            "\n",
            "      Epoch    GPU_mem   box_loss   cls_loss   dfl_loss  Instances       Size\n",
            "      16/25       7.2G     0.4598     0.6813      1.391          7        800: 100% 143/143 [01:03<00:00,  2.27it/s]\n",
            "                 Class     Images  Instances      Box(P          R      mAP50  mAP50-95): 100% 2/2 [00:01<00:00,  1.69it/s]\n",
            "                   all         60         60      0.604      0.603      0.583      0.455\n",
            "                 D3-NG         60         26      0.615      0.769      0.773      0.606\n",
            "                 D3-OK         60          6          1          0      0.315      0.182\n",
            "                 D5-NG         60         18      0.383      0.944      0.642      0.559\n",
            "                 D5-OK         60         10      0.418        0.7      0.603      0.472\n",
            "\n",
            "      Epoch    GPU_mem   box_loss   cls_loss   dfl_loss  Instances       Size\n",
            "      17/25       7.2G     0.4258     0.6469      1.337          7        800: 100% 143/143 [01:01<00:00,  2.32it/s]\n",
            "                 Class     Images  Instances      Box(P          R      mAP50  mAP50-95): 100% 2/2 [00:01<00:00,  1.28it/s]\n",
            "                   all         60         60      0.686      0.569      0.531      0.432\n",
            "                 D3-NG         60         26       0.73      0.831      0.732      0.622\n",
            "                 D3-OK         60          6          1          0      0.206      0.141\n",
            "                 D5-NG         60         18      0.567      0.944      0.685      0.607\n",
            "                 D5-OK         60         10      0.447        0.5      0.499      0.357\n",
            "\n",
            "      Epoch    GPU_mem   box_loss   cls_loss   dfl_loss  Instances       Size\n",
            "      18/25       7.2G     0.4191     0.6374      1.329          7        800: 100% 143/143 [01:03<00:00,  2.26it/s]\n",
            "                 Class     Images  Instances      Box(P          R      mAP50  mAP50-95): 100% 2/2 [00:01<00:00,  1.71it/s]\n",
            "                   all         60         60      0.681      0.631      0.569      0.406\n",
            "                 D3-NG         60         26      0.641      0.923      0.728      0.538\n",
            "                 D3-OK         60          6          1          0      0.137     0.0857\n",
            "                 D5-NG         60         18      0.472          1      0.692       0.56\n",
            "                 D5-OK         60         10       0.61        0.6      0.717      0.439\n",
            "\n",
            "      Epoch    GPU_mem   box_loss   cls_loss   dfl_loss  Instances       Size\n",
            "      19/25       7.2G     0.4033     0.5913      1.314          7        800: 100% 143/143 [01:01<00:00,  2.32it/s]\n",
            "                 Class     Images  Instances      Box(P          R      mAP50  mAP50-95): 100% 2/2 [00:01<00:00,  1.72it/s]\n",
            "                   all         60         60      0.379       0.65      0.539      0.467\n",
            "                 D3-NG         60         26      0.602          1      0.738      0.638\n",
            "                 D3-OK         60          6          0          0      0.179      0.127\n",
            "                 D5-NG         60         18      0.467          1      0.723      0.668\n",
            "                 D5-OK         60         10      0.447        0.6      0.514      0.436\n",
            "\n",
            "      Epoch    GPU_mem   box_loss   cls_loss   dfl_loss  Instances       Size\n",
            "      20/25       7.2G     0.3986     0.5858      1.306          7        800: 100% 143/143 [01:01<00:00,  2.33it/s]\n",
            "                 Class     Images  Instances      Box(P          R      mAP50  mAP50-95): 100% 2/2 [00:01<00:00,  1.24it/s]\n",
            "                   all         60         60      0.648      0.589      0.533      0.443\n",
            "                 D3-NG         60         26      0.692      0.923      0.791      0.665\n",
            "                 D3-OK         60          6          1          0      0.207      0.135\n",
            "                 D5-NG         60         18      0.455      0.834      0.611      0.566\n",
            "                 D5-OK         60         10      0.445        0.6      0.521      0.406\n",
            "\n",
            "      Epoch    GPU_mem   box_loss   cls_loss   dfl_loss  Instances       Size\n",
            "      21/25       7.2G     0.3785     0.5434      1.274          7        800: 100% 143/143 [01:01<00:00,  2.33it/s]\n",
            "                 Class     Images  Instances      Box(P          R      mAP50  mAP50-95): 100% 2/2 [00:01<00:00,  1.71it/s]\n",
            "                   all         60         60      0.743      0.607      0.608      0.518\n",
            "                 D3-NG         60         26      0.763      0.885      0.835      0.721\n",
            "                 D3-OK         60          6          1          0      0.238      0.173\n",
            "                 D5-NG         60         18      0.589      0.944      0.707       0.66\n",
            "                 D5-OK         60         10      0.621        0.6      0.654      0.518\n",
            "\n",
            "      Epoch    GPU_mem   box_loss   cls_loss   dfl_loss  Instances       Size\n",
            "      22/25       7.2G     0.3652     0.5337      1.256          7        800: 100% 143/143 [01:01<00:00,  2.31it/s]\n",
            "                 Class     Images  Instances      Box(P          R      mAP50  mAP50-95): 100% 2/2 [00:01<00:00,  1.25it/s]\n",
            "                   all         60         60      0.744      0.605      0.573      0.481\n",
            "                 D3-NG         60         26      0.702      0.997      0.792      0.688\n",
            "                 D3-OK         60          6          1          0       0.18      0.108\n",
            "                 D5-NG         60         18      0.797      0.722      0.713      0.647\n",
            "                 D5-OK         60         10      0.477        0.7      0.609      0.479\n",
            "\n",
            "      Epoch    GPU_mem   box_loss   cls_loss   dfl_loss  Instances       Size\n",
            "      23/25       7.2G     0.3576      0.495      1.246          7        800: 100% 143/143 [01:01<00:00,  2.32it/s]\n",
            "                 Class     Images  Instances      Box(P          R      mAP50  mAP50-95): 100% 2/2 [00:01<00:00,  1.74it/s]\n",
            "                   all         60         60      0.704      0.622      0.602      0.501\n",
            "                 D3-NG         60         26      0.651          1      0.784      0.677\n",
            "                 D3-OK         60          6          1          0      0.242      0.128\n",
            "                 D5-NG         60         18      0.705      0.889      0.755      0.702\n",
            "                 D5-OK         60         10      0.461      0.598      0.628      0.495\n",
            "\n",
            "      Epoch    GPU_mem   box_loss   cls_loss   dfl_loss  Instances       Size\n",
            "      24/25       7.2G     0.3488     0.4708      1.232          7        800: 100% 143/143 [01:01<00:00,  2.32it/s]\n",
            "                 Class     Images  Instances      Box(P          R      mAP50  mAP50-95): 100% 2/2 [00:01<00:00,  1.54it/s]\n",
            "                   all         60         60      0.732      0.563      0.549      0.458\n",
            "                 D3-NG         60         26      0.762      0.983      0.771      0.672\n",
            "                 D3-OK         60          6          1          0      0.183      0.115\n",
            "                 D5-NG         60         18      0.683      0.667       0.71      0.642\n",
            "                 D5-OK         60         10      0.484        0.6      0.532      0.403\n",
            "\n",
            "      Epoch    GPU_mem   box_loss   cls_loss   dfl_loss  Instances       Size\n",
            "      25/25       7.2G     0.3331     0.4508      1.212          7        800: 100% 143/143 [01:02<00:00,  2.30it/s]\n",
            "                 Class     Images  Instances      Box(P          R      mAP50  mAP50-95): 100% 2/2 [00:02<00:00,  1.03s/it]\n",
            "                   all         60         60       0.76      0.613      0.613      0.519\n",
            "                 D3-NG         60         26      0.686          1      0.832      0.717\n",
            "                 D3-OK         60          6          1          0      0.219      0.132\n",
            "                 D5-NG         60         18      0.729      0.778      0.778      0.727\n",
            "                 D5-OK         60         10      0.627      0.675      0.623      0.503\n",
            "\n",
            "25 epochs completed in 0.518 hours.\n",
            "Optimizer stripped from runs/detect/train2/weights/last.pt, 22.5MB\n",
            "Optimizer stripped from runs/detect/train2/weights/best.pt, 22.5MB\n",
            "\n",
            "Validating runs/detect/train2/weights/best.pt...\n",
            "Ultralytics YOLOv8.0.20 🚀 Python-3.10.12 torch-2.0.1+cu118 CUDA:0 (Tesla T4, 15102MiB)\n",
            "Model summary (fused): 168 layers, 11127132 parameters, 0 gradients, 28.4 GFLOPs\n",
            "                 Class     Images  Instances      Box(P          R      mAP50  mAP50-95): 100% 2/2 [00:02<00:00,  1.30s/it]\n",
            "                   all         60         60       0.76      0.613      0.611      0.519\n",
            "                 D3-NG         60         26      0.686          1      0.832      0.717\n",
            "                 D3-OK         60          6          1          0      0.211      0.128\n",
            "                 D5-NG         60         18      0.728      0.778      0.778      0.727\n",
            "                 D5-OK         60         10      0.627      0.673      0.623      0.503\n",
            "Speed: 5.2ms pre-process, 7.5ms inference, 0.0ms loss, 2.3ms post-process per image\n",
            "Results saved to \u001b[1mruns/detect/train2\u001b[0m\n"
          ]
        }
      ]
    },
    {
      "cell_type": "code",
      "source": [
        "!yolo task=detect mode=predict model=/content/runs/detect/train/weights/best.pt conf=0.25 source=/content/drive/MyDrive/wcs2023/hvwc23/test save=True"
      ],
      "metadata": {
        "colab": {
          "base_uri": "https://localhost:8080/"
        },
        "id": "vWaRGyFs8eoa",
        "outputId": "26074075-a45c-449b-d63c-5d13ab15d854"
      },
      "execution_count": null,
      "outputs": [
        {
          "output_type": "stream",
          "name": "stdout",
          "text": [
            "2023-10-04 17:56:49.689448: W tensorflow/compiler/tf2tensorrt/utils/py_utils.cc:38] TF-TRT Warning: Could not find TensorRT\n",
            "Ultralytics YOLOv8.0.20 🚀 Python-3.10.12 torch-2.0.1+cu118 CUDA:0 (Tesla T4, 15102MiB)\n",
            "Model summary (fused): 168 layers, 11127132 parameters, 0 gradients, 28.4 GFLOPs\n",
            "image 1/180 /content/drive/MyDrive/wcs2023/hvwc23/test/D3_003.jpg: 800x800 1 D3-NG, 24.6ms\n",
            "image 2/180 /content/drive/MyDrive/wcs2023/hvwc23/test/D3_007.jpg: 800x800 1 D3-NG, 31.2ms\n",
            "image 3/180 /content/drive/MyDrive/wcs2023/hvwc23/test/D3_032.jpg: 800x800 1 D3-NG, 24.7ms\n",
            "image 4/180 /content/drive/MyDrive/wcs2023/hvwc23/test/D3_040.jpg: 800x800 1 D3-NG, 24.6ms\n",
            "image 5/180 /content/drive/MyDrive/wcs2023/hvwc23/test/D3_045.jpg: 736x800 1 D3-NG, 72.9ms\n",
            "image 6/180 /content/drive/MyDrive/wcs2023/hvwc23/test/D3_067.jpg: 800x800 1 D3-NG, 25.1ms\n",
            "image 7/180 /content/drive/MyDrive/wcs2023/hvwc23/test/D3_068.jpg: 800x800 1 D3-NG, 24.6ms\n",
            "image 8/180 /content/drive/MyDrive/wcs2023/hvwc23/test/D3_070.jpg: 800x800 1 D3-NG, 22.6ms\n",
            "image 9/180 /content/drive/MyDrive/wcs2023/hvwc23/test/D3_074.jpg: 800x800 1 D5-NG, 19.8ms\n",
            "image 10/180 /content/drive/MyDrive/wcs2023/hvwc23/test/D3_078.jpg: 800x800 1 D3-NG, 19.8ms\n",
            "image 11/180 /content/drive/MyDrive/wcs2023/hvwc23/test/D3_091.jpg: 800x800 1 D3-NG, 1 D5-NG, 19.7ms\n",
            "image 12/180 /content/drive/MyDrive/wcs2023/hvwc23/test/D3_097.jpg: 800x800 1 D3-NG, 19.8ms\n",
            "image 13/180 /content/drive/MyDrive/wcs2023/hvwc23/test/D3_098.jpg: 800x800 1 D3-NG, 1 D5-NG, 19.8ms\n",
            "image 14/180 /content/drive/MyDrive/wcs2023/hvwc23/test/D3_119.jpg: 800x800 1 D3-NG, 19.8ms\n",
            "image 15/180 /content/drive/MyDrive/wcs2023/hvwc23/test/D3_121.jpg: 800x800 1 D3-NG, 14.2ms\n",
            "image 16/180 /content/drive/MyDrive/wcs2023/hvwc23/test/D3_136.jpg: 800x800 1 D3-NG, 13.8ms\n",
            "image 17/180 /content/drive/MyDrive/wcs2023/hvwc23/test/D3_138.jpg: 800x800 1 D3-NG, 13.7ms\n",
            "image 18/180 /content/drive/MyDrive/wcs2023/hvwc23/test/D3_140.jpg: 736x800 1 D3-NG, 12.8ms\n",
            "image 19/180 /content/drive/MyDrive/wcs2023/hvwc23/test/D3_146.jpg: 800x800 1 D3-NG, 14.3ms\n",
            "image 20/180 /content/drive/MyDrive/wcs2023/hvwc23/test/D3_149.jpg: 800x800 1 D3-NG, 13.6ms\n",
            "image 21/180 /content/drive/MyDrive/wcs2023/hvwc23/test/D3_165.jpg: 800x800 1 D3-NG, 13.6ms\n",
            "image 22/180 /content/drive/MyDrive/wcs2023/hvwc23/test/D3_166.jpg: 800x800 1 D3-NG, 13.6ms\n",
            "image 23/180 /content/drive/MyDrive/wcs2023/hvwc23/test/D3_169.jpg: 800x800 1 D3-NG, 13.8ms\n",
            "image 24/180 /content/drive/MyDrive/wcs2023/hvwc23/test/D3_182.jpg: 800x800 1 D3-NG, 13.8ms\n",
            "image 25/180 /content/drive/MyDrive/wcs2023/hvwc23/test/D3_193.jpg: 800x800 1 D3-NG, 13.8ms\n",
            "image 26/180 /content/drive/MyDrive/wcs2023/hvwc23/test/D3_194.jpg: 800x800 1 D3-NG, 13.8ms\n",
            "image 27/180 /content/drive/MyDrive/wcs2023/hvwc23/test/D3_199.jpg: 800x800 1 D3-NG, 13.7ms\n",
            "image 28/180 /content/drive/MyDrive/wcs2023/hvwc23/test/D3_205.jpg: 800x800 1 D3-NG, 12.1ms\n",
            "image 29/180 /content/drive/MyDrive/wcs2023/hvwc23/test/D3_210.jpg: 800x800 1 D3-NG, 1 D5-NG, 13.0ms\n",
            "image 30/180 /content/drive/MyDrive/wcs2023/hvwc23/test/D3_212.jpg: 800x800 1 D5-NG, 12.9ms\n",
            "image 31/180 /content/drive/MyDrive/wcs2023/hvwc23/test/D3_214.jpg: 800x800 1 D3-NG, 12.7ms\n",
            "image 32/180 /content/drive/MyDrive/wcs2023/hvwc23/test/D3_232.jpg: 800x800 1 D3-NG, 12.2ms\n",
            "image 33/180 /content/drive/MyDrive/wcs2023/hvwc23/test/D3_235.jpg: 800x800 1 D3-NG, 12.2ms\n",
            "image 34/180 /content/drive/MyDrive/wcs2023/hvwc23/test/D3_240.jpg: 800x800 1 D3-NG, 1 D5-NG, 12.2ms\n",
            "image 35/180 /content/drive/MyDrive/wcs2023/hvwc23/test/D3_265.jpg: 800x800 1 D3-NG, 13.6ms\n",
            "image 36/180 /content/drive/MyDrive/wcs2023/hvwc23/test/D3_266.jpg: 800x800 1 D3-NG, 13.8ms\n",
            "image 37/180 /content/drive/MyDrive/wcs2023/hvwc23/test/D3_267.jpg: 800x800 1 D3-NG, 13.9ms\n",
            "image 38/180 /content/drive/MyDrive/wcs2023/hvwc23/test/D3_276.jpg: 800x800 1 D3-NG, 13.0ms\n",
            "image 39/180 /content/drive/MyDrive/wcs2023/hvwc23/test/D3_282.jpg: 800x800 1 D3-NG, 12.2ms\n",
            "image 40/180 /content/drive/MyDrive/wcs2023/hvwc23/test/D3_287.jpg: 800x800 1 D3-NG, 12.1ms\n",
            "image 41/180 /content/drive/MyDrive/wcs2023/hvwc23/test/D3_291.jpg: 800x800 1 D3-NG, 12.5ms\n",
            "image 42/180 /content/drive/MyDrive/wcs2023/hvwc23/test/D3_295.jpg: 800x800 1 D3-NG, 13.0ms\n",
            "image 43/180 /content/drive/MyDrive/wcs2023/hvwc23/test/D3_297.jpg: 800x800 1 D3-NG, 13.6ms\n",
            "image 44/180 /content/drive/MyDrive/wcs2023/hvwc23/test/D3_303.jpg: 800x800 1 D3-NG, 13.0ms\n",
            "image 45/180 /content/drive/MyDrive/wcs2023/hvwc23/test/D3_307.jpg: 800x800 1 D3-NG, 12.3ms\n",
            "image 46/180 /content/drive/MyDrive/wcs2023/hvwc23/test/D3_310.jpg: 800x800 1 D3-NG, 12.2ms\n",
            "image 47/180 /content/drive/MyDrive/wcs2023/hvwc23/test/D3_324.jpg: 800x800 1 D3-NG, 12.3ms\n",
            "image 48/180 /content/drive/MyDrive/wcs2023/hvwc23/test/D3_327.jpg: 800x800 1 D3-NG, 12.9ms\n",
            "image 49/180 /content/drive/MyDrive/wcs2023/hvwc23/test/D3_328.jpg: 736x800 1 D3-NG, 12.6ms\n",
            "image 50/180 /content/drive/MyDrive/wcs2023/hvwc23/test/D3_334.jpg: 800x800 1 D3-NG, 1 D5-NG, 13.4ms\n",
            "image 51/180 /content/drive/MyDrive/wcs2023/hvwc23/test/D3_337.jpg: 800x800 1 D3-NG, 12.2ms\n",
            "image 52/180 /content/drive/MyDrive/wcs2023/hvwc23/test/D3_343.jpg: 800x800 1 D3-NG, 12.6ms\n",
            "image 53/180 /content/drive/MyDrive/wcs2023/hvwc23/test/D3_353.jpg: 800x800 1 D3-NG, 13.5ms\n",
            "image 54/180 /content/drive/MyDrive/wcs2023/hvwc23/test/D3_362.jpg: 800x800 1 D3-NG, 13.7ms\n",
            "image 55/180 /content/drive/MyDrive/wcs2023/hvwc23/test/D3_376.jpg: 800x800 1 D3-NG, 13.0ms\n",
            "image 56/180 /content/drive/MyDrive/wcs2023/hvwc23/test/D3_378.jpg: 800x800 1 D3-NG, 12.3ms\n",
            "image 57/180 /content/drive/MyDrive/wcs2023/hvwc23/test/D3_384.jpg: 800x800 1 D3-NG, 12.4ms\n",
            "image 58/180 /content/drive/MyDrive/wcs2023/hvwc23/test/D3_389.jpg: 800x800 1 D3-NG, 13.2ms\n",
            "image 59/180 /content/drive/MyDrive/wcs2023/hvwc23/test/D3_399.jpg: 800x800 1 D3-NG, 13.0ms\n",
            "image 60/180 /content/drive/MyDrive/wcs2023/hvwc23/test/D3_426.jpg: 800x800 1 D3-NG, 12.2ms\n",
            "image 61/180 /content/drive/MyDrive/wcs2023/hvwc23/test/D3_429.jpg: 800x800 1 D3-NG, 12.2ms\n",
            "image 62/180 /content/drive/MyDrive/wcs2023/hvwc23/test/D3_432.jpg: 800x800 1 D3-NG, 12.6ms\n",
            "image 63/180 /content/drive/MyDrive/wcs2023/hvwc23/test/D3_437.jpg: 800x800 1 D3-NG, 13.7ms\n",
            "image 64/180 /content/drive/MyDrive/wcs2023/hvwc23/test/D3_441.jpg: 800x800 1 D3-NG, 13.9ms\n",
            "image 65/180 /content/drive/MyDrive/wcs2023/hvwc23/test/D3_449.jpg: 800x800 1 D3-NG, 13.3ms\n",
            "image 66/180 /content/drive/MyDrive/wcs2023/hvwc23/test/D3_451.jpg: 800x800 1 D3-NG, 12.3ms\n",
            "image 67/180 /content/drive/MyDrive/wcs2023/hvwc23/test/D3_465.jpg: 800x800 1 D3-NG, 12.4ms\n",
            "image 68/180 /content/drive/MyDrive/wcs2023/hvwc23/test/D3_474.jpg: 800x800 1 D3-NG, 13.2ms\n",
            "image 69/180 /content/drive/MyDrive/wcs2023/hvwc23/test/D3_491.jpg: 800x800 1 D3-NG, 14.0ms\n",
            "image 70/180 /content/drive/MyDrive/wcs2023/hvwc23/test/D3_507.jpg: 800x800 1 D3-NG, 1 D5-NG, 13.3ms\n",
            "image 71/180 /content/drive/MyDrive/wcs2023/hvwc23/test/D3_518.jpg: 800x800 1 D3-NG, 12.3ms\n",
            "image 72/180 /content/drive/MyDrive/wcs2023/hvwc23/test/D3_520.jpg: 768x800 1 D3-NG, 60.8ms\n",
            "image 73/180 /content/drive/MyDrive/wcs2023/hvwc23/test/D3_522.jpg: 800x800 1 D3-NG, 12.4ms\n",
            "image 74/180 /content/drive/MyDrive/wcs2023/hvwc23/test/D3_528.jpg: 800x800 1 D3-NG, 11.9ms\n",
            "image 75/180 /content/drive/MyDrive/wcs2023/hvwc23/test/D3_530.jpg: 800x800 1 D3-NG, 11.9ms\n",
            "image 76/180 /content/drive/MyDrive/wcs2023/hvwc23/test/D3_534.jpg: 800x800 1 D3-NG, 11.9ms\n",
            "image 77/180 /content/drive/MyDrive/wcs2023/hvwc23/test/D3_535.jpg: 800x800 1 D3-NG, 12.2ms\n",
            "image 78/180 /content/drive/MyDrive/wcs2023/hvwc23/test/D3_538.jpg: 800x800 1 D3-NG, 13.5ms\n",
            "image 79/180 /content/drive/MyDrive/wcs2023/hvwc23/test/D3_546.jpg: 800x800 1 D3-NG, 13.8ms\n",
            "image 80/180 /content/drive/MyDrive/wcs2023/hvwc23/test/D3_555.jpg: 736x800 1 D3-NG, 12.3ms\n",
            "image 81/180 /content/drive/MyDrive/wcs2023/hvwc23/test/D3_579.jpg: 800x800 1 D3-NG, 12.7ms\n",
            "image 82/180 /content/drive/MyDrive/wcs2023/hvwc23/test/D3_583.jpg: 768x800 1 D3-NG, 12.3ms\n",
            "image 83/180 /content/drive/MyDrive/wcs2023/hvwc23/test/D3_590.jpg: 800x800 1 D3-NG, 13.3ms\n",
            "image 84/180 /content/drive/MyDrive/wcs2023/hvwc23/test/D3_596.jpg: 800x800 1 D3-NG, 12.2ms\n",
            "image 85/180 /content/drive/MyDrive/wcs2023/hvwc23/test/D3_597.jpg: 800x800 1 D3-NG, 12.6ms\n",
            "image 86/180 /content/drive/MyDrive/wcs2023/hvwc23/test/D3_604.jpg: 800x800 1 D3-NG, 13.1ms\n",
            "image 87/180 /content/drive/MyDrive/wcs2023/hvwc23/test/D3_605.jpg: 800x800 1 D3-NG, 14.0ms\n",
            "image 88/180 /content/drive/MyDrive/wcs2023/hvwc23/test/D3_621.jpg: 800x800 1 D3-NG, 14.1ms\n",
            "image 89/180 /content/drive/MyDrive/wcs2023/hvwc23/test/D3_623.jpg: 800x800 1 D3-NG, 12.7ms\n",
            "image 90/180 /content/drive/MyDrive/wcs2023/hvwc23/test/D3_629.jpg: 800x800 1 D3-NG, 12.4ms\n",
            "image 91/180 /content/drive/MyDrive/wcs2023/hvwc23/test/D3_632.jpg: 800x800 1 D3-NG, 12.7ms\n",
            "image 92/180 /content/drive/MyDrive/wcs2023/hvwc23/test/D3_638.jpg: 800x800 1 D5-OK, 13.2ms\n",
            "image 93/180 /content/drive/MyDrive/wcs2023/hvwc23/test/D3_645.jpg: 800x800 1 D3-NG, 14.0ms\n",
            "image 94/180 /content/drive/MyDrive/wcs2023/hvwc23/test/D3_651.jpg: 800x768 1 D3-NG, 62.5ms\n",
            "image 95/180 /content/drive/MyDrive/wcs2023/hvwc23/test/D3_656.jpg: 800x800 1 D3-NG, 12.6ms\n",
            "image 96/180 /content/drive/MyDrive/wcs2023/hvwc23/test/D3_657.jpg: 768x800 1 D3-NG, 11.4ms\n",
            "image 97/180 /content/drive/MyDrive/wcs2023/hvwc23/test/D3_659.jpg: 768x800 1 D3-NG, 11.3ms\n",
            "image 98/180 /content/drive/MyDrive/wcs2023/hvwc23/test/D3_663.jpg: 800x768 1 D3-NG, 11.2ms\n",
            "image 99/180 /content/drive/MyDrive/wcs2023/hvwc23/test/D3_665.jpg: 800x800 1 D3-NG, 12.6ms\n",
            "image 100/180 /content/drive/MyDrive/wcs2023/hvwc23/test/D3_667.jpg: 800x800 1 D3-NG, 12.6ms\n",
            "image 101/180 /content/drive/MyDrive/wcs2023/hvwc23/test/D3_668.jpg: 800x800 1 D3-NG, 13.7ms\n",
            "image 102/180 /content/drive/MyDrive/wcs2023/hvwc23/test/D3_674.jpg: 768x800 1 D3-NG, 12.3ms\n",
            "image 103/180 /content/drive/MyDrive/wcs2023/hvwc23/test/D3_689.jpg: 800x800 1 D3-NG, 13.7ms\n",
            "image 104/180 /content/drive/MyDrive/wcs2023/hvwc23/test/D3_690.jpg: 800x768 1 D3-NG, 12.6ms\n",
            "image 105/180 /content/drive/MyDrive/wcs2023/hvwc23/test/D3_693.jpg: 800x800 1 D3-NG, 13.7ms\n",
            "image 106/180 /content/drive/MyDrive/wcs2023/hvwc23/test/D3_708.jpg: 800x800 1 D3-NG, 12.4ms\n",
            "image 107/180 /content/drive/MyDrive/wcs2023/hvwc23/test/D3_714.jpg: 800x800 1 D3-NG, 12.2ms\n",
            "image 108/180 /content/drive/MyDrive/wcs2023/hvwc23/test/D3_716.jpg: 800x800 1 D3-NG, 12.6ms\n",
            "image 109/180 /content/drive/MyDrive/wcs2023/hvwc23/test/D3_720.jpg: 800x800 1 D3-NG, 13.3ms\n",
            "image 110/180 /content/drive/MyDrive/wcs2023/hvwc23/test/D3_722.jpg: 800x800 1 D3-NG, 14.1ms\n",
            "image 111/180 /content/drive/MyDrive/wcs2023/hvwc23/test/D3_724.jpg: 800x800 1 D3-NG, 13.6ms\n",
            "image 112/180 /content/drive/MyDrive/wcs2023/hvwc23/test/D3_731.jpg: 800x800 1 D3-NG, 12.7ms\n",
            "image 113/180 /content/drive/MyDrive/wcs2023/hvwc23/test/D3_742.jpg: 800x800 1 D3-NG, 12.2ms\n",
            "image 114/180 /content/drive/MyDrive/wcs2023/hvwc23/test/D3_745.jpg: 800x800 1 D3-NG, 12.4ms\n",
            "image 115/180 /content/drive/MyDrive/wcs2023/hvwc23/test/D3_751.jpg: 800x800 1 D3-NG, 13.0ms\n",
            "image 116/180 /content/drive/MyDrive/wcs2023/hvwc23/test/D3_761.jpg: 800x800 1 D3-NG, 13.7ms\n",
            "image 117/180 /content/drive/MyDrive/wcs2023/hvwc23/test/D3_762.jpg: 768x800 1 D3-NG, 12.1ms\n",
            "image 118/180 /content/drive/MyDrive/wcs2023/hvwc23/test/D3_765.jpg: 800x768 1 D3-NG, 11.3ms\n",
            "image 119/180 /content/drive/MyDrive/wcs2023/hvwc23/test/D3_791.jpg: 800x800 1 D3-NG, 13.6ms\n",
            "image 120/180 /content/drive/MyDrive/wcs2023/hvwc23/test/D3_796.jpg: 800x800 1 D3-NG, 13.0ms\n",
            "image 121/180 /content/drive/MyDrive/wcs2023/hvwc23/test/D5_004.jpg: 800x800 1 D5-NG, 12.4ms\n",
            "image 122/180 /content/drive/MyDrive/wcs2023/hvwc23/test/D5_008.jpg: 800x800 1 D5-NG, 12.2ms\n",
            "image 123/180 /content/drive/MyDrive/wcs2023/hvwc23/test/D5_016.jpg: 800x800 1 D5-OK, 13.3ms\n",
            "image 124/180 /content/drive/MyDrive/wcs2023/hvwc23/test/D5_017.jpg: 800x800 1 D5-NG, 13.1ms\n",
            "image 125/180 /content/drive/MyDrive/wcs2023/hvwc23/test/D5_019.jpg: 768x800 1 D5-NG, 11.7ms\n",
            "image 126/180 /content/drive/MyDrive/wcs2023/hvwc23/test/D5_020.jpg: 800x800 1 D5-NG, 12.7ms\n",
            "image 127/180 /content/drive/MyDrive/wcs2023/hvwc23/test/D5_023.jpg: 800x800 1 D3-NG, 12.4ms\n",
            "image 128/180 /content/drive/MyDrive/wcs2023/hvwc23/test/D5_031.jpg: 800x800 1 D3-NG, 13.5ms\n",
            "image 129/180 /content/drive/MyDrive/wcs2023/hvwc23/test/D5_034.jpg: 800x800 1 D3-NG, 13.9ms\n",
            "image 130/180 /content/drive/MyDrive/wcs2023/hvwc23/test/D5_047.jpg: 800x800 1 D5-NG, 1 D5-OK, 13.2ms\n",
            "image 131/180 /content/drive/MyDrive/wcs2023/hvwc23/test/D5_056.jpg: 800x800 1 D3-NG, 12.5ms\n",
            "image 132/180 /content/drive/MyDrive/wcs2023/hvwc23/test/D5_061.jpg: 800x800 1 D5-OK, 12.3ms\n",
            "image 133/180 /content/drive/MyDrive/wcs2023/hvwc23/test/D5_067.jpg: 800x800 1 D3-NG, 12.6ms\n",
            "image 134/180 /content/drive/MyDrive/wcs2023/hvwc23/test/D5_073.jpg: 800x800 1 D5-NG, 1 D5-OK, 13.5ms\n",
            "image 135/180 /content/drive/MyDrive/wcs2023/hvwc23/test/D5_076.jpg: 768x800 1 D5-OK, 13.1ms\n",
            "image 136/180 /content/drive/MyDrive/wcs2023/hvwc23/test/D5_078.jpg: 768x800 1 D5-NG, 11.5ms\n",
            "image 137/180 /content/drive/MyDrive/wcs2023/hvwc23/test/D5_079.jpg: 768x800 1 D3-NG, 1 D5-NG, 11.1ms\n",
            "image 138/180 /content/drive/MyDrive/wcs2023/hvwc23/test/D5_080.jpg: 800x800 1 D3-NG, 12.6ms\n",
            "image 139/180 /content/drive/MyDrive/wcs2023/hvwc23/test/D5_105.jpg: 800x800 1 D5-NG, 12.5ms\n",
            "image 140/180 /content/drive/MyDrive/wcs2023/hvwc23/test/D5_111.jpg: 800x800 1 D3-NG, 13.5ms\n",
            "image 141/180 /content/drive/MyDrive/wcs2023/hvwc23/test/D5_119.jpg: 800x800 1 D5-NG, 13.5ms\n",
            "image 142/180 /content/drive/MyDrive/wcs2023/hvwc23/test/D5_125.jpg: 800x800 1 D5-OK, 12.5ms\n",
            "image 143/180 /content/drive/MyDrive/wcs2023/hvwc23/test/D5_133.jpg: 800x800 1 D5-NG, 12.5ms\n",
            "image 144/180 /content/drive/MyDrive/wcs2023/hvwc23/test/D5_141.jpg: 800x800 1 D3-NG, 12.9ms\n",
            "image 145/180 /content/drive/MyDrive/wcs2023/hvwc23/test/D5_149.jpg: 800x800 1 D5-OK, 13.7ms\n",
            "image 146/180 /content/drive/MyDrive/wcs2023/hvwc23/test/D5_153.jpg: 800x800 1 D5-NG, 13.2ms\n",
            "image 147/180 /content/drive/MyDrive/wcs2023/hvwc23/test/D5_159.jpg: 800x800 1 D5-OK, 12.5ms\n",
            "image 148/180 /content/drive/MyDrive/wcs2023/hvwc23/test/D5_173.jpg: 800x800 1 D3-NG, 12.3ms\n",
            "image 149/180 /content/drive/MyDrive/wcs2023/hvwc23/test/D5_181.jpg: 800x800 1 D5-NG, 1 D5-OK, 13.4ms\n",
            "image 150/180 /content/drive/MyDrive/wcs2023/hvwc23/test/D5_203.jpg: 800x800 1 D5-NG, 12.9ms\n",
            "image 151/180 /content/drive/MyDrive/wcs2023/hvwc23/test/D5_211.jpg: 800x800 1 D3-NG, 12.2ms\n",
            "image 152/180 /content/drive/MyDrive/wcs2023/hvwc23/test/D5_221.jpg: 800x800 1 D3-NG, 12.6ms\n",
            "image 153/180 /content/drive/MyDrive/wcs2023/hvwc23/test/D5_226.jpg: 800x800 1 D3-NG, 1 D5-NG, 13.3ms\n",
            "image 154/180 /content/drive/MyDrive/wcs2023/hvwc23/test/D5_247.jpg: 800x800 1 D5-NG, 13.2ms\n",
            "image 155/180 /content/drive/MyDrive/wcs2023/hvwc23/test/D5_248.jpg: 800x800 1 D3-NG, 1 D5-NG, 12.4ms\n",
            "image 156/180 /content/drive/MyDrive/wcs2023/hvwc23/test/D5_249.jpg: 800x800 1 D5-NG, 12.2ms\n",
            "image 157/180 /content/drive/MyDrive/wcs2023/hvwc23/test/D5_251.jpg: 800x800 1 D3-NG, 12.6ms\n",
            "image 158/180 /content/drive/MyDrive/wcs2023/hvwc23/test/D5_262.jpg: 800x800 1 D3-NG, 13.5ms\n",
            "image 159/180 /content/drive/MyDrive/wcs2023/hvwc23/test/D5_267.jpg: 800x800 1 D5-NG, 14.2ms\n",
            "image 160/180 /content/drive/MyDrive/wcs2023/hvwc23/test/D5_272.jpg: 800x800 1 D5-NG, 13.0ms\n",
            "image 161/180 /content/drive/MyDrive/wcs2023/hvwc23/test/D5_275.jpg: 800x800 1 D5-NG, 12.4ms\n",
            "image 162/180 /content/drive/MyDrive/wcs2023/hvwc23/test/D5_281.jpg: 800x800 1 D5-NG, 12.8ms\n",
            "image 163/180 /content/drive/MyDrive/wcs2023/hvwc23/test/D5_282.jpg: 800x800 1 D3-NG, 1 D5-NG, 13.5ms\n",
            "image 164/180 /content/drive/MyDrive/wcs2023/hvwc23/test/D5_286.jpg: 800x800 1 D5-NG, 12.5ms\n",
            "image 165/180 /content/drive/MyDrive/wcs2023/hvwc23/test/D5_290.jpg: 800x800 1 D3-NG, 12.4ms\n",
            "image 166/180 /content/drive/MyDrive/wcs2023/hvwc23/test/D5_293.jpg: 800x800 1 D3-NG, 13.6ms\n",
            "image 167/180 /content/drive/MyDrive/wcs2023/hvwc23/test/D5_295.jpg: 800x800 1 D5-NG, 13.6ms\n",
            "image 168/180 /content/drive/MyDrive/wcs2023/hvwc23/test/D5_302.jpg: 800x800 1 D5-NG, 12.9ms\n",
            "image 169/180 /content/drive/MyDrive/wcs2023/hvwc23/test/D5_315.jpg: 800x800 1 D3-NG, 12.2ms\n",
            "image 170/180 /content/drive/MyDrive/wcs2023/hvwc23/test/D5_322.jpg: 800x800 1 D3-NG, 12.7ms\n",
            "image 171/180 /content/drive/MyDrive/wcs2023/hvwc23/test/D5_330.jpg: 800x800 1 D5-OK, 13.7ms\n",
            "image 172/180 /content/drive/MyDrive/wcs2023/hvwc23/test/D5_339.jpg: 800x800 1 D5-OK, 12.8ms\n",
            "image 173/180 /content/drive/MyDrive/wcs2023/hvwc23/test/D5_343.jpg: 800x800 1 D5-NG, 12.3ms\n",
            "image 174/180 /content/drive/MyDrive/wcs2023/hvwc23/test/D5_356.jpg: 800x800 1 D3-NG, 12.7ms\n",
            "image 175/180 /content/drive/MyDrive/wcs2023/hvwc23/test/D5_370.jpg: 800x800 1 D5-NG, 13.4ms\n",
            "image 176/180 /content/drive/MyDrive/wcs2023/hvwc23/test/D5_375.jpg: 800x800 1 D5-NG, 13.7ms\n",
            "image 177/180 /content/drive/MyDrive/wcs2023/hvwc23/test/D5_377.jpg: 800x800 1 D3-NG, 12.7ms\n",
            "image 178/180 /content/drive/MyDrive/wcs2023/hvwc23/test/D5_386.jpg: 800x800 1 D5-NG, 12.3ms\n",
            "image 179/180 /content/drive/MyDrive/wcs2023/hvwc23/test/D5_388.jpg: 768x800 1 D5-NG, 12.0ms\n",
            "image 180/180 /content/drive/MyDrive/wcs2023/hvwc23/test/D5_389.jpg: 800x800 1 D5-NG, 14.1ms\n",
            "Speed: 0.7ms pre-process, 14.5ms inference, 1.8ms postprocess per image at shape (1, 3, 800, 800)\n",
            "Results saved to \u001b[1mruns/detect/predict\u001b[0m\n"
          ]
        }
      ]
    },
    {
      "cell_type": "code",
      "source": [
        "from cv2 import CirclesGridFinderParameters_SYMMETRIC_GRID\n",
        "import os\n",
        "import csv\n",
        "test_dir = '/content/drive/MyDrive/wcs2023/hvwc23/test'\n",
        "test_name_dir = '/content/drive/MyDrive/wcs2023/hvwc23/test.csv'\n",
        "result_dir = '/content/drive/MyDrive/wcs2023/result/submission.csv'\n",
        "class_names = {0:'D3-NG', 1:'D3-OK', 2:'D5-NG', 3:'D5-OK'}\n",
        "test_id=[]\n",
        "test_name=[]\n",
        "#os.makedirs(result_dir, exist_ok=True)\n",
        "with open(result_dir, 'w', newline='') as f:\n",
        "  summit = csv.writer(f)\n",
        "  summit.writerow(['ID', 'Class'])\n",
        "\n",
        "with open(test_name_dir, 'r') as f:\n",
        "  test_name_reader = csv.reader(f)\n",
        "  next(test_name_reader)\n",
        "  for row in test_name_reader:\n",
        "    test_id.append(int(row[0]))\n",
        "    test_name.append(row[1])\n",
        "\n",
        "model = YOLO('/content/runs/detect/train2/weights/best.pt')\n",
        "count = 1\n",
        "for count in test_id:\n",
        "    #print(image)\n",
        "    image = test_name[count-1]\n",
        "    print(image)\n",
        "    flag = 0\n",
        "    file_extension = os.path.splitext(image)[0]\n",
        "    #print('file: ', file_extension)\n",
        "    day_of_embryo = file_extension.split('_')[0]\n",
        "    #print('1', day_of_embryo)\n",
        "    image\n",
        "    results = model(os.path.join(test_dir, image))\n",
        "    #print(results)\n",
        "    bbox_info = results[0].boxes\n",
        "    class_id = bbox_info.cls.tolist()\n",
        "    #print(class_id)\n",
        "    #print(bbox_info)\n",
        "    #print(len(class_id))\n",
        "    if len(class_id) == 1:\n",
        "      class_name = class_names[class_id[0]]\n",
        "      if class_name in ['D3-OK', 'D5-OK']: id = 1\n",
        "      else: id = 0\n",
        "      with open(result_dir, 'a', newline='') as f:\n",
        "        submission = csv.writer(f)\n",
        "        submission.writerow([count, id])\n",
        "\n",
        "    else:\n",
        "      #print('other_loop')\n",
        "      for item in range(len(class_id)):\n",
        "        class_name = class_names[class_id[item]]\n",
        "        class_name_day = class_name.split('-')[0]\n",
        "        cf_scores = []\n",
        "        class_day_right = []\n",
        "        #print('class_name: ',class_name_day)\n",
        "        #print('embryo: ', day_of_embryo)\n",
        "        if class_name_day == day_of_embryo:\n",
        "          flag = flag + 1\n",
        "          cf_scores.append(bbox_info.conf.tolist()[item])\n",
        "          class_day_right.append(class_name)\n",
        "        #print(cf_scores)\n",
        "        if flag >= 2:\n",
        "          max = cf_scores[0]\n",
        "          score_idx = 0\n",
        "          max_idx = 0\n",
        "          for score in range(len(cf_scores)):\n",
        "            if score > max:\n",
        "              max = score\n",
        "              max_idx = score_idx\n",
        "            score_idx += 1\n",
        "          if class_day_right[max_idx] in ['D3-OK', 'D5-OK']: id = 1\n",
        "          else: id = 0\n",
        "        elif flag == 1:\n",
        "          if len(class_day_right) >= 1 and class_day_right[0] in ['D3-OK', 'D5-OK']: id = 1\n",
        "          else: id = 0\n",
        "        elif flag == 0: id = 0\n",
        "      print('id:', id)\n",
        "      with open(result_dir, 'a', newline='') as f:\n",
        "        submission = csv.writer(f)\n",
        "        submission.writerow([count, id])\n",
        "\n",
        "    count += 1\n"
      ],
      "metadata": {
        "id": "S23_FQjC_tKD",
        "colab": {
          "base_uri": "https://localhost:8080/"
        },
        "outputId": "c831890d-57a5-4d46-bc36-6a195ee5de14"
      },
      "execution_count": null,
      "outputs": [
        {
          "output_type": "stream",
          "name": "stderr",
          "text": [
            "Ultralytics YOLOv8.0.20 🚀 Python-3.10.12 torch-2.0.1+cu118 CUDA:0 (Tesla T4, 15102MiB)\n"
          ]
        },
        {
          "output_type": "stream",
          "name": "stdout",
          "text": [
            "D3_693.jpg\n"
          ]
        },
        {
          "output_type": "stream",
          "name": "stderr",
          "text": [
            "Model summary (fused): 168 layers, 11127132 parameters, 0 gradients, 28.4 GFLOPs\n"
          ]
        },
        {
          "output_type": "stream",
          "name": "stdout",
          "text": [
            "D3_212.jpg\n",
            "D3_724.jpg\n",
            "D3_623.jpg\n",
            "D3_210.jpg\n",
            "id: 0\n",
            "D3_590.jpg\n",
            "D3_651.jpg\n",
            "D3_384.jpg\n",
            "D3_287.jpg\n",
            "D3_235.jpg\n",
            "D3_638.jpg\n",
            "D3_327.jpg\n",
            "D3_067.jpg\n",
            "D3_119.jpg\n",
            "D3_579.jpg\n",
            "D3_645.jpg\n",
            "D3_310.jpg\n",
            "D3_656.jpg\n",
            "D3_507.jpg\n",
            "D3_267.jpg\n",
            "D3_449.jpg\n",
            "D3_674.jpg\n",
            "D3_546.jpg\n",
            "D3_714.jpg\n",
            "D3_232.jpg\n",
            "D3_596.jpg\n",
            "D3_520.jpg\n",
            "id: 0\n",
            "D3_140.jpg\n",
            "id: 0\n",
            "D3_720.jpg\n",
            "D3_722.jpg\n",
            "D3_621.jpg\n",
            "D3_182.jpg\n",
            "D3_138.jpg\n",
            "D3_742.jpg\n",
            "D3_291.jpg\n",
            "D3_597.jpg\n",
            "D3_629.jpg\n",
            "D3_528.jpg\n",
            "D3_324.jpg\n",
            "D3_465.jpg\n",
            "D3_007.jpg\n",
            "D3_534.jpg\n",
            "D3_205.jpg\n",
            "id: 0\n",
            "D3_295.jpg\n",
            "D3_689.jpg\n",
            "D3_194.jpg\n",
            "D3_690.jpg\n",
            "D3_665.jpg\n",
            "D3_535.jpg\n",
            "D3_343.jpg\n",
            "D3_429.jpg\n",
            "D3_040.jpg\n",
            "id: 0\n",
            "D3_491.jpg\n",
            "D3_708.jpg\n",
            "D3_426.jpg\n",
            "id: 0\n",
            "D3_716.jpg\n",
            "D3_078.jpg\n",
            "D3_166.jpg\n",
            "D3_240.jpg\n",
            "D3_097.jpg\n",
            "D3_761.jpg\n",
            "D3_068.jpg\n",
            "D3_169.jpg\n",
            "D3_045.jpg\n",
            "id: 0\n",
            "D3_297.jpg\n",
            "D3_378.jpg\n",
            "D3_149.jpg\n",
            "D3_796.jpg\n",
            "D3_074.jpg\n",
            "D3_303.jpg\n",
            "D3_091.jpg\n",
            "id: 0\n",
            "D3_731.jpg\n",
            "D3_307.jpg\n",
            "id: 0\n",
            "D3_337.jpg\n",
            "id: 0\n",
            "D3_765.jpg\n",
            "D3_266.jpg\n",
            "D3_791.jpg\n",
            "id: 0\n",
            "D3_214.jpg\n",
            "D3_555.jpg\n",
            "D3_604.jpg\n",
            "D3_451.jpg\n",
            "D3_136.jpg\n",
            "D3_441.jpg\n",
            "D3_199.jpg\n",
            "D3_605.jpg\n",
            "D3_362.jpg\n",
            "D3_530.jpg\n",
            "D3_334.jpg\n",
            "id: 0\n",
            "D3_518.jpg\n",
            "id: 0\n",
            "D3_265.jpg\n",
            "D3_146.jpg\n",
            "D3_632.jpg\n",
            "D3_437.jpg\n",
            "id: 0\n",
            "D3_657.jpg\n",
            "D3_399.jpg\n",
            "id: 0\n",
            "D3_745.jpg\n",
            "D3_474.jpg\n",
            "D3_668.jpg\n",
            "id: 0\n",
            "D3_667.jpg\n",
            "D3_538.jpg\n",
            "D3_663.jpg\n",
            "D3_003.jpg\n",
            "D3_121.jpg\n",
            "D3_751.jpg\n",
            "D3_522.jpg\n",
            "D3_276.jpg\n",
            "D3_070.jpg\n",
            "D3_032.jpg\n",
            "id: 0\n",
            "D3_165.jpg\n",
            "D3_762.jpg\n",
            "D3_389.jpg\n",
            "D3_376.jpg\n",
            "D3_659.jpg\n",
            "D3_432.jpg\n",
            "D3_193.jpg\n",
            "D3_353.jpg\n",
            "D3_328.jpg\n",
            "D3_282.jpg\n",
            "D3_583.jpg\n",
            "D3_098.jpg\n",
            "D5_251.jpg\n",
            "D5_226.jpg\n",
            "D5_386.jpg\n",
            "D5_315.jpg\n",
            "D5_248.jpg\n",
            "D5_267.jpg\n",
            "D5_073.jpg\n",
            "D5_275.jpg\n",
            "D5_211.jpg\n",
            "D5_377.jpg\n",
            "D5_159.jpg\n",
            "D5_286.jpg\n",
            "D5_330.jpg\n",
            "D5_370.jpg\n",
            "D5_388.jpg\n",
            "D5_181.jpg\n",
            "D5_375.jpg\n",
            "D5_047.jpg\n",
            "id: 0\n",
            "D5_004.jpg\n",
            "D5_149.jpg\n",
            "D5_019.jpg\n",
            "D5_295.jpg\n",
            "D5_080.jpg\n",
            "D5_290.jpg\n",
            "D5_221.jpg\n",
            "D5_056.jpg\n",
            "D5_031.jpg\n",
            "D5_023.jpg\n",
            "id: 0\n",
            "D5_111.jpg\n",
            "id: 0\n",
            "D5_173.jpg\n",
            "D5_247.jpg\n",
            "D5_262.jpg\n",
            "id: 0\n",
            "D5_293.jpg\n",
            "id: 0\n",
            "D5_153.jpg\n",
            "D5_079.jpg\n",
            "D5_008.jpg\n",
            "D5_343.jpg\n",
            "id: 0\n",
            "D5_105.jpg\n",
            "id: 0\n",
            "D5_061.jpg\n",
            "id: 0\n",
            "D5_281.jpg\n",
            "id: 1\n",
            "D5_339.jpg\n",
            "D5_016.jpg\n",
            "id: 1\n",
            "D5_034.jpg\n",
            "D5_272.jpg\n",
            "D5_067.jpg\n",
            "D5_076.jpg\n",
            "D5_302.jpg\n",
            "D5_356.jpg\n",
            "D5_389.jpg\n",
            "D5_249.jpg\n",
            "D5_203.jpg\n",
            "id: 1\n",
            "D5_282.jpg\n",
            "D5_078.jpg\n",
            "D5_125.jpg\n",
            "D5_141.jpg\n",
            "id: 0\n",
            "D5_020.jpg\n",
            "id: 1\n",
            "D5_133.jpg\n",
            "D5_119.jpg\n",
            "id: 0\n",
            "D5_322.jpg\n",
            "D5_017.jpg\n",
            "id: 1\n"
          ]
        }
      ]
    },
    {
      "cell_type": "markdown",
      "source": [
        "### 1 at once\n"
      ],
      "metadata": {
        "id": "OxtCb5HPVZ8H"
      }
    },
    {
      "cell_type": "code",
      "source": [
        "!pip install roboflow\n",
        "\n",
        "from roboflow import Roboflow\n",
        "rf = Roboflow(api_key=\"ivzAeeL9c1XWDlierywz\")\n",
        "project = rf.workspace(\"wcs2023\").project(\"embryo-bgeie\")\n",
        "dataset = project.version(3).download(\"yolov8\")\n"
      ],
      "metadata": {
        "colab": {
          "base_uri": "https://localhost:8080/"
        },
        "id": "ImdgL7snVZTe",
        "outputId": "08dd1e42-d468-400a-fe95-24777bf3f7ce"
      },
      "execution_count": null,
      "outputs": [
        {
          "output_type": "stream",
          "name": "stdout",
          "text": [
            "Requirement already satisfied: roboflow in /usr/local/lib/python3.10/dist-packages (1.1.7)\n",
            "Requirement already satisfied: certifi==2022.12.7 in /usr/local/lib/python3.10/dist-packages (from roboflow) (2022.12.7)\n",
            "Requirement already satisfied: chardet==4.0.0 in /usr/local/lib/python3.10/dist-packages (from roboflow) (4.0.0)\n",
            "Requirement already satisfied: cycler==0.10.0 in /usr/local/lib/python3.10/dist-packages (from roboflow) (0.10.0)\n",
            "Requirement already satisfied: idna==2.10 in /usr/local/lib/python3.10/dist-packages (from roboflow) (2.10)\n",
            "Requirement already satisfied: kiwisolver>=1.3.1 in /usr/local/lib/python3.10/dist-packages (from roboflow) (1.4.5)\n",
            "Requirement already satisfied: matplotlib in /usr/local/lib/python3.10/dist-packages (from roboflow) (3.7.1)\n",
            "Requirement already satisfied: numpy>=1.18.5 in /usr/local/lib/python3.10/dist-packages (from roboflow) (1.23.5)\n",
            "Requirement already satisfied: opencv-python-headless==4.8.0.74 in /usr/local/lib/python3.10/dist-packages (from roboflow) (4.8.0.74)\n",
            "Requirement already satisfied: Pillow>=7.1.2 in /usr/local/lib/python3.10/dist-packages (from roboflow) (9.4.0)\n",
            "Requirement already satisfied: pyparsing==2.4.7 in /usr/local/lib/python3.10/dist-packages (from roboflow) (2.4.7)\n",
            "Requirement already satisfied: python-dateutil in /usr/local/lib/python3.10/dist-packages (from roboflow) (2.8.2)\n",
            "Requirement already satisfied: python-dotenv in /usr/local/lib/python3.10/dist-packages (from roboflow) (1.0.0)\n",
            "Requirement already satisfied: requests in /usr/local/lib/python3.10/dist-packages (from roboflow) (2.31.0)\n",
            "Requirement already satisfied: six in /usr/local/lib/python3.10/dist-packages (from roboflow) (1.16.0)\n",
            "Requirement already satisfied: supervision in /usr/local/lib/python3.10/dist-packages (from roboflow) (0.14.0)\n",
            "Requirement already satisfied: urllib3>=1.26.6 in /usr/local/lib/python3.10/dist-packages (from roboflow) (2.0.5)\n",
            "Requirement already satisfied: tqdm>=4.41.0 in /usr/local/lib/python3.10/dist-packages (from roboflow) (4.66.1)\n",
            "Requirement already satisfied: PyYAML>=5.3.1 in /usr/local/lib/python3.10/dist-packages (from roboflow) (6.0.1)\n",
            "Requirement already satisfied: requests-toolbelt in /usr/local/lib/python3.10/dist-packages (from roboflow) (1.0.0)\n",
            "Requirement already satisfied: contourpy>=1.0.1 in /usr/local/lib/python3.10/dist-packages (from matplotlib->roboflow) (1.1.1)\n",
            "Requirement already satisfied: fonttools>=4.22.0 in /usr/local/lib/python3.10/dist-packages (from matplotlib->roboflow) (4.43.0)\n",
            "Requirement already satisfied: packaging>=20.0 in /usr/local/lib/python3.10/dist-packages (from matplotlib->roboflow) (23.1)\n",
            "Requirement already satisfied: charset-normalizer<4,>=2 in /usr/local/lib/python3.10/dist-packages (from requests->roboflow) (3.2.0)\n",
            "Requirement already satisfied: scipy<2.0.0,>=1.9.0 in /usr/local/lib/python3.10/dist-packages (from supervision->roboflow) (1.11.3)\n",
            "loading Roboflow workspace...\n",
            "loading Roboflow project...\n",
            "Dependency ultralytics==8.0.134 is required but found version=8.0.20, to fix: `pip install ultralytics==8.0.134`\n"
          ]
        },
        {
          "output_type": "stream",
          "name": "stderr",
          "text": [
            "Downloading Dataset Version Zip in Embryo-3 to yolov8:: 100%|██████████| 3677/3677 [00:00<00:00, 54454.75it/s]"
          ]
        },
        {
          "output_type": "stream",
          "name": "stdout",
          "text": [
            "\n"
          ]
        },
        {
          "output_type": "stream",
          "name": "stderr",
          "text": [
            "\n",
            "Extracting Dataset Version Zip to Embryo-3 in yolov8:: 100%|██████████| 555/555 [00:00<00:00, 9430.29it/s]\n"
          ]
        }
      ]
    },
    {
      "cell_type": "code",
      "source": [
        "!pip install roboflow\n",
        "\n",
        "from roboflow import Roboflow\n",
        "rf = Roboflow(api_key=\"ivzAeeL9c1XWDlierywz\")\n",
        "project = rf.workspace(\"wcs2023\").project(\"embryo-bgeie\")\n",
        "dataset = project.version(4).download(\"yolov8\")\n"
      ],
      "metadata": {
        "colab": {
          "base_uri": "https://localhost:8080/"
        },
        "id": "koL5X_XOWRBu",
        "outputId": "8fbbe76f-a6ec-4428-e0f0-8501423a72af"
      },
      "execution_count": null,
      "outputs": [
        {
          "output_type": "stream",
          "name": "stdout",
          "text": [
            "Requirement already satisfied: roboflow in /usr/local/lib/python3.10/dist-packages (1.1.7)\n",
            "Requirement already satisfied: certifi==2022.12.7 in /usr/local/lib/python3.10/dist-packages (from roboflow) (2022.12.7)\n",
            "Requirement already satisfied: chardet==4.0.0 in /usr/local/lib/python3.10/dist-packages (from roboflow) (4.0.0)\n",
            "Requirement already satisfied: cycler==0.10.0 in /usr/local/lib/python3.10/dist-packages (from roboflow) (0.10.0)\n",
            "Requirement already satisfied: idna==2.10 in /usr/local/lib/python3.10/dist-packages (from roboflow) (2.10)\n",
            "Requirement already satisfied: kiwisolver>=1.3.1 in /usr/local/lib/python3.10/dist-packages (from roboflow) (1.4.5)\n",
            "Requirement already satisfied: matplotlib in /usr/local/lib/python3.10/dist-packages (from roboflow) (3.7.1)\n",
            "Requirement already satisfied: numpy>=1.18.5 in /usr/local/lib/python3.10/dist-packages (from roboflow) (1.23.5)\n",
            "Requirement already satisfied: opencv-python-headless==4.8.0.74 in /usr/local/lib/python3.10/dist-packages (from roboflow) (4.8.0.74)\n",
            "Requirement already satisfied: Pillow>=7.1.2 in /usr/local/lib/python3.10/dist-packages (from roboflow) (9.4.0)\n",
            "Requirement already satisfied: pyparsing==2.4.7 in /usr/local/lib/python3.10/dist-packages (from roboflow) (2.4.7)\n",
            "Requirement already satisfied: python-dateutil in /usr/local/lib/python3.10/dist-packages (from roboflow) (2.8.2)\n",
            "Requirement already satisfied: python-dotenv in /usr/local/lib/python3.10/dist-packages (from roboflow) (1.0.0)\n",
            "Requirement already satisfied: requests in /usr/local/lib/python3.10/dist-packages (from roboflow) (2.31.0)\n",
            "Requirement already satisfied: six in /usr/local/lib/python3.10/dist-packages (from roboflow) (1.16.0)\n",
            "Requirement already satisfied: supervision in /usr/local/lib/python3.10/dist-packages (from roboflow) (0.14.0)\n",
            "Requirement already satisfied: urllib3>=1.26.6 in /usr/local/lib/python3.10/dist-packages (from roboflow) (2.0.5)\n",
            "Requirement already satisfied: tqdm>=4.41.0 in /usr/local/lib/python3.10/dist-packages (from roboflow) (4.66.1)\n",
            "Requirement already satisfied: PyYAML>=5.3.1 in /usr/local/lib/python3.10/dist-packages (from roboflow) (6.0.1)\n",
            "Requirement already satisfied: requests-toolbelt in /usr/local/lib/python3.10/dist-packages (from roboflow) (1.0.0)\n",
            "Requirement already satisfied: contourpy>=1.0.1 in /usr/local/lib/python3.10/dist-packages (from matplotlib->roboflow) (1.1.1)\n",
            "Requirement already satisfied: fonttools>=4.22.0 in /usr/local/lib/python3.10/dist-packages (from matplotlib->roboflow) (4.43.0)\n",
            "Requirement already satisfied: packaging>=20.0 in /usr/local/lib/python3.10/dist-packages (from matplotlib->roboflow) (23.1)\n",
            "Requirement already satisfied: charset-normalizer<4,>=2 in /usr/local/lib/python3.10/dist-packages (from requests->roboflow) (3.2.0)\n",
            "Requirement already satisfied: scipy<2.0.0,>=1.9.0 in /usr/local/lib/python3.10/dist-packages (from supervision->roboflow) (1.11.3)\n",
            "loading Roboflow workspace...\n",
            "loading Roboflow project...\n",
            "Dependency ultralytics==8.0.134 is required but found version=8.0.20, to fix: `pip install ultralytics==8.0.134`\n"
          ]
        },
        {
          "output_type": "stream",
          "name": "stderr",
          "text": [
            "Downloading Dataset Version Zip in Embryo-4 to yolov8:: 100%|██████████| 7581/7581 [00:00<00:00, 32172.18it/s]"
          ]
        },
        {
          "output_type": "stream",
          "name": "stdout",
          "text": [
            "\n"
          ]
        },
        {
          "output_type": "stream",
          "name": "stderr",
          "text": [
            "\n",
            "Extracting Dataset Version Zip to Embryo-4 in yolov8:: 100%|██████████| 1103/1103 [00:00<00:00, 6451.14it/s]\n"
          ]
        }
      ]
    },
    {
      "cell_type": "markdown",
      "source": [
        "data D3 mới"
      ],
      "metadata": {
        "id": "2Scqh8IxNFeq"
      }
    },
    {
      "cell_type": "code",
      "source": [
        "%cd /content/drive/MyDrive/wcs2023/Hieu/D3/Data"
      ],
      "metadata": {
        "colab": {
          "base_uri": "https://localhost:8080/"
        },
        "id": "sArffbFARPw-",
        "outputId": "5fa9ea1a-9359-4b79-b458-881e2d7c3e01"
      },
      "execution_count": null,
      "outputs": [
        {
          "output_type": "stream",
          "name": "stdout",
          "text": [
            "/content/drive/MyDrive/wcs2023/Hieu/D3/Data\n"
          ]
        }
      ]
    },
    {
      "cell_type": "code",
      "source": [
        "!pip install roboflow\n",
        "\n",
        "from roboflow import Roboflow\n",
        "rf = Roboflow(api_key=\"ivzAeeL9c1XWDlierywz\")\n",
        "project = rf.workspace(\"wcs2023\").project(\"embryo-bgeie\")\n",
        "dataset = project.version(15).download(\"yolov8\")\n"
      ],
      "metadata": {
        "colab": {
          "base_uri": "https://localhost:8080/"
        },
        "id": "u-UjGePbNFN-",
        "outputId": "0ab31962-57f4-4223-c5dc-cb25bda9fb0c"
      },
      "execution_count": null,
      "outputs": [
        {
          "output_type": "stream",
          "name": "stdout",
          "text": [
            "Requirement already satisfied: roboflow in /usr/local/lib/python3.10/dist-packages (1.1.7)\n",
            "Requirement already satisfied: certifi==2022.12.7 in /usr/local/lib/python3.10/dist-packages (from roboflow) (2022.12.7)\n",
            "Requirement already satisfied: chardet==4.0.0 in /usr/local/lib/python3.10/dist-packages (from roboflow) (4.0.0)\n",
            "Requirement already satisfied: cycler==0.10.0 in /usr/local/lib/python3.10/dist-packages (from roboflow) (0.10.0)\n",
            "Requirement already satisfied: idna==2.10 in /usr/local/lib/python3.10/dist-packages (from roboflow) (2.10)\n",
            "Requirement already satisfied: kiwisolver>=1.3.1 in /usr/local/lib/python3.10/dist-packages (from roboflow) (1.4.5)\n",
            "Requirement already satisfied: matplotlib in /usr/local/lib/python3.10/dist-packages (from roboflow) (3.7.1)\n",
            "Requirement already satisfied: numpy>=1.18.5 in /usr/local/lib/python3.10/dist-packages (from roboflow) (1.23.5)\n",
            "Requirement already satisfied: opencv-python-headless==4.8.0.74 in /usr/local/lib/python3.10/dist-packages (from roboflow) (4.8.0.74)\n",
            "Requirement already satisfied: Pillow>=7.1.2 in /usr/local/lib/python3.10/dist-packages (from roboflow) (9.4.0)\n",
            "Requirement already satisfied: pyparsing==2.4.7 in /usr/local/lib/python3.10/dist-packages (from roboflow) (2.4.7)\n",
            "Requirement already satisfied: python-dateutil in /usr/local/lib/python3.10/dist-packages (from roboflow) (2.8.2)\n",
            "Requirement already satisfied: python-dotenv in /usr/local/lib/python3.10/dist-packages (from roboflow) (1.0.0)\n",
            "Requirement already satisfied: requests in /usr/local/lib/python3.10/dist-packages (from roboflow) (2.31.0)\n",
            "Requirement already satisfied: six in /usr/local/lib/python3.10/dist-packages (from roboflow) (1.16.0)\n",
            "Requirement already satisfied: supervision in /usr/local/lib/python3.10/dist-packages (from roboflow) (0.15.0)\n",
            "Requirement already satisfied: urllib3>=1.26.6 in /usr/local/lib/python3.10/dist-packages (from roboflow) (2.0.6)\n",
            "Requirement already satisfied: tqdm>=4.41.0 in /usr/local/lib/python3.10/dist-packages (from roboflow) (4.66.1)\n",
            "Requirement already satisfied: PyYAML>=5.3.1 in /usr/local/lib/python3.10/dist-packages (from roboflow) (6.0.1)\n",
            "Requirement already satisfied: requests-toolbelt in /usr/local/lib/python3.10/dist-packages (from roboflow) (1.0.0)\n",
            "Requirement already satisfied: contourpy>=1.0.1 in /usr/local/lib/python3.10/dist-packages (from matplotlib->roboflow) (1.1.1)\n",
            "Requirement already satisfied: fonttools>=4.22.0 in /usr/local/lib/python3.10/dist-packages (from matplotlib->roboflow) (4.43.0)\n",
            "Requirement already satisfied: packaging>=20.0 in /usr/local/lib/python3.10/dist-packages (from matplotlib->roboflow) (23.2)\n",
            "Requirement already satisfied: charset-normalizer<4,>=2 in /usr/local/lib/python3.10/dist-packages (from requests->roboflow) (3.3.0)\n",
            "Requirement already satisfied: scipy<2.0.0,>=1.9.0 in /usr/local/lib/python3.10/dist-packages (from supervision->roboflow) (1.11.3)\n",
            "loading Roboflow workspace...\n",
            "loading Roboflow project...\n",
            "Dependency ultralytics==8.0.134 is required but found version=8.0.20, to fix: `pip install ultralytics==8.0.134`\n"
          ]
        },
        {
          "output_type": "stream",
          "name": "stderr",
          "text": [
            "Downloading Dataset Version Zip in Embryo-15 to yolov8:: 100%|██████████| 16744/16744 [00:01<00:00, 8700.41it/s]"
          ]
        },
        {
          "output_type": "stream",
          "name": "stdout",
          "text": [
            "\n"
          ]
        },
        {
          "output_type": "stream",
          "name": "stderr",
          "text": [
            "\n",
            "Extracting Dataset Version Zip to Embryo-15 in yolov8:: 100%|██████████| 2409/2409 [00:16<00:00, 143.95it/s]\n"
          ]
        }
      ]
    },
    {
      "cell_type": "markdown",
      "source": [
        "data D5 mới"
      ],
      "metadata": {
        "id": "qQzv8yfKNKEX"
      }
    },
    {
      "cell_type": "code",
      "source": [
        "%cd /content/drive/MyDrive/wcs2023/Hieu/D5/Data"
      ],
      "metadata": {
        "colab": {
          "base_uri": "https://localhost:8080/"
        },
        "id": "V3bNBUoARXp5",
        "outputId": "6fe2314d-51cc-4d03-911a-77d853c631e6"
      },
      "execution_count": null,
      "outputs": [
        {
          "output_type": "stream",
          "name": "stdout",
          "text": [
            "/content/drive/MyDrive/wcs2023/Hieu/D5/Data\n"
          ]
        }
      ]
    },
    {
      "cell_type": "code",
      "source": [
        "!pip install roboflow\n",
        "\n",
        "from roboflow import Roboflow\n",
        "rf = Roboflow(api_key=\"ivzAeeL9c1XWDlierywz\")\n",
        "project = rf.workspace(\"wcs2023\").project(\"embryo-bgeie\")\n",
        "dataset = project.version(16).download(\"yolov8\")\n"
      ],
      "metadata": {
        "colab": {
          "base_uri": "https://localhost:8080/"
        },
        "id": "vrhec8B9NJ9I",
        "outputId": "d290fd72-5738-45ae-8b50-25321b8b21fe"
      },
      "execution_count": null,
      "outputs": [
        {
          "output_type": "stream",
          "name": "stdout",
          "text": [
            "Requirement already satisfied: roboflow in /usr/local/lib/python3.10/dist-packages (1.1.7)\n",
            "Requirement already satisfied: certifi==2022.12.7 in /usr/local/lib/python3.10/dist-packages (from roboflow) (2022.12.7)\n",
            "Requirement already satisfied: chardet==4.0.0 in /usr/local/lib/python3.10/dist-packages (from roboflow) (4.0.0)\n",
            "Requirement already satisfied: cycler==0.10.0 in /usr/local/lib/python3.10/dist-packages (from roboflow) (0.10.0)\n",
            "Requirement already satisfied: idna==2.10 in /usr/local/lib/python3.10/dist-packages (from roboflow) (2.10)\n",
            "Requirement already satisfied: kiwisolver>=1.3.1 in /usr/local/lib/python3.10/dist-packages (from roboflow) (1.4.5)\n",
            "Requirement already satisfied: matplotlib in /usr/local/lib/python3.10/dist-packages (from roboflow) (3.7.1)\n",
            "Requirement already satisfied: numpy>=1.18.5 in /usr/local/lib/python3.10/dist-packages (from roboflow) (1.23.5)\n",
            "Requirement already satisfied: opencv-python-headless==4.8.0.74 in /usr/local/lib/python3.10/dist-packages (from roboflow) (4.8.0.74)\n",
            "Requirement already satisfied: Pillow>=7.1.2 in /usr/local/lib/python3.10/dist-packages (from roboflow) (9.4.0)\n",
            "Requirement already satisfied: pyparsing==2.4.7 in /usr/local/lib/python3.10/dist-packages (from roboflow) (2.4.7)\n",
            "Requirement already satisfied: python-dateutil in /usr/local/lib/python3.10/dist-packages (from roboflow) (2.8.2)\n",
            "Requirement already satisfied: python-dotenv in /usr/local/lib/python3.10/dist-packages (from roboflow) (1.0.0)\n",
            "Requirement already satisfied: requests in /usr/local/lib/python3.10/dist-packages (from roboflow) (2.31.0)\n",
            "Requirement already satisfied: six in /usr/local/lib/python3.10/dist-packages (from roboflow) (1.16.0)\n",
            "Requirement already satisfied: supervision in /usr/local/lib/python3.10/dist-packages (from roboflow) (0.15.0)\n",
            "Requirement already satisfied: urllib3>=1.26.6 in /usr/local/lib/python3.10/dist-packages (from roboflow) (2.0.6)\n",
            "Requirement already satisfied: tqdm>=4.41.0 in /usr/local/lib/python3.10/dist-packages (from roboflow) (4.66.1)\n",
            "Requirement already satisfied: PyYAML>=5.3.1 in /usr/local/lib/python3.10/dist-packages (from roboflow) (6.0.1)\n",
            "Requirement already satisfied: requests-toolbelt in /usr/local/lib/python3.10/dist-packages (from roboflow) (1.0.0)\n",
            "Requirement already satisfied: contourpy>=1.0.1 in /usr/local/lib/python3.10/dist-packages (from matplotlib->roboflow) (1.1.1)\n",
            "Requirement already satisfied: fonttools>=4.22.0 in /usr/local/lib/python3.10/dist-packages (from matplotlib->roboflow) (4.43.0)\n",
            "Requirement already satisfied: packaging>=20.0 in /usr/local/lib/python3.10/dist-packages (from matplotlib->roboflow) (23.2)\n",
            "Requirement already satisfied: charset-normalizer<4,>=2 in /usr/local/lib/python3.10/dist-packages (from requests->roboflow) (3.3.0)\n",
            "Requirement already satisfied: scipy<2.0.0,>=1.9.0 in /usr/local/lib/python3.10/dist-packages (from supervision->roboflow) (1.11.3)\n",
            "loading Roboflow workspace...\n",
            "loading Roboflow project...\n",
            "Dependency ultralytics==8.0.134 is required but found version=8.0.20, to fix: `pip install ultralytics==8.0.134`\n"
          ]
        },
        {
          "output_type": "stream",
          "name": "stderr",
          "text": [
            "Downloading Dataset Version Zip in Embryo-16 to yolov8:: 100%|██████████| 8087/8087 [00:00<00:00, 9257.51it/s]"
          ]
        },
        {
          "output_type": "stream",
          "name": "stdout",
          "text": [
            "\n"
          ]
        },
        {
          "output_type": "stream",
          "name": "stderr",
          "text": [
            "\n",
            "Extracting Dataset Version Zip to Embryo-16 in yolov8:: 100%|██████████| 1197/1197 [00:07<00:00, 151.08it/s]\n"
          ]
        }
      ]
    },
    {
      "cell_type": "code",
      "source": [
        "%cd /content"
      ],
      "metadata": {
        "id": "yAXlQ6nU1rX_",
        "colab": {
          "base_uri": "https://localhost:8080/"
        },
        "outputId": "640c4736-1c8a-48c6-bf33-0bd5a27c8b47"
      },
      "execution_count": null,
      "outputs": [
        {
          "output_type": "stream",
          "name": "stdout",
          "text": [
            "/content\n"
          ]
        }
      ]
    },
    {
      "cell_type": "code",
      "source": [
        "import os\n",
        "import csv\n",
        "\n",
        "D3_label_dir = '/content/drive/MyDrive/wcs2023/Hieu/D5/Data/Embryo-16/train/labels_old'\n",
        "new_D3_label_dir = '/content/drive/MyDrive/wcs2023/Hieu/D5/Data/Embryo-16/train/labels'\n",
        "Name_of_image = []\n",
        "count = 0\n",
        "\n",
        "for base, dir, files in sorted(os.walk(D3_label_dir)):\n",
        "  for dataFile in files:\n",
        "    f = open(os.path.join(D3_label_dir, dataFile), 'r')\n",
        "    info = f.read()\n",
        "    label = info[0]\n",
        "    print(label)\n",
        "    #print(info)\n",
        "\n",
        "    if label == '0':\n",
        "      print('True')\n",
        "    #   Name_of_image.append(dataFile)\n",
        "    #   count += 1\n",
        "    # with open('name.csv', 'w', newline='') as f:\n",
        "    #   writer = csv.writer(f)\n",
        "    #   writer.writerows(Name_of_image)\n",
        "      new_D3_label = open(os.path.join(new_D3_label_dir, dataFile), 'w')\n",
        "      new_D3_label.write('')\n",
        "    else:\n",
        "      print('False')\n",
        "      #print(info)\n",
        "      new_info = '0'+ info[1:]\n",
        "      print('new: ', new_info)\n",
        "      new_D3_label = open(os.path.join(new_D3_label_dir, dataFile), 'w')\n",
        "      new_D3_label.write(new_info)\n",
        "\n"
      ],
      "metadata": {
        "colab": {
          "base_uri": "https://localhost:8080/"
        },
        "id": "fv9THCrJSIfJ",
        "outputId": "23d19015-91f9-42ad-c910-0773f27d499d"
      },
      "execution_count": null,
      "outputs": [
        {
          "output_type": "stream",
          "name": "stdout",
          "text": [
            "1\n",
            "False\n",
            "new:  0 0.5052734375 0.4473828125 0.8968359374999999 0.8947265625\n",
            "1\n",
            "False\n",
            "new:  0 0.4947265625 0.5526171875 0.8968359374999999 0.8947265625\n",
            "1\n",
            "False\n",
            "new:  0 0.5052734375 0.5526171875 0.8968359374999999 0.8947265625\n",
            "1\n",
            "False\n",
            "new:  0 0.46976562499999996 0.5168359375 0.8122265625 0.952421875\n",
            "1\n",
            "False\n",
            "new:  0 0.530234375 0.4831640625 0.8122265625 0.952421875\n",
            "1\n",
            "False\n",
            "new:  0 0.530234375 0.5168359375 0.8122265625 0.952421875\n",
            "0\n",
            "True\n",
            "0\n",
            "True\n",
            "0\n",
            "True\n",
            "0\n",
            "True\n",
            "1\n",
            "False\n",
            "new:  0 0.5189453125 0.5144140625 0.772265625 0.7718750000000001\n",
            "1\n",
            "False\n",
            "new:  0 0.5189453125 0.4855859375 0.772265625 0.7718750000000001\n",
            "0\n",
            "True\n",
            "0\n",
            "True\n",
            "0\n",
            "True\n",
            "0\n",
            "True\n",
            "0\n",
            "True\n",
            "0\n",
            "True\n",
            "0\n",
            "True\n",
            "0\n",
            "True\n",
            "0\n",
            "True\n",
            "0\n",
            "True\n",
            "0\n",
            "True\n",
            "0\n",
            "True\n",
            "0\n",
            "True\n",
            "0\n",
            "True\n",
            "0\n",
            "True\n",
            "0\n",
            "True\n",
            "1\n",
            "False\n",
            "new:  0 0.512890625 0.5265625 0.8469140625 0.796171875\n",
            "0\n",
            "True\n",
            "1\n",
            "False\n",
            "new:  0 0.48710937499999996 0.5265625 0.8469140625 0.796171875\n",
            "0\n",
            "True\n",
            "0\n",
            "True\n",
            "0\n",
            "True\n",
            "0\n",
            "True\n",
            "0\n",
            "True\n",
            "1\n",
            "False\n",
            "new:  0 0.50765625 0.5085546875 0.8885937499999998 0.8773437500000001\n",
            "1\n",
            "False\n",
            "new:  0 0.49234374999999997 0.5085546875 0.8885937499999998 0.8773437500000001\n",
            "1\n",
            "False\n",
            "new:  0 0.510703125 0.5044140625 0.920703125 0.916796875\n",
            "1\n",
            "False\n",
            "new:  0 0.48929687499999996 0.4955859375 0.920703125 0.916796875\n",
            "0\n",
            "True\n",
            "0\n",
            "True\n",
            "0\n",
            "True\n",
            "1\n",
            "False\n",
            "new:  0 0.501484375 0.515390625 0.9410937499999998 0.9691796875\n",
            "0\n",
            "True\n",
            "1\n",
            "False\n",
            "new:  0 0.498515625 0.515390625 0.9410937499999998 0.9691796875\n",
            "1\n",
            "False\n",
            "new:  0 0.5055078125 0.5022265625 0.9450000000000001 0.921171875\n",
            "1\n",
            "False\n",
            "new:  0 0.501484375 0.484609375 0.9410937499999998 0.9691796875\n",
            "0\n",
            "True\n",
            "0\n",
            "True\n",
            "1\n",
            "False\n",
            "new:  0 0.4944921875 0.4977734375 0.9450000000000001 0.921171875\n",
            "0\n",
            "True\n",
            "1\n",
            "False\n",
            "new:  0 0.51875 0.539296875 0.8976953125 0.92140625\n",
            "1\n",
            "False\n",
            "new:  0 0.48124999999999996 0.460703125 0.8976953125 0.92140625\n",
            "0\n",
            "True\n",
            "0\n",
            "True\n",
            "1\n",
            "False\n",
            "new:  0 0.49703125 0.5289843750000001 0.8890234375 0.841328125\n",
            "1\n",
            "False\n",
            "new:  0 0.49703125 0.47101562499999994 0.8890234375 0.841328125\n",
            "0\n",
            "True\n",
            "0\n",
            "True\n",
            "0\n",
            "True\n",
            "0\n",
            "True\n",
            "0\n",
            "True\n",
            "0\n",
            "True\n",
            "0\n",
            "True\n",
            "0\n",
            "True\n",
            "0\n",
            "True\n",
            "0\n",
            "True\n",
            "0\n",
            "True\n",
            "0\n",
            "True\n",
            "0\n",
            "True\n",
            "0\n",
            "True\n",
            "0\n",
            "True\n",
            "0\n",
            "True\n",
            "0\n",
            "True\n",
            "0\n",
            "True\n",
            "0\n",
            "True\n",
            "0\n",
            "True\n",
            "0\n",
            "True\n",
            "0\n",
            "True\n",
            "0\n",
            "True\n",
            "0\n",
            "True\n",
            "0\n",
            "True\n",
            "0\n",
            "True\n",
            "0\n",
            "True\n",
            "1\n",
            "False\n",
            "new:  0 0.49691406250000003 0.5265625 0.9030859375 0.9003125000000001\n",
            "1\n",
            "False\n",
            "new:  0 0.5150390625 0.52953125 0.8946875000000001 0.9409375\n",
            "1\n",
            "False\n",
            "new:  0 0.49691406250000003 0.47343749999999996 0.9030859375 0.9003125000000001\n",
            "1\n",
            "False\n",
            "new:  0 0.4849609375 0.47046875 0.8946875000000001 0.9409375\n",
            "1\n",
            "False\n",
            "new:  0 0.505078125 0.50296875 0.9181249999999999 0.9280859375000001\n",
            "1\n",
            "False\n",
            "new:  0 0.505078125 0.49703125 0.9181249999999999 0.9280859375\n",
            "0\n",
            "True\n",
            "0\n",
            "True\n",
            "0\n",
            "True\n",
            "0\n",
            "True\n",
            "0\n",
            "True\n",
            "0\n",
            "True\n",
            "0\n",
            "True\n",
            "0\n",
            "True\n",
            "0\n",
            "True\n",
            "0\n",
            "True\n",
            "0\n",
            "True\n",
            "1\n",
            "False\n",
            "new:  0 0.5141796875 0.50703125 0.8929296875000001 0.9046484375000001\n",
            "1\n",
            "False\n",
            "new:  0 0.4847265625 0.498125 0.9081249999999998 0.9259375\n",
            "1\n",
            "False\n",
            "new:  0 0.5152734375 0.498125 0.9081249999999998 0.9259375\n",
            "0\n",
            "True\n",
            "0\n",
            "True\n",
            "0\n",
            "True\n",
            "0\n",
            "True\n",
            "0\n",
            "True\n",
            "0\n",
            "True\n",
            "0\n",
            "True\n",
            "0\n",
            "True\n",
            "0\n",
            "True\n",
            "1\n",
            "False\n",
            "new:  0 0.5130000000000001 0.493690036900369 0.8604999999999999 0.9213653136531366\n",
            "1\n",
            "False\n",
            "new:  0 0.4869999999999999 0.493690036900369 0.8604999999999999 0.9213653136531366\n",
            "1\n",
            "False\n",
            "new:  0 0.4971080139372822 0.5027402135231317 0.8829965156794426 0.8889679715302492\n",
            "1\n",
            "False\n",
            "new:  0 0.4971080139372822 0.4972597864768683 0.8829965156794426 0.8889679715302492\n",
            "1\n",
            "False\n",
            "new:  0 0.4869999999999999 0.506309963099631 0.8604999999999999 0.9213653136531366\n",
            "0\n",
            "True\n",
            "1\n",
            "False\n",
            "new:  0 0.5028919860627178 0.5027402135231317 0.8829965156794426 0.8889679715302492\n",
            "0\n",
            "True\n",
            "1\n",
            "False\n",
            "new:  0 0.56640625 0.3929296875 0.8671875 0.785859375\n",
            "1\n",
            "False\n",
            "new:  0 0.43359375 0.6070703125 0.8671875 0.785859375\n",
            "0\n",
            "True\n",
            "0\n",
            "True\n",
            "0\n",
            "True\n",
            "0\n",
            "True\n",
            "0\n",
            "True\n",
            "0\n",
            "True\n",
            "0\n",
            "True\n",
            "0\n",
            "True\n",
            "0\n",
            "True\n",
            "0\n",
            "True\n",
            "1\n",
            "False\n",
            "new:  0 0.49320312499999996 0.4777734375 0.9042187500000001 0.874296875\n",
            "1\n",
            "False\n",
            "new:  0 0.506796875 0.5222265625 0.9042187500000001 0.874296875\n",
            "0\n",
            "True\n",
            "0\n",
            "True\n",
            "0\n",
            "True\n",
            "0\n",
            "True\n",
            "0\n",
            "True\n",
            "0\n",
            "True\n",
            "1\n",
            "False\n",
            "new:  0 0.4877734375 0.4682421875 0.9107421874999999 0.9107421874999999\n",
            "1\n",
            "False\n",
            "new:  0 0.5122265625 0.5317578125 0.9107421874999999 0.9107421874999999\n",
            "1\n",
            "False\n",
            "new:  0 0.5137220843672456 0.476105527638191 0.9002233250620348 0.896507537688442\n",
            "0\n",
            "True\n",
            "1\n",
            "False\n",
            "new:  0 0.48627791563275435 0.476105527638191 0.9002233250620348 0.896507537688442\n",
            "1\n",
            "False\n",
            "new:  0 0.48627791563275435 0.523894472361809 0.9002233250620348 0.896507537688442\n",
            "0\n",
            "True\n",
            "0\n",
            "True\n",
            "0\n",
            "True\n",
            "0\n",
            "True\n",
            "0\n",
            "True\n",
            "0\n",
            "True\n",
            "0\n",
            "True\n",
            "0\n",
            "True\n",
            "0\n",
            "True\n",
            "0\n",
            "True\n",
            "0\n",
            "True\n",
            "0\n",
            "True\n",
            "1\n",
            "False\n",
            "new:  0 0.49224137931034484 0.5308313539192399 0.9164039408866995 0.901021377672209\n",
            "0\n",
            "True\n",
            "1\n",
            "False\n",
            "new:  0 0.5077586206896552 0.5308313539192399 0.9164039408866995 0.901021377672209\n",
            "0\n",
            "True\n",
            "0\n",
            "True\n",
            "0\n",
            "True\n",
            "1\n",
            "False\n",
            "new:  0 0.50265625 0.5005078125 0.9263671874999999 0.9523828125\n",
            "1\n",
            "False\n",
            "new:  0 0.49734375 0.5005078125 0.9263671874999999 0.9523828125\n",
            "1\n",
            "False\n",
            "new:  0 0.491484375 0.49906249999999996 0.9250390625 0.8925000000000001\n",
            "1\n",
            "False\n",
            "new:  0 0.508515625 0.5009375 0.9250390625 0.8925000000000001\n",
            "0\n",
            "True\n",
            "0\n",
            "True\n",
            "1\n",
            "False\n",
            "new:  0 0.48234374999999996 0.4953125 0.9172265625 0.9419921875\n",
            "1\n",
            "False\n",
            "new:  0 0.48234374999999996 0.5046875 0.9172265625 0.9419921874999999\n",
            "1\n",
            "False\n",
            "new:  0 0.51765625 0.4953125 0.9172265625 0.9419921875\n",
            "0\n",
            "True\n",
            "0\n",
            "True\n",
            "1\n",
            "False\n",
            "new:  0 0.60546875 0.5515625 0.7890625 0.8968750000000001\n",
            "1\n",
            "False\n",
            "new:  0 0.60546875 0.4484375 0.7890625 0.896875\n",
            "1\n",
            "False\n",
            "new:  0 0.595703125 0.4614453125 0.80859375 0.922890625\n",
            "1\n",
            "False\n",
            "new:  0 0.595703125 0.5385546875 0.80859375 0.922890625\n",
            "0\n",
            "True\n",
            "0\n",
            "True\n",
            "0\n",
            "True\n",
            "1\n",
            "False\n",
            "new:  0 0.5104268292682926 0.4639473684210526 0.8980792682926829 0.8825986842105263\n",
            "1\n",
            "False\n",
            "new:  0 0.5104268292682926 0.5360526315789474 0.8980792682926829 0.8825986842105263\n",
            "1\n",
            "False\n",
            "new:  0 0.48957317073170736 0.5360526315789474 0.8980792682926829 0.8825986842105263\n",
            "0\n",
            "True\n",
            "0\n",
            "True\n",
            "1\n",
            "False\n",
            "new:  0 0.50765625 0.5044531250000001 0.9059375000000001 0.8166015625\n",
            "1\n",
            "False\n",
            "new:  0 0.49234374999999997 0.5044531250000001 0.9059375000000001 0.8166015625\n",
            "1\n",
            "False\n",
            "new:  0 0.50765625 0.49554687499999994 0.9059375000000001 0.8166015625\n",
            "1\n",
            "False\n",
            "new:  0 0.49484375 0.4966015625 0.9107421874999999 0.8317578125\n",
            "1\n",
            "False\n",
            "new:  0 0.49484375 0.5033984375 0.9107421874999999 0.8317578125\n",
            "0\n",
            "True\n",
            "0\n",
            "True\n",
            "0\n",
            "True\n",
            "0\n",
            "True\n",
            "0\n",
            "True\n",
            "0\n",
            "True\n",
            "0\n",
            "True\n",
            "0\n",
            "True\n",
            "0\n",
            "True\n",
            "0\n",
            "True\n",
            "0\n",
            "True\n",
            "0\n",
            "True\n",
            "0\n",
            "True\n",
            "0\n",
            "True\n",
            "0\n",
            "True\n",
            "0\n",
            "True\n",
            "0\n",
            "True\n",
            "0\n",
            "True\n",
            "0\n",
            "True\n",
            "0\n",
            "True\n",
            "0\n",
            "True\n",
            "1\n",
            "False\n",
            "new:  0 0.4985546875 0.493359375 0.8616796875000001 0.83828125\n",
            "1\n",
            "False\n",
            "new:  0 0.4985546875 0.506640625 0.8616796875000001 0.8382812500000001\n",
            "0\n",
            "True\n",
            "0\n",
            "True\n",
            "0\n",
            "True\n",
            "1\n",
            "False\n",
            "new:  0 0.515625 0.513671875 0.84375 0.97265625\n",
            "1\n",
            "False\n",
            "new:  0 0.484375 0.513671875 0.84375 0.97265625\n",
            "1\n",
            "False\n",
            "new:  0 0.5036328125 0.48882812499999995 0.7966015625 0.7957421875000001\n",
            "1\n",
            "False\n",
            "new:  0 0.4963671875 0.511171875 0.7966015625 0.7957421875000001\n",
            "1\n",
            "False\n",
            "new:  0 0.4963671875 0.48882812499999995 0.7966015625 0.7957421875000001\n",
            "0\n",
            "True\n",
            "0\n",
            "True\n",
            "0\n",
            "True\n",
            "1\n",
            "False\n",
            "new:  0 0.4966015625 0.77625 0.6191015625 0.4475\n",
            "1\n",
            "False\n",
            "new:  0 0.4966015625 0.22375 0.6191015625 0.4475\n",
            "0\n",
            "True\n",
            "0\n",
            "True\n",
            "0\n",
            "True\n",
            "0\n",
            "True\n",
            "0\n",
            "True\n",
            "0\n",
            "True\n",
            "0\n",
            "True\n",
            "0\n",
            "True\n",
            "0\n",
            "True\n",
            "0\n",
            "True\n",
            "0\n",
            "True\n",
            "0\n",
            "True\n",
            "0\n",
            "True\n",
            "0\n",
            "True\n",
            "0\n",
            "True\n",
            "0\n",
            "True\n",
            "0\n",
            "True\n",
            "0\n",
            "True\n",
            "0\n",
            "True\n",
            "0\n",
            "True\n",
            "0\n",
            "True\n",
            "1\n",
            "False\n",
            "new:  0 0.5189453125 0.4612890625 0.8591015625 0.8031249999999999\n",
            "1\n",
            "False\n",
            "new:  0 0.4810546875 0.5387109375 0.8591015625 0.8031249999999999\n",
            "0\n",
            "True\n",
            "1\n",
            "False\n",
            "new:  0 0.5189453125 0.5387109375 0.8591015625 0.8031249999999999\n",
            "0\n",
            "True\n",
            "0\n",
            "True\n",
            "0\n",
            "True\n",
            "0\n",
            "True\n",
            "0\n",
            "True\n",
            "0\n",
            "True\n",
            "0\n",
            "True\n",
            "0\n",
            "True\n",
            "0\n",
            "True\n",
            "0\n",
            "True\n",
            "0\n",
            "True\n",
            "0\n",
            "True\n",
            "1\n",
            "False\n",
            "new:  0 0.5040625000000001 0.4699609375 0.856484375 0.7337109375000002\n",
            "1\n",
            "False\n",
            "new:  0 0.4959374999999999 0.4699609375 0.856484375 0.7337109375000002\n",
            "0\n",
            "True\n",
            "1\n",
            "False\n",
            "new:  0 0.4959374999999999 0.5300390625 0.856484375 0.7337109375000002\n",
            "1\n",
            "False\n",
            "new:  0 0.5198046875 0.502890625 0.8608203125 0.8399999999999999\n",
            "1\n",
            "False\n",
            "new:  0 0.4801953125 0.49710937499999996 0.8608203125 0.8399999999999999\n",
            "1\n",
            "False\n",
            "new:  0 0.496171875 0.49320312499999996 0.8873046875 0.9259374999999999\n",
            "0\n",
            "True\n",
            "0\n",
            "True\n",
            "1\n",
            "False\n",
            "new:  0 0.496171875 0.506796875 0.8873046875 0.9259374999999999\n",
            "1\n",
            "False\n",
            "new:  0 0.4996484375 0.5194531250000001 0.9289453125 0.9610937499999999\n",
            "1\n",
            "False\n",
            "new:  0 0.4996484375 0.480546875 0.9289453125 0.96109375\n",
            "1\n",
            "False\n",
            "new:  0 0.5003515625 0.5194531250000001 0.9289453125 0.9610937499999999\n",
            "0\n",
            "True\n",
            "0\n",
            "True\n",
            "0\n",
            "True\n",
            "0\n",
            "True\n",
            "0\n",
            "True\n",
            "0\n",
            "True\n",
            "0\n",
            "True\n",
            "0\n",
            "True\n",
            "0\n",
            "True\n",
            "0\n",
            "True\n",
            "1\n",
            "False\n",
            "new:  0 0.489453125 0.5166015625 0.8521484375 0.7675390625\n",
            "1\n",
            "False\n",
            "new:  0 0.489453125 0.4833984375 0.8521484375 0.7675390625\n",
            "1\n",
            "False\n",
            "new:  0 0.522421875 0.51203125 0.848671875 0.7975000000000001\n",
            "1\n",
            "False\n",
            "new:  0 0.47757812499999996 0.48796874999999995 0.848671875 0.7975000000000001\n",
            "1\n",
            "False\n",
            "new:  0 0.5119921875 0.5073046875 0.8451953125 0.8326562499999999\n",
            "1\n",
            "False\n",
            "new:  0 0.5119921875 0.4926953125 0.8451953125 0.8326562499999999\n",
            "1\n",
            "False\n",
            "new:  0 0.506875 0.47929687499999996 0.907265625 0.8669140625\n",
            "1\n",
            "False\n",
            "new:  0 0.49312500000000004 0.520703125 0.907265625 0.8669140625\n",
            "1\n",
            "False\n",
            "new:  0 0.48453124999999997 0.503984375 0.817421875 0.7857812500000001\n",
            "1\n",
            "False\n",
            "new:  0 0.51546875 0.503984375 0.817421875 0.7857812500000001\n",
            "0\n",
            "True\n",
            "0\n",
            "True\n",
            "1\n",
            "False\n",
            "new:  0 0.5036328125 0.4810546875 0.9007421875000001 0.9328515625\n",
            "1\n",
            "False\n",
            "new:  0 0.4963671875 0.5189453125 0.9007421875000001 0.9328515625\n",
            "1\n",
            "False\n",
            "new:  0 0.54921875 0.5050390625000001 0.897734375 0.8604296874999999\n",
            "1\n",
            "False\n",
            "new:  0 0.51078125 0.5152734375 0.8907812499999999 0.9124609374999999\n",
            "1\n",
            "False\n",
            "new:  0 0.45078125 0.4949609375 0.897734375 0.8604296875\n",
            "1\n",
            "False\n",
            "new:  0 0.51078125 0.4847265625 0.8907812499999999 0.9124609374999999\n",
            "1\n",
            "False\n",
            "new:  0 0.48921875 0.5152734375 0.89078125 0.9124609374999999\n",
            "1\n",
            "False\n",
            "new:  0 0.487578125 0.503125 0.889453125 0.940234375\n",
            "1\n",
            "False\n",
            "new:  0 0.512421875 0.503125 0.889453125 0.940234375\n",
            "0\n",
            "True\n",
            "0\n",
            "True\n",
            "0\n",
            "True\n",
            "0\n",
            "True\n",
            "0\n",
            "True\n",
            "0\n",
            "True\n",
            "0\n",
            "True\n",
            "0\n",
            "True\n",
            "0\n",
            "True\n",
            "0\n",
            "True\n",
            "1\n",
            "False\n",
            "new:  0 0.4927734375 0.5111328125 0.8616796874999999 0.8998828125\n",
            "1\n",
            "False\n",
            "new:  0 0.5072265625 0.5111328125 0.8616796874999999 0.8998828125\n",
            "0\n",
            "True\n",
            "1\n",
            "False\n",
            "new:  0 0.4927734375 0.4888671875 0.8616796874999999 0.8998828125\n",
            "0\n",
            "True\n",
            "0\n",
            "True\n",
            "0\n",
            "True\n",
            "0\n",
            "True\n",
            "0\n",
            "True\n",
            "0\n",
            "True\n",
            "0\n",
            "True\n",
            "1\n",
            "False\n",
            "new:  0 0.4968359375 0.50890625 0.8929296875000001 0.9415625000000001\n",
            "1\n",
            "False\n",
            "new:  0 0.4968359375 0.49109375 0.8929296875000001 0.9415625000000001\n",
            "1\n",
            "False\n",
            "new:  0 0.5031640625 0.49109375 0.8929296875000001 0.9415625000000001\n",
            "0\n",
            "True\n",
            "0\n",
            "True\n",
            "0\n",
            "True\n",
            "0\n",
            "True\n",
            "0\n",
            "True\n",
            "0\n",
            "True\n",
            "0\n",
            "True\n",
            "0\n",
            "True\n",
            "0\n",
            "True\n",
            "0\n",
            "True\n",
            "0\n",
            "True\n",
            "0\n",
            "True\n",
            "0\n",
            "True\n",
            "0\n",
            "True\n",
            "0\n",
            "True\n",
            "0\n",
            "True\n",
            "0\n",
            "True\n",
            "0\n",
            "True\n",
            "0\n",
            "True\n",
            "0\n",
            "True\n",
            "0\n",
            "True\n",
            "0\n",
            "True\n",
            "0\n",
            "True\n",
            "1\n",
            "False\n",
            "new:  0 0.5178515625 0.524375 0.8786328125 0.852578125\n",
            "1\n",
            "False\n",
            "new:  0 0.4821484375 0.47562499999999996 0.8786328125 0.852578125\n",
            "1\n",
            "False\n",
            "new:  0 0.4966796875 0.53609375 0.8451953125 0.8673437499999999\n",
            "1\n",
            "False\n",
            "new:  0 0.5033203125 0.53609375 0.8451953125 0.8673437499999999\n",
            "1\n",
            "False\n",
            "new:  0 0.44769531250000005 0.5213671875 0.8953906250000001 0.7857812500000001\n",
            "0\n",
            "True\n",
            "1\n",
            "False\n",
            "new:  0 0.5523046875 0.5213671875 0.8953906250000001 0.7857812500000001\n",
            "0\n",
            "True\n",
            "1\n",
            "False\n",
            "new:  0 0.48648437499999997 0.5367578125 0.869921875 0.9250390625\n",
            "1\n",
            "False\n",
            "new:  0 0.513515625 0.5367578125 0.869921875 0.9250390625\n",
            "0\n",
            "True\n",
            "0\n",
            "True\n",
            "0\n",
            "True\n",
            "0\n",
            "True\n",
            "0\n",
            "True\n",
            "0\n",
            "True\n",
            "0\n",
            "True\n",
            "0\n",
            "True\n",
            "0\n",
            "True\n",
            "0\n",
            "True\n",
            "1\n",
            "False\n",
            "new:  0 0.505859375 0.630859375 0.81640625 0.73828125\n",
            "1\n",
            "False\n",
            "new:  0 0.494140625 0.630859375 0.81640625 0.73828125\n",
            "1\n",
            "False\n",
            "new:  0 0.494140625 0.369140625 0.81640625 0.73828125\n",
            "0\n",
            "True\n",
            "0\n",
            "True\n",
            "0\n",
            "True\n",
            "0\n",
            "True\n",
            "0\n",
            "True\n",
            "0\n",
            "True\n",
            "1\n",
            "False\n",
            "new:  0 0.4740234375 0.45203125 0.8517187500000001 0.9040625\n",
            "1\n",
            "False\n",
            "new:  0 0.4740234375 0.54796875 0.8517187500000001 0.9040625\n",
            "0\n",
            "True\n",
            "0\n",
            "True\n",
            "0\n",
            "True\n",
            "1\n",
            "False\n",
            "new:  0 0.500078125 0.5126953125 0.7996484374999999 0.7510546874999999\n",
            "1\n",
            "False\n",
            "new:  0 0.49992187499999996 0.4873046875 0.7996484374999999 0.7510546874999999\n",
            "1\n",
            "False\n",
            "new:  0 0.4992578125 0.5013671875 0.8747265625 0.8847265625\n",
            "1\n",
            "False\n",
            "new:  0 0.49992187499999996 0.5126953125 0.7996484374999999 0.7510546874999999\n",
            "1\n",
            "False\n",
            "new:  0 0.4992578125 0.4986328125 0.8747265625 0.8847265625\n",
            "1\n",
            "False\n",
            "new:  0 0.5007421875 0.5013671875 0.8747265625 0.8847265625\n",
            "0\n",
            "True\n",
            "0\n",
            "True\n",
            "0\n",
            "True\n",
            "0\n",
            "True\n",
            "0\n",
            "True\n",
            "1\n",
            "False\n",
            "new:  0 0.4926953125 0.405390625 0.7762109375000001 0.81078125\n",
            "0\n",
            "True\n",
            "1\n",
            "False\n",
            "new:  0 0.4926953125 0.594609375 0.7762109375000001 0.81078125\n",
            "0\n",
            "True\n",
            "0\n",
            "True\n",
            "0\n",
            "True\n",
            "0\n",
            "True\n",
            "0\n",
            "True\n",
            "0\n",
            "True\n",
            "1\n",
            "False\n",
            "new:  0 0.4940989399293287 0.4740350877192982 0.9387632508833923 0.8887368421052633\n",
            "1\n",
            "False\n",
            "new:  0 0.4940989399293287 0.5259649122807017 0.9387632508833923 0.8887368421052633\n",
            "0\n",
            "True\n",
            "0\n",
            "True\n",
            "0\n",
            "True\n",
            "0\n",
            "True\n",
            "0\n",
            "True\n",
            "0\n",
            "True\n",
            "1\n",
            "False\n",
            "new:  0 0.4715625 0.501015625 0.943125 0.9276562500000001\n",
            "1\n",
            "False\n",
            "new:  0 0.5284375 0.498984375 0.943125 0.92765625\n",
            "1\n",
            "False\n",
            "new:  0 0.4994921875 0.4994921875 0.8786328125 0.9003125000000001\n",
            "1\n",
            "False\n",
            "new:  0 0.5005078125 0.5005078125 0.8786328125 0.9003125000000001\n",
            "0\n",
            "True\n",
            "0\n",
            "True\n",
            "1\n",
            "False\n",
            "new:  0 0.4913370473537604 0.5072853185595567 0.8121448467966572 0.7813850415512463\n",
            "1\n",
            "False\n",
            "new:  0 0.5086629526462396 0.4927146814404432 0.8121448467966572 0.7813850415512463\n",
            "1\n",
            "False\n",
            "new:  0 0.4953766233766233 0.49313829787234037 0.9347792207792207 0.98625\n",
            "1\n",
            "False\n",
            "new:  0 0.4913370473537604 0.4927146814404432 0.8121448467966572 0.7813850415512463\n",
            "1\n",
            "False\n",
            "new:  0 0.5046233766233768 0.49313829787234037 0.9347792207792207 0.98625\n",
            "1\n",
            "False\n",
            "new:  0 0.5046233766233768 0.5068617021276596 0.9347792207792207 0.98625\n",
            "1\n",
            "False\n",
            "new:  0 0.505078125 0.5055468750000001 0.9354687500000001 0.922890625\n",
            "1\n",
            "False\n",
            "new:  0 0.505078125 0.49445312499999994 0.9354687500000001 0.922890625\n",
            "0\n",
            "True\n",
            "0\n",
            "True\n",
            "0\n",
            "True\n",
            "0\n",
            "True\n",
            "0\n",
            "True\n",
            "0\n",
            "True\n",
            "0\n",
            "True\n",
            "0\n",
            "True\n",
            "0\n",
            "True\n",
            "0\n",
            "True\n",
            "0\n",
            "True\n",
            "0\n",
            "True\n",
            "0\n",
            "True\n",
            "1\n",
            "False\n",
            "new:  0 0.47843749999999996 0.5267578125 0.9510937499999998 0.8790625000000001\n",
            "1\n",
            "False\n",
            "new:  0 0.5215625 0.5267578125 0.9510937499999998 0.8790625000000001\n",
            "0\n",
            "True\n",
            "0\n",
            "True\n",
            "0\n",
            "True\n",
            "0\n",
            "True\n",
            "0\n",
            "True\n",
            "0\n",
            "True\n",
            "0\n",
            "True\n",
            "0\n",
            "True\n",
            "0\n",
            "True\n",
            "1\n",
            "False\n",
            "new:  0 0.48140625000000004 0.50828125 0.767578125 0.7755859375\n",
            "1\n",
            "False\n",
            "new:  0 0.51859375 0.49171875 0.767578125 0.7755859375\n",
            "1\n",
            "False\n",
            "new:  0 0.48140625000000004 0.49171875 0.767578125 0.7755859375\n",
            "0\n",
            "True\n",
            "0\n",
            "True\n",
            "1\n",
            "False\n",
            "new:  0 0.4756369426751593 0.5231699346405229 0.91328025477707 0.92781045751634\n",
            "1\n",
            "False\n",
            "new:  0 0.5243630573248407 0.5231699346405229 0.91328025477707 0.92781045751634\n",
            "0\n",
            "True\n",
            "1\n",
            "False\n",
            "new:  0 0.539296875 0.5289453125 0.92140625 0.8747265625\n",
            "0\n",
            "True\n",
            "1\n",
            "False\n",
            "new:  0 0.5041796875 0.5035546875 0.9510937500000001 0.932421875\n",
            "0\n",
            "True\n",
            "0\n",
            "True\n",
            "0\n",
            "True\n",
            "0\n",
            "True\n",
            "0\n",
            "True\n",
            "0\n",
            "True\n",
            "0\n",
            "True\n",
            "0\n",
            "True\n",
            "0\n",
            "True\n",
            "1\n",
            "False\n",
            "new:  0 0.535 0.4501953125 0.8130859375000001 0.9003515625\n",
            "0\n",
            "True\n",
            "1\n",
            "False\n",
            "new:  0 0.46499999999999997 0.5498046875 0.8130859375000001 0.9003515625\n",
            "1\n",
            "False\n",
            "new:  0 0.46499999999999997 0.4501953125 0.8130859375000001 0.9003515625\n",
            "1\n",
            "False\n",
            "new:  0 0.466796875 0.462890625 0.93359375 0.92578125\n",
            "1\n",
            "False\n",
            "new:  0 0.533203125 0.462890625 0.93359375 0.92578125\n",
            "1\n",
            "False\n",
            "new:  0 0.500078125 0.5003125 0.8690624999999998 0.8695312499999999\n",
            "1\n",
            "False\n",
            "new:  0 0.500078125 0.49968749999999995 0.8690624999999998 0.8695312499999999\n",
            "1\n",
            "False\n",
            "new:  0 0.47699218750000005 0.4879296875 0.9539843750000001 0.9185546875000001\n",
            "1\n",
            "False\n",
            "new:  0 0.5230078125 0.4879296875 0.9539843750000001 0.9185546875000001\n",
            "1\n",
            "False\n",
            "new:  0 0.47808593749999995 0.520078125 0.9561718749999999 0.9315625000000001\n",
            "1\n",
            "False\n",
            "new:  0 0.47699218750000005 0.5120703125 0.9539843750000001 0.9185546875000001\n",
            "1\n",
            "False\n",
            "new:  0 0.5219140625 0.479921875 0.9561718749999999 0.9315625\n",
            "1\n",
            "False\n",
            "new:  0 0.594609375 0.5414453125 0.81078125 0.9171093749999999\n",
            "1\n",
            "False\n",
            "new:  0 0.405390625 0.45855468749999995 0.81078125 0.9171093749999999\n",
            "1\n",
            "False\n",
            "new:  0 0.4885546875 0.4830078125 0.9719140625 0.9159374999999998\n",
            "1\n",
            "False\n",
            "new:  0 0.5114453125 0.5169921875 0.9719140625 0.9159374999999998\n",
            "1\n",
            "False\n",
            "new:  0 0.552734375 0.46875 0.89453125 0.9296875\n",
            "1\n",
            "False\n",
            "new:  0 0.552734375 0.53125 0.89453125 0.9296875\n",
            "1\n",
            "False\n",
            "new:  0 0.4885546875 0.5169921875 0.9719140625 0.9159374999999998\n",
            "1\n",
            "False\n",
            "new:  0 0.5045608108108108 0.47954861111111113 0.9139527027027026 0.9228819444444443\n",
            "1\n",
            "False\n",
            "new:  0 0.4954391891891891 0.5204513888888889 0.9139527027027026 0.9228819444444443\n",
            "1\n",
            "False\n",
            "new:  0 0.49906249999999996 0.46695312499999997 0.922890625 0.8873046875000001\n",
            "1\n",
            "False\n",
            "new:  0 0.5045608108108108 0.5204513888888889 0.9139527027027026 0.9228819444444443\n",
            "1\n",
            "False\n",
            "new:  0 0.447265625 0.46875 0.89453125 0.9296875\n",
            "1\n",
            "False\n",
            "new:  0 0.49906249999999996 0.533046875 0.922890625 0.8873046875000001\n",
            "0\n",
            "True\n",
            "0\n",
            "True\n",
            "1\n",
            "False\n",
            "new:  0 0.5009375 0.533046875 0.922890625 0.8873046875000001\n",
            "0\n",
            "True\n",
            "0\n",
            "True\n",
            "0\n",
            "True\n",
            "0\n",
            "True\n",
            "0\n",
            "True\n",
            "0\n",
            "True\n",
            "0\n",
            "True\n",
            "0\n",
            "True\n",
            "0\n",
            "True\n",
            "0\n",
            "True\n",
            "0\n",
            "True\n",
            "1\n",
            "False\n",
            "new:  0 0.47 0.49859374999999995 0.9029296874999999 0.8500000000000001\n",
            "1\n",
            "False\n",
            "new:  0 0.53 0.50140625 0.9029296874999999 0.8500000000000001\n",
            "0\n",
            "True\n",
            "0\n",
            "True\n",
            "0\n",
            "True\n",
            "0\n",
            "True\n",
            "0\n",
            "True\n",
            "1\n",
            "False\n",
            "new:  0 0.4953900709219858 0.4795501730103806 0.9378368794326242 0.9019723183391004\n",
            "0\n",
            "True\n",
            "1\n",
            "False\n",
            "new:  0 0.5046099290780143 0.4795501730103806 0.9378368794326242 0.9019723183391004\n",
            "1\n",
            "False\n",
            "new:  0 0.48957792207792206 0.48951724137931035 0.8860714285714286 0.9178275862068966\n",
            "1\n",
            "False\n",
            "new:  0 0.5104220779220779 0.48951724137931035 0.8860714285714286 0.9178275862068966\n",
            "1\n",
            "False\n",
            "new:  0 0.5046099290780143 0.5204498269896194 0.9378368794326242 0.9019723183391004\n",
            "1\n",
            "False\n",
            "new:  0 0.505 0.49200668896321076 0.9106711409395973 0.9392976588628763\n",
            "1\n",
            "False\n",
            "new:  0 0.505 0.5079933110367892 0.9106711409395973 0.9392976588628763\n",
            "1\n",
            "False\n",
            "new:  0 0.4897265625 0.4974609375 0.9458984374999999 0.9202734374999999\n",
            "1\n",
            "False\n",
            "new:  0 0.5102734375 0.4974609375 0.9458984374999999 0.9202734374999999\n",
            "1\n",
            "False\n",
            "new:  0 0.5102734375 0.5025390625 0.9458984374999999 0.9202734374999999\n",
            "0\n",
            "True\n",
            "0\n",
            "True\n",
            "0\n",
            "True\n",
            "0\n",
            "True\n",
            "0\n",
            "True\n",
            "0\n",
            "True\n",
            "0\n",
            "True\n",
            "1\n",
            "False\n",
            "new:  0 0.46859375000000003 0.5152734375 0.897265625 0.9298437500000001\n",
            "0\n",
            "True\n",
            "1\n",
            "False\n",
            "new:  0 0.46859375000000003 0.4847265625 0.897265625 0.9298437500000001\n",
            "0\n",
            "True\n",
            "1\n",
            "False\n",
            "new:  0 0.53140625 0.5152734375 0.897265625 0.9298437500000001\n",
            "0\n",
            "True\n",
            "0\n",
            "True\n",
            "0\n",
            "True\n",
            "1\n",
            "False\n",
            "new:  0 0.5033203125 0.49687499999999996 0.9493750000000001 0.9576171874999999\n",
            "0\n",
            "True\n",
            "1\n",
            "False\n",
            "new:  0 0.5033203125 0.503125 0.9493750000000001 0.9576171874999999\n",
            "0\n",
            "True\n",
            "0\n",
            "True\n",
            "0\n",
            "True\n",
            "1\n",
            "False\n",
            "new:  0 0.4966796875 0.49687499999999996 0.9493750000000001 0.9576171874999999\n",
            "0\n",
            "True\n",
            "0\n",
            "True\n",
            "0\n",
            "True\n",
            "0\n",
            "True\n",
            "0\n",
            "True\n",
            "0\n",
            "True\n",
            "0\n",
            "True\n",
            "0\n",
            "True\n"
          ]
        }
      ]
    },
    {
      "cell_type": "code",
      "source": [
        "import os\n",
        "import csv\n",
        "import random\n",
        "\n",
        "def random_1_or_0():\n",
        "    return random.choice([0, 1])\n",
        "\n",
        "D3_label_dir = '/content/drive/MyDrive/wcs2023/Hieu/D3/Data/Embryo-15/train/labels'\n",
        "new_D3_label_dir = '/content/drive/MyDrive/wcs2023/Hieu/D5/train/labels'\n",
        "\n",
        "for base, dir, files in sorted(os.walk(D3_label_dir)):\n",
        "  for dataFile in files:\n",
        "    # f = open(os.path.join(D3_label_dir, dataFile), 'r')\n",
        "    # info = f.read()\n",
        "    # label = info[0]\n",
        "    # print(info)\n",
        "    if dataFile not in Name_of_image and len(os.listdir(D3_label_dir)) > 150:\n",
        "      if random_1_or_0() == 1:\n",
        "        os.remove(os.path.join(D3_label_dir, dataFile))\n",
        "    else:\n",
        "      print(len(os.listdir(D3_label_dir)))\n",
        "\n",
        "    # if label == '1':\n",
        "    #   Name_of_image.append(dataFile)\n",
        "    #   count += 1\n",
        "    # with open('name.csv', 'w', newline='') as f:\n",
        "    #   writer = csv.writer(f)\n",
        "    #   writer.writerows(Name_of_image)\n",
        "\n"
      ],
      "metadata": {
        "colab": {
          "base_uri": "https://localhost:8080/"
        },
        "id": "FrSZobRS4C2x",
        "outputId": "b6b1a37f-9a39-4871-ee63-94abc3ba1578"
      },
      "execution_count": null,
      "outputs": [
        {
          "output_type": "stream",
          "name": "stdout",
          "text": [
            "177\n",
            "177\n",
            "177\n",
            "177\n",
            "177\n",
            "177\n",
            "177\n",
            "177\n",
            "177\n",
            "177\n",
            "177\n",
            "177\n",
            "177\n",
            "177\n",
            "177\n",
            "177\n",
            "177\n",
            "177\n",
            "177\n",
            "177\n",
            "177\n",
            "177\n",
            "177\n",
            "177\n",
            "177\n",
            "177\n",
            "177\n",
            "177\n",
            "177\n",
            "177\n",
            "177\n",
            "177\n",
            "177\n",
            "177\n",
            "177\n",
            "177\n",
            "177\n",
            "177\n",
            "177\n",
            "175\n",
            "175\n",
            "175\n",
            "175\n",
            "175\n",
            "175\n",
            "174\n",
            "174\n",
            "174\n",
            "174\n",
            "174\n",
            "174\n",
            "174\n",
            "174\n",
            "174\n",
            "174\n",
            "150\n",
            "150\n",
            "150\n",
            "150\n",
            "150\n",
            "150\n",
            "150\n",
            "150\n",
            "150\n",
            "150\n",
            "150\n",
            "150\n",
            "150\n",
            "150\n",
            "150\n",
            "150\n",
            "150\n",
            "150\n",
            "150\n",
            "150\n",
            "150\n",
            "150\n",
            "150\n",
            "150\n",
            "150\n",
            "150\n",
            "150\n",
            "150\n",
            "150\n",
            "150\n",
            "150\n",
            "150\n",
            "150\n",
            "150\n",
            "150\n",
            "150\n",
            "150\n",
            "150\n",
            "150\n",
            "150\n",
            "150\n",
            "150\n",
            "150\n",
            "150\n",
            "150\n",
            "150\n",
            "150\n",
            "150\n",
            "150\n",
            "150\n",
            "150\n",
            "150\n",
            "150\n",
            "150\n",
            "150\n",
            "150\n",
            "150\n",
            "150\n",
            "150\n",
            "150\n",
            "150\n",
            "150\n",
            "150\n",
            "150\n",
            "150\n",
            "150\n",
            "150\n",
            "150\n",
            "150\n",
            "150\n",
            "150\n",
            "150\n",
            "150\n"
          ]
        }
      ]
    },
    {
      "cell_type": "code",
      "source": [
        "import os\n",
        "import csv\n",
        "\n",
        "D3_label_dir = '/content/drive/MyDrive/wcs2023/Hieu/D3/Data/Embryo-15/train/labels'\n",
        "D3_image_dir = '/content/drive/MyDrive/wcs2023/Hieu/D3/Data/Embryo-15/train/images'\n",
        "name_remain = []\n",
        "for base, dir, files in sorted(os.walk(D3_label_dir)):\n",
        "  for dataFile in files:\n",
        "    file_extension = os.path.splitext(dataFile)[0]\n",
        "    name_remain.append(file_extension)\n",
        "\n",
        "for base2, dir2, files2 in sorted(os.walk(D3_image_dir)):\n",
        "  for imagefile in files2:\n",
        "    file_extension2 = os.path.splitext(imagefile)[0]\n",
        "    #print(file_extension2)\n",
        "    if file_extension2 not in name_remain:\n",
        "      os.remove(os.path.join(D3_image_dir, imagefile))\n",
        "    #   print('true')\n",
        "    # else: print('else')\n",
        "      # print('1: ',file_extension)\n",
        "      # print('2: ', file_extension2)\n",
        "print(len(os.listdir(D3_image_dir)))\n",
        "    # f = open(os.path.join(D3_label_dir, dataFile), 'r')\n",
        "    # info = f.read()\n",
        "    # label = info[0]\n",
        "    # print(info)\n",
        "    # if dataFile not in Name_of_image and len(os.listdir(D3_label_dir)) > 150:\n",
        "    #   if random_1_or_0() == 1:\n",
        "    #     os.remove(os.path.join(D3_label_dir, dataFile))\n",
        "    # else:\n",
        "    #   print(len(os.listdir(D3_label_dir)))"
      ],
      "metadata": {
        "colab": {
          "base_uri": "https://localhost:8080/"
        },
        "id": "-hbARy2FDFMM",
        "outputId": "7014ea23-4e34-45a1-decf-2499bc959cff"
      },
      "execution_count": null,
      "outputs": [
        {
          "output_type": "stream",
          "name": "stdout",
          "text": [
            "150\n"
          ]
        }
      ]
    },
    {
      "cell_type": "code",
      "source": [
        "%cd /content/drive/MyDrive/wcs2023"
      ],
      "metadata": {
        "colab": {
          "base_uri": "https://localhost:8080/"
        },
        "id": "YyOJ7S77Zayn",
        "outputId": "c06f8668-29cc-4a2a-80ad-7c0cb1592725"
      },
      "execution_count": null,
      "outputs": [
        {
          "output_type": "stream",
          "name": "stdout",
          "text": [
            "/content/drive/MyDrive/wcs2023\n"
          ]
        }
      ]
    },
    {
      "cell_type": "code",
      "source": [
        "from area_filter import *"
      ],
      "metadata": {
        "id": "OD06ngqc2_EG"
      },
      "execution_count": null,
      "outputs": []
    },
    {
      "cell_type": "code",
      "source": [
        "\n",
        "import os\n",
        "import cv2\n",
        "\n",
        "D3_image_dir = '/content/drive/MyDrive/wcs2023/Hieu/test_filtered'\n",
        "new_D3_image_dir = '/content/drive/MyDrive/wcs2023/Hieu/test'\n",
        "\n",
        "for base, dir, files in sorted(os.walk(D3_image_dir)):\n",
        "  for image in files:\n",
        "    #new_image = filter_max_area(os.path.join(D3_image_dir, image))\n",
        "    new_image = contour_finder(os.path.join(D3_image_dir, image))\n",
        "    cv2.imwrite(os.path.join(new_D3_image_dir, image), new_image)"
      ],
      "metadata": {
        "id": "ZAO9Ye_DZhRT"
      },
      "execution_count": null,
      "outputs": []
    },
    {
      "cell_type": "code",
      "source": [
        "%cd /content"
      ],
      "metadata": {
        "colab": {
          "base_uri": "https://localhost:8080/"
        },
        "id": "nVYeF4ps3DNM",
        "outputId": "5dc95c0e-7c33-4641-f3e7-d2fece679c8b"
      },
      "execution_count": null,
      "outputs": [
        {
          "output_type": "stream",
          "name": "stdout",
          "text": [
            "/content\n"
          ]
        }
      ]
    },
    {
      "cell_type": "code",
      "source": [
        "import os\n",
        "\n",
        "import cv2\n",
        "import numpy as np\n",
        "\n",
        "'''\n",
        "filter_max_area function:\n",
        "- input: image path\n",
        "- output: new image data after filtering the max area\n",
        "'''\n",
        "\n",
        "def filter_max_area(img_path):\n",
        "    image = cv2.imread(img_path)\n",
        "    h, w, _ = image.shape\n",
        "    original_image = image.copy()\n",
        "\n",
        "    gray = cv2.cvtColor(image, cv2.COLOR_BGR2GRAY)\n",
        "    # Threshold the image\n",
        "    _, binary = cv2.threshold(gray, 0, 255, cv2.THRESH_BINARY_INV + cv2.THRESH_OTSU)\n",
        "\n",
        "    # Find connected components\n",
        "    num_labels, labels, stats, _ = cv2.connectedComponentsWithStats(binary, connectivity=8)\n",
        "    largest_label = np.argmax(stats[1:, cv2.CC_STAT_AREA]) + 1\n",
        "\n",
        "    largest_component_mask = (labels == largest_label).astype(np.uint8)\n",
        "\n",
        "    # -------- Fill the pixels inside the mask to 1----------\n",
        "    # Find row and column indices of \"1\" values in the mask\n",
        "    row_indices, col_indices = np.where(largest_component_mask == 1)\n",
        "\n",
        "    # Calculate the minimum and maximum row and column indices\n",
        "    min_row = min(row_indices)\n",
        "    max_row = max(row_indices)\n",
        "    min_col = min(col_indices)\n",
        "    max_col = max(col_indices)\n",
        "\n",
        "    # Calculate the smallest bounding box\n",
        "    smallest_bounding_box = largest_component_mask[min_row:max_row + 1, min_col:max_col + 1]\n",
        "    # Update the values in the smallest bounding box to 1\n",
        "    smallest_bounding_box[smallest_bounding_box == 0] = 1\n",
        "    # Update the original mask with the modified bounding box\n",
        "    largest_component_mask[min_row:max_row + 1, min_col:max_col + 1] = smallest_bounding_box\n",
        "\n",
        "    #reverse_largest_component_mask = cv2.bitwise_not(largest_component_mask)\n",
        "\n",
        "    new_image_data = cv2.bitwise_and(original_image, original_image, mask=largest_component_mask)\n",
        "    outside_mask = np.ones_like(new_image_data, dtype=np.uint8) * 255\n",
        "    outside_mask[min_row:max_row + 1, min_col:max_col + 1] = 0\n",
        "    new_image_data = cv2.bitwise_or(new_image_data, outside_mask)\n",
        "\n",
        "    return new_image_data"
      ],
      "metadata": {
        "id": "2uzYEhbqNphx"
      },
      "execution_count": null,
      "outputs": []
    },
    {
      "cell_type": "code",
      "source": [
        "import os\n",
        "\n",
        "import cv2\n",
        "import numpy as np\n",
        "\n",
        "'''\n",
        "filter_max_area function:\n",
        "- input: image path\n",
        "- output: new image data after filtering the max area\n",
        "'''\n",
        "\n",
        "def filter_bbox_area(img_path, label_path):\n",
        "    label_and_image_matched = 0\n",
        "    id = None\n",
        "    roi = None\n",
        "\n",
        "    image_name = os.path.basename(img_path)\n",
        "    image_name_without_extension = os.path.splitext(image_name)[0]\n",
        "\n",
        "    label_name = os.path.basename(label_path)\n",
        "    label_name_without_extension = os.path.splitext(label_name)[0]\n",
        "\n",
        "    if image_name_without_extension == label_name_without_extension:\n",
        "      label_and_image_matched = 1\n",
        "      image = cv2.imread(img_path)\n",
        "\n",
        "      with open(label_path, 'r') as file:\n",
        "        line = file.readline()\n",
        "        class_id, x, y, width, height = map(float, line.strip().split())\n",
        "\n",
        "      # Convert coordinates to pixel values based on image shape\n",
        "      image_height, image_width, _ = image.shape\n",
        "      x_min = int((x - width/2) * image_width)\n",
        "      y_min = int((y - height/2) * image_height)\n",
        "      x_max = int((x + width/2) * image_width)\n",
        "      y_max = int((y + height/2) * image_height)\n",
        "      id = class_id\n",
        "\n",
        "      roi = image[int(y_min):int(y_max), int(x_min):int(x_max)]\n",
        "\n",
        "    return id, label_and_image_matched, roi"
      ],
      "metadata": {
        "id": "1otFgGL4Zw_L"
      },
      "execution_count": null,
      "outputs": []
    },
    {
      "cell_type": "code",
      "source": [
        "\n",
        "import os\n",
        "import cv2\n",
        "import shutil\n",
        "\n",
        "IMAGES_DIR = '/content/drive/MyDrive/wcs2023/Hieu/D5/Data/Embryo-16/train/images_old'\n",
        "LABEL_DIR = '/content/drive/MyDrive/wcs2023/Hieu/D5/Data/Embryo-16/train/labels'\n",
        "OUT_DIR = '/content/drive/MyDrive/wcs2023/Hieu/VGG16/D5_YOLO_CUT'\n",
        "\n",
        "image_files = [filename for filename in os.listdir(IMAGES_DIR)]\n",
        "label_files = [filename for filename in os.listdir(LABEL_DIR)]\n",
        "\n",
        "for image_file in image_files:\n",
        "  for label_file in label_files:\n",
        "    image_label, is_matched, roi = filter_bbox_area(os.path.join(IMAGES_DIR, image_file),\n",
        "                                       os.path.join(LABEL_DIR, label_file))\n",
        "\n",
        "    if is_matched and image_label == 0:\n",
        "      destination_file = os.path.join(OUT_DIR, f'NG/{image_file}')\n",
        "      cv2.imwrite(destination_file, roi)\n",
        "    elif is_matched and image_label == 1:\n",
        "      destination_file = os.path.join(OUT_DIR, f'OK/{image_file}')\n",
        "      cv2.imwrite(destination_file, roi)\n",
        "\n",
        "    # #new_image = filter_max_area(os.path.join(D3_image_dir, image))\n",
        "    # new_image = contour_finder(os.path.join(D3_image_dir, image))\n",
        "    # cv2.imwrite(os.path.join(new_D3_image_dir, image), new_image)"
      ],
      "metadata": {
        "id": "PRp2tFGr8JDW"
      },
      "execution_count": null,
      "outputs": []
    },
    {
      "cell_type": "code",
      "source": [
        "import cv2\n",
        "\n",
        "# Load the image\n",
        "image_path = \"/content/Embryo-15/train/images/D3_001_jpg.rf.80926f7503728160b9683ba4ab7a2482.jpg\"\n",
        "image = cv2.imread(image_path)\n",
        "\n",
        "# Read the bounding box information from the .txt file\n",
        "txt_file_path = \"/content/Embryo-15/train/labels/D3_001_jpg.rf.80926f7503728160b9683ba4ab7a2482.txt\"\n",
        "with open(txt_file_path, 'r') as file:\n",
        "    line = file.readline()\n",
        "    class_id, x, y, width, height = map(float, line.strip().split())\n",
        "\n",
        "# Convert coordinates to pixel values based on image shape\n",
        "image_height, image_width, _ = image.shape\n",
        "x_min = int((x - width/2) * image_width)\n",
        "y_min = int((y - height/2) * image_height)\n",
        "x_max = int((x + width/2) * image_width)\n",
        "y_max = int((y + height/2) * image_height)\n",
        "\n",
        "# Draw the bounding box on the image\n",
        "color = (0, 255, 0)  # Green color for the bounding box\n",
        "thickness = 2\n",
        "cv2.rectangle(image, (x_min, y_min), (x_max, y_max), color, thickness)\n",
        "\n",
        "# Display the image with the bounding box\n",
        "output_path = \"/content/output.jpg\"\n",
        "cv2.imwrite(output_path, image)"
      ],
      "metadata": {
        "colab": {
          "base_uri": "https://localhost:8080/"
        },
        "id": "NNucs0uq_7-Z",
        "outputId": "4da1bb90-47fc-40fa-c8e1-e9043d21f704"
      },
      "execution_count": null,
      "outputs": [
        {
          "output_type": "execute_result",
          "data": {
            "text/plain": [
              "True"
            ]
          },
          "metadata": {},
          "execution_count": 22
        }
      ]
    },
    {
      "cell_type": "code",
      "source": [
        "import os\n",
        "import cv2\n",
        "\n",
        "def contour_finder(image):\n",
        "  img = cv2.imread(image, cv2.IMREAD_GRAYSCALE)\n",
        "  #assert img is not None, \"file could not be read, check with os.path.exists()\"\n",
        "  ret,thresh = cv2.threshold(img,180,255,0)\n",
        "  # contours,hierarchy = cv2.findContours(thresh, 1, 2)\n",
        "  # cnt = contours[0]\n",
        "  # area = cv2.contourArea(cnt)\n",
        "  return thresh\n",
        "\n",
        "\n",
        "test_image = '/content/386840188_338948391832541_6765092971413421426_n.jpg'\n",
        "# new_image = filter_max_area(test_image)\n",
        "new_image = contour_finder(test_image)\n",
        "cv2.imwrite('/content/image1.jpg', new_image)\n",
        "\n"
      ],
      "metadata": {
        "colab": {
          "base_uri": "https://localhost:8080/",
          "height": 245
        },
        "id": "l3BvNy2gKwYl",
        "outputId": "5daa6fdf-3a5d-4fa7-ddc4-c2a53112b2a1"
      },
      "execution_count": null,
      "outputs": [
        {
          "output_type": "error",
          "ename": "error",
          "evalue": "ignored",
          "traceback": [
            "\u001b[0;31m---------------------------------------------------------------------------\u001b[0m",
            "\u001b[0;31merror\u001b[0m                                     Traceback (most recent call last)",
            "\u001b[0;32m<ipython-input-35-087d027f60dc>\u001b[0m in \u001b[0;36m<cell line: 17>\u001b[0;34m()\u001b[0m\n\u001b[1;32m     15\u001b[0m \u001b[0;31m# new_image = filter_max_area(test_image)\u001b[0m\u001b[0;34m\u001b[0m\u001b[0;34m\u001b[0m\u001b[0m\n\u001b[1;32m     16\u001b[0m \u001b[0mnew_image\u001b[0m \u001b[0;34m=\u001b[0m \u001b[0mcontour_finder\u001b[0m\u001b[0;34m(\u001b[0m\u001b[0mtest_image\u001b[0m\u001b[0;34m)\u001b[0m\u001b[0;34m\u001b[0m\u001b[0;34m\u001b[0m\u001b[0m\n\u001b[0;32m---> 17\u001b[0;31m \u001b[0mcv2\u001b[0m\u001b[0;34m.\u001b[0m\u001b[0mimwrite\u001b[0m\u001b[0;34m(\u001b[0m\u001b[0;34m'/content/image1.jpg'\u001b[0m\u001b[0;34m,\u001b[0m \u001b[0mnew_image\u001b[0m\u001b[0;34m)\u001b[0m\u001b[0;34m\u001b[0m\u001b[0;34m\u001b[0m\u001b[0m\n\u001b[0m\u001b[1;32m     18\u001b[0m \u001b[0;34m\u001b[0m\u001b[0m\n",
            "\u001b[0;31merror\u001b[0m: OpenCV(4.8.0) /io/opencv/modules/imgcodecs/src/loadsave.cpp:787: error: (-215:Assertion failed) !_img.empty() in function 'imwrite'\n"
          ]
        }
      ]
    },
    {
      "cell_type": "code",
      "source": [
        "import cv2\n",
        "import numpy as np\n",
        "\n",
        "# test_image = '/content/drive/MyDrive/wcs2023/Hieu/D3/Data/Embryo-15/valid/images_filtered/D3_220_jpg.rf.3f24df83e0b559d5c5698e7c157b976f.jpg'\n",
        "\n",
        "def contour_finder(image):\n",
        "  img = cv2.imread(image, cv2.IMREAD_GRAYSCALE)\n",
        "  #assert img is not None, \"file could not be read, check with os.path.exists()\"\n",
        "  ret,thresh = cv2.threshold(img,160,255,0)\n",
        "  # contours,hierarchy = cv2.findContours(thresh, 1, 2)\n",
        "  # cnt = contours[0]\n",
        "  # area = cv2.contourArea(cnt)\n",
        "  return thresh\n",
        "\n",
        "# # Load image\n",
        "# image_Test = contour_finder(test_image)\n",
        "\n",
        "# # Remove small objects\n",
        "# #cleaned_image = remove_small_objects(image, min_size=100)\n",
        "\n",
        "# # Display the result\n",
        "# cv2.imwrite('test_image.jpg', image_Test)\n"
      ],
      "metadata": {
        "id": "HI3DbRDXcewy"
      },
      "execution_count": null,
      "outputs": []
    },
    {
      "cell_type": "code",
      "source": [
        "import os\n",
        "import cv2\n",
        "\n",
        "D3_image_dir = '/content/drive/MyDrive/wcs2023/Hieu/D3/Data/Embryo-15/train/images_filtered'\n",
        "new_D3_image_dir = '/content/drive/MyDrive/wcs2023/Hieu/D3/Data/Embryo-15/train/images'\n",
        "\n",
        "for base, dir, files in sorted(os.walk(D3_image_dir)):\n",
        "  for image in files:\n",
        "    #new_image = filter_max_area(os.path.join(D3_image_dir, image))\n",
        "    new_image = contour_finder(os.path.join(D3_image_dir, image))\n",
        "    cv2.imwrite(os.path.join(new_D3_image_dir, image), new_image)"
      ],
      "metadata": {
        "id": "bglm31QTvZT7"
      },
      "execution_count": null,
      "outputs": []
    },
    {
      "cell_type": "code",
      "source": [],
      "metadata": {
        "id": "GN280ffZvOWf"
      },
      "execution_count": null,
      "outputs": []
    },
    {
      "cell_type": "code",
      "source": [
        "import os\n",
        "D3_label_dir = '/content/drive/MyDrive/wcs2023/Hieu/D3/Data/Embryo-15/train/labels'\n",
        "D3_image_dir = '/content/drive/MyDrive/wcs2023/Hieu/D3/Data/Embryo-15/train/images'\n",
        "print(len(os.listdir(D3_label_dir)))\n",
        "print(len(os.listdir(D3_image_dir)))"
      ],
      "metadata": {
        "colab": {
          "base_uri": "https://localhost:8080/"
        },
        "id": "tANodyOVKz6c",
        "outputId": "39c84a64-e41b-4798-c504-1c2316a68e87"
      },
      "execution_count": null,
      "outputs": [
        {
          "output_type": "stream",
          "name": "stdout",
          "text": [
            "150\n",
            "150\n"
          ]
        }
      ]
    },
    {
      "cell_type": "code",
      "source": [
        "%cd /content/drive/MyDrive/wcs2023/Hieu/D3"
      ],
      "metadata": {
        "colab": {
          "base_uri": "https://localhost:8080/"
        },
        "id": "tXUzGwhnAQVz",
        "outputId": "6c6b2e68-d32a-4a92-89a2-1e2cd5b3fe13"
      },
      "execution_count": null,
      "outputs": [
        {
          "output_type": "stream",
          "name": "stdout",
          "text": [
            "/content/drive/MyDrive/wcs2023/Hieu/D3\n"
          ]
        }
      ]
    },
    {
      "cell_type": "code",
      "source": [
        "!yolo task=detect mode=train model=yolov8s.pt data=/content/drive/MyDrive/wcs2023/Hieu/D3/Data/Embryo-15/data.yaml epochs=20 imgsz=800 plots=True"
      ],
      "metadata": {
        "colab": {
          "base_uri": "https://localhost:8080/"
        },
        "id": "QImAP2qn_3kO",
        "outputId": "ac8d91c6-a250-4962-a415-db40b0a3f1c5"
      },
      "execution_count": null,
      "outputs": [
        {
          "output_type": "stream",
          "name": "stdout",
          "text": [
            "Ultralytics YOLOv8.0.20 🚀 Python-3.10.12 torch-2.0.1+cu118 CUDA:0 (Tesla T4, 15102MiB)\n",
            "\u001b[34m\u001b[1myolo/engine/trainer: \u001b[0mtask=detect, mode=train, model=yolov8s.yaml, data=/content/drive/MyDrive/wcs2023/Hieu/D3/Data/Embryo-15/data.yaml, epochs=20, patience=50, batch=16, imgsz=800, save=True, cache=False, device=, workers=8, project=None, name=None, exist_ok=False, pretrained=False, optimizer=SGD, verbose=True, seed=0, deterministic=True, single_cls=False, image_weights=False, rect=False, cos_lr=False, close_mosaic=10, resume=False, overlap_mask=True, mask_ratio=4, dropout=False, val=True, save_json=False, save_hybrid=False, conf=0.001, iou=0.7, max_det=300, half=False, dnn=False, plots=True, source=ultralytics/assets/, show=False, save_txt=False, save_conf=False, save_crop=False, hide_labels=False, hide_conf=False, vid_stride=1, line_thickness=3, visualize=False, augment=False, agnostic_nms=False, classes=None, retina_masks=False, boxes=True, format=torchscript, keras=False, optimize=False, int8=False, dynamic=False, simplify=False, opset=17, workspace=4, nms=False, lr0=0.01, lrf=0.01, momentum=0.937, weight_decay=0.001, warmup_epochs=3.0, warmup_momentum=0.8, warmup_bias_lr=0.1, box=7.5, cls=0.5, dfl=1.5, fl_gamma=0.0, label_smoothing=0.0, nbs=64, hsv_h=0.015, hsv_s=0.7, hsv_v=0.4, degrees=0.0, translate=0.1, scale=0.5, shear=0.0, perspective=0.0, flipud=0.0, fliplr=0.5, mosaic=1.0, mixup=0.0, copy_paste=0.0, cfg=None, v5loader=False, save_dir=runs/detect/train13\n",
            "Downloading https://ultralytics.com/assets/Arial.ttf to /root/.config/Ultralytics/Arial.ttf...\n",
            "100% 755k/755k [00:00<00:00, 71.0MB/s]\n",
            "2023-10-11 09:24:54.028037: I tensorflow/core/platform/cpu_feature_guard.cc:182] This TensorFlow binary is optimized to use available CPU instructions in performance-critical operations.\n",
            "To enable the following instructions: AVX2 AVX512F FMA, in other operations, rebuild TensorFlow with the appropriate compiler flags.\n",
            "2023-10-11 09:24:54.888898: W tensorflow/compiler/tf2tensorrt/utils/py_utils.cc:38] TF-TRT Warning: Could not find TensorRT\n",
            "Overriding model.yaml nc=80 with nc=2\n",
            "\n",
            "                   from  n    params  module                                       arguments                     \n",
            "  0                  -1  1       928  ultralytics.nn.modules.Conv                  [3, 32, 3, 2]                 \n",
            "  1                  -1  1     18560  ultralytics.nn.modules.Conv                  [32, 64, 3, 2]                \n",
            "  2                  -1  1     29056  ultralytics.nn.modules.C2f                   [64, 64, 1, True]             \n",
            "  3                  -1  1     73984  ultralytics.nn.modules.Conv                  [64, 128, 3, 2]               \n",
            "  4                  -1  2    197632  ultralytics.nn.modules.C2f                   [128, 128, 2, True]           \n",
            "  5                  -1  1    295424  ultralytics.nn.modules.Conv                  [128, 256, 3, 2]              \n",
            "  6                  -1  2    788480  ultralytics.nn.modules.C2f                   [256, 256, 2, True]           \n",
            "  7                  -1  1   1180672  ultralytics.nn.modules.Conv                  [256, 512, 3, 2]              \n",
            "  8                  -1  1   1838080  ultralytics.nn.modules.C2f                   [512, 512, 1, True]           \n",
            "  9                  -1  1    656896  ultralytics.nn.modules.SPPF                  [512, 512, 5]                 \n",
            " 10                  -1  1         0  torch.nn.modules.upsampling.Upsample         [None, 2, 'nearest']          \n",
            " 11             [-1, 6]  1         0  ultralytics.nn.modules.Concat                [1]                           \n",
            " 12                  -1  1    591360  ultralytics.nn.modules.C2f                   [768, 256, 1]                 \n",
            " 13                  -1  1         0  torch.nn.modules.upsampling.Upsample         [None, 2, 'nearest']          \n",
            " 14             [-1, 4]  1         0  ultralytics.nn.modules.Concat                [1]                           \n",
            " 15                  -1  1    148224  ultralytics.nn.modules.C2f                   [384, 128, 1]                 \n",
            " 16                  -1  1    147712  ultralytics.nn.modules.Conv                  [128, 128, 3, 2]              \n",
            " 17            [-1, 12]  1         0  ultralytics.nn.modules.Concat                [1]                           \n",
            " 18                  -1  1    493056  ultralytics.nn.modules.C2f                   [384, 256, 1]                 \n",
            " 19                  -1  1    590336  ultralytics.nn.modules.Conv                  [256, 256, 3, 2]              \n",
            " 20             [-1, 9]  1         0  ultralytics.nn.modules.Concat                [1]                           \n",
            " 21                  -1  1   1969152  ultralytics.nn.modules.C2f                   [768, 512, 1]                 \n",
            " 22        [15, 18, 21]  1   2116822  ultralytics.nn.modules.Detect                [2, [128, 256, 512]]          \n",
            "Model summary: 225 layers, 11136374 parameters, 11136358 gradients, 28.6 GFLOPs\n",
            "\n",
            "Transferred 349/355 items from pretrained weights\n",
            "\u001b[34m\u001b[1moptimizer:\u001b[0m SGD(lr=0.01) with parameter groups 57 weight(decay=0.0), 64 weight(decay=0.001), 63 bias\n",
            "\u001b[34m\u001b[1mtrain: \u001b[0mScanning /content/drive/MyDrive/wcs2023/Hieu/D3/Data/Embryo-15/train/labels... 150 images, 0 backgrounds, 0 corrupt: 100% 150/150 [02:05<00:00,  1.20it/s]\n",
            "\u001b[34m\u001b[1mtrain: \u001b[0mNew cache created: /content/drive/MyDrive/wcs2023/Hieu/D3/Data/Embryo-15/train/labels.cache\n",
            "\u001b[34m\u001b[1malbumentations: \u001b[0mBlur(p=0.01, blur_limit=(3, 7)), MedianBlur(p=0.01, blur_limit=(3, 7)), ToGray(p=0.01), CLAHE(p=0.01, clip_limit=(1, 4.0), tile_grid_size=(8, 8))\n",
            "\u001b[34m\u001b[1mval: \u001b[0mScanning /content/drive/MyDrive/wcs2023/Hieu/D3/Data/Embryo-15/valid/labels... 28 images, 0 backgrounds, 0 corrupt: 100% 28/28 [00:46<00:00,  1.67s/it]\n",
            "\u001b[34m\u001b[1mval: \u001b[0mNew cache created: /content/drive/MyDrive/wcs2023/Hieu/D3/Data/Embryo-15/valid/labels.cache\n",
            "Image sizes 800 train, 800 val\n",
            "Using 2 dataloader workers\n",
            "Logging results to \u001b[1mruns/detect/train13\u001b[0m\n",
            "Starting training for 20 epochs...\n",
            "\n",
            "      Epoch    GPU_mem   box_loss   cls_loss   dfl_loss  Instances       Size\n",
            "       1/20      5.92G      2.931      6.324      3.444         17        800: 100% 10/10 [00:12<00:00,  1.24s/it]\n",
            "/usr/local/lib/python3.10/dist-packages/torch/optim/lr_scheduler.py:139: UserWarning: Detected call of `lr_scheduler.step()` before `optimizer.step()`. In PyTorch 1.1.0 and later, you should call them in the opposite order: `optimizer.step()` before `lr_scheduler.step()`.  Failure to do this will result in PyTorch skipping the first value of the learning rate schedule. See more details at https://pytorch.org/docs/stable/optim.html#how-to-adjust-learning-rate\n",
            "  warnings.warn(\"Detected call of `lr_scheduler.step()` before `optimizer.step()`. \"\n",
            "                 Class     Images  Instances      Box(P          R      mAP50  mAP50-95): 100% 1/1 [00:02<00:00,  2.07s/it]\n",
            "                   all         28         28      0.501     0.0192   0.000963   0.000245\n",
            "                 D3-NG         28         26    0.00131     0.0385    0.00193    0.00049\n",
            "                 D3-OK         28          2          1          0          0          0\n",
            "\n",
            "      Epoch    GPU_mem   box_loss   cls_loss   dfl_loss  Instances       Size\n",
            "       2/20      7.03G      2.729       4.75      3.331         14        800: 100% 10/10 [00:08<00:00,  1.14it/s]\n",
            "                 Class     Images  Instances      Box(P          R      mAP50  mAP50-95): 100% 1/1 [00:00<00:00,  1.37it/s]\n",
            "                   all         28         28    0.00154      0.404     0.0066     0.0013\n",
            "                 D3-NG         28         26    0.00308      0.808     0.0132    0.00259\n",
            "                 D3-OK         28          2          0          0          0          0\n",
            "\n",
            "      Epoch    GPU_mem   box_loss   cls_loss   dfl_loss  Instances       Size\n",
            "       3/20      7.04G      1.931      2.522      2.678         16        800: 100% 10/10 [00:09<00:00,  1.08it/s]\n",
            "                 Class     Images  Instances      Box(P          R      mAP50  mAP50-95): 100% 1/1 [00:00<00:00,  1.19it/s]\n",
            "                   all         28         28      0.447      0.162      0.334      0.087\n",
            "                 D3-NG         28         26      0.894      0.325      0.634      0.157\n",
            "                 D3-OK         28          2          0          0     0.0337     0.0174\n",
            "\n",
            "      Epoch    GPU_mem   box_loss   cls_loss   dfl_loss  Instances       Size\n",
            "       4/20      7.04G      1.394      1.907      2.067         12        800: 100% 10/10 [00:07<00:00,  1.37it/s]\n",
            "                 Class     Images  Instances      Box(P          R      mAP50  mAP50-95): 100% 1/1 [00:01<00:00,  1.25s/it]\n",
            "                   all         28         28      0.459       0.56      0.449      0.137\n",
            "                 D3-NG         28         26      0.843       0.62      0.843      0.253\n",
            "                 D3-OK         28          2     0.0741        0.5     0.0549      0.021\n",
            "\n",
            "      Epoch    GPU_mem   box_loss   cls_loss   dfl_loss  Instances       Size\n",
            "       5/20      7.04G      1.282      1.665      2.028         11        800: 100% 10/10 [00:07<00:00,  1.35it/s]\n",
            "                 Class     Images  Instances      Box(P          R      mAP50  mAP50-95): 100% 1/1 [00:00<00:00,  1.14it/s]\n",
            "                   all         28         28      0.451      0.731       0.53      0.308\n",
            "                 D3-NG         28         26      0.856      0.962       0.92       0.55\n",
            "                 D3-OK         28          2     0.0452        0.5      0.141     0.0656\n",
            "\n",
            "      Epoch    GPU_mem   box_loss   cls_loss   dfl_loss  Instances       Size\n",
            "       6/20      7.04G      1.252      1.467      1.949         16        800: 100% 10/10 [00:09<00:00,  1.10it/s]\n",
            "                 Class     Images  Instances      Box(P          R      mAP50  mAP50-95): 100% 1/1 [00:00<00:00,  1.36it/s]\n",
            "                   all         28         28      0.472      0.923      0.552      0.222\n",
            "                 D3-NG         28         26      0.877      0.846      0.898      0.356\n",
            "                 D3-OK         28          2     0.0659          1      0.207     0.0872\n",
            "\n",
            "      Epoch    GPU_mem   box_loss   cls_loss   dfl_loss  Instances       Size\n",
            "       7/20      7.04G      1.221      1.274      1.882         17        800: 100% 10/10 [00:08<00:00,  1.21it/s]\n",
            "                 Class     Images  Instances      Box(P          R      mAP50  mAP50-95): 100% 1/1 [00:00<00:00,  1.10it/s]\n",
            "                   all         28         28      0.441          1      0.524      0.225\n",
            "                 D3-NG         28         26      0.781          1      0.924        0.4\n",
            "                 D3-OK         28          2      0.101          1      0.124     0.0504\n",
            "\n",
            "      Epoch    GPU_mem   box_loss   cls_loss   dfl_loss  Instances       Size\n",
            "       8/20      7.04G      1.179      1.303       1.85         17        800: 100% 10/10 [00:07<00:00,  1.40it/s]\n",
            "                 Class     Images  Instances      Box(P          R      mAP50  mAP50-95): 100% 1/1 [00:00<00:00,  1.43it/s]\n",
            "                   all         28         28       0.48      0.731      0.514      0.295\n",
            "                 D3-NG         28         26      0.897      0.962      0.938      0.534\n",
            "                 D3-OK         28          2      0.063        0.5     0.0895     0.0568\n",
            "\n",
            "      Epoch    GPU_mem   box_loss   cls_loss   dfl_loss  Instances       Size\n",
            "       9/20      7.04G      1.174      1.356       1.83         19        800: 100% 10/10 [00:09<00:00,  1.09it/s]\n",
            "                 Class     Images  Instances      Box(P          R      mAP50  mAP50-95): 100% 1/1 [00:00<00:00,  1.40it/s]\n",
            "                   all         28         28      0.467      0.981      0.492      0.317\n",
            "                 D3-NG         28         26      0.872      0.962      0.911      0.594\n",
            "                 D3-OK         28          2     0.0628          1     0.0735      0.041\n",
            "\n",
            "      Epoch    GPU_mem   box_loss   cls_loss   dfl_loss  Instances       Size\n",
            "      10/20      7.04G      1.126       1.23      1.794         15        800: 100% 10/10 [00:08<00:00,  1.18it/s]\n",
            "                 Class     Images  Instances      Box(P          R      mAP50  mAP50-95): 100% 1/1 [00:00<00:00,  1.07it/s]\n",
            "                   all         28         28      0.959      0.436       0.53      0.236\n",
            "                 D3-NG         28         26      0.919      0.872      0.917      0.386\n",
            "                 D3-OK         28          2          1          0      0.142     0.0864\n",
            "Closing dataloader mosaic\n",
            "\u001b[34m\u001b[1malbumentations: \u001b[0mBlur(p=0.01, blur_limit=(3, 7)), MedianBlur(p=0.01, blur_limit=(3, 7)), ToGray(p=0.01), CLAHE(p=0.01, clip_limit=(1, 4.0), tile_grid_size=(8, 8))\n",
            "\n",
            "      Epoch    GPU_mem   box_loss   cls_loss   dfl_loss  Instances       Size\n",
            "      11/20      7.04G      1.082      1.204      2.046          6        800: 100% 10/10 [00:06<00:00,  1.55it/s]\n",
            "                 Class     Images  Instances      Box(P          R      mAP50  mAP50-95): 100% 1/1 [00:00<00:00,  1.43it/s]\n",
            "                   all         28         28      0.931      0.479      0.491      0.163\n",
            "                 D3-NG         28         26      0.862      0.958      0.905      0.296\n",
            "                 D3-OK         28          2          1          0     0.0765     0.0306\n",
            "\n",
            "      Epoch    GPU_mem   box_loss   cls_loss   dfl_loss  Instances       Size\n",
            "      12/20      7.04G      1.122      1.196      2.218          6        800: 100% 10/10 [00:07<00:00,  1.37it/s]\n",
            "                 Class     Images  Instances      Box(P          R      mAP50  mAP50-95): 100% 1/1 [00:00<00:00,  1.41it/s]\n",
            "                   all         28         28       0.43      0.481      0.502      0.232\n",
            "                 D3-NG         28         26       0.86      0.962      0.951      0.437\n",
            "                 D3-OK         28          2          0          0     0.0524     0.0284\n",
            "\n",
            "      Epoch    GPU_mem   box_loss   cls_loss   dfl_loss  Instances       Size\n",
            "      13/20      7.04G     0.8524      1.072      1.936          6        800: 100% 10/10 [00:04<00:00,  2.02it/s]\n",
            "                 Class     Images  Instances      Box(P          R      mAP50  mAP50-95): 100% 1/1 [00:00<00:00,  1.37it/s]\n",
            "                   all         28         28      0.452       0.75      0.534      0.314\n",
            "                 D3-NG         28         26      0.817          1       0.95      0.561\n",
            "                 D3-OK         28          2     0.0872        0.5      0.118     0.0666\n",
            "\n",
            "      Epoch    GPU_mem   box_loss   cls_loss   dfl_loss  Instances       Size\n",
            "      14/20      7.04G     0.8824     0.9509      1.848          6        800: 100% 10/10 [00:07<00:00,  1.31it/s]\n",
            "                 Class     Images  Instances      Box(P          R      mAP50  mAP50-95): 100% 1/1 [00:00<00:00,  1.29it/s]\n",
            "                   all         28         28      0.508      0.996      0.528      0.348\n",
            "                 D3-NG         28         26      0.928      0.991      0.962      0.646\n",
            "                 D3-OK         28          2     0.0888          1     0.0948     0.0499\n",
            "\n",
            "      Epoch    GPU_mem   box_loss   cls_loss   dfl_loss  Instances       Size\n",
            "      15/20      7.04G     0.8292     0.9571      1.827          6        800: 100% 10/10 [00:05<00:00,  1.99it/s]\n",
            "                 Class     Images  Instances      Box(P          R      mAP50  mAP50-95): 100% 1/1 [00:00<00:00,  1.42it/s]\n",
            "                   all         28         28      0.417      0.763      0.525      0.279\n",
            "                 D3-NG         28         26      0.783          1       0.96      0.504\n",
            "                 D3-OK         28          2     0.0499      0.527     0.0905     0.0543\n",
            "\n",
            "      Epoch    GPU_mem   box_loss   cls_loss   dfl_loss  Instances       Size\n",
            "      16/20      7.04G     0.7888     0.8948      1.786          6        800: 100% 10/10 [00:07<00:00,  1.34it/s]\n",
            "                 Class     Images  Instances      Box(P          R      mAP50  mAP50-95): 100% 1/1 [00:00<00:00,  1.41it/s]\n",
            "                   all         28         28      0.504          1      0.528       0.32\n",
            "                 D3-NG         28         26      0.925          1      0.967      0.591\n",
            "                 D3-OK         28          2     0.0818          1     0.0885     0.0491\n",
            "\n",
            "      Epoch    GPU_mem   box_loss   cls_loss   dfl_loss  Instances       Size\n",
            "      17/20      7.04G     0.7262       0.88      1.714          6        800: 100% 10/10 [00:05<00:00,  1.88it/s]\n",
            "                 Class     Images  Instances      Box(P          R      mAP50  mAP50-95): 100% 1/1 [00:00<00:00,  1.24it/s]\n",
            "                   all         28         28      0.495          1      0.529      0.355\n",
            "                 D3-NG         28         26      0.904          1      0.967      0.656\n",
            "                 D3-OK         28          2     0.0859          1     0.0905     0.0545\n",
            "\n",
            "      Epoch    GPU_mem   box_loss   cls_loss   dfl_loss  Instances       Size\n",
            "      18/20      7.04G     0.7195     0.8588      1.701          6        800: 100% 10/10 [00:06<00:00,  1.55it/s]\n",
            "                 Class     Images  Instances      Box(P          R      mAP50  mAP50-95): 100% 1/1 [00:00<00:00,  1.29it/s]\n",
            "                   all         28         28      0.512      0.994      0.539      0.368\n",
            "                 D3-NG         28         26      0.928      0.988      0.967      0.675\n",
            "                 D3-OK         28          2     0.0962          1      0.111     0.0618\n",
            "\n",
            "      Epoch    GPU_mem   box_loss   cls_loss   dfl_loss  Instances       Size\n",
            "      19/20      7.04G     0.6968     0.7991      1.628          6        800: 100% 10/10 [00:05<00:00,  1.85it/s]\n",
            "                 Class     Images  Instances      Box(P          R      mAP50  mAP50-95): 100% 1/1 [00:01<00:00,  1.10s/it]\n",
            "                   all         28         28      0.525          1      0.566      0.415\n",
            "                 D3-NG         28         26      0.922          1      0.978      0.745\n",
            "                 D3-OK         28          2      0.129          1      0.153      0.085\n",
            "\n",
            "      Epoch    GPU_mem   box_loss   cls_loss   dfl_loss  Instances       Size\n",
            "      20/20      7.04G     0.6599     0.7695      1.564          6        800: 100% 10/10 [00:05<00:00,  1.82it/s]\n",
            "                 Class     Images  Instances      Box(P          R      mAP50  mAP50-95): 100% 1/1 [00:00<00:00,  1.15it/s]\n",
            "                   all         28         28       0.51          1      0.555      0.406\n",
            "                 D3-NG         28         26      0.908          1      0.976      0.735\n",
            "                 D3-OK         28          2      0.111          1      0.133     0.0779\n",
            "\n",
            "20 epochs completed in 0.053 hours.\n",
            "Optimizer stripped from runs/detect/train13/weights/last.pt, 22.5MB\n",
            "Optimizer stripped from runs/detect/train13/weights/best.pt, 22.5MB\n",
            "\n",
            "Validating runs/detect/train13/weights/best.pt...\n",
            "Ultralytics YOLOv8.0.20 🚀 Python-3.10.12 torch-2.0.1+cu118 CUDA:0 (Tesla T4, 15102MiB)\n",
            "Model summary (fused): 168 layers, 11126358 parameters, 0 gradients, 28.4 GFLOPs\n",
            "                 Class     Images  Instances      Box(P          R      mAP50  mAP50-95): 100% 1/1 [00:01<00:00,  1.04s/it]\n",
            "                   all         28         28      0.525          1      0.566      0.415\n",
            "                 D3-NG         28         26      0.922          1      0.978      0.745\n",
            "                 D3-OK         28          2      0.128          1      0.153      0.085\n",
            "Speed: 0.3ms pre-process, 8.4ms inference, 0.0ms loss, 1.1ms post-process per image\n",
            "Results saved to \u001b[1mruns/detect/train13\u001b[0m\n"
          ]
        }
      ]
    },
    {
      "cell_type": "code",
      "source": [
        "!yolo task=detect mode=predict model=/content/drive/MyDrive/wcs2023/Hieu/D5/runs/detect/train12/weights/best.pt conf=0.25 source=/content/drive/MyDrive/wcs2023/hvwc23/test save=True"
      ],
      "metadata": {
        "colab": {
          "base_uri": "https://localhost:8080/"
        },
        "id": "ssAORXUtexvm",
        "outputId": "51e7c151-47b7-4178-e811-a228ad38afb5"
      },
      "execution_count": null,
      "outputs": [
        {
          "output_type": "stream",
          "name": "stdout",
          "text": [
            "2023-10-10 03:15:47.710788: I tensorflow/core/platform/cpu_feature_guard.cc:182] This TensorFlow binary is optimized to use available CPU instructions in performance-critical operations.\n",
            "To enable the following instructions: AVX2 AVX512F FMA, in other operations, rebuild TensorFlow with the appropriate compiler flags.\n",
            "2023-10-10 03:15:48.620629: W tensorflow/compiler/tf2tensorrt/utils/py_utils.cc:38] TF-TRT Warning: Could not find TensorRT\n",
            "Ultralytics YOLOv8.0.20 🚀 Python-3.10.12 torch-2.0.1+cu118 CUDA:0 (Tesla T4, 15102MiB)\n",
            "Model summary (fused): 168 layers, 11125971 parameters, 0 gradients, 28.4 GFLOPs\n",
            "image 1/180 /content/drive/MyDrive/wcs2023/hvwc23/test/D3_003.jpg: 800x800 24.6ms\n",
            "image 2/180 /content/drive/MyDrive/wcs2023/hvwc23/test/D3_007.jpg: 800x800 24.7ms\n",
            "image 3/180 /content/drive/MyDrive/wcs2023/hvwc23/test/D3_032.jpg: 800x800 31.7ms\n",
            "image 4/180 /content/drive/MyDrive/wcs2023/hvwc23/test/D3_040.jpg: 800x800 23.6ms\n",
            "image 5/180 /content/drive/MyDrive/wcs2023/hvwc23/test/D3_045.jpg: 736x800 66.3ms\n",
            "image 6/180 /content/drive/MyDrive/wcs2023/hvwc23/test/D3_067.jpg: 800x800 24.2ms\n",
            "image 7/180 /content/drive/MyDrive/wcs2023/hvwc23/test/D3_068.jpg: 800x800 22.7ms\n",
            "image 8/180 /content/drive/MyDrive/wcs2023/hvwc23/test/D3_070.jpg: 800x800 22.7ms\n",
            "image 9/180 /content/drive/MyDrive/wcs2023/hvwc23/test/D3_074.jpg: 800x800 22.8ms\n",
            "image 10/180 /content/drive/MyDrive/wcs2023/hvwc23/test/D3_078.jpg: 800x800 22.6ms\n",
            "image 11/180 /content/drive/MyDrive/wcs2023/hvwc23/test/D3_091.jpg: 800x800 22.7ms\n",
            "image 12/180 /content/drive/MyDrive/wcs2023/hvwc23/test/D3_097.jpg: 800x800 17.0ms\n",
            "image 13/180 /content/drive/MyDrive/wcs2023/hvwc23/test/D3_098.jpg: 800x800 17.1ms\n",
            "image 14/180 /content/drive/MyDrive/wcs2023/hvwc23/test/D3_119.jpg: 800x800 17.0ms\n",
            "image 15/180 /content/drive/MyDrive/wcs2023/hvwc23/test/D3_121.jpg: 800x800 17.0ms\n",
            "image 16/180 /content/drive/MyDrive/wcs2023/hvwc23/test/D3_136.jpg: 800x800 17.0ms\n",
            "image 17/180 /content/drive/MyDrive/wcs2023/hvwc23/test/D3_138.jpg: 800x800 17.0ms\n",
            "image 18/180 /content/drive/MyDrive/wcs2023/hvwc23/test/D3_140.jpg: 736x800 14.1ms\n",
            "image 19/180 /content/drive/MyDrive/wcs2023/hvwc23/test/D3_146.jpg: 800x800 14.5ms\n",
            "image 20/180 /content/drive/MyDrive/wcs2023/hvwc23/test/D3_149.jpg: 800x800 13.8ms\n",
            "image 21/180 /content/drive/MyDrive/wcs2023/hvwc23/test/D3_165.jpg: 800x800 13.9ms\n",
            "image 22/180 /content/drive/MyDrive/wcs2023/hvwc23/test/D3_166.jpg: 800x800 13.7ms\n",
            "image 23/180 /content/drive/MyDrive/wcs2023/hvwc23/test/D3_169.jpg: 800x800 13.7ms\n",
            "image 24/180 /content/drive/MyDrive/wcs2023/hvwc23/test/D3_182.jpg: 800x800 13.7ms\n",
            "image 25/180 /content/drive/MyDrive/wcs2023/hvwc23/test/D3_193.jpg: 800x800 12.5ms\n",
            "image 26/180 /content/drive/MyDrive/wcs2023/hvwc23/test/D3_194.jpg: 800x800 13.0ms\n",
            "image 27/180 /content/drive/MyDrive/wcs2023/hvwc23/test/D3_199.jpg: 800x800 12.6ms\n",
            "image 28/180 /content/drive/MyDrive/wcs2023/hvwc23/test/D3_205.jpg: 800x800 12.5ms\n",
            "image 29/180 /content/drive/MyDrive/wcs2023/hvwc23/test/D3_210.jpg: 800x800 13.0ms\n",
            "image 30/180 /content/drive/MyDrive/wcs2023/hvwc23/test/D3_212.jpg: 800x800 12.5ms\n",
            "image 31/180 /content/drive/MyDrive/wcs2023/hvwc23/test/D3_214.jpg: 800x800 12.5ms\n",
            "image 32/180 /content/drive/MyDrive/wcs2023/hvwc23/test/D3_232.jpg: 800x800 14.0ms\n",
            "image 33/180 /content/drive/MyDrive/wcs2023/hvwc23/test/D3_235.jpg: 800x800 14.8ms\n",
            "image 34/180 /content/drive/MyDrive/wcs2023/hvwc23/test/D3_240.jpg: 800x800 12.4ms\n",
            "image 35/180 /content/drive/MyDrive/wcs2023/hvwc23/test/D3_265.jpg: 800x800 12.4ms\n",
            "image 36/180 /content/drive/MyDrive/wcs2023/hvwc23/test/D3_266.jpg: 800x800 12.4ms\n",
            "image 37/180 /content/drive/MyDrive/wcs2023/hvwc23/test/D3_267.jpg: 800x800 12.4ms\n",
            "image 38/180 /content/drive/MyDrive/wcs2023/hvwc23/test/D3_276.jpg: 800x800 12.4ms\n",
            "image 39/180 /content/drive/MyDrive/wcs2023/hvwc23/test/D3_282.jpg: 800x800 12.1ms\n",
            "image 40/180 /content/drive/MyDrive/wcs2023/hvwc23/test/D3_287.jpg: 800x800 11.9ms\n",
            "image 41/180 /content/drive/MyDrive/wcs2023/hvwc23/test/D3_291.jpg: 800x800 11.9ms\n",
            "image 42/180 /content/drive/MyDrive/wcs2023/hvwc23/test/D3_295.jpg: 800x800 12.0ms\n",
            "image 43/180 /content/drive/MyDrive/wcs2023/hvwc23/test/D3_297.jpg: 800x800 12.2ms\n",
            "image 44/180 /content/drive/MyDrive/wcs2023/hvwc23/test/D3_303.jpg: 800x800 11.9ms\n",
            "image 45/180 /content/drive/MyDrive/wcs2023/hvwc23/test/D3_307.jpg: 800x800 11.9ms\n",
            "image 46/180 /content/drive/MyDrive/wcs2023/hvwc23/test/D3_310.jpg: 800x800 12.1ms\n",
            "image 47/180 /content/drive/MyDrive/wcs2023/hvwc23/test/D3_324.jpg: 800x800 12.2ms\n",
            "image 48/180 /content/drive/MyDrive/wcs2023/hvwc23/test/D3_327.jpg: 800x800 12.0ms\n",
            "image 49/180 /content/drive/MyDrive/wcs2023/hvwc23/test/D3_328.jpg: 736x800 11.1ms\n",
            "image 50/180 /content/drive/MyDrive/wcs2023/hvwc23/test/D3_334.jpg: 800x800 12.6ms\n",
            "image 51/180 /content/drive/MyDrive/wcs2023/hvwc23/test/D3_337.jpg: 800x800 11.8ms\n",
            "image 52/180 /content/drive/MyDrive/wcs2023/hvwc23/test/D3_343.jpg: 800x800 11.8ms\n",
            "image 53/180 /content/drive/MyDrive/wcs2023/hvwc23/test/D3_353.jpg: 800x800 12.0ms\n",
            "image 54/180 /content/drive/MyDrive/wcs2023/hvwc23/test/D3_362.jpg: 800x800 12.2ms\n",
            "image 55/180 /content/drive/MyDrive/wcs2023/hvwc23/test/D3_376.jpg: 800x800 11.9ms\n",
            "image 56/180 /content/drive/MyDrive/wcs2023/hvwc23/test/D3_378.jpg: 800x800 11.9ms\n",
            "image 57/180 /content/drive/MyDrive/wcs2023/hvwc23/test/D3_384.jpg: 800x800 12.0ms\n",
            "image 58/180 /content/drive/MyDrive/wcs2023/hvwc23/test/D3_389.jpg: 800x800 11.9ms\n",
            "image 59/180 /content/drive/MyDrive/wcs2023/hvwc23/test/D3_399.jpg: 800x800 11.9ms\n",
            "image 60/180 /content/drive/MyDrive/wcs2023/hvwc23/test/D3_426.jpg: 800x800 12.0ms\n",
            "image 61/180 /content/drive/MyDrive/wcs2023/hvwc23/test/D3_429.jpg: 800x800 11.9ms\n",
            "image 62/180 /content/drive/MyDrive/wcs2023/hvwc23/test/D3_432.jpg: 800x800 11.9ms\n",
            "image 63/180 /content/drive/MyDrive/wcs2023/hvwc23/test/D3_437.jpg: 800x800 12.1ms\n",
            "image 64/180 /content/drive/MyDrive/wcs2023/hvwc23/test/D3_441.jpg: 800x800 12.0ms\n",
            "image 65/180 /content/drive/MyDrive/wcs2023/hvwc23/test/D3_449.jpg: 800x800 13.2ms\n",
            "image 66/180 /content/drive/MyDrive/wcs2023/hvwc23/test/D3_451.jpg: 800x800 11.8ms\n",
            "image 67/180 /content/drive/MyDrive/wcs2023/hvwc23/test/D3_465.jpg: 800x800 12.4ms\n",
            "image 68/180 /content/drive/MyDrive/wcs2023/hvwc23/test/D3_474.jpg: 800x800 12.1ms\n",
            "image 69/180 /content/drive/MyDrive/wcs2023/hvwc23/test/D3_491.jpg: 800x800 11.9ms\n",
            "image 70/180 /content/drive/MyDrive/wcs2023/hvwc23/test/D3_507.jpg: 800x800 11.9ms\n",
            "image 71/180 /content/drive/MyDrive/wcs2023/hvwc23/test/D3_518.jpg: 800x800 12.3ms\n",
            "image 72/180 /content/drive/MyDrive/wcs2023/hvwc23/test/D3_520.jpg: 768x800 66.9ms\n",
            "image 73/180 /content/drive/MyDrive/wcs2023/hvwc23/test/D3_522.jpg: 800x800 12.4ms\n",
            "image 74/180 /content/drive/MyDrive/wcs2023/hvwc23/test/D3_528.jpg: 800x800 11.8ms\n",
            "image 75/180 /content/drive/MyDrive/wcs2023/hvwc23/test/D3_530.jpg: 800x800 12.2ms\n",
            "image 76/180 /content/drive/MyDrive/wcs2023/hvwc23/test/D3_534.jpg: 800x800 12.1ms\n",
            "image 77/180 /content/drive/MyDrive/wcs2023/hvwc23/test/D3_535.jpg: 800x800 12.0ms\n",
            "image 78/180 /content/drive/MyDrive/wcs2023/hvwc23/test/D3_538.jpg: 800x800 1 D5-OK, 11.9ms\n",
            "image 79/180 /content/drive/MyDrive/wcs2023/hvwc23/test/D3_546.jpg: 800x800 11.9ms\n",
            "image 80/180 /content/drive/MyDrive/wcs2023/hvwc23/test/D3_555.jpg: 736x800 12.3ms\n",
            "image 81/180 /content/drive/MyDrive/wcs2023/hvwc23/test/D3_579.jpg: 800x800 12.9ms\n",
            "image 82/180 /content/drive/MyDrive/wcs2023/hvwc23/test/D3_583.jpg: 768x800 1 D5-OK, 11.7ms\n",
            "image 83/180 /content/drive/MyDrive/wcs2023/hvwc23/test/D3_590.jpg: 800x800 12.4ms\n",
            "image 84/180 /content/drive/MyDrive/wcs2023/hvwc23/test/D3_596.jpg: 800x800 11.8ms\n",
            "image 85/180 /content/drive/MyDrive/wcs2023/hvwc23/test/D3_597.jpg: 800x800 12.1ms\n",
            "image 86/180 /content/drive/MyDrive/wcs2023/hvwc23/test/D3_604.jpg: 800x800 11.9ms\n",
            "image 87/180 /content/drive/MyDrive/wcs2023/hvwc23/test/D3_605.jpg: 800x800 11.8ms\n",
            "image 88/180 /content/drive/MyDrive/wcs2023/hvwc23/test/D3_621.jpg: 800x800 11.9ms\n",
            "image 89/180 /content/drive/MyDrive/wcs2023/hvwc23/test/D3_623.jpg: 800x800 11.9ms\n",
            "image 90/180 /content/drive/MyDrive/wcs2023/hvwc23/test/D3_629.jpg: 800x800 12.2ms\n",
            "image 91/180 /content/drive/MyDrive/wcs2023/hvwc23/test/D3_632.jpg: 800x800 12.0ms\n",
            "image 92/180 /content/drive/MyDrive/wcs2023/hvwc23/test/D3_638.jpg: 800x800 11.9ms\n",
            "image 93/180 /content/drive/MyDrive/wcs2023/hvwc23/test/D3_645.jpg: 800x800 11.8ms\n",
            "image 94/180 /content/drive/MyDrive/wcs2023/hvwc23/test/D3_651.jpg: 800x768 67.7ms\n",
            "image 95/180 /content/drive/MyDrive/wcs2023/hvwc23/test/D3_656.jpg: 800x800 1 D5-OK, 12.6ms\n",
            "image 96/180 /content/drive/MyDrive/wcs2023/hvwc23/test/D3_657.jpg: 768x800 11.5ms\n",
            "image 97/180 /content/drive/MyDrive/wcs2023/hvwc23/test/D3_659.jpg: 768x800 10.7ms\n",
            "image 98/180 /content/drive/MyDrive/wcs2023/hvwc23/test/D3_663.jpg: 800x768 11.2ms\n",
            "image 99/180 /content/drive/MyDrive/wcs2023/hvwc23/test/D3_665.jpg: 800x800 12.3ms\n",
            "image 100/180 /content/drive/MyDrive/wcs2023/hvwc23/test/D3_667.jpg: 800x800 11.9ms\n",
            "image 101/180 /content/drive/MyDrive/wcs2023/hvwc23/test/D3_668.jpg: 800x800 12.4ms\n",
            "image 102/180 /content/drive/MyDrive/wcs2023/hvwc23/test/D3_674.jpg: 768x800 11.6ms\n",
            "image 103/180 /content/drive/MyDrive/wcs2023/hvwc23/test/D3_689.jpg: 800x800 12.6ms\n",
            "image 104/180 /content/drive/MyDrive/wcs2023/hvwc23/test/D3_690.jpg: 800x768 11.0ms\n",
            "image 105/180 /content/drive/MyDrive/wcs2023/hvwc23/test/D3_693.jpg: 800x800 12.6ms\n",
            "image 106/180 /content/drive/MyDrive/wcs2023/hvwc23/test/D3_708.jpg: 800x800 11.9ms\n",
            "image 107/180 /content/drive/MyDrive/wcs2023/hvwc23/test/D3_714.jpg: 800x800 11.9ms\n",
            "image 108/180 /content/drive/MyDrive/wcs2023/hvwc23/test/D3_716.jpg: 800x800 11.8ms\n",
            "image 109/180 /content/drive/MyDrive/wcs2023/hvwc23/test/D3_720.jpg: 800x800 11.8ms\n",
            "image 110/180 /content/drive/MyDrive/wcs2023/hvwc23/test/D3_722.jpg: 800x800 12.2ms\n",
            "image 111/180 /content/drive/MyDrive/wcs2023/hvwc23/test/D3_724.jpg: 800x800 12.0ms\n",
            "image 112/180 /content/drive/MyDrive/wcs2023/hvwc23/test/D3_731.jpg: 800x800 11.9ms\n",
            "image 113/180 /content/drive/MyDrive/wcs2023/hvwc23/test/D3_742.jpg: 800x800 11.9ms\n",
            "image 114/180 /content/drive/MyDrive/wcs2023/hvwc23/test/D3_745.jpg: 800x800 12.3ms\n",
            "image 115/180 /content/drive/MyDrive/wcs2023/hvwc23/test/D3_751.jpg: 800x800 12.2ms\n",
            "image 116/180 /content/drive/MyDrive/wcs2023/hvwc23/test/D3_761.jpg: 800x800 11.9ms\n",
            "image 117/180 /content/drive/MyDrive/wcs2023/hvwc23/test/D3_762.jpg: 768x800 11.5ms\n",
            "image 118/180 /content/drive/MyDrive/wcs2023/hvwc23/test/D3_765.jpg: 800x768 11.0ms\n",
            "image 119/180 /content/drive/MyDrive/wcs2023/hvwc23/test/D3_791.jpg: 800x800 12.8ms\n",
            "image 120/180 /content/drive/MyDrive/wcs2023/hvwc23/test/D3_796.jpg: 800x800 11.9ms\n",
            "image 121/180 /content/drive/MyDrive/wcs2023/hvwc23/test/D5_004.jpg: 800x800 11.9ms\n",
            "image 122/180 /content/drive/MyDrive/wcs2023/hvwc23/test/D5_008.jpg: 800x800 12.3ms\n",
            "image 123/180 /content/drive/MyDrive/wcs2023/hvwc23/test/D5_016.jpg: 800x800 12.1ms\n",
            "image 124/180 /content/drive/MyDrive/wcs2023/hvwc23/test/D5_017.jpg: 800x800 12.0ms\n",
            "image 125/180 /content/drive/MyDrive/wcs2023/hvwc23/test/D5_019.jpg: 768x800 11.3ms\n",
            "image 126/180 /content/drive/MyDrive/wcs2023/hvwc23/test/D5_020.jpg: 800x800 12.8ms\n",
            "image 127/180 /content/drive/MyDrive/wcs2023/hvwc23/test/D5_023.jpg: 800x800 11.9ms\n",
            "image 128/180 /content/drive/MyDrive/wcs2023/hvwc23/test/D5_031.jpg: 800x800 11.9ms\n",
            "image 129/180 /content/drive/MyDrive/wcs2023/hvwc23/test/D5_034.jpg: 800x800 11.9ms\n",
            "image 130/180 /content/drive/MyDrive/wcs2023/hvwc23/test/D5_047.jpg: 800x800 1 D5-OK, 12.4ms\n",
            "image 131/180 /content/drive/MyDrive/wcs2023/hvwc23/test/D5_056.jpg: 800x800 12.1ms\n",
            "image 132/180 /content/drive/MyDrive/wcs2023/hvwc23/test/D5_061.jpg: 800x800 1 D5-OK, 11.9ms\n",
            "image 133/180 /content/drive/MyDrive/wcs2023/hvwc23/test/D5_067.jpg: 800x800 11.8ms\n",
            "image 134/180 /content/drive/MyDrive/wcs2023/hvwc23/test/D5_073.jpg: 800x800 1 D5-OK, 12.1ms\n",
            "image 135/180 /content/drive/MyDrive/wcs2023/hvwc23/test/D5_076.jpg: 768x800 1 D5-OK, 11.3ms\n",
            "image 136/180 /content/drive/MyDrive/wcs2023/hvwc23/test/D5_078.jpg: 768x800 10.8ms\n",
            "image 137/180 /content/drive/MyDrive/wcs2023/hvwc23/test/D5_079.jpg: 768x800 11.2ms\n",
            "image 138/180 /content/drive/MyDrive/wcs2023/hvwc23/test/D5_080.jpg: 800x800 13.0ms\n",
            "image 139/180 /content/drive/MyDrive/wcs2023/hvwc23/test/D5_105.jpg: 800x800 14.2ms\n",
            "image 140/180 /content/drive/MyDrive/wcs2023/hvwc23/test/D5_111.jpg: 800x800 12.0ms\n",
            "image 141/180 /content/drive/MyDrive/wcs2023/hvwc23/test/D5_119.jpg: 800x800 1 D5-OK, 11.8ms\n",
            "image 142/180 /content/drive/MyDrive/wcs2023/hvwc23/test/D5_125.jpg: 800x800 11.9ms\n",
            "image 143/180 /content/drive/MyDrive/wcs2023/hvwc23/test/D5_133.jpg: 800x800 11.9ms\n",
            "image 144/180 /content/drive/MyDrive/wcs2023/hvwc23/test/D5_141.jpg: 800x800 12.0ms\n",
            "image 145/180 /content/drive/MyDrive/wcs2023/hvwc23/test/D5_149.jpg: 800x800 1 D5-OK, 11.9ms\n",
            "image 146/180 /content/drive/MyDrive/wcs2023/hvwc23/test/D5_153.jpg: 800x800 11.9ms\n",
            "image 147/180 /content/drive/MyDrive/wcs2023/hvwc23/test/D5_159.jpg: 800x800 1 D5-OK, 11.9ms\n",
            "image 148/180 /content/drive/MyDrive/wcs2023/hvwc23/test/D5_173.jpg: 800x800 12.2ms\n",
            "image 149/180 /content/drive/MyDrive/wcs2023/hvwc23/test/D5_181.jpg: 800x800 12.0ms\n",
            "image 150/180 /content/drive/MyDrive/wcs2023/hvwc23/test/D5_203.jpg: 800x800 11.9ms\n",
            "image 151/180 /content/drive/MyDrive/wcs2023/hvwc23/test/D5_211.jpg: 800x800 12.0ms\n",
            "image 152/180 /content/drive/MyDrive/wcs2023/hvwc23/test/D5_221.jpg: 800x800 11.9ms\n",
            "image 153/180 /content/drive/MyDrive/wcs2023/hvwc23/test/D5_226.jpg: 800x800 11.9ms\n",
            "image 154/180 /content/drive/MyDrive/wcs2023/hvwc23/test/D5_247.jpg: 800x800 12.2ms\n",
            "image 155/180 /content/drive/MyDrive/wcs2023/hvwc23/test/D5_248.jpg: 800x800 1 D5-OK, 12.0ms\n",
            "image 156/180 /content/drive/MyDrive/wcs2023/hvwc23/test/D5_249.jpg: 800x800 11.9ms\n",
            "image 157/180 /content/drive/MyDrive/wcs2023/hvwc23/test/D5_251.jpg: 800x800 12.1ms\n",
            "image 158/180 /content/drive/MyDrive/wcs2023/hvwc23/test/D5_262.jpg: 800x800 12.0ms\n",
            "image 159/180 /content/drive/MyDrive/wcs2023/hvwc23/test/D5_267.jpg: 800x800 12.2ms\n",
            "image 160/180 /content/drive/MyDrive/wcs2023/hvwc23/test/D5_272.jpg: 800x800 12.0ms\n",
            "image 161/180 /content/drive/MyDrive/wcs2023/hvwc23/test/D5_275.jpg: 800x800 1 D5-OK, 11.9ms\n",
            "image 162/180 /content/drive/MyDrive/wcs2023/hvwc23/test/D5_281.jpg: 800x800 11.9ms\n",
            "image 163/180 /content/drive/MyDrive/wcs2023/hvwc23/test/D5_282.jpg: 800x800 12.2ms\n",
            "image 164/180 /content/drive/MyDrive/wcs2023/hvwc23/test/D5_286.jpg: 800x800 12.0ms\n",
            "image 165/180 /content/drive/MyDrive/wcs2023/hvwc23/test/D5_290.jpg: 800x800 11.9ms\n",
            "image 166/180 /content/drive/MyDrive/wcs2023/hvwc23/test/D5_293.jpg: 800x800 1 D5-OK, 12.2ms\n",
            "image 167/180 /content/drive/MyDrive/wcs2023/hvwc23/test/D5_295.jpg: 800x800 12.0ms\n",
            "image 168/180 /content/drive/MyDrive/wcs2023/hvwc23/test/D5_302.jpg: 800x800 11.9ms\n",
            "image 169/180 /content/drive/MyDrive/wcs2023/hvwc23/test/D5_315.jpg: 800x800 11.9ms\n",
            "image 170/180 /content/drive/MyDrive/wcs2023/hvwc23/test/D5_322.jpg: 800x800 13.1ms\n",
            "image 171/180 /content/drive/MyDrive/wcs2023/hvwc23/test/D5_330.jpg: 800x800 1 D5-OK, 11.8ms\n",
            "image 172/180 /content/drive/MyDrive/wcs2023/hvwc23/test/D5_339.jpg: 800x800 1 D5-OK, 11.8ms\n",
            "image 173/180 /content/drive/MyDrive/wcs2023/hvwc23/test/D5_343.jpg: 800x800 11.8ms\n",
            "image 174/180 /content/drive/MyDrive/wcs2023/hvwc23/test/D5_356.jpg: 800x800 11.8ms\n",
            "image 175/180 /content/drive/MyDrive/wcs2023/hvwc23/test/D5_370.jpg: 800x800 1 D5-OK, 11.8ms\n",
            "image 176/180 /content/drive/MyDrive/wcs2023/hvwc23/test/D5_375.jpg: 800x800 12.1ms\n",
            "image 177/180 /content/drive/MyDrive/wcs2023/hvwc23/test/D5_377.jpg: 800x800 12.0ms\n",
            "image 178/180 /content/drive/MyDrive/wcs2023/hvwc23/test/D5_386.jpg: 800x800 12.0ms\n",
            "image 179/180 /content/drive/MyDrive/wcs2023/hvwc23/test/D5_388.jpg: 768x800 1 D5-OK, 11.6ms\n",
            "image 180/180 /content/drive/MyDrive/wcs2023/hvwc23/test/D5_389.jpg: 800x800 13.0ms\n",
            "Speed: 0.7ms pre-process, 13.9ms inference, 1.3ms postprocess per image at shape (1, 3, 800, 800)\n",
            "Results saved to \u001b[1mruns/detect/predict\u001b[0m\n"
          ]
        }
      ]
    },
    {
      "cell_type": "code",
      "source": [
        "%cd /content/drive/MyDrive/wcs2023/Hieu/D5"
      ],
      "metadata": {
        "colab": {
          "base_uri": "https://localhost:8080/"
        },
        "id": "Ja7UZG17Lne7",
        "outputId": "018fe64f-0e34-4097-c5a0-1baba3d7a934"
      },
      "execution_count": null,
      "outputs": [
        {
          "output_type": "stream",
          "name": "stdout",
          "text": [
            "/content/drive/MyDrive/wcs2023/Hieu/D5\n"
          ]
        }
      ]
    },
    {
      "cell_type": "code",
      "source": [
        "!yolo task=detect mode=train model=yolov8s.pt data=/content/drive/MyDrive/wcs2023/Hieu/D5/Data/Embryo-16/data.yaml epochs=25 imgsz=800 plots=True"
      ],
      "metadata": {
        "colab": {
          "base_uri": "https://localhost:8080/"
        },
        "id": "CocyNJJQCH8j",
        "outputId": "f05518eb-f7c1-45c7-dabb-1b305f2084d0"
      },
      "execution_count": null,
      "outputs": [
        {
          "output_type": "stream",
          "name": "stdout",
          "text": [
            "Ultralytics YOLOv8.0.20 🚀 Python-3.10.12 torch-2.0.1+cu118 CUDA:0 (Tesla T4, 15102MiB)\n",
            "\u001b[34m\u001b[1myolo/engine/trainer: \u001b[0mtask=detect, mode=train, model=yolov8s.yaml, data=/content/drive/MyDrive/wcs2023/Hieu/D5/Data/Embryo-16/data.yaml, epochs=25, patience=50, batch=16, imgsz=800, save=True, cache=False, device=, workers=8, project=None, name=None, exist_ok=False, pretrained=False, optimizer=SGD, verbose=True, seed=0, deterministic=True, single_cls=False, image_weights=False, rect=False, cos_lr=False, close_mosaic=10, resume=False, overlap_mask=True, mask_ratio=4, dropout=False, val=True, save_json=False, save_hybrid=False, conf=0.001, iou=0.7, max_det=300, half=False, dnn=False, plots=True, source=ultralytics/assets/, show=False, save_txt=False, save_conf=False, save_crop=False, hide_labels=False, hide_conf=False, vid_stride=1, line_thickness=3, visualize=False, augment=False, agnostic_nms=False, classes=None, retina_masks=False, boxes=True, format=torchscript, keras=False, optimize=False, int8=False, dynamic=False, simplify=False, opset=17, workspace=4, nms=False, lr0=0.01, lrf=0.01, momentum=0.937, weight_decay=0.001, warmup_epochs=3.0, warmup_momentum=0.8, warmup_bias_lr=0.1, box=7.5, cls=0.5, dfl=1.5, fl_gamma=0.0, label_smoothing=0.0, nbs=64, hsv_h=0.015, hsv_s=0.7, hsv_v=0.4, degrees=0.0, translate=0.1, scale=0.5, shear=0.0, perspective=0.0, flipud=0.0, fliplr=0.5, mosaic=1.0, mixup=0.0, copy_paste=0.0, cfg=None, v5loader=False, save_dir=runs/detect/train13\n",
            "2023-10-11 09:31:31.970288: I tensorflow/core/platform/cpu_feature_guard.cc:182] This TensorFlow binary is optimized to use available CPU instructions in performance-critical operations.\n",
            "To enable the following instructions: AVX2 AVX512F FMA, in other operations, rebuild TensorFlow with the appropriate compiler flags.\n",
            "2023-10-11 09:31:33.350348: W tensorflow/compiler/tf2tensorrt/utils/py_utils.cc:38] TF-TRT Warning: Could not find TensorRT\n",
            "Overriding model.yaml nc=80 with nc=2\n",
            "\n",
            "                   from  n    params  module                                       arguments                     \n",
            "  0                  -1  1       928  ultralytics.nn.modules.Conv                  [3, 32, 3, 2]                 \n",
            "  1                  -1  1     18560  ultralytics.nn.modules.Conv                  [32, 64, 3, 2]                \n",
            "  2                  -1  1     29056  ultralytics.nn.modules.C2f                   [64, 64, 1, True]             \n",
            "  3                  -1  1     73984  ultralytics.nn.modules.Conv                  [64, 128, 3, 2]               \n",
            "  4                  -1  2    197632  ultralytics.nn.modules.C2f                   [128, 128, 2, True]           \n",
            "  5                  -1  1    295424  ultralytics.nn.modules.Conv                  [128, 256, 3, 2]              \n",
            "  6                  -1  2    788480  ultralytics.nn.modules.C2f                   [256, 256, 2, True]           \n",
            "  7                  -1  1   1180672  ultralytics.nn.modules.Conv                  [256, 512, 3, 2]              \n",
            "  8                  -1  1   1838080  ultralytics.nn.modules.C2f                   [512, 512, 1, True]           \n",
            "  9                  -1  1    656896  ultralytics.nn.modules.SPPF                  [512, 512, 5]                 \n",
            " 10                  -1  1         0  torch.nn.modules.upsampling.Upsample         [None, 2, 'nearest']          \n",
            " 11             [-1, 6]  1         0  ultralytics.nn.modules.Concat                [1]                           \n",
            " 12                  -1  1    591360  ultralytics.nn.modules.C2f                   [768, 256, 1]                 \n",
            " 13                  -1  1         0  torch.nn.modules.upsampling.Upsample         [None, 2, 'nearest']          \n",
            " 14             [-1, 4]  1         0  ultralytics.nn.modules.Concat                [1]                           \n",
            " 15                  -1  1    148224  ultralytics.nn.modules.C2f                   [384, 128, 1]                 \n",
            " 16                  -1  1    147712  ultralytics.nn.modules.Conv                  [128, 128, 3, 2]              \n",
            " 17            [-1, 12]  1         0  ultralytics.nn.modules.Concat                [1]                           \n",
            " 18                  -1  1    493056  ultralytics.nn.modules.C2f                   [384, 256, 1]                 \n",
            " 19                  -1  1    590336  ultralytics.nn.modules.Conv                  [256, 256, 3, 2]              \n",
            " 20             [-1, 9]  1         0  ultralytics.nn.modules.Concat                [1]                           \n",
            " 21                  -1  1   1969152  ultralytics.nn.modules.C2f                   [768, 512, 1]                 \n",
            " 22        [15, 18, 21]  1   2116822  ultralytics.nn.modules.Detect                [2, [128, 256, 512]]          \n",
            "Model summary: 225 layers, 11136374 parameters, 11136358 gradients, 28.6 GFLOPs\n",
            "\n",
            "Transferred 349/355 items from pretrained weights\n",
            "\u001b[34m\u001b[1moptimizer:\u001b[0m SGD(lr=0.01) with parameter groups 57 weight(decay=0.0), 64 weight(decay=0.001), 63 bias\n",
            "\u001b[34m\u001b[1mtrain: \u001b[0mScanning /content/drive/MyDrive/wcs2023/Hieu/D5/Data/Embryo-16/train/labels... 566 images, 0 backgrounds, 0 corrupt: 100% 566/566 [07:53<00:00,  1.20it/s]\n",
            "\u001b[34m\u001b[1mtrain: \u001b[0mNew cache created: /content/drive/MyDrive/wcs2023/Hieu/D5/Data/Embryo-16/train/labels.cache\n",
            "\u001b[34m\u001b[1malbumentations: \u001b[0mBlur(p=0.01, blur_limit=(3, 7)), MedianBlur(p=0.01, blur_limit=(3, 7)), ToGray(p=0.01), CLAHE(p=0.01, clip_limit=(1, 4.0), tile_grid_size=(8, 8))\n",
            "\u001b[34m\u001b[1mval: \u001b[0mScanning /content/drive/MyDrive/wcs2023/Hieu/D5/Data/Embryo-16/valid/labels... 28 images, 0 backgrounds, 0 corrupt: 100% 28/28 [00:46<00:00,  1.65s/it]\n",
            "\u001b[34m\u001b[1mval: \u001b[0mNew cache created: /content/drive/MyDrive/wcs2023/Hieu/D5/Data/Embryo-16/valid/labels.cache\n",
            "Image sizes 800 train, 800 val\n",
            "Using 2 dataloader workers\n",
            "Logging results to \u001b[1mruns/detect/train13\u001b[0m\n",
            "Starting training for 25 epochs...\n",
            "\n",
            "      Epoch    GPU_mem   box_loss   cls_loss   dfl_loss  Instances       Size\n",
            "       1/25      5.95G      1.926      3.523      2.533         13        800: 100% 36/36 [00:26<00:00,  1.34it/s]\n",
            "                 Class     Images  Instances      Box(P          R      mAP50  mAP50-95): 100% 1/1 [00:01<00:00,  1.13s/it]\n",
            "                   all         28         28      0.759      0.388      0.334      0.203\n",
            "                 D5-NG         28         18      0.518      0.775      0.636      0.393\n",
            "                 D5-OK         28         10          1          0     0.0315     0.0139\n",
            "\n",
            "      Epoch    GPU_mem   box_loss   cls_loss   dfl_loss  Instances       Size\n",
            "       2/25      7.04G      1.059      1.335      1.747         16        800: 100% 36/36 [00:25<00:00,  1.43it/s]\n",
            "                 Class     Images  Instances      Box(P          R      mAP50  mAP50-95): 100% 1/1 [00:00<00:00,  1.24it/s]\n",
            "                   all         28         28      0.376       0.85      0.581      0.316\n",
            "                 D5-NG         28         18      0.354          1      0.662      0.384\n",
            "                 D5-OK         28         10      0.397        0.7        0.5      0.247\n",
            "\n",
            "      Epoch    GPU_mem   box_loss   cls_loss   dfl_loss  Instances       Size\n",
            "       3/25      7.04G     0.9357      1.161      1.615         13        800: 100% 36/36 [00:25<00:00,  1.40it/s]\n",
            "                 Class     Images  Instances      Box(P          R      mAP50  mAP50-95): 100% 1/1 [00:00<00:00,  1.41it/s]\n",
            "                   all         28         28      0.411       0.75      0.589      0.317\n",
            "                 D5-NG         28         18      0.505          1      0.775      0.397\n",
            "                 D5-OK         28         10      0.318        0.5      0.402      0.237\n",
            "\n",
            "      Epoch    GPU_mem   box_loss   cls_loss   dfl_loss  Instances       Size\n",
            "       4/25      7.04G     0.9391      1.032      1.587         12        800: 100% 36/36 [00:26<00:00,  1.35it/s]\n",
            "                 Class     Images  Instances      Box(P          R      mAP50  mAP50-95): 100% 1/1 [00:00<00:00,  1.12it/s]\n",
            "                   all         28         28      0.474      0.926      0.617      0.464\n",
            "                 D5-NG         28         18      0.568      0.951       0.75      0.583\n",
            "                 D5-OK         28         10       0.38        0.9      0.483      0.346\n",
            "\n",
            "      Epoch    GPU_mem   box_loss   cls_loss   dfl_loss  Instances       Size\n",
            "       5/25      7.05G      0.891      1.023      1.577         11        800: 100% 36/36 [00:27<00:00,  1.30it/s]\n",
            "                 Class     Images  Instances      Box(P          R      mAP50  mAP50-95): 100% 1/1 [00:00<00:00,  1.39it/s]\n",
            "                   all         28         28      0.627      0.649      0.709      0.516\n",
            "                 D5-NG         28         18      0.683      0.599      0.766      0.596\n",
            "                 D5-OK         28         10       0.57        0.7      0.653      0.436\n",
            "\n",
            "      Epoch    GPU_mem   box_loss   cls_loss   dfl_loss  Instances       Size\n",
            "       6/25      7.05G     0.8774     0.9851      1.548         18        800: 100% 36/36 [00:27<00:00,  1.33it/s]\n",
            "                 Class     Images  Instances      Box(P          R      mAP50  mAP50-95): 100% 1/1 [00:00<00:00,  1.36it/s]\n",
            "                   all         28         28      0.637      0.717      0.659      0.498\n",
            "                 D5-NG         28         18      0.757      0.833      0.879      0.712\n",
            "                 D5-OK         28         10      0.517        0.6       0.44      0.284\n",
            "\n",
            "      Epoch    GPU_mem   box_loss   cls_loss   dfl_loss  Instances       Size\n",
            "       7/25      7.05G     0.8284     0.9521      1.504         17        800: 100% 36/36 [00:26<00:00,  1.37it/s]\n",
            "                 Class     Images  Instances      Box(P          R      mAP50  mAP50-95): 100% 1/1 [00:00<00:00,  1.33it/s]\n",
            "                   all         28         28      0.571      0.794      0.692       0.48\n",
            "                 D5-NG         28         18      0.621      0.889      0.884      0.662\n",
            "                 D5-OK         28         10      0.521        0.7        0.5      0.298\n",
            "\n",
            "      Epoch    GPU_mem   box_loss   cls_loss   dfl_loss  Instances       Size\n",
            "       8/25      7.05G     0.8796     0.9407      1.541         16        800: 100% 36/36 [00:26<00:00,  1.36it/s]\n",
            "                 Class     Images  Instances      Box(P          R      mAP50  mAP50-95): 100% 1/1 [00:00<00:00,  1.39it/s]\n",
            "                   all         28         28       0.56      0.747       0.69      0.439\n",
            "                 D5-NG         28         18      0.668      0.895      0.871       0.59\n",
            "                 D5-OK         28         10      0.452        0.6       0.51      0.288\n",
            "\n",
            "      Epoch    GPU_mem   box_loss   cls_loss   dfl_loss  Instances       Size\n",
            "       9/25      7.05G     0.8492     0.9524      1.532         15        800: 100% 36/36 [00:26<00:00,  1.38it/s]\n",
            "                 Class     Images  Instances      Box(P          R      mAP50  mAP50-95): 100% 1/1 [00:00<00:00,  1.39it/s]\n",
            "                   all         28         28      0.541      0.706      0.541      0.387\n",
            "                 D5-NG         28         18      0.898      0.611      0.862      0.615\n",
            "                 D5-OK         28         10      0.184        0.8       0.22      0.158\n",
            "\n",
            "      Epoch    GPU_mem   box_loss   cls_loss   dfl_loss  Instances       Size\n",
            "      10/25      7.05G     0.8369     0.9102        1.5         15        800: 100% 36/36 [00:24<00:00,  1.46it/s]\n",
            "                 Class     Images  Instances      Box(P          R      mAP50  mAP50-95): 100% 1/1 [00:00<00:00,  1.15it/s]\n",
            "                   all         28         28      0.649      0.743      0.724      0.562\n",
            "                 D5-NG         28         18      0.666      0.886      0.855      0.694\n",
            "                 D5-OK         28         10      0.631        0.6      0.592      0.431\n",
            "\n",
            "      Epoch    GPU_mem   box_loss   cls_loss   dfl_loss  Instances       Size\n",
            "      11/25      7.05G     0.7976     0.8858      1.461         18        800: 100% 36/36 [00:25<00:00,  1.39it/s]\n",
            "                 Class     Images  Instances      Box(P          R      mAP50  mAP50-95): 100% 1/1 [00:00<00:00,  1.12it/s]\n",
            "                   all         28         28      0.555      0.835      0.754      0.605\n",
            "                 D5-NG         28         18      0.629      0.833      0.835      0.722\n",
            "                 D5-OK         28         10      0.481      0.836      0.674      0.488\n",
            "\n",
            "      Epoch    GPU_mem   box_loss   cls_loss   dfl_loss  Instances       Size\n",
            "      12/25      7.05G     0.7842     0.8808      1.457         19        800: 100% 36/36 [00:25<00:00,  1.40it/s]\n",
            "                 Class     Images  Instances      Box(P          R      mAP50  mAP50-95): 100% 1/1 [00:00<00:00,  1.31it/s]\n",
            "                   all         28         28      0.534      0.864      0.698      0.541\n",
            "                 D5-NG         28         18      0.633       0.96      0.842      0.691\n",
            "                 D5-OK         28         10      0.434      0.768      0.554      0.391\n",
            "\n",
            "      Epoch    GPU_mem   box_loss   cls_loss   dfl_loss  Instances       Size\n",
            "      13/25      7.05G     0.7688     0.8622      1.447         15        800: 100% 36/36 [00:26<00:00,  1.37it/s]\n",
            "                 Class     Images  Instances      Box(P          R      mAP50  mAP50-95): 100% 1/1 [00:00<00:00,  1.38it/s]\n",
            "                   all         28         28      0.518        0.9      0.688      0.559\n",
            "                 D5-NG         28         18      0.605          1      0.808      0.679\n",
            "                 D5-OK         28         10      0.432        0.8      0.568       0.44\n",
            "\n",
            "      Epoch    GPU_mem   box_loss   cls_loss   dfl_loss  Instances       Size\n",
            "      14/25      7.05G     0.7879     0.8587      1.441         17        800: 100% 36/36 [00:28<00:00,  1.27it/s]\n",
            "                 Class     Images  Instances      Box(P          R      mAP50  mAP50-95): 100% 1/1 [00:00<00:00,  1.44it/s]\n",
            "                   all         28         28      0.541      0.919      0.723      0.549\n",
            "                 D5-NG         28         18      0.625          1      0.845      0.707\n",
            "                 D5-OK         28         10      0.456      0.839      0.601      0.391\n",
            "\n",
            "      Epoch    GPU_mem   box_loss   cls_loss   dfl_loss  Instances       Size\n",
            "      15/25      7.05G     0.7626     0.8469      1.446         11        800: 100% 36/36 [00:26<00:00,  1.36it/s]\n",
            "                 Class     Images  Instances      Box(P          R      mAP50  mAP50-95): 100% 1/1 [00:00<00:00,  1.42it/s]\n",
            "                   all         28         28      0.553       0.95      0.758      0.597\n",
            "                 D5-NG         28         18       0.64          1      0.865      0.722\n",
            "                 D5-OK         28         10      0.466        0.9      0.652      0.472\n",
            "Closing dataloader mosaic\n",
            "\u001b[34m\u001b[1malbumentations: \u001b[0mBlur(p=0.01, blur_limit=(3, 7)), MedianBlur(p=0.01, blur_limit=(3, 7)), ToGray(p=0.01), CLAHE(p=0.01, clip_limit=(1, 4.0), tile_grid_size=(8, 8))\n",
            "\n",
            "      Epoch    GPU_mem   box_loss   cls_loss   dfl_loss  Instances       Size\n",
            "      16/25      7.05G     0.6224     0.7898      1.535          6        800: 100% 36/36 [00:20<00:00,  1.74it/s]\n",
            "                 Class     Images  Instances      Box(P          R      mAP50  mAP50-95): 100% 1/1 [00:00<00:00,  1.03it/s]\n",
            "                   all         28         28      0.591      0.896      0.667       0.56\n",
            "                 D5-NG         28         18      0.691      0.993      0.856      0.755\n",
            "                 D5-OK         28         10      0.492        0.8      0.478      0.364\n",
            "\n",
            "      Epoch    GPU_mem   box_loss   cls_loss   dfl_loss  Instances       Size\n",
            "      17/25      7.05G     0.5639     0.6927      1.472          6        800: 100% 36/36 [00:18<00:00,  1.97it/s]\n",
            "                 Class     Images  Instances      Box(P          R      mAP50  mAP50-95): 100% 1/1 [00:00<00:00,  1.28it/s]\n",
            "                   all         28         28      0.585      0.872       0.69      0.566\n",
            "                 D5-NG         28         18      0.728      0.944      0.836      0.714\n",
            "                 D5-OK         28         10      0.442        0.8      0.544      0.418\n",
            "\n",
            "      Epoch    GPU_mem   box_loss   cls_loss   dfl_loss  Instances       Size\n",
            "      18/25      7.05G     0.5206     0.6273        1.4          6        800: 100% 36/36 [00:18<00:00,  1.97it/s]\n",
            "                 Class     Images  Instances      Box(P          R      mAP50  mAP50-95): 100% 1/1 [00:00<00:00,  1.39it/s]\n",
            "                   all         28         28      0.551        0.9      0.737      0.606\n",
            "                 D5-NG         28         18      0.675          1      0.833      0.727\n",
            "                 D5-OK         28         10      0.426        0.8      0.642      0.485\n",
            "\n",
            "      Epoch    GPU_mem   box_loss   cls_loss   dfl_loss  Instances       Size\n",
            "      19/25      7.05G     0.5049     0.5893       1.37          6        800: 100% 36/36 [00:19<00:00,  1.82it/s]\n",
            "                 Class     Images  Instances      Box(P          R      mAP50  mAP50-95): 100% 1/1 [00:00<00:00,  1.37it/s]\n",
            "                   all         28         28      0.608      0.993       0.81      0.694\n",
            "                 D5-NG         28         18      0.747      0.985      0.873      0.797\n",
            "                 D5-OK         28         10      0.469          1      0.746      0.592\n",
            "\n",
            "      Epoch    GPU_mem   box_loss   cls_loss   dfl_loss  Instances       Size\n",
            "      20/25      7.05G     0.4736     0.5442      1.322          6        800: 100% 36/36 [00:18<00:00,  1.98it/s]\n",
            "                 Class     Images  Instances      Box(P          R      mAP50  mAP50-95): 100% 1/1 [00:00<00:00,  1.21it/s]\n",
            "                   all         28         28      0.646       0.75      0.782      0.693\n",
            "                 D5-NG         28         18      0.644          1      0.851      0.772\n",
            "                 D5-OK         28         10      0.649        0.5      0.714      0.614\n",
            "\n",
            "      Epoch    GPU_mem   box_loss   cls_loss   dfl_loss  Instances       Size\n",
            "      21/25      7.05G     0.4671     0.5345      1.307          6        800: 100% 36/36 [00:18<00:00,  1.98it/s]\n",
            "                 Class     Images  Instances      Box(P          R      mAP50  mAP50-95): 100% 1/1 [00:00<00:00,  1.23it/s]\n",
            "                   all         28         28      0.576          1       0.74      0.616\n",
            "                 D5-NG         28         18       0.71          1      0.854      0.754\n",
            "                 D5-OK         28         10      0.441          1      0.626      0.479\n",
            "\n",
            "      Epoch    GPU_mem   box_loss   cls_loss   dfl_loss  Instances       Size\n",
            "      22/25      7.05G     0.4531     0.5096      1.277          6        800: 100% 36/36 [00:19<00:00,  1.83it/s]\n",
            "                 Class     Images  Instances      Box(P          R      mAP50  mAP50-95): 100% 1/1 [00:00<00:00,  1.38it/s]\n",
            "                   all         28         28      0.587      0.972      0.729      0.614\n",
            "                 D5-NG         28         18      0.735      0.944      0.872      0.777\n",
            "                 D5-OK         28         10      0.439          1      0.586       0.45\n",
            "\n",
            "      Epoch    GPU_mem   box_loss   cls_loss   dfl_loss  Instances       Size\n",
            "      23/25      7.05G     0.4453     0.4673      1.293          6        800: 100% 36/36 [00:18<00:00,  1.99it/s]\n",
            "                 Class     Images  Instances      Box(P          R      mAP50  mAP50-95): 100% 1/1 [00:00<00:00,  1.38it/s]\n",
            "                   all         28         28      0.603       0.96      0.781      0.654\n",
            "                 D5-NG         28         18      0.747      0.983      0.896      0.777\n",
            "                 D5-OK         28         10       0.46      0.938      0.666      0.531\n",
            "\n",
            "      Epoch    GPU_mem   box_loss   cls_loss   dfl_loss  Instances       Size\n",
            "      24/25      7.05G     0.4224     0.4337      1.232          6        800: 100% 36/36 [00:18<00:00,  1.98it/s]\n",
            "                 Class     Images  Instances      Box(P          R      mAP50  mAP50-95): 100% 1/1 [00:00<00:00,  1.10it/s]\n",
            "                   all         28         28      0.603      0.741      0.733      0.627\n",
            "                 D5-NG         28         18      0.716          1      0.823      0.737\n",
            "                 D5-OK         28         10       0.49      0.482      0.642      0.516\n",
            "\n",
            "      Epoch    GPU_mem   box_loss   cls_loss   dfl_loss  Instances       Size\n",
            "      25/25      7.05G     0.4236     0.4149      1.239          6        800: 100% 36/36 [00:18<00:00,  1.90it/s]\n",
            "                 Class     Images  Instances      Box(P          R      mAP50  mAP50-95): 100% 1/1 [00:00<00:00,  1.14it/s]\n",
            "                   all         28         28      0.593      0.954       0.73      0.626\n",
            "                 D5-NG         28         18       0.71          1      0.881      0.798\n",
            "                 D5-OK         28         10      0.476      0.907      0.579      0.453\n",
            "\n",
            "25 epochs completed in 0.175 hours.\n",
            "Optimizer stripped from runs/detect/train13/weights/last.pt, 22.5MB\n",
            "Optimizer stripped from runs/detect/train13/weights/best.pt, 22.5MB\n",
            "\n",
            "Validating runs/detect/train13/weights/best.pt...\n",
            "Ultralytics YOLOv8.0.20 🚀 Python-3.10.12 torch-2.0.1+cu118 CUDA:0 (Tesla T4, 15102MiB)\n",
            "Model summary (fused): 168 layers, 11126358 parameters, 0 gradients, 28.4 GFLOPs\n",
            "                 Class     Images  Instances      Box(P          R      mAP50  mAP50-95): 100% 1/1 [00:01<00:00,  1.05s/it]\n",
            "                   all         28         28      0.608      0.993       0.81      0.694\n",
            "                 D5-NG         28         18      0.747      0.986      0.873      0.797\n",
            "                 D5-OK         28         10      0.469          1      0.746      0.592\n",
            "Speed: 0.3ms pre-process, 7.6ms inference, 0.0ms loss, 1.2ms post-process per image\n",
            "Results saved to \u001b[1mruns/detect/train13\u001b[0m\n"
          ]
        }
      ]
    },
    {
      "cell_type": "code",
      "source": [
        "from cv2 import CirclesGridFinderParameters_SYMMETRIC_GRID\n",
        "import os\n",
        "import csv\n",
        "test_dir = '/content/drive/MyDrive/wcs2023/hvwc23/test'\n",
        "test_name_dir = '/content/drive/MyDrive/wcs2023/hvwc23/test.csv'\n",
        "result_dir = '/content/drive/MyDrive/wcs2023/result/submission.csv'\n",
        "class_names_D3 = {0:'D3-NG', 1:'D3-OK'}\n",
        "class_names_D5 = {0:'D5-NG', 1:'D5-OK'}\n",
        "test_id = []\n",
        "test_name = []\n",
        "\n",
        "with open(result_dir, 'w', newline='') as f:\n",
        "  summit = csv.writer(f)\n",
        "  summit.writerow(['ID', 'Class'])\n",
        "with open(test_name_dir, 'r') as f:\n",
        "  test_name_reader = csv.reader(f)\n",
        "  next(test_name_reader)\n",
        "  for row in test_name_reader:\n",
        "    test_id.append(int(row[0]))\n",
        "    test_name.append(row[1])\n",
        "\n",
        "# model_D3 = YOLO('/content/drive/MyDrive/wcs2023/Hieu/D3/runs/detect/train9/weights/best.pt')\n",
        "# model_D5 = YOLO('/content/drive/MyDrive/wcs2023/Hieu/D5/runs/detect/train6/weights/best.pt')\n",
        "\n",
        "model_D3 = YOLO('/content/drive/MyDrive/wcs2023/Hieu/D3/runs/detect/train12/weights/best.pt')\n",
        "model_D5 = YOLO('/content/drive/MyDrive/wcs2023/Hieu/D5/runs/detect/train12/weights/best.pt')\n",
        "for count in test_id:\n",
        "    #print(image)\n",
        "    image = test_name[count-1]\n",
        "    print('processing ', image)\n",
        "    flag = 0\n",
        "    file_extension = os.path.splitext(image)[0]\n",
        "    #print('file: ', file_extension)\n",
        "    day_of_embryo = file_extension.split('_')[0]\n",
        "    if day_of_embryo == 'D3':\n",
        "      results = model_D3(os.path.join(test_dir, image))\n",
        "      class_names = class_names_D3\n",
        "    else:\n",
        "      results = model_D5(os.path.join(test_dir, image))\n",
        "      class_names = class_names_D5\n",
        "    #print(results)\n",
        "    bbox_info = results[0].boxes\n",
        "    class_id = bbox_info.cls.tolist()\n",
        "    print(class_id)\n",
        "    if len(class_id) == 1:\n",
        "      id = 1\n",
        "      print('id of image: ', id)\n",
        "      with open(result_dir, 'a', newline='') as f:\n",
        "        submission = csv.writer(f)\n",
        "        submission.writerow([count, id])\n",
        "\n",
        "    else:\n",
        "      id = 0\n",
        "\n",
        "      print('id of image: ', id)\n",
        "      with open(result_dir, 'a', newline='') as f:\n",
        "        submission = csv.writer(f)\n",
        "        submission.writerow([count, id])\n"
      ],
      "metadata": {
        "colab": {
          "base_uri": "https://localhost:8080/"
        },
        "id": "garILx6CBogz",
        "outputId": "126186ea-739b-4ad0-d0b2-482e5af0a456"
      },
      "execution_count": null,
      "outputs": [
        {
          "output_type": "stream",
          "name": "stderr",
          "text": [
            "Ultralytics YOLOv8.0.20 🚀 Python-3.10.12 torch-2.0.1+cu118 CUDA:0 (Tesla T4, 15102MiB)\n"
          ]
        },
        {
          "output_type": "stream",
          "name": "stdout",
          "text": [
            "processing  D3_693.jpg\n"
          ]
        },
        {
          "output_type": "stream",
          "name": "stderr",
          "text": [
            "Model summary (fused): 168 layers, 11125971 parameters, 0 gradients, 28.4 GFLOPs\n"
          ]
        },
        {
          "output_type": "stream",
          "name": "stdout",
          "text": [
            "[]\n",
            "id of image:  0\n",
            "processing  D3_212.jpg\n",
            "[]\n",
            "id of image:  0\n",
            "processing  D3_724.jpg\n",
            "[]\n",
            "id of image:  0\n",
            "processing  D3_623.jpg\n",
            "[0.0]\n",
            "id of image:  1\n",
            "processing  D3_210.jpg\n",
            "[]\n",
            "id of image:  0\n",
            "processing  D3_590.jpg\n",
            "[]\n",
            "id of image:  0\n",
            "processing  D3_651.jpg\n",
            "[0.0]\n",
            "id of image:  1\n",
            "processing  D3_384.jpg\n",
            "[]\n",
            "id of image:  0\n",
            "processing  D3_287.jpg\n",
            "[]\n",
            "id of image:  0\n",
            "processing  D3_235.jpg\n",
            "[]\n",
            "id of image:  0\n",
            "processing  D3_638.jpg\n",
            "[]\n",
            "id of image:  0\n",
            "processing  D3_327.jpg\n",
            "[]\n",
            "id of image:  0\n",
            "processing  D3_067.jpg\n",
            "[0.0]\n",
            "id of image:  1\n",
            "processing  D3_119.jpg\n",
            "[]\n",
            "id of image:  0\n",
            "processing  D3_579.jpg\n",
            "[0.0]\n",
            "id of image:  1\n",
            "processing  D3_645.jpg\n",
            "[]\n",
            "id of image:  0\n",
            "processing  D3_310.jpg\n",
            "[]\n",
            "id of image:  0\n",
            "processing  D3_656.jpg\n",
            "[]\n",
            "id of image:  0\n",
            "processing  D3_507.jpg\n",
            "[]\n",
            "id of image:  0\n",
            "processing  D3_267.jpg\n",
            "[]\n",
            "id of image:  0\n",
            "processing  D3_449.jpg\n",
            "[]\n",
            "id of image:  0\n",
            "processing  D3_674.jpg\n",
            "[]\n",
            "id of image:  0\n",
            "processing  D3_546.jpg\n",
            "[0.0]\n",
            "id of image:  1\n",
            "processing  D3_714.jpg\n",
            "[]\n",
            "id of image:  0\n",
            "processing  D3_232.jpg\n",
            "[]\n",
            "id of image:  0\n",
            "processing  D3_596.jpg\n",
            "[0.0]\n",
            "id of image:  1\n",
            "processing  D3_520.jpg\n",
            "[]\n",
            "id of image:  0\n",
            "processing  D3_140.jpg\n",
            "[]\n",
            "id of image:  0\n",
            "processing  D3_720.jpg\n",
            "[]\n",
            "id of image:  0\n",
            "processing  D3_722.jpg\n",
            "[]\n",
            "id of image:  0\n",
            "processing  D3_621.jpg\n",
            "[0.0]\n",
            "id of image:  1\n",
            "processing  D3_182.jpg\n",
            "[]\n",
            "id of image:  0\n",
            "processing  D3_138.jpg\n",
            "[]\n",
            "id of image:  0\n",
            "processing  D3_742.jpg\n",
            "[]\n",
            "id of image:  0\n",
            "processing  D3_291.jpg\n",
            "[]\n",
            "id of image:  0\n",
            "processing  D3_597.jpg\n",
            "[]\n",
            "id of image:  0\n",
            "processing  D3_629.jpg\n",
            "[]\n",
            "id of image:  0\n",
            "processing  D3_528.jpg\n",
            "[]\n",
            "id of image:  0\n",
            "processing  D3_324.jpg\n",
            "[0.0]\n",
            "id of image:  1\n",
            "processing  D3_465.jpg\n",
            "[0.0]\n",
            "id of image:  1\n",
            "processing  D3_007.jpg\n",
            "[]\n",
            "id of image:  0\n",
            "processing  D3_534.jpg\n",
            "[]\n",
            "id of image:  0\n",
            "processing  D3_205.jpg\n",
            "[]\n",
            "id of image:  0\n",
            "processing  D3_295.jpg\n",
            "[]\n",
            "id of image:  0\n",
            "processing  D3_689.jpg\n",
            "[]\n",
            "id of image:  0\n",
            "processing  D3_194.jpg\n",
            "[]\n",
            "id of image:  0\n",
            "processing  D3_690.jpg\n",
            "[]\n",
            "id of image:  0\n",
            "processing  D3_665.jpg\n",
            "[]\n",
            "id of image:  0\n",
            "processing  D3_535.jpg\n",
            "[]\n",
            "id of image:  0\n",
            "processing  D3_343.jpg\n",
            "[0.0]\n",
            "id of image:  1\n",
            "processing  D3_429.jpg\n",
            "[]\n",
            "id of image:  0\n",
            "processing  D3_040.jpg\n",
            "[]\n",
            "id of image:  0\n",
            "processing  D3_491.jpg\n",
            "[]\n",
            "id of image:  0\n",
            "processing  D3_708.jpg\n",
            "[]\n",
            "id of image:  0\n",
            "processing  D3_426.jpg\n",
            "[]\n",
            "id of image:  0\n",
            "processing  D3_716.jpg\n",
            "[]\n",
            "id of image:  0\n",
            "processing  D3_078.jpg\n",
            "[0.0]\n",
            "id of image:  1\n",
            "processing  D3_166.jpg\n",
            "[]\n",
            "id of image:  0\n",
            "processing  D3_240.jpg\n",
            "[]\n",
            "id of image:  0\n",
            "processing  D3_097.jpg\n",
            "[]\n",
            "id of image:  0\n",
            "processing  D3_761.jpg\n",
            "[0.0]\n",
            "id of image:  1\n",
            "processing  D3_068.jpg\n",
            "[]\n",
            "id of image:  0\n",
            "processing  D3_169.jpg\n",
            "[]\n",
            "id of image:  0\n",
            "processing  D3_045.jpg\n",
            "[0.0]\n",
            "id of image:  1\n",
            "processing  D3_297.jpg\n",
            "[]\n",
            "id of image:  0\n",
            "processing  D3_378.jpg\n",
            "[]\n",
            "id of image:  0\n",
            "processing  D3_149.jpg\n",
            "[]\n",
            "id of image:  0\n",
            "processing  D3_796.jpg\n",
            "[]\n",
            "id of image:  0\n",
            "processing  D3_074.jpg\n",
            "[]\n",
            "id of image:  0\n",
            "processing  D3_303.jpg\n",
            "[]\n",
            "id of image:  0\n",
            "processing  D3_091.jpg\n",
            "[]\n",
            "id of image:  0\n",
            "processing  D3_731.jpg\n",
            "[]\n",
            "id of image:  0\n",
            "processing  D3_307.jpg\n",
            "[]\n",
            "id of image:  0\n",
            "processing  D3_337.jpg\n",
            "[]\n",
            "id of image:  0\n",
            "processing  D3_765.jpg\n",
            "[0.0]\n",
            "id of image:  1\n",
            "processing  D3_266.jpg\n",
            "[]\n",
            "id of image:  0\n",
            "processing  D3_791.jpg\n",
            "[]\n",
            "id of image:  0\n",
            "processing  D3_214.jpg\n",
            "[]\n",
            "id of image:  0\n",
            "processing  D3_555.jpg\n",
            "[0.0]\n",
            "id of image:  1\n",
            "processing  D3_604.jpg\n",
            "[]\n",
            "id of image:  0\n",
            "processing  D3_451.jpg\n",
            "[]\n",
            "id of image:  0\n",
            "processing  D3_136.jpg\n",
            "[]\n",
            "id of image:  0\n",
            "processing  D3_441.jpg\n",
            "[0.0]\n",
            "id of image:  1\n",
            "processing  D3_199.jpg\n",
            "[]\n",
            "id of image:  0\n",
            "processing  D3_605.jpg\n",
            "[]\n",
            "id of image:  0\n",
            "processing  D3_362.jpg\n",
            "[0.0]\n",
            "id of image:  1\n",
            "processing  D3_530.jpg\n",
            "[]\n",
            "id of image:  0\n",
            "processing  D3_334.jpg\n",
            "[]\n",
            "id of image:  0\n",
            "processing  D3_518.jpg\n",
            "[]\n",
            "id of image:  0\n",
            "processing  D3_265.jpg\n",
            "[]\n",
            "id of image:  0\n",
            "processing  D3_146.jpg\n",
            "[]\n",
            "id of image:  0\n",
            "processing  D3_632.jpg\n",
            "[0.0]\n",
            "id of image:  1\n",
            "processing  D3_437.jpg\n",
            "[]\n",
            "id of image:  0\n",
            "processing  D3_657.jpg\n",
            "[]\n",
            "id of image:  0\n",
            "processing  D3_399.jpg\n",
            "[]\n",
            "id of image:  0\n",
            "processing  D3_745.jpg\n",
            "[]\n",
            "id of image:  0\n",
            "processing  D3_474.jpg\n",
            "[0.0]\n",
            "id of image:  1\n",
            "processing  D3_668.jpg\n",
            "[0.0]\n",
            "id of image:  1\n",
            "processing  D3_667.jpg\n",
            "[0.0]\n",
            "id of image:  1\n",
            "processing  D3_538.jpg\n",
            "[]\n",
            "id of image:  0\n",
            "processing  D3_663.jpg\n",
            "[0.0]\n",
            "id of image:  1\n",
            "processing  D3_003.jpg\n",
            "[]\n",
            "id of image:  0\n",
            "processing  D3_121.jpg\n",
            "[]\n",
            "id of image:  0\n",
            "processing  D3_751.jpg\n",
            "[]\n",
            "id of image:  0\n",
            "processing  D3_522.jpg\n",
            "[0.0]\n",
            "id of image:  1\n",
            "processing  D3_276.jpg\n",
            "[]\n",
            "id of image:  0\n",
            "processing  D3_070.jpg\n",
            "[]\n",
            "id of image:  0\n",
            "processing  D3_032.jpg\n",
            "[]\n",
            "id of image:  0\n",
            "processing  D3_165.jpg\n",
            "[]\n",
            "id of image:  0\n",
            "processing  D3_762.jpg\n",
            "[0.0]\n",
            "id of image:  1\n",
            "processing  D3_389.jpg\n",
            "[]\n",
            "id of image:  0\n",
            "processing  D3_376.jpg\n",
            "[]\n",
            "id of image:  0\n",
            "processing  D3_659.jpg\n",
            "[]\n",
            "id of image:  0\n",
            "processing  D3_432.jpg\n",
            "[0.0]\n",
            "id of image:  1\n",
            "processing  D3_193.jpg\n",
            "[]\n",
            "id of image:  0\n",
            "processing  D3_353.jpg\n",
            "[]\n",
            "id of image:  0\n",
            "processing  D3_328.jpg\n",
            "[]\n",
            "id of image:  0\n",
            "processing  D3_282.jpg\n"
          ]
        },
        {
          "output_type": "stream",
          "name": "stderr",
          "text": [
            "Ultralytics YOLOv8.0.20 🚀 Python-3.10.12 torch-2.0.1+cu118 CUDA:0 (Tesla T4, 15102MiB)\n"
          ]
        },
        {
          "output_type": "stream",
          "name": "stdout",
          "text": [
            "[]\n",
            "id of image:  0\n",
            "processing  D3_583.jpg\n",
            "[]\n",
            "id of image:  0\n",
            "processing  D3_098.jpg\n",
            "[0.0]\n",
            "id of image:  1\n",
            "processing  D5_251.jpg\n"
          ]
        },
        {
          "output_type": "stream",
          "name": "stderr",
          "text": [
            "Model summary (fused): 168 layers, 11125971 parameters, 0 gradients, 28.4 GFLOPs\n"
          ]
        },
        {
          "output_type": "stream",
          "name": "stdout",
          "text": [
            "[]\n",
            "id of image:  0\n",
            "processing  D5_226.jpg\n",
            "[]\n",
            "id of image:  0\n",
            "processing  D5_386.jpg\n",
            "[]\n",
            "id of image:  0\n",
            "processing  D5_315.jpg\n",
            "[]\n",
            "id of image:  0\n",
            "processing  D5_248.jpg\n",
            "[0.0]\n",
            "id of image:  1\n",
            "processing  D5_267.jpg\n",
            "[]\n",
            "id of image:  0\n",
            "processing  D5_073.jpg\n",
            "[0.0]\n",
            "id of image:  1\n",
            "processing  D5_275.jpg\n",
            "[0.0]\n",
            "id of image:  1\n",
            "processing  D5_211.jpg\n",
            "[]\n",
            "id of image:  0\n",
            "processing  D5_377.jpg\n",
            "[]\n",
            "id of image:  0\n",
            "processing  D5_159.jpg\n",
            "[0.0]\n",
            "id of image:  1\n",
            "processing  D5_286.jpg\n",
            "[]\n",
            "id of image:  0\n",
            "processing  D5_330.jpg\n",
            "[0.0]\n",
            "id of image:  1\n",
            "processing  D5_370.jpg\n",
            "[0.0]\n",
            "id of image:  1\n",
            "processing  D5_388.jpg\n",
            "[0.0]\n",
            "id of image:  1\n",
            "processing  D5_181.jpg\n",
            "[]\n",
            "id of image:  0\n",
            "processing  D5_375.jpg\n",
            "[]\n",
            "id of image:  0\n",
            "processing  D5_047.jpg\n",
            "[0.0]\n",
            "id of image:  1\n",
            "processing  D5_004.jpg\n",
            "[]\n",
            "id of image:  0\n",
            "processing  D5_149.jpg\n",
            "[0.0]\n",
            "id of image:  1\n",
            "processing  D5_019.jpg\n",
            "[]\n",
            "id of image:  0\n",
            "processing  D5_295.jpg\n",
            "[]\n",
            "id of image:  0\n",
            "processing  D5_080.jpg\n",
            "[]\n",
            "id of image:  0\n",
            "processing  D5_290.jpg\n",
            "[]\n",
            "id of image:  0\n",
            "processing  D5_221.jpg\n",
            "[]\n",
            "id of image:  0\n",
            "processing  D5_056.jpg\n",
            "[]\n",
            "id of image:  0\n",
            "processing  D5_031.jpg\n",
            "[]\n",
            "id of image:  0\n",
            "processing  D5_023.jpg\n",
            "[]\n",
            "id of image:  0\n",
            "processing  D5_111.jpg\n",
            "[]\n",
            "id of image:  0\n",
            "processing  D5_173.jpg\n",
            "[]\n",
            "id of image:  0\n",
            "processing  D5_247.jpg\n",
            "[]\n",
            "id of image:  0\n",
            "processing  D5_262.jpg\n",
            "[]\n",
            "id of image:  0\n",
            "processing  D5_293.jpg\n",
            "[0.0]\n",
            "id of image:  1\n",
            "processing  D5_153.jpg\n",
            "[]\n",
            "id of image:  0\n",
            "processing  D5_079.jpg\n",
            "[]\n",
            "id of image:  0\n",
            "processing  D5_008.jpg\n",
            "[]\n",
            "id of image:  0\n",
            "processing  D5_343.jpg\n",
            "[]\n",
            "id of image:  0\n",
            "processing  D5_105.jpg\n",
            "[]\n",
            "id of image:  0\n",
            "processing  D5_061.jpg\n",
            "[0.0]\n",
            "id of image:  1\n",
            "processing  D5_281.jpg\n",
            "[]\n",
            "id of image:  0\n",
            "processing  D5_339.jpg\n",
            "[0.0]\n",
            "id of image:  1\n",
            "processing  D5_016.jpg\n",
            "[]\n",
            "id of image:  0\n",
            "processing  D5_034.jpg\n",
            "[]\n",
            "id of image:  0\n",
            "processing  D5_272.jpg\n",
            "[]\n",
            "id of image:  0\n",
            "processing  D5_067.jpg\n",
            "[]\n",
            "id of image:  0\n",
            "processing  D5_076.jpg\n",
            "[0.0]\n",
            "id of image:  1\n",
            "processing  D5_302.jpg\n",
            "[]\n",
            "id of image:  0\n",
            "processing  D5_356.jpg\n",
            "[]\n",
            "id of image:  0\n",
            "processing  D5_389.jpg\n",
            "[]\n",
            "id of image:  0\n",
            "processing  D5_249.jpg\n",
            "[]\n",
            "id of image:  0\n",
            "processing  D5_203.jpg\n",
            "[]\n",
            "id of image:  0\n",
            "processing  D5_282.jpg\n",
            "[]\n",
            "id of image:  0\n",
            "processing  D5_078.jpg\n",
            "[]\n",
            "id of image:  0\n",
            "processing  D5_125.jpg\n",
            "[]\n",
            "id of image:  0\n",
            "processing  D5_141.jpg\n",
            "[]\n",
            "id of image:  0\n",
            "processing  D5_020.jpg\n",
            "[]\n",
            "id of image:  0\n",
            "processing  D5_133.jpg\n",
            "[]\n",
            "id of image:  0\n",
            "processing  D5_119.jpg\n",
            "[0.0]\n",
            "id of image:  1\n",
            "processing  D5_322.jpg\n",
            "[]\n",
            "id of image:  0\n",
            "processing  D5_017.jpg\n",
            "[]\n",
            "id of image:  0\n"
          ]
        }
      ]
    },
    {
      "cell_type": "code",
      "source": [
        "from cv2 import CirclesGridFinderParameters_SYMMETRIC_GRID\n",
        "import os\n",
        "import csv\n",
        "test_dir = '/content/drive/MyDrive/wcs2023/Hieu/test'\n",
        "test_name_dir = '/content/drive/MyDrive/wcs2023/hvwc23/test.csv'\n",
        "result_dir = '/content/drive/MyDrive/wcs2023/result/submission.csv'\n",
        "class_names_D3 = {0:'D3-NG', 1:'D3-OK'}\n",
        "class_names_D5 = {0:'D5-NG', 1:'D5-OK'}\n",
        "test_id = []\n",
        "test_name = []\n",
        "\n",
        "with open(result_dir, 'w', newline='') as f:\n",
        "  summit = csv.writer(f)\n",
        "  summit.writerow(['ID', 'Class'])\n",
        "with open(test_name_dir, 'r') as f:\n",
        "  test_name_reader = csv.reader(f)\n",
        "  next(test_name_reader)\n",
        "  for row in test_name_reader:\n",
        "    test_id.append(int(row[0]))\n",
        "    test_name.append(row[1])\n",
        "\n",
        "model_D3 = YOLO('/content/drive/MyDrive/wcs2023/Hieu/D3/runs/detect/train13/weights/best.pt')\n",
        "model_D5 = YOLO('/content/drive/MyDrive/wcs2023/Hieu/D5/runs/detect/train13/weights/best.pt')\n",
        "for count in test_id:\n",
        "    #print(image)\n",
        "    image = test_name[count-1]\n",
        "    print('processing ', image)\n",
        "    flag = 0\n",
        "    file_extension = os.path.splitext(image)[0]\n",
        "    #print('file: ', file_extension)\n",
        "    day_of_embryo = file_extension.split('_')[0]\n",
        "    if day_of_embryo == 'D3':\n",
        "      results = model_D3(os.path.join(test_dir, image))\n",
        "      class_names = class_names_D3\n",
        "    else:\n",
        "      results = model_D5(os.path.join(test_dir, image))\n",
        "      class_names = class_names_D5\n",
        "    #print(results)\n",
        "    bbox_info = results[0].boxes\n",
        "    class_id = bbox_info.cls.tolist()\n",
        "\n",
        "    if len(class_id) == 1:\n",
        "      class_name = class_names[class_id[0]]\n",
        "      if class_name in ['D3-OK', 'D5-OK']: id = 1\n",
        "      else: id = 0\n",
        "      print('id of image: ', id)\n",
        "      with open(result_dir, 'a', newline='') as f:\n",
        "        submission = csv.writer(f)\n",
        "        submission.writerow([count, id])\n",
        "\n",
        "    else:\n",
        "      #print('other_loop')\n",
        "      for item in range(len(class_id)):\n",
        "        class_name = class_names[class_id[item]]\n",
        "        class_name_day = class_name.split('-')[0]\n",
        "        cf_scores = []\n",
        "        class_day_right = []\n",
        "        #print('class_name: ',class_name_day)\n",
        "        #print('embryo: ', day_of_embryo)\n",
        "        if class_name_day == day_of_embryo:\n",
        "          flag = flag + 1\n",
        "          cf_scores.append(bbox_info.conf.tolist()[item])\n",
        "          class_day_right.append(class_name)\n",
        "        #print(cf_scores)\n",
        "        if flag >= 2:\n",
        "          max = cf_scores[0]\n",
        "          score_idx = 0\n",
        "          max_idx = 0\n",
        "          for score in range(len(cf_scores)):\n",
        "            if score > max:\n",
        "              max = score\n",
        "              max_idx = score_idx\n",
        "            score_idx += 1\n",
        "          if class_day_right[max_idx] in ['D3-OK', 'D5-OK']: id = 1\n",
        "          else: id = 0\n",
        "        elif flag == 1:\n",
        "          if len(class_day_right) >= 1 and class_day_right[0] in ['D3-OK', 'D5-OK']: id = 1\n",
        "          else: id = 0\n",
        "        elif flag == 0: id = 0\n",
        "\n",
        "      print('id of image: ', id)\n",
        "      with open(result_dir, 'a', newline='') as f:\n",
        "        submission = csv.writer(f)\n",
        "        submission.writerow([count, id])\n"
      ],
      "metadata": {
        "id": "McwHMkGqkr22",
        "colab": {
          "base_uri": "https://localhost:8080/"
        },
        "outputId": "5ec1f669-5517-479b-8404-b525e7048cb1"
      },
      "execution_count": null,
      "outputs": [
        {
          "output_type": "stream",
          "name": "stdout",
          "text": [
            "processing  D3_693.jpg\n"
          ]
        },
        {
          "output_type": "stream",
          "name": "stderr",
          "text": [
            "Ultralytics YOLOv8.0.20 🚀 Python-3.10.12 torch-2.0.1+cu118 CPU\n",
            "Model summary (fused): 168 layers, 11126358 parameters, 0 gradients, 28.4 GFLOPs\n"
          ]
        },
        {
          "output_type": "stream",
          "name": "stdout",
          "text": [
            "id of image:  0\n",
            "processing  D3_212.jpg\n",
            "id of image:  0\n",
            "processing  D3_724.jpg\n",
            "id of image:  0\n",
            "processing  D3_623.jpg\n",
            "id of image:  0\n",
            "processing  D3_210.jpg\n",
            "id of image:  0\n",
            "processing  D3_590.jpg\n",
            "id of image:  1\n",
            "processing  D3_651.jpg\n",
            "id of image:  0\n",
            "processing  D3_384.jpg\n",
            "id of image:  0\n",
            "processing  D3_287.jpg\n",
            "id of image:  0\n",
            "processing  D3_235.jpg\n",
            "id of image:  0\n",
            "processing  D3_638.jpg\n",
            "id of image:  0\n",
            "processing  D3_327.jpg\n",
            "id of image:  0\n",
            "processing  D3_067.jpg\n",
            "id of image:  0\n",
            "processing  D3_119.jpg\n",
            "id of image:  0\n",
            "processing  D3_579.jpg\n",
            "id of image:  0\n",
            "processing  D3_645.jpg\n",
            "id of image:  0\n",
            "processing  D3_310.jpg\n",
            "id of image:  0\n",
            "processing  D3_656.jpg\n",
            "id of image:  0\n",
            "processing  D3_507.jpg\n",
            "id of image:  1\n",
            "processing  D3_267.jpg\n",
            "id of image:  0\n",
            "processing  D3_449.jpg\n",
            "id of image:  0\n",
            "processing  D3_674.jpg\n",
            "id of image:  0\n",
            "processing  D3_546.jpg\n",
            "id of image:  0\n",
            "processing  D3_714.jpg\n",
            "id of image:  0\n",
            "processing  D3_232.jpg\n",
            "id of image:  0\n",
            "processing  D3_596.jpg\n",
            "id of image:  0\n",
            "processing  D3_520.jpg\n",
            "id of image:  0\n",
            "processing  D3_140.jpg\n",
            "id of image:  0\n",
            "processing  D3_720.jpg\n",
            "id of image:  0\n",
            "processing  D3_722.jpg\n",
            "id of image:  0\n",
            "processing  D3_621.jpg\n",
            "id of image:  0\n",
            "processing  D3_182.jpg\n",
            "id of image:  1\n",
            "processing  D3_138.jpg\n",
            "id of image:  0\n",
            "processing  D3_742.jpg\n",
            "id of image:  0\n",
            "processing  D3_291.jpg\n",
            "id of image:  0\n",
            "processing  D3_597.jpg\n",
            "id of image:  0\n",
            "processing  D3_629.jpg\n",
            "id of image:  0\n",
            "processing  D3_528.jpg\n",
            "id of image:  0\n",
            "processing  D3_324.jpg\n",
            "id of image:  0\n",
            "processing  D3_465.jpg\n",
            "id of image:  0\n",
            "processing  D3_007.jpg\n",
            "id of image:  0\n",
            "processing  D3_534.jpg\n",
            "id of image:  0\n",
            "processing  D3_205.jpg\n",
            "id of image:  0\n",
            "processing  D3_295.jpg\n",
            "id of image:  0\n",
            "processing  D3_689.jpg\n",
            "id of image:  0\n",
            "processing  D3_194.jpg\n",
            "id of image:  1\n",
            "processing  D3_690.jpg\n",
            "id of image:  0\n",
            "processing  D3_665.jpg\n",
            "id of image:  0\n",
            "processing  D3_535.jpg\n",
            "id of image:  0\n",
            "processing  D3_343.jpg\n",
            "id of image:  0\n",
            "processing  D3_429.jpg\n",
            "id of image:  0\n",
            "processing  D3_040.jpg\n",
            "id of image:  0\n",
            "processing  D3_491.jpg\n",
            "id of image:  0\n",
            "processing  D3_708.jpg\n",
            "id of image:  0\n",
            "processing  D3_426.jpg\n",
            "id of image:  0\n",
            "processing  D3_716.jpg\n",
            "id of image:  0\n",
            "processing  D3_078.jpg\n",
            "id of image:  1\n",
            "processing  D3_166.jpg\n",
            "id of image:  0\n",
            "processing  D3_240.jpg\n",
            "id of image:  0\n",
            "processing  D3_097.jpg\n",
            "id of image:  0\n",
            "processing  D3_761.jpg\n",
            "id of image:  1\n",
            "processing  D3_068.jpg\n",
            "id of image:  0\n",
            "processing  D3_169.jpg\n",
            "id of image:  0\n",
            "processing  D3_045.jpg\n",
            "id of image:  0\n",
            "processing  D3_297.jpg\n",
            "id of image:  0\n",
            "processing  D3_378.jpg\n",
            "id of image:  0\n",
            "processing  D3_149.jpg\n",
            "id of image:  0\n",
            "processing  D3_796.jpg\n",
            "id of image:  0\n",
            "processing  D3_074.jpg\n",
            "id of image:  0\n",
            "processing  D3_303.jpg\n",
            "id of image:  1\n",
            "processing  D3_091.jpg\n",
            "id of image:  1\n",
            "processing  D3_731.jpg\n",
            "id of image:  0\n",
            "processing  D3_307.jpg\n",
            "id of image:  0\n",
            "processing  D3_337.jpg\n",
            "id of image:  0\n",
            "processing  D3_765.jpg\n",
            "id of image:  0\n",
            "processing  D3_266.jpg\n",
            "id of image:  0\n",
            "processing  D3_791.jpg\n",
            "id of image:  0\n",
            "processing  D3_214.jpg\n",
            "id of image:  0\n",
            "processing  D3_555.jpg\n",
            "id of image:  1\n",
            "processing  D3_604.jpg\n",
            "id of image:  0\n",
            "processing  D3_451.jpg\n",
            "id of image:  0\n",
            "processing  D3_136.jpg\n",
            "id of image:  1\n",
            "processing  D3_441.jpg\n",
            "id of image:  0\n",
            "processing  D3_199.jpg\n",
            "id of image:  0\n",
            "processing  D3_605.jpg\n",
            "id of image:  0\n",
            "processing  D3_362.jpg\n",
            "id of image:  0\n",
            "processing  D3_530.jpg\n",
            "id of image:  0\n",
            "processing  D3_334.jpg\n",
            "id of image:  0\n",
            "processing  D3_518.jpg\n",
            "id of image:  1\n",
            "processing  D3_265.jpg\n",
            "id of image:  0\n",
            "processing  D3_146.jpg\n",
            "id of image:  0\n",
            "processing  D3_632.jpg\n",
            "id of image:  0\n",
            "processing  D3_437.jpg\n",
            "id of image:  1\n",
            "processing  D3_657.jpg\n",
            "id of image:  0\n",
            "processing  D3_399.jpg\n",
            "id of image:  0\n",
            "processing  D3_745.jpg\n",
            "id of image:  0\n",
            "processing  D3_474.jpg\n",
            "id of image:  0\n",
            "processing  D3_668.jpg\n",
            "id of image:  0\n",
            "processing  D3_667.jpg\n",
            "id of image:  0\n",
            "processing  D3_538.jpg\n",
            "id of image:  0\n",
            "processing  D3_663.jpg\n",
            "id of image:  0\n",
            "processing  D3_003.jpg\n",
            "id of image:  0\n",
            "processing  D3_121.jpg\n",
            "id of image:  0\n",
            "processing  D3_751.jpg\n",
            "id of image:  0\n",
            "processing  D3_522.jpg\n",
            "id of image:  0\n",
            "processing  D3_276.jpg\n",
            "id of image:  0\n",
            "processing  D3_070.jpg\n",
            "id of image:  0\n",
            "processing  D3_032.jpg\n",
            "id of image:  1\n",
            "processing  D3_165.jpg\n",
            "id of image:  0\n",
            "processing  D3_762.jpg\n",
            "id of image:  0\n",
            "processing  D3_389.jpg\n",
            "id of image:  0\n",
            "processing  D3_376.jpg\n",
            "id of image:  0\n",
            "processing  D3_659.jpg\n",
            "id of image:  0\n",
            "processing  D3_432.jpg\n",
            "id of image:  0\n",
            "processing  D3_193.jpg\n",
            "id of image:  0\n",
            "processing  D3_353.jpg\n",
            "id of image:  1\n",
            "processing  D3_328.jpg\n",
            "id of image:  0\n",
            "processing  D3_282.jpg\n",
            "id of image:  0\n",
            "processing  D3_583.jpg\n",
            "id of image:  0\n",
            "processing  D3_098.jpg\n"
          ]
        },
        {
          "output_type": "stream",
          "name": "stderr",
          "text": [
            "Ultralytics YOLOv8.0.20 🚀 Python-3.10.12 torch-2.0.1+cu118 CPU\n"
          ]
        },
        {
          "output_type": "stream",
          "name": "stdout",
          "text": [
            "id of image:  0\n",
            "processing  D5_251.jpg\n"
          ]
        },
        {
          "output_type": "stream",
          "name": "stderr",
          "text": [
            "Model summary (fused): 168 layers, 11126358 parameters, 0 gradients, 28.4 GFLOPs\n"
          ]
        },
        {
          "output_type": "stream",
          "name": "stdout",
          "text": [
            "id of image:  0\n",
            "processing  D5_226.jpg\n",
            "id of image:  1\n",
            "processing  D5_386.jpg\n",
            "id of image:  0\n",
            "processing  D5_315.jpg\n",
            "id of image:  0\n",
            "processing  D5_248.jpg\n",
            "id of image:  1\n",
            "processing  D5_267.jpg\n",
            "id of image:  0\n",
            "processing  D5_073.jpg\n",
            "id of image:  1\n",
            "processing  D5_275.jpg\n",
            "id of image:  1\n",
            "processing  D5_211.jpg\n",
            "id of image:  0\n",
            "processing  D5_377.jpg\n",
            "id of image:  0\n",
            "processing  D5_159.jpg\n",
            "id of image:  1\n",
            "processing  D5_286.jpg\n",
            "id of image:  0\n",
            "processing  D5_330.jpg\n",
            "id of image:  1\n",
            "processing  D5_370.jpg\n",
            "id of image:  1\n",
            "processing  D5_388.jpg\n",
            "id of image:  1\n",
            "processing  D5_181.jpg\n",
            "id of image:  1\n",
            "processing  D5_375.jpg\n",
            "id of image:  0\n",
            "processing  D5_047.jpg\n",
            "id of image:  1\n",
            "processing  D5_004.jpg\n",
            "id of image:  1\n",
            "processing  D5_149.jpg\n",
            "id of image:  1\n",
            "processing  D5_019.jpg\n",
            "id of image:  0\n",
            "processing  D5_295.jpg\n",
            "id of image:  0\n",
            "processing  D5_080.jpg\n",
            "id of image:  0\n",
            "processing  D5_290.jpg\n",
            "id of image:  0\n",
            "processing  D5_221.jpg\n",
            "id of image:  1\n",
            "processing  D5_056.jpg\n",
            "id of image:  0\n",
            "processing  D5_031.jpg\n",
            "id of image:  0\n",
            "processing  D5_023.jpg\n",
            "id of image:  0\n",
            "processing  D5_111.jpg\n",
            "id of image:  1\n",
            "processing  D5_173.jpg\n",
            "id of image:  0\n",
            "processing  D5_247.jpg\n",
            "id of image:  0\n",
            "processing  D5_262.jpg\n",
            "id of image:  0\n",
            "processing  D5_293.jpg\n",
            "id of image:  0\n",
            "processing  D5_153.jpg\n",
            "id of image:  1\n",
            "processing  D5_079.jpg\n",
            "id of image:  0\n",
            "processing  D5_008.jpg\n",
            "id of image:  1\n",
            "processing  D5_343.jpg\n",
            "id of image:  0\n",
            "processing  D5_105.jpg\n",
            "id of image:  0\n",
            "processing  D5_061.jpg\n",
            "id of image:  0\n",
            "processing  D5_281.jpg\n",
            "id of image:  1\n",
            "processing  D5_339.jpg\n",
            "id of image:  1\n",
            "processing  D5_016.jpg\n",
            "id of image:  1\n",
            "processing  D5_034.jpg\n",
            "id of image:  0\n",
            "processing  D5_272.jpg\n",
            "id of image:  0\n",
            "processing  D5_067.jpg\n",
            "id of image:  0\n",
            "processing  D5_076.jpg\n",
            "id of image:  1\n",
            "processing  D5_302.jpg\n",
            "id of image:  1\n",
            "processing  D5_356.jpg\n",
            "id of image:  0\n",
            "processing  D5_389.jpg\n",
            "id of image:  0\n",
            "processing  D5_249.jpg\n",
            "id of image:  0\n",
            "processing  D5_203.jpg\n",
            "id of image:  1\n",
            "processing  D5_282.jpg\n",
            "id of image:  1\n",
            "processing  D5_078.jpg\n",
            "id of image:  0\n",
            "processing  D5_125.jpg\n",
            "id of image:  1\n",
            "processing  D5_141.jpg\n",
            "id of image:  0\n",
            "processing  D5_020.jpg\n",
            "id of image:  0\n",
            "processing  D5_133.jpg\n",
            "id of image:  0\n",
            "processing  D5_119.jpg\n",
            "id of image:  0\n",
            "processing  D5_322.jpg\n",
            "id of image:  0\n",
            "processing  D5_017.jpg\n",
            "id of image:  1\n"
          ]
        }
      ]
    },
    {
      "cell_type": "code",
      "source": [
        "\n",
        "import os\n",
        "import csv\n",
        "test_dir = '/content/drive/MyDrive/wcs2023/Hieu/test'\n",
        "test_name_dir = '/content/drive/MyDrive/wcs2023/hvwc23/test.csv'\n",
        "class_names_D3 = {0:'D3-NG', 1:'D3-OK'}\n",
        "class_names_D5 = {0:'D5-NG', 1:'D5-OK'}\n",
        "test_id = []\n",
        "test_name = []\n",
        "\n",
        "with open(test_name_dir, 'r') as f:\n",
        "  test_name_reader = csv.reader(f)\n",
        "  next(test_name_reader)\n",
        "  for row in test_name_reader:\n",
        "    test_id.append(int(row[0]))\n",
        "    test_name.append(row[1])\n",
        "\n",
        "model_D3 = YOLO('/content/drive/MyDrive/wcs2023/Hieu/D3/runs/detect/train13/weights/best.pt')\n",
        "model_D5 = YOLO('/content/drive/MyDrive/wcs2023/Hieu/D5/runs/detect/train13/weights/best.pt')\n",
        "for count in test_id:\n",
        "    #print(image)\n",
        "    image = test_name[count-1]\n",
        "    print('processing ', image)\n",
        "    flag = 0\n",
        "    file_extension = os.path.splitext(image)[0]\n",
        "    #print('file: ', file_extension)\n",
        "    day_of_embryo = file_extension.split('_')[0]\n",
        "    if day_of_embryo == 'D3':\n",
        "      results = model_D3(os.path.join(test_dir, image))\n",
        "      class_names = class_names_D3\n",
        "    else:\n",
        "      results = model_D5(os.path.join(test_dir, image))\n",
        "      class_names = class_names_D5\n",
        "    #print(results)\n",
        "    bbox_info = results[0].boxes\n",
        "    class_id = bbox_info.cls.tolist()\n",
        "    bounding_boxes = bbox_info.xyxy.tolist()\n",
        "    max_\n",
        "\n",
        "    for bounding_box in bounding_boxes:\n",
        "      area_\n",
        "\n",
        "    # if len(class_id) == 1:\n",
        "    #   class_name = class_names[class_id[0]]\n",
        "    #   if class_name in ['D3-OK', 'D5-OK']: id = 1\n",
        "    #   else: id = 0\n",
        "    #   print('id of image: ', id)\n",
        "    #   with open(result_dir, 'a', newline='') as f:\n",
        "    #     submission = csv.writer(f)\n",
        "    #     submission.writerow([count, id])\n",
        "\n",
        "    # else:\n",
        "    #   #print('other_loop')\n",
        "    #   for item in range(len(class_id)):\n",
        "    #     class_name = class_names[class_id[item]]\n",
        "    #     class_name_day = class_name.split('-')[0]\n",
        "    #     cf_scores = []\n",
        "    #     class_day_right = []\n",
        "    #     #print('class_name: ',class_name_day)\n",
        "    #     #print('embryo: ', day_of_embryo)\n",
        "    #     if class_name_day == day_of_embryo:\n",
        "    #       flag = flag + 1\n",
        "    #       cf_scores.append(bbox_info.conf.tolist()[item])\n",
        "    #       class_day_right.append(class_name)\n",
        "    #     #print(cf_scores)\n",
        "    #     if flag >= 2:\n",
        "    #       max = cf_scores[0]\n",
        "    #       score_idx = 0\n",
        "    #       max_idx = 0\n",
        "    #       for score in range(len(cf_scores)):\n",
        "    #         if score > max:\n",
        "    #           max = score\n",
        "    #           max_idx = score_idx\n",
        "    #         score_idx += 1\n",
        "    #       if class_day_right[max_idx] in ['D3-OK', 'D5-OK']: id = 1\n",
        "    #       else: id = 0\n",
        "    #     elif flag == 1:\n",
        "    #       if len(class_day_right) >= 1 and class_day_right[0] in ['D3-OK', 'D5-OK']: id = 1\n",
        "    #       else: id = 0\n",
        "    #     elif flag == 0: id = 0\n",
        "\n",
        "    #   print('id of image: ', id)\n",
        "    #   with open(result_dir, 'a', newline='') as f:\n",
        "    #     submission = csv.writer(f)\n",
        "    #     submission.writerow([count, id])\n"
      ],
      "metadata": {
        "id": "c100gATCSqDa"
      },
      "execution_count": null,
      "outputs": []
    },
    {
      "cell_type": "markdown",
      "source": [
        "###VGG16\n"
      ],
      "metadata": {
        "id": "UsZybwHx1GnI"
      }
    },
    {
      "cell_type": "code",
      "source": [
        "import numpy as np\n",
        "import torch\n",
        "import torch.nn as nn\n",
        "from torchvision import datasets\n",
        "from torchvision import transforms\n",
        "from torch.utils.data.sampler import SubsetRandomSampler\n",
        "from torch.utils.data import Dataset, DataLoader\n",
        "from PIL import Image\n",
        "import os\n",
        "\n",
        "\n",
        "# Device configuration\n",
        "device = torch.device('cuda' if torch.cuda.is_available() else 'cpu')"
      ],
      "metadata": {
        "id": "HyIQ9weD2Tof"
      },
      "execution_count": null,
      "outputs": []
    },
    {
      "cell_type": "markdown",
      "source": [
        "####dataset prepare"
      ],
      "metadata": {
        "id": "OQBKIdNuO44Q"
      }
    },
    {
      "cell_type": "code",
      "source": [
        "import csv\n",
        "import os\n",
        "import shutil\n",
        "\n",
        "LABEL_FOLDER = '/content/drive/MyDrive/wcs2023/Hieu/D5/Data/Embryo-16/valid/labels'\n",
        "labels = os.listdir(LABEL_FOLDER)\n",
        "OK_names = []\n",
        "NG_names = []\n",
        "\n",
        "for labelFile in labels:\n",
        "  f = open(os.path.join(LABEL_FOLDER, labelFile), 'r')\n",
        "  label = f.read()[0]\n",
        "  if label == '1':\n",
        "    OK_names.append(f'{os.path.splitext(labelFile)[0]}.jpg')\n",
        "  else:\n",
        "    NG_names.append(f'{os.path.splitext(labelFile)[0]}.jpg')\n",
        "\n",
        "print('OK:', OK_names)\n",
        "print('NG:', NG_names)\n",
        "\n",
        "# Specify the source and destination folders\n",
        "source_folder = '/content/drive/MyDrive/wcs2023/Hieu/D5/Data/Embryo-16/valid/images'\n",
        "destination_folder = '/content/drive/MyDrive/wcs2023/Hieu/VGG16/D5/valid'\n",
        "\n",
        "files = os.listdir(source_folder)\n",
        "\n",
        "# Iterate through each file\n",
        "for file in files:\n",
        "  source_path = os.path.join(source_folder, file)\n",
        "  if file in OK_names:\n",
        "    destination_path = os.path.join(destination_folder + '/OK', file)\n",
        "  else:\n",
        "    destination_path = os.path.join(destination_folder + '/NG', file)\n",
        "  # Copy the file to the destination folder\n",
        "  shutil.copy(source_path, destination_path)\n",
        "\n",
        "\n"
      ],
      "metadata": {
        "colab": {
          "base_uri": "https://localhost:8080/"
        },
        "id": "BDVE8PDEO34L",
        "outputId": "683fa748-6a22-41da-d494-9d723d7c06a7"
      },
      "execution_count": null,
      "outputs": [
        {
          "output_type": "stream",
          "name": "stdout",
          "text": [
            "OK: ['D5_156_jpg.rf.b3389d42f931cd76977f54a63d82e73b.jpg', 'D5_155_jpg.rf.897da06940fd4c135e67dfc9d1f8590d.jpg', 'D5_274_jpg.rf.d646fd438735b5b618b5e0354fe3fafb.jpg', 'D5_288_jpg.rf.60bdf4b133a2a4b018d057d81c6312e4.jpg', 'D5_209_jpg.rf.d822ed410401dd0fe53177df8407d5de.jpg', 'D5_305_jpg.rf.268e2b11acb7f90ba5f5a73c915f2e1b.jpg', 'D5_328_jpg.rf.61bbaf9c720fa72b5666c3b8d094186f.jpg', 'D5_335_jpg.rf.0eaefc09c0d0f1b4f2a607f4021464b4.jpg', 'D5_341_jpg.rf.22f4f494c238e11f89fd95165864f218.jpg', 'D5_369_jpg.rf.44dfc4296dff076be2cb220a4bb6c8ca.jpg']\n",
            "NG: ['D5_038_jpg.rf.5c70114185984542154d1df2d018d5f2.jpg', 'D5_041_jpg.rf.688932836925d8756760ae2ab660b9dd.jpg', 'D5_009_jpg.rf.e497f60a058aaae0af9facf22235b276.jpg', 'D5_036_jpg.rf.063550c0102488d3091e90f56035d389.jpg', 'D5_123_jpg.rf.778139b15addbc7a52ef006ca391e733.jpg', 'D5_065_jpg.rf.801e50e77c861871a1c0fcc538422517.jpg', 'D5_082_jpg.rf.16012d8ae716400b031909d510fac980.jpg', 'D5_137_jpg.rf.e1cd3232117ddd984b0393ca1bddc944.jpg', 'D5_150_jpg.rf.b9be285204870a66a3f34265e4d79523.jpg', 'D5_151_jpg.rf.9dda706999ce4792192835d181add286.jpg', 'D5_172_jpg.rf.839079f9929438b873e7b36edfd9f0a8.jpg', 'D5_190_jpg.rf.75c1771f328b907093cab6b2e7cf01a7.jpg', 'D5_204_jpg.rf.b71b097d8d71b3b826290975c4ddb171.jpg', 'D5_280_jpg.rf.36a46b6a5c3a999e4898c2b394807bc4.jpg', 'D5_312_jpg.rf.c4664fb24b3dd1d69f5bfb0f381455a5.jpg', 'D5_311_jpg.rf.c39a0e94f8de72f8f54b8e4e1091cbbd.jpg', 'D5_393_jpg.rf.abc568b68fc9bb1cae8ae10e2c69a1b5.jpg', 'D5_398_jpg.rf.7232dacb8667331f05f00fdce9abff58.jpg']\n"
          ]
        }
      ]
    },
    {
      "cell_type": "code",
      "source": [
        "destination_folder = '/content/drive/MyDrive/wcs2023/Hieu/test'\n",
        "source_folder = '/content/drive/MyDrive/wcs2023/Hieu/test/D3'\n",
        "\n",
        "files = os.listdir(source_folder)\n",
        "\n",
        "# Iterate through each file\n",
        "for file in files:\n",
        "  # file_end = os.path.splitext(file)[1]\n",
        "  # print(file_end)\n",
        "  # file_extension = os.path.splitext(file)[0]\n",
        "  # print(file_extension)\n",
        "  # day = file_extension.split('_')[0]\n",
        "  # if file_end == '.jpg':\n",
        "\n",
        "    source_path = os.path.join(source_folder, file)\n",
        "    # if day == 'D3':\n",
        "    #   destination_path = os.path.join(source_folder + '/D3', file)\n",
        "    # else:\n",
        "    #   destination_path = os.path.join(source_folder + '/D5', file)\n",
        "    destination_path\n",
        "    # Copy the file to the destination folder\n",
        "    shutil.move(source_path, destination_path)"
      ],
      "metadata": {
        "id": "e61Pd8atkaxs"
      },
      "execution_count": null,
      "outputs": []
    },
    {
      "cell_type": "markdown",
      "source": [
        "####Train"
      ],
      "metadata": {
        "id": "ZS0_YAD9SDY1"
      }
    },
    {
      "cell_type": "code",
      "source": [
        "class CustomDataset(Dataset):\n",
        "    def __init__(self, data_dir, transform=None):\n",
        "        self.data_dir = data_dir\n",
        "        self.transform = transform\n",
        "\n",
        "        # Get a list of all image paths and their corresponding labels\n",
        "        self.image_paths, self.labels = self._load_images()\n",
        "\n",
        "    def _load_images(self):\n",
        "        image_paths = []\n",
        "        labels = []\n",
        "\n",
        "        # Iterate through each class directory\n",
        "        for class_dir in os.listdir(self.data_dir):\n",
        "            class_path = os.path.join(self.data_dir, class_dir)\n",
        "\n",
        "            # Iterate through each image in the class directory\n",
        "            for image_file in os.listdir(class_path):\n",
        "                image_path = os.path.join(class_path, image_file)\n",
        "\n",
        "                # Append the image path and label to the lists\n",
        "                image_paths.append(image_path)\n",
        "                if class_dir == 'OK':\n",
        "                  labels.append(1)\n",
        "                else:\n",
        "                  labels.append(0)\n",
        "\n",
        "        return image_paths, labels\n",
        "\n",
        "    def __len__(self):\n",
        "        return len(self.image_paths)\n",
        "\n",
        "    def __getitem__(self, index):\n",
        "        # Load the image and label at the given index\n",
        "        image_path = self.image_paths[index]\n",
        "        label = self.labels[index]\n",
        "\n",
        "        # Open the image using PIL\n",
        "        image = Image.open(image_path)\n",
        "\n",
        "        # Apply transformations if specified\n",
        "        if self.transform is not None:\n",
        "            image = self.transform(image)\n",
        "\n",
        "        return image, label"
      ],
      "metadata": {
        "id": "1isI7xW_X88d"
      },
      "execution_count": null,
      "outputs": []
    },
    {
      "cell_type": "code",
      "source": [
        "def data_loader(data_dir,\n",
        "                batch_size,\n",
        "                random_seed=42,\n",
        "                valid_size=0.1,\n",
        "                shuffle=True,\n",
        "                test=False):\n",
        "\n",
        "    normalize = transforms.Normalize(\n",
        "        # mean=[0.485], std=[0.229],\n",
        "        mean=[0.4914, 0.4822, 0.4465],\n",
        "        std=[0.2023, 0.1994, 0.2010],\n",
        "    )\n",
        "\n",
        "    # define transforms\n",
        "    transform = transforms.Compose([\n",
        "            transforms.Resize((227,227)),\n",
        "            transforms.ToTensor(),\n",
        "            normalize,\n",
        "    ])\n",
        "\n",
        "    if test:\n",
        "        dataset = CustomDataset(\n",
        "            data_dir=data_dir,\n",
        "            transform=transform\n",
        "        )\n",
        "\n",
        "        data_loader = DataLoader(\n",
        "            dataset, batch_size=batch_size, shuffle=shuffle\n",
        "        )\n",
        "\n",
        "        return data_loader\n",
        "\n",
        "    # # load the dataset\n",
        "    # train_data_dir = data_dir + '/train'\n",
        "    # train_dataset = CustomDataset(\n",
        "    #         data_dir=train_data_dir,\n",
        "    #         transform=transform\n",
        "    #     )\n",
        "    # valid_data_dir = data_dir + '/valid'\n",
        "    # valid_dataset = CustomDataset(\n",
        "    #         data_dir=valid_data_dir,\n",
        "    #         transform=transform\n",
        "    #     )\n",
        "\n",
        "    # train_loader = torch.utils.data.DataLoader(\n",
        "    #     train_dataset, batch_size=batch_size, shuffle=shuffle\n",
        "    # )\n",
        "\n",
        "    # valid_loader = torch.utils.data.DataLoader(\n",
        "    #     valid_dataset, batch_size=batch_size, shuffle=False\n",
        "    # )\n",
        "\n",
        "        # load the dataset\n",
        "    train_dataset = CustomDataset(\n",
        "            data_dir=data_dir,\n",
        "            transform=transform\n",
        "        )\n",
        "\n",
        "    valid_dataset = CustomDataset(\n",
        "            data_dir=data_dir,\n",
        "            transform=transform\n",
        "        )\n",
        "\n",
        "    num_train = len(train_dataset)\n",
        "    indices = list(range(num_train))\n",
        "    split = int(np.floor(valid_size * num_train))\n",
        "\n",
        "    if shuffle:\n",
        "        np.random.seed(random_seed)\n",
        "        np.random.shuffle(indices)\n",
        "\n",
        "    train_idx, valid_idx = indices[split:], indices[:split]\n",
        "    train_sampler = SubsetRandomSampler(train_idx)\n",
        "    valid_sampler = SubsetRandomSampler(valid_idx)\n",
        "\n",
        "    train_loader = torch.utils.data.DataLoader(\n",
        "        train_dataset, batch_size=batch_size, sampler=train_sampler)\n",
        "\n",
        "    valid_loader = torch.utils.data.DataLoader(\n",
        "        valid_dataset, batch_size=batch_size, sampler=valid_sampler)\n",
        "\n",
        "    return (train_loader, valid_loader)\n",
        "\n",
        "\n",
        "# D3 dataset\n",
        "# D3_train_loader, D3_valid_loader = data_loader(data_dir='/content/drive/MyDrive/wcs2023/Hieu/VGG16/D3',\n",
        "#                                          batch_size=64)\n",
        "\n",
        "D3_train_loader, D3_valid_loader = data_loader(data_dir='/content/drive/MyDrive/wcs2023/Hieu/VGG16/D3_no_black_background',\n",
        "                                         batch_size=64)\n",
        "\n",
        "# D5 dataset\n",
        "# D5_train_loader, D5_valid_loader = data_loader(data_dir='/content/drive/MyDrive/wcs2023/Hieu/VGG16/D5',\n",
        "#                                          batch_size=64)\n",
        "\n",
        "D5_train_loader, D5_valid_loader = data_loader(data_dir='/content/drive/MyDrive/wcs2023/Hieu/VGG16/D5_no_black_background',\n",
        "                                         batch_size=64)"
      ],
      "metadata": {
        "id": "wSH1Ci_uCa3c"
      },
      "execution_count": null,
      "outputs": []
    },
    {
      "cell_type": "code",
      "source": [
        "class VGG16(nn.Module):\n",
        "    def __init__(self, num_classes=10):\n",
        "        super(VGG16, self).__init__()\n",
        "        self.layer1 = nn.Sequential(\n",
        "            nn.Conv2d(3, 64, kernel_size=3, stride=1, padding=1),\n",
        "            nn.BatchNorm2d(64),\n",
        "            nn.ReLU())\n",
        "        self.layer2 = nn.Sequential(\n",
        "            nn.Conv2d(64, 64, kernel_size=3, stride=1, padding=1),\n",
        "            nn.BatchNorm2d(64),\n",
        "            nn.ReLU(),\n",
        "            nn.MaxPool2d(kernel_size = 2, stride = 2))\n",
        "        self.layer3 = nn.Sequential(\n",
        "            nn.Conv2d(64, 128, kernel_size=3, stride=1, padding=1),\n",
        "            nn.BatchNorm2d(128),\n",
        "            nn.ReLU())\n",
        "        self.layer4 = nn.Sequential(\n",
        "            nn.Conv2d(128, 128, kernel_size=3, stride=1, padding=1),\n",
        "            nn.BatchNorm2d(128),\n",
        "            nn.ReLU(),\n",
        "            nn.MaxPool2d(kernel_size = 2, stride = 2))\n",
        "        self.layer5 = nn.Sequential(\n",
        "            nn.Conv2d(128, 256, kernel_size=3, stride=1, padding=1),\n",
        "            nn.BatchNorm2d(256),\n",
        "            nn.ReLU())\n",
        "        self.layer6 = nn.Sequential(\n",
        "            nn.Conv2d(256, 256, kernel_size=3, stride=1, padding=1),\n",
        "            nn.BatchNorm2d(256),\n",
        "            nn.ReLU())\n",
        "        self.layer7 = nn.Sequential(\n",
        "            nn.Conv2d(256, 256, kernel_size=3, stride=1, padding=1),\n",
        "            nn.BatchNorm2d(256),\n",
        "            nn.ReLU(),\n",
        "            nn.MaxPool2d(kernel_size = 2, stride = 2))\n",
        "        self.layer8 = nn.Sequential(\n",
        "            nn.Conv2d(256, 512, kernel_size=3, stride=1, padding=1),\n",
        "            nn.BatchNorm2d(512),\n",
        "            nn.ReLU())\n",
        "        self.layer9 = nn.Sequential(\n",
        "            nn.Conv2d(512, 512, kernel_size=3, stride=1, padding=1),\n",
        "            nn.BatchNorm2d(512),\n",
        "            nn.ReLU())\n",
        "        self.layer10 = nn.Sequential(\n",
        "            nn.Conv2d(512, 512, kernel_size=3, stride=1, padding=1),\n",
        "            nn.BatchNorm2d(512),\n",
        "            nn.ReLU(),\n",
        "            nn.MaxPool2d(kernel_size = 2, stride = 2))\n",
        "        self.layer11 = nn.Sequential(\n",
        "            nn.Conv2d(512, 512, kernel_size=3, stride=1, padding=1),\n",
        "            nn.BatchNorm2d(512),\n",
        "            nn.ReLU())\n",
        "        self.layer12 = nn.Sequential(\n",
        "            nn.Conv2d(512, 512, kernel_size=3, stride=1, padding=1),\n",
        "            nn.BatchNorm2d(512),\n",
        "            nn.ReLU())\n",
        "        self.layer13 = nn.Sequential(\n",
        "            nn.Conv2d(512, 512, kernel_size=3, stride=1, padding=1),\n",
        "            nn.BatchNorm2d(512),\n",
        "            nn.ReLU(),\n",
        "            nn.MaxPool2d(kernel_size = 2, stride = 2))\n",
        "        self.fc = nn.Sequential(\n",
        "            nn.Dropout(0.5),\n",
        "            nn.Linear(7*7*512, 4096),\n",
        "            nn.ReLU())\n",
        "        self.fc1 = nn.Sequential(\n",
        "            nn.Dropout(0.5),\n",
        "            nn.Linear(4096, 4096),\n",
        "            nn.ReLU())\n",
        "        self.fc2= nn.Sequential(\n",
        "            nn.Linear(4096, num_classes))\n",
        "\n",
        "    def forward(self, x):\n",
        "        out = self.layer1(x)\n",
        "        out = self.layer2(out)\n",
        "        out = self.layer3(out)\n",
        "        out = self.layer4(out)\n",
        "        out = self.layer5(out)\n",
        "        out = self.layer6(out)\n",
        "        out = self.layer7(out)\n",
        "        out = self.layer8(out)\n",
        "        out = self.layer9(out)\n",
        "        out = self.layer10(out)\n",
        "        out = self.layer11(out)\n",
        "        out = self.layer12(out)\n",
        "        out = self.layer13(out)\n",
        "        out = out.reshape(out.size(0), -1)\n",
        "        out = self.fc(out)\n",
        "        out = self.fc1(out)\n",
        "        out = self.fc2(out)\n",
        "        return out"
      ],
      "metadata": {
        "id": "yoKiwCuoMRFR"
      },
      "execution_count": null,
      "outputs": []
    },
    {
      "cell_type": "markdown",
      "source": [
        "D3 model training"
      ],
      "metadata": {
        "id": "scekzYzqyrgU"
      }
    },
    {
      "cell_type": "code",
      "source": [
        "num_classes = 2\n",
        "num_epochs = 10\n",
        "batch_size = 16\n",
        "learning_rate = 0.005\n",
        "\n",
        "model = VGG16(num_classes).to(device)\n",
        "\n",
        "\n",
        "# Loss and optimizer\n",
        "criterion = nn.CrossEntropyLoss()\n",
        "optimizer = torch.optim.SGD(model.parameters(), lr=learning_rate, weight_decay = 0.005, momentum = 0.9)\n",
        "\n",
        "\n",
        "# Train the model\n",
        "total_step = len(D3_train_loader)"
      ],
      "metadata": {
        "id": "4xz8ZABhMTfc"
      },
      "execution_count": null,
      "outputs": []
    },
    {
      "cell_type": "code",
      "source": [
        "total_step = len(D3_train_loader)\n",
        "checkpoint_path = '/content/drive/MyDrive/wcs2023/Hieu/VGG16/checkpoint_D3/checkpoint_no_black_ground.pth'\n",
        "\n",
        "for epoch in range(num_epochs):\n",
        "    for i, (images, labels) in enumerate(D3_train_loader):\n",
        "        #print(labels)\n",
        "        # Move tensors to the configured device\n",
        "        images = images.to(device)\n",
        "        labels = labels.to(device)\n",
        "\n",
        "        # Forward pass\n",
        "        outputs = model(images)\n",
        "        loss = criterion(outputs, labels)\n",
        "\n",
        "        # Backward and optimize\n",
        "        optimizer.zero_grad()\n",
        "        loss.backward()\n",
        "        optimizer.step()\n",
        "\n",
        "    print('Saving checkpoint...')\n",
        "    torch.save(model.state_dict(), checkpoint_path)\n",
        "    print ('Epoch [{}/{}], Step [{}/{}], Loss: {:.4f}'\n",
        "                   .format(epoch+1, num_epochs, i+1, total_step, loss.item()))\n",
        "\n",
        "    # Validation\n",
        "    with torch.no_grad():\n",
        "        correct = 0\n",
        "        total = 0\n",
        "        for images, labels in D3_valid_loader:\n",
        "            images = images.to(device)\n",
        "            labels = labels.to(device)\n",
        "            outputs = model(images)\n",
        "            _, predicted = torch.max(outputs.data, 1)\n",
        "            total += labels.size(0)\n",
        "            correct += (predicted == labels).sum().item()\n",
        "            del images, labels, outputs\n",
        "\n",
        "        print('Accuracy of the network on the {} validation images: {} %'.format(5000, 100 * correct / total))"
      ],
      "metadata": {
        "colab": {
          "base_uri": "https://localhost:8080/"
        },
        "id": "9RV-5ihCMYy0",
        "outputId": "d64b2a88-439f-445c-d225-5da69bb226e0"
      },
      "execution_count": null,
      "outputs": [
        {
          "output_type": "stream",
          "name": "stdout",
          "text": [
            "Saving checkpoint...\n",
            "Epoch [1/10], Step [4/4], Loss: 0.7741\n",
            "Accuracy of the network on the 5000 validation images: 62.5 %\n",
            "Saving checkpoint...\n",
            "Epoch [2/10], Step [4/4], Loss: 0.5917\n",
            "Accuracy of the network on the 5000 validation images: 66.66666666666667 %\n",
            "Saving checkpoint...\n",
            "Epoch [3/10], Step [4/4], Loss: 0.4426\n",
            "Accuracy of the network on the 5000 validation images: 58.333333333333336 %\n",
            "Saving checkpoint...\n",
            "Epoch [4/10], Step [4/4], Loss: 0.3627\n",
            "Accuracy of the network on the 5000 validation images: 70.83333333333333 %\n",
            "Saving checkpoint...\n",
            "Epoch [5/10], Step [4/4], Loss: 0.1417\n",
            "Accuracy of the network on the 5000 validation images: 70.83333333333333 %\n",
            "Saving checkpoint...\n",
            "Epoch [6/10], Step [4/4], Loss: 0.5234\n",
            "Accuracy of the network on the 5000 validation images: 79.16666666666667 %\n",
            "Saving checkpoint...\n",
            "Epoch [7/10], Step [4/4], Loss: 0.3350\n",
            "Accuracy of the network on the 5000 validation images: 79.16666666666667 %\n",
            "Saving checkpoint...\n",
            "Epoch [8/10], Step [4/4], Loss: 0.3634\n",
            "Accuracy of the network on the 5000 validation images: 70.83333333333333 %\n",
            "Saving checkpoint...\n",
            "Epoch [9/10], Step [4/4], Loss: 0.9394\n",
            "Accuracy of the network on the 5000 validation images: 79.16666666666667 %\n",
            "Saving checkpoint...\n",
            "Epoch [10/10], Step [4/4], Loss: 0.2750\n",
            "Accuracy of the network on the 5000 validation images: 79.16666666666667 %\n"
          ]
        }
      ]
    },
    {
      "cell_type": "markdown",
      "source": [
        "D5_model_training"
      ],
      "metadata": {
        "id": "VfbOH5MCyu-q"
      }
    },
    {
      "cell_type": "code",
      "source": [
        "num_classes = 2\n",
        "num_epochs = 10\n",
        "batch_size = 16\n",
        "learning_rate = 0.005\n",
        "\n",
        "model = VGG16(num_classes).to(device)\n",
        "\n",
        "\n",
        "# Loss and optimizer\n",
        "criterion = nn.CrossEntropyLoss()\n",
        "optimizer = torch.optim.SGD(model.parameters(), lr=learning_rate, weight_decay = 0.005, momentum = 0.9)\n",
        "\n",
        "\n",
        "# Train the model\n",
        "total_step = len(D5_train_loader)"
      ],
      "metadata": {
        "id": "N9yejHj0zvUq"
      },
      "execution_count": null,
      "outputs": []
    },
    {
      "cell_type": "code",
      "source": [
        "total_step = len(D5_train_loader)\n",
        "checkpoint_path = '/content/drive/MyDrive/wcs2023/Hieu/VGG16/checkpoint_D5/checkpoint_no_black_ground.pth'\n",
        "\n",
        "for epoch in range(num_epochs):\n",
        "    for i, (images, labels) in enumerate(D5_train_loader):\n",
        "        #print(labels)\n",
        "        # Move tensors to the configured device\n",
        "        images = images.to(device)\n",
        "        labels = labels.to(device)\n",
        "\n",
        "        # Forward pass\n",
        "        outputs = model(images)\n",
        "        loss = criterion(outputs, labels)\n",
        "\n",
        "        # Backward and optimize\n",
        "        optimizer.zero_grad()\n",
        "        loss.backward()\n",
        "        optimizer.step()\n",
        "\n",
        "    print('Saving checkpoint...')\n",
        "    torch.save(model.state_dict(), checkpoint_path)\n",
        "    print ('Epoch [{}/{}], Step [{}/{}], Loss: {:.4f}'\n",
        "                   .format(epoch+1, num_epochs, i+1, total_step, loss.item()))\n",
        "\n",
        "    # Validation\n",
        "    with torch.no_grad():\n",
        "        correct = 0\n",
        "        total = 0\n",
        "        for images, labels in D5_valid_loader:\n",
        "            images = images.to(device)\n",
        "            labels = labels.to(device)\n",
        "            outputs = model(images)\n",
        "            _, predicted = torch.max(outputs.data, 1)\n",
        "            total += labels.size(0)\n",
        "            correct += (predicted == labels).sum().item()\n",
        "            del images, labels, outputs\n",
        "\n",
        "        print('Accuracy of the network on the {} validation images: {} %'.format(len(D5_valid_loader), 100 * correct / total))"
      ],
      "metadata": {
        "colab": {
          "base_uri": "https://localhost:8080/"
        },
        "id": "O8col_cxyx6G",
        "outputId": "08266c52-628f-471a-e4cc-69764b05c059"
      },
      "execution_count": null,
      "outputs": [
        {
          "output_type": "stream",
          "name": "stdout",
          "text": [
            "Saving checkpoint...\n",
            "Epoch [1/10], Step [16/16], Loss: 0.7838\n",
            "Accuracy of the network on the 2 validation images: 79.62962962962963 %\n",
            "Saving checkpoint...\n",
            "Epoch [2/10], Step [16/16], Loss: 0.2601\n",
            "Accuracy of the network on the 2 validation images: 70.37037037037037 %\n",
            "Saving checkpoint...\n",
            "Epoch [3/10], Step [16/16], Loss: 0.3807\n",
            "Accuracy of the network on the 2 validation images: 82.4074074074074 %\n",
            "Saving checkpoint...\n",
            "Epoch [4/10], Step [16/16], Loss: 0.4907\n",
            "Accuracy of the network on the 2 validation images: 80.55555555555556 %\n",
            "Saving checkpoint...\n",
            "Epoch [5/10], Step [16/16], Loss: 0.4001\n",
            "Accuracy of the network on the 2 validation images: 86.11111111111111 %\n",
            "Saving checkpoint...\n",
            "Epoch [6/10], Step [16/16], Loss: 0.4591\n",
            "Accuracy of the network on the 2 validation images: 80.55555555555556 %\n",
            "Saving checkpoint...\n",
            "Epoch [7/10], Step [16/16], Loss: 0.5440\n",
            "Accuracy of the network on the 2 validation images: 82.4074074074074 %\n",
            "Saving checkpoint...\n",
            "Epoch [8/10], Step [16/16], Loss: 0.2369\n",
            "Accuracy of the network on the 2 validation images: 87.03703703703704 %\n",
            "Saving checkpoint...\n",
            "Epoch [9/10], Step [16/16], Loss: 0.0704\n",
            "Accuracy of the network on the 2 validation images: 86.11111111111111 %\n",
            "Saving checkpoint...\n",
            "Epoch [10/10], Step [16/16], Loss: 0.3824\n",
            "Accuracy of the network on the 2 validation images: 78.70370370370371 %\n"
          ]
        }
      ]
    },
    {
      "cell_type": "markdown",
      "source": [
        "model use"
      ],
      "metadata": {
        "id": "JYBktYW9zVOu"
      }
    },
    {
      "cell_type": "code",
      "source": [
        "# test_dir_D3 = '/content/drive/MyDrive/wcs2023/Hieu/test/D3'\n",
        "# test_dir_D5 = '/content/drive/MyDrive/wcs2023/Hieu/test/D5'\n",
        "\n",
        "test_dir = '/content/drive/MyDrive/wcs2023/Hieu/VGG16/test_no_black_background'\n",
        "\n",
        "normalize = transforms.Normalize(\n",
        "    # mean=[0.485], std=[0.229],\n",
        "    mean=[0.4914, 0.4822, 0.4465],\n",
        "    std=[0.2023, 0.1994, 0.2010],\n",
        ")\n",
        "\n",
        "# Preprocess the image\n",
        "preprocess = transforms.Compose([\n",
        "        transforms.Resize((227,227)),\n",
        "        transforms.ToTensor(),\n",
        "        normalize,\n",
        "])"
      ],
      "metadata": {
        "id": "Xkg-GIkt2xDy"
      },
      "execution_count": null,
      "outputs": []
    },
    {
      "cell_type": "code",
      "source": [
        "import csv\n",
        "\n",
        "model_D3 = VGG16(num_classes)\n",
        "model_D3.load_state_dict(torch.load('/content/drive/MyDrive/wcs2023/Hieu/VGG16/checkpoint_D3/checkpoint_no_black_ground.pth'))\n",
        "#model_D3.eval()\n",
        "\n",
        "model_D5 = VGG16(num_classes)\n",
        "model_D5.load_state_dict(torch.load('/content/drive/MyDrive/wcs2023/Hieu/VGG16/checkpoint_D5/checkpoint_no_black_ground.pth'))\n",
        "#model_D5.eval()\n",
        "\n",
        "test_name_dir = '/content/drive/MyDrive/wcs2023/hvwc23/test.csv'\n",
        "result_dir = '/content/drive/MyDrive/wcs2023/result/submission.csv'\n",
        "test_id=[]\n",
        "test_name=[]\n",
        "\n",
        "with open(result_dir, 'w', newline='') as f:\n",
        "  summit = csv.writer(f)\n",
        "  summit.writerow(['ID', 'Class'])\n",
        "\n",
        "with open(test_name_dir, 'r') as f:\n",
        "  test_name_reader = csv.reader(f)\n",
        "  next(test_name_reader)\n",
        "  for row in test_name_reader:\n",
        "    test_id.append(int(row[0]))\n",
        "    test_name.append(row[1])\n",
        "\n",
        "count = 1\n",
        "for count in test_id:\n",
        "    image = test_name[count-1]\n",
        "    image_extension = os.path.splitext(image)[0]\n",
        "    day = image_extension.split('_')\n",
        "    if day == \"D3\":\n",
        "      model = model_D3\n",
        "    else:\n",
        "      model = model_D5\n",
        "    model.eval()\n",
        "    PILimage = Image.open(os.path.join(test_dir, image))\n",
        "    input_tensor = preprocess(PILimage).unsqueeze(0)\n",
        "\n",
        "    # Perform inference\n",
        "    with torch.no_grad():\n",
        "        output = model(input_tensor)\n",
        "\n",
        "    if output[0][0] > output[0][1]:\n",
        "      id = '0'\n",
        "    else:\n",
        "      id = '1'\n",
        "\n",
        "    with open(result_dir, 'a', newline='') as f:\n",
        "      submission = csv.writer(f)\n",
        "      submission.writerow([count, id])\n",
        "\n",
        "    count += 1\n"
      ],
      "metadata": {
        "id": "eWRO93uH7UON"
      },
      "execution_count": null,
      "outputs": []
    },
    {
      "cell_type": "code",
      "source": [
        "# Load the trained model\n",
        "model_D3 = VGG16(num_classes)\n",
        "model_D3.load_state_dict(torch.load('/content/drive/MyDrive/wcs2023/Hieu/VGG16/checkpoint_D3/checkpoint.pth'))\n",
        "model_D3.eval()\n",
        "\n",
        "D3_test_images = os.listdir(test_dir_D3)\n",
        "D3_result = {}\n",
        "\n",
        "for D3_image in D3_test_images:\n",
        "  image = Image.open('/content/drive/MyDrive/wcs2023/Hieu/test/D3/' + D3_image)\n",
        "  input_tensor = preprocess(image).unsqueeze(0)\n",
        "\n",
        "  # Perform inference\n",
        "  with torch.no_grad():\n",
        "      output = model_D3(input_tensor)\n",
        "\n",
        "  if output[0][0] > output[0][1]:\n",
        "    D3_result[D3_image] = '0'\n",
        "  else:\n",
        "    D3_result[D3_image] = '1'\n",
        "\n",
        "# # Print the predicted class\n",
        "# print(f\"Predicted class: {predicted_class}\")\n",
        "\n"
      ],
      "metadata": {
        "id": "rytCmDWoxfc5"
      },
      "execution_count": null,
      "outputs": []
    },
    {
      "cell_type": "code",
      "source": [
        "# Load the trained model\n",
        "model_D5 = VGG16(num_classes)\n",
        "model_D5.load_state_dict(torch.load('/content/drive/MyDrive/wcs2023/Hieu/VGG16/checkpoint_D5/checkpoint.pth'))\n",
        "model_D5.eval()\n",
        "\n",
        "D5_test_images = os.listdir(test_dir_D5)\n",
        "D5_result = {}\n",
        "\n",
        "for D5_image in D5_test_images:\n",
        "  image = Image.open('/content/drive/MyDrive/wcs2023/Hieu/test/D5/' + D5_image)\n",
        "  input_tensor = preprocess(image).unsqueeze(0)\n",
        "\n",
        "  # Perform inference\n",
        "  with torch.no_grad():\n",
        "      output = model_D5(input_tensor)\n",
        "  #print(output)\n",
        "  if output[0][0] > output[0][1]:\n",
        "    D5_result[D5_image] = '0'\n",
        "  else:\n",
        "    D5_result[D5_image] = '1'\n",
        "  # Get the predicted class index\n",
        "  # _, predicted_idx = torch.max(output, 1)\n",
        "  # predicted_class = predicted_idx.item()\n",
        "\n"
      ],
      "metadata": {
        "id": "U4owPhvw2mf7"
      },
      "execution_count": null,
      "outputs": []
    },
    {
      "cell_type": "code",
      "source": [
        "final_result = D3_result.copy()\n",
        "final_result.update(D5_result)\n",
        "print(final_result)"
      ],
      "metadata": {
        "colab": {
          "base_uri": "https://localhost:8080/"
        },
        "id": "cmuoE5ba4dcL",
        "outputId": "baa5dd7e-b35e-4427-cb59-bc28b0f6c6b3"
      },
      "execution_count": null,
      "outputs": [
        {
          "output_type": "stream",
          "name": "stdout",
          "text": [
            "{'D3_287.jpg': '0', 'D3_165.jpg': '0', 'D3_097.jpg': '0', 'D3_605.jpg': '0', 'D3_645.jpg': '0', 'D3_384.jpg': '1', 'D3_303.jpg': '0', 'D3_555.jpg': '0', 'D3_629.jpg': '0', 'D3_530.jpg': '0', 'D3_590.jpg': '0', 'D3_534.jpg': '0', 'D3_389.jpg': '1', 'D3_119.jpg': '0', 'D3_465.jpg': '0', 'D3_074.jpg': '0', 'D3_265.jpg': '0', 'D3_149.jpg': '0', 'D3_193.jpg': '0', 'D3_138.jpg': '0', 'D3_376.jpg': '1', 'D3_232.jpg': '0', 'D3_032.jpg': '0', 'D3_343.jpg': '0', 'D3_522.jpg': '1', 'D3_579.jpg': '0', 'D3_327.jpg': '0', 'D3_426.jpg': '0', 'D3_276.jpg': '1', 'D3_307.jpg': '0', 'D3_328.jpg': '1', 'D3_546.jpg': '0', 'D3_491.jpg': '0', 'D3_474.jpg': '1', 'D3_538.jpg': '0', 'D3_266.jpg': '0', 'D3_451.jpg': '0', 'D3_583.jpg': '0', 'D3_337.jpg': '0', 'D3_205.jpg': '0', 'D3_091.jpg': '0', 'D3_078.jpg': '0', 'D3_199.jpg': '0', 'D3_310.jpg': '0', 'D3_210.jpg': '0', 'D3_140.jpg': '0', 'D3_194.jpg': '0', 'D3_518.jpg': '0', 'D3_441.jpg': '0', 'D3_166.jpg': '0', 'D3_604.jpg': '0', 'D3_378.jpg': '0', 'D3_535.jpg': '0', 'D3_520.jpg': '0', 'D3_597.jpg': '0', 'D3_136.jpg': '0', 'D3_297.jpg': '0', 'D3_282.jpg': '1', 'D3_638.jpg': '0', 'D3_235.jpg': '0', 'D3_267.jpg': '0', 'D3_353.jpg': '0', 'D3_295.jpg': '0', 'D3_098.jpg': '0', 'D3_070.jpg': '0', 'D3_334.jpg': '0', 'D3_045.jpg': '1', 'D3_362.jpg': '0', 'D3_528.jpg': '0', 'D3_169.jpg': '0', 'D3_632.jpg': '0', 'D3_146.jpg': '1', 'D3_621.jpg': '0', 'D3_623.jpg': '0', 'D3_399.jpg': '0', 'D3_437.jpg': '0', 'D3_067.jpg': '0', 'D3_068.jpg': '0', 'D3_121.jpg': '1', 'D3_240.jpg': '0', 'D3_432.jpg': '0', 'D3_291.jpg': '0', 'D3_040.jpg': '0', 'D3_449.jpg': '0', 'D3_003.jpg': '0', 'D3_324.jpg': '0', 'D3_182.jpg': '0', 'D3_507.jpg': '0', 'D3_429.jpg': '0', 'D3_596.jpg': '0', 'D3_214.jpg': '0', 'D3_007.jpg': '0', 'D3_212.jpg': '0', 'D3_716.jpg': '0', 'D3_708.jpg': '0', 'D3_762.jpg': '1', 'D3_731.jpg': '0', 'D3_659.jpg': '0', 'D3_693.jpg': '0', 'D3_690.jpg': '0', 'D3_724.jpg': '0', 'D3_742.jpg': '0', 'D3_665.jpg': '0', 'D3_791.jpg': '1', 'D3_668.jpg': '0', 'D3_765.jpg': '0', 'D3_689.jpg': '1', 'D3_720.jpg': '0', 'D3_751.jpg': '1', 'D3_663.jpg': '0', 'D3_651.jpg': '1', 'D3_657.jpg': '1', 'D3_656.jpg': '0', 'D3_722.jpg': '0', 'D3_714.jpg': '1', 'D3_674.jpg': '0', 'D3_745.jpg': '0', 'D3_667.jpg': '0', 'D3_761.jpg': '0', 'D3_796.jpg': '1', 'D5_388.jpg': '0', 'D5_067.jpg': '0', 'D5_249.jpg': '0', 'D5_295.jpg': '0', 'D5_226.jpg': '0', 'D5_080.jpg': '0', 'D5_078.jpg': '1', 'D5_248.jpg': '0', 'D5_034.jpg': '0', 'D5_105.jpg': '0', 'D5_375.jpg': '0', 'D5_370.jpg': '0', 'D5_079.jpg': '0', 'D5_125.jpg': '0', 'D5_056.jpg': '1', 'D5_016.jpg': '0', 'D5_315.jpg': '0', 'D5_286.jpg': '0', 'D5_322.jpg': '0', 'D5_133.jpg': '0', 'D5_173.jpg': '0', 'D5_203.jpg': '0', 'D5_076.jpg': '0', 'D5_290.jpg': '1', 'D5_020.jpg': '1', 'D5_153.jpg': '0', 'D5_389.jpg': '0', 'D5_293.jpg': '1', 'D5_061.jpg': '1', 'D5_111.jpg': '0', 'D5_330.jpg': '0', 'D5_181.jpg': '0', 'D5_377.jpg': '0', 'D5_031.jpg': '0', 'D5_251.jpg': '0', 'D5_159.jpg': '0', 'D5_262.jpg': '0', 'D5_302.jpg': '0', 'D5_149.jpg': '0', 'D5_008.jpg': '0', 'D5_281.jpg': '0', 'D5_141.jpg': '0', 'D5_211.jpg': '0', 'D5_339.jpg': '0', 'D5_073.jpg': '1', 'D5_356.jpg': '0', 'D5_247.jpg': '0', 'D5_386.jpg': '0', 'D5_267.jpg': '0', 'D5_272.jpg': '1', 'D5_047.jpg': '0', 'D5_221.jpg': '0', 'D5_019.jpg': '1', 'D5_023.jpg': '0', 'D5_017.jpg': '1', 'D5_004.jpg': '0', 'D5_275.jpg': '0', 'D5_343.jpg': '0', 'D5_282.jpg': '0', 'D5_119.jpg': '0'}\n"
          ]
        }
      ]
    },
    {
      "cell_type": "code",
      "source": [
        "import csv\n",
        "test_name_dir = '/content/drive/MyDrive/wcs2023/hvwc23/test.csv'\n",
        "result_dir = '/content/drive/MyDrive/wcs2023/result/submission.csv'\n",
        "test_id=[]\n",
        "test_name=[]\n",
        "\n",
        "with open(result_dir, 'w', newline='') as f:\n",
        "  summit = csv.writer(f)\n",
        "  summit.writerow(['ID', 'Class'])\n",
        "\n",
        "with open(test_name_dir, 'r') as f:\n",
        "  test_name_reader = csv.reader(f)\n",
        "  next(test_name_reader)\n",
        "  for row in test_name_reader:\n",
        "    test_id.append(int(row[0]))\n",
        "    test_name.append(row[1])\n",
        "\n",
        "count = 1\n",
        "for count in test_id:\n",
        "    image = test_name[count-1]\n",
        "\n",
        "    id = int(final_result[image])\n",
        "\n",
        "    with open(result_dir, 'a', newline='') as f:\n",
        "      submission = csv.writer(f)\n",
        "      submission.writerow([count, id])\n",
        "\n",
        "    count += 1\n"
      ],
      "metadata": {
        "id": "TzSLRVC67zz0"
      },
      "execution_count": null,
      "outputs": []
    },
    {
      "cell_type": "markdown",
      "source": [
        "###YOLOv8 SEG"
      ],
      "metadata": {
        "id": "Lac6fn3Zyaz_"
      }
    },
    {
      "cell_type": "code",
      "source": [
        "from google.colab import drive\n",
        "drive.mount('/content/drive')"
      ],
      "metadata": {
        "colab": {
          "base_uri": "https://localhost:8080/"
        },
        "id": "hTwfO2PM8bsl",
        "outputId": "9d29b17d-0d24-4081-c132-f79bfc9bad94"
      },
      "execution_count": null,
      "outputs": [
        {
          "output_type": "stream",
          "name": "stdout",
          "text": [
            "Mounted at /content/drive\n"
          ]
        }
      ]
    },
    {
      "cell_type": "code",
      "source": [
        "!pip install roboflow\n",
        "\n",
        "from roboflow import Roboflow\n",
        "rf = Roboflow(api_key=\"yv2LwLQXXzHTR1ZyEQUx\")\n",
        "project = rf.workspace(\"embryo-qnehw\").project(\"embryo-classification\")\n",
        "dataset = project.version(6).download(\"yolov8\")\n"
      ],
      "metadata": {
        "id": "5Ku4aPamykbN",
        "colab": {
          "base_uri": "https://localhost:8080/",
          "height": 1000
        },
        "outputId": "197635b1-0c1d-46a4-a575-4efa4f942d71"
      },
      "execution_count": null,
      "outputs": [
        {
          "output_type": "stream",
          "name": "stdout",
          "text": [
            "Collecting roboflow\n",
            "  Downloading roboflow-1.1.7-py3-none-any.whl (58 kB)\n",
            "\u001b[2K     \u001b[90m━━━━━━━━━━━━━━━━━━━━━━━━━━━━━━━━━━━━━━━━\u001b[0m \u001b[32m58.8/58.8 kB\u001b[0m \u001b[31m1.1 MB/s\u001b[0m eta \u001b[36m0:00:00\u001b[0m\n",
            "\u001b[?25hCollecting certifi==2022.12.7 (from roboflow)\n",
            "  Downloading certifi-2022.12.7-py3-none-any.whl (155 kB)\n",
            "\u001b[2K     \u001b[90m━━━━━━━━━━━━━━━━━━━━━━━━━━━━━━━━━━━━━━━━\u001b[0m \u001b[32m155.3/155.3 kB\u001b[0m \u001b[31m6.4 MB/s\u001b[0m eta \u001b[36m0:00:00\u001b[0m\n",
            "\u001b[?25hCollecting chardet==4.0.0 (from roboflow)\n",
            "  Downloading chardet-4.0.0-py2.py3-none-any.whl (178 kB)\n",
            "\u001b[2K     \u001b[90m━━━━━━━━━━━━━━━━━━━━━━━━━━━━━━━━━━━━━━━━\u001b[0m \u001b[32m178.7/178.7 kB\u001b[0m \u001b[31m18.4 MB/s\u001b[0m eta \u001b[36m0:00:00\u001b[0m\n",
            "\u001b[?25hCollecting cycler==0.10.0 (from roboflow)\n",
            "  Downloading cycler-0.10.0-py2.py3-none-any.whl (6.5 kB)\n",
            "Collecting idna==2.10 (from roboflow)\n",
            "  Downloading idna-2.10-py2.py3-none-any.whl (58 kB)\n",
            "\u001b[2K     \u001b[90m━━━━━━━━━━━━━━━━━━━━━━━━━━━━━━━━━━━━━━━━\u001b[0m \u001b[32m58.8/58.8 kB\u001b[0m \u001b[31m8.0 MB/s\u001b[0m eta \u001b[36m0:00:00\u001b[0m\n",
            "\u001b[?25hRequirement already satisfied: kiwisolver>=1.3.1 in /usr/local/lib/python3.10/dist-packages (from roboflow) (1.4.5)\n",
            "Requirement already satisfied: matplotlib in /usr/local/lib/python3.10/dist-packages (from roboflow) (3.7.1)\n",
            "Requirement already satisfied: numpy>=1.18.5 in /usr/local/lib/python3.10/dist-packages (from roboflow) (1.23.5)\n",
            "Collecting opencv-python-headless==4.8.0.74 (from roboflow)\n",
            "  Downloading opencv_python_headless-4.8.0.74-cp37-abi3-manylinux_2_17_x86_64.manylinux2014_x86_64.whl (49.1 MB)\n",
            "\u001b[2K     \u001b[90m━━━━━━━━━━━━━━━━━━━━━━━━━━━━━━━━━━━━━━━━\u001b[0m \u001b[32m49.1/49.1 MB\u001b[0m \u001b[31m21.2 MB/s\u001b[0m eta \u001b[36m0:00:00\u001b[0m\n",
            "\u001b[?25hRequirement already satisfied: Pillow>=7.1.2 in /usr/local/lib/python3.10/dist-packages (from roboflow) (9.4.0)\n",
            "Collecting pyparsing==2.4.7 (from roboflow)\n",
            "  Downloading pyparsing-2.4.7-py2.py3-none-any.whl (67 kB)\n",
            "\u001b[2K     \u001b[90m━━━━━━━━━━━━━━━━━━━━━━━━━━━━━━━━━━━━━━━━\u001b[0m \u001b[32m67.8/67.8 kB\u001b[0m \u001b[31m8.6 MB/s\u001b[0m eta \u001b[36m0:00:00\u001b[0m\n",
            "\u001b[?25hRequirement already satisfied: python-dateutil in /usr/local/lib/python3.10/dist-packages (from roboflow) (2.8.2)\n",
            "Collecting python-dotenv (from roboflow)\n",
            "  Downloading python_dotenv-1.0.0-py3-none-any.whl (19 kB)\n",
            "Requirement already satisfied: requests in /usr/local/lib/python3.10/dist-packages (from roboflow) (2.31.0)\n",
            "Requirement already satisfied: six in /usr/local/lib/python3.10/dist-packages (from roboflow) (1.16.0)\n",
            "Collecting supervision (from roboflow)\n",
            "  Downloading supervision-0.16.0-py3-none-any.whl (72 kB)\n",
            "\u001b[2K     \u001b[90m━━━━━━━━━━━━━━━━━━━━━━━━━━━━━━━━━━━━━━━━\u001b[0m \u001b[32m72.2/72.2 kB\u001b[0m \u001b[31m9.1 MB/s\u001b[0m eta \u001b[36m0:00:00\u001b[0m\n",
            "\u001b[?25hRequirement already satisfied: urllib3>=1.26.6 in /usr/local/lib/python3.10/dist-packages (from roboflow) (2.0.7)\n",
            "Requirement already satisfied: tqdm>=4.41.0 in /usr/local/lib/python3.10/dist-packages (from roboflow) (4.66.1)\n",
            "Requirement already satisfied: PyYAML>=5.3.1 in /usr/local/lib/python3.10/dist-packages (from roboflow) (6.0.1)\n",
            "Collecting requests-toolbelt (from roboflow)\n",
            "  Downloading requests_toolbelt-1.0.0-py2.py3-none-any.whl (54 kB)\n",
            "\u001b[2K     \u001b[90m━━━━━━━━━━━━━━━━━━━━━━━━━━━━━━━━━━━━━━━━\u001b[0m \u001b[32m54.5/54.5 kB\u001b[0m \u001b[31m6.9 MB/s\u001b[0m eta \u001b[36m0:00:00\u001b[0m\n",
            "\u001b[?25hRequirement already satisfied: contourpy>=1.0.1 in /usr/local/lib/python3.10/dist-packages (from matplotlib->roboflow) (1.1.1)\n",
            "Requirement already satisfied: fonttools>=4.22.0 in /usr/local/lib/python3.10/dist-packages (from matplotlib->roboflow) (4.43.1)\n",
            "Requirement already satisfied: packaging>=20.0 in /usr/local/lib/python3.10/dist-packages (from matplotlib->roboflow) (23.2)\n",
            "Requirement already satisfied: charset-normalizer<4,>=2 in /usr/local/lib/python3.10/dist-packages (from requests->roboflow) (3.3.0)\n",
            "Requirement already satisfied: scipy<2.0.0,>=1.9.0 in /usr/local/lib/python3.10/dist-packages (from supervision->roboflow) (1.11.3)\n",
            "Installing collected packages: python-dotenv, pyparsing, opencv-python-headless, idna, cycler, chardet, certifi, supervision, requests-toolbelt, roboflow\n",
            "  Attempting uninstall: pyparsing\n",
            "    Found existing installation: pyparsing 3.1.1\n",
            "    Uninstalling pyparsing-3.1.1:\n",
            "      Successfully uninstalled pyparsing-3.1.1\n",
            "  Attempting uninstall: opencv-python-headless\n",
            "    Found existing installation: opencv-python-headless 4.8.1.78\n",
            "    Uninstalling opencv-python-headless-4.8.1.78:\n",
            "      Successfully uninstalled opencv-python-headless-4.8.1.78\n",
            "  Attempting uninstall: idna\n",
            "    Found existing installation: idna 3.4\n",
            "    Uninstalling idna-3.4:\n",
            "      Successfully uninstalled idna-3.4\n",
            "  Attempting uninstall: cycler\n",
            "    Found existing installation: cycler 0.12.1\n",
            "    Uninstalling cycler-0.12.1:\n",
            "      Successfully uninstalled cycler-0.12.1\n",
            "  Attempting uninstall: chardet\n",
            "    Found existing installation: chardet 5.2.0\n",
            "    Uninstalling chardet-5.2.0:\n",
            "      Successfully uninstalled chardet-5.2.0\n",
            "  Attempting uninstall: certifi\n",
            "    Found existing installation: certifi 2023.7.22\n",
            "    Uninstalling certifi-2023.7.22:\n",
            "      Successfully uninstalled certifi-2023.7.22\n",
            "\u001b[31mERROR: pip's dependency resolver does not currently take into account all the packages that are installed. This behaviour is the source of the following dependency conflicts.\n",
            "lida 0.0.10 requires fastapi, which is not installed.\n",
            "lida 0.0.10 requires kaleido, which is not installed.\n",
            "lida 0.0.10 requires python-multipart, which is not installed.\n",
            "lida 0.0.10 requires uvicorn, which is not installed.\u001b[0m\u001b[31m\n",
            "\u001b[0mSuccessfully installed certifi-2022.12.7 chardet-4.0.0 cycler-0.10.0 idna-2.10 opencv-python-headless-4.8.0.74 pyparsing-2.4.7 python-dotenv-1.0.0 requests-toolbelt-1.0.0 roboflow-1.1.7 supervision-0.16.0\n"
          ]
        },
        {
          "output_type": "display_data",
          "data": {
            "application/vnd.colab-display-data+json": {
              "pip_warning": {
                "packages": [
                  "certifi",
                  "cycler",
                  "pyparsing"
                ]
              }
            }
          },
          "metadata": {}
        },
        {
          "output_type": "stream",
          "name": "stdout",
          "text": [
            "loading Roboflow workspace...\n",
            "loading Roboflow project...\n",
            "[WARNING] we noticed you are downloading a `yolov8` datasets but you don't have `ultralytics` installed. Roboflow `.deploy` supports only models trained with `ultralytics==8.0.134`, to intall it `pip install ultralytics==8.0.134`.\n"
          ]
        },
        {
          "output_type": "stream",
          "name": "stderr",
          "text": [
            "Downloading Dataset Version Zip in Embryo-Classification-6 to yolov8:: 100%|██████████| 12831/12831 [00:00<00:00, 42653.16it/s]"
          ]
        },
        {
          "output_type": "stream",
          "name": "stdout",
          "text": [
            "\n"
          ]
        },
        {
          "output_type": "stream",
          "name": "stderr",
          "text": [
            "\n",
            "Extracting Dataset Version Zip to Embryo-Classification-6 in yolov8:: 100%|██████████| 1647/1647 [00:00<00:00, 8793.93it/s]\n"
          ]
        }
      ]
    },
    {
      "cell_type": "markdown",
      "source": [
        "D3 no augment"
      ],
      "metadata": {
        "id": "BVBzc0Ilh2wt"
      }
    },
    {
      "cell_type": "code",
      "source": [
        "!pip install roboflow\n",
        "\n",
        "from roboflow import Roboflow\n",
        "rf = Roboflow(api_key=\"yv2LwLQXXzHTR1ZyEQUx\")\n",
        "project = rf.workspace(\"embryo-qnehw\").project(\"embryo-classification\")\n",
        "dataset = project.version(8).download(\"yolov8\")\n"
      ],
      "metadata": {
        "colab": {
          "base_uri": "https://localhost:8080/",
          "height": 1000
        },
        "id": "T4nnNBjzh1n4",
        "outputId": "35902225-3544-49ab-97d1-454e1b9127c1"
      },
      "execution_count": null,
      "outputs": [
        {
          "output_type": "stream",
          "name": "stdout",
          "text": [
            "Collecting roboflow\n",
            "  Downloading roboflow-1.1.7-py3-none-any.whl (58 kB)\n",
            "\u001b[?25l     \u001b[90m━━━━━━━━━━━━━━━━━━━━━━━━━━━━━━━━━━━━━━━━\u001b[0m \u001b[32m0.0/58.8 kB\u001b[0m \u001b[31m?\u001b[0m eta \u001b[36m-:--:--\u001b[0m\r\u001b[2K     \u001b[90m━━━━━━━━━━━━━━━━━━━━━━━━━━━━━━━━━━━━━━━━\u001b[0m \u001b[32m58.8/58.8 kB\u001b[0m \u001b[31m1.9 MB/s\u001b[0m eta \u001b[36m0:00:00\u001b[0m\n",
            "\u001b[?25hCollecting certifi==2022.12.7 (from roboflow)\n",
            "  Downloading certifi-2022.12.7-py3-none-any.whl (155 kB)\n",
            "\u001b[?25l     \u001b[90m━━━━━━━━━━━━━━━━━━━━━━━━━━━━━━━━━━━━━━━━\u001b[0m \u001b[32m0.0/155.3 kB\u001b[0m \u001b[31m?\u001b[0m eta \u001b[36m-:--:--\u001b[0m\r\u001b[2K     \u001b[90m━━━━━━━━━━━━━━━━━━━━━━━━━━━━━━━━━━━━━━━━\u001b[0m \u001b[32m155.3/155.3 kB\u001b[0m \u001b[31m7.0 MB/s\u001b[0m eta \u001b[36m0:00:00\u001b[0m\n",
            "\u001b[?25hCollecting chardet==4.0.0 (from roboflow)\n",
            "  Downloading chardet-4.0.0-py2.py3-none-any.whl (178 kB)\n",
            "\u001b[2K     \u001b[90m━━━━━━━━━━━━━━━━━━━━━━━━━━━━━━━━━━━━━━━━\u001b[0m \u001b[32m178.7/178.7 kB\u001b[0m \u001b[31m8.8 MB/s\u001b[0m eta \u001b[36m0:00:00\u001b[0m\n",
            "\u001b[?25hCollecting cycler==0.10.0 (from roboflow)\n",
            "  Downloading cycler-0.10.0-py2.py3-none-any.whl (6.5 kB)\n",
            "Collecting idna==2.10 (from roboflow)\n",
            "  Downloading idna-2.10-py2.py3-none-any.whl (58 kB)\n",
            "\u001b[2K     \u001b[90m━━━━━━━━━━━━━━━━━━━━━━━━━━━━━━━━━━━━━━━━\u001b[0m \u001b[32m58.8/58.8 kB\u001b[0m \u001b[31m4.9 MB/s\u001b[0m eta \u001b[36m0:00:00\u001b[0m\n",
            "\u001b[?25hRequirement already satisfied: kiwisolver>=1.3.1 in /usr/local/lib/python3.10/dist-packages (from roboflow) (1.4.5)\n",
            "Requirement already satisfied: matplotlib in /usr/local/lib/python3.10/dist-packages (from roboflow) (3.7.1)\n",
            "Requirement already satisfied: numpy>=1.18.5 in /usr/local/lib/python3.10/dist-packages (from roboflow) (1.23.5)\n",
            "Collecting opencv-python-headless==4.8.0.74 (from roboflow)\n",
            "  Downloading opencv_python_headless-4.8.0.74-cp37-abi3-manylinux_2_17_x86_64.manylinux2014_x86_64.whl (49.1 MB)\n",
            "\u001b[2K     \u001b[90m━━━━━━━━━━━━━━━━━━━━━━━━━━━━━━━━━━━━━━━━\u001b[0m \u001b[32m49.1/49.1 MB\u001b[0m \u001b[31m16.7 MB/s\u001b[0m eta \u001b[36m0:00:00\u001b[0m\n",
            "\u001b[?25hRequirement already satisfied: Pillow>=7.1.2 in /usr/local/lib/python3.10/dist-packages (from roboflow) (9.4.0)\n",
            "Collecting pyparsing==2.4.7 (from roboflow)\n",
            "  Downloading pyparsing-2.4.7-py2.py3-none-any.whl (67 kB)\n",
            "\u001b[2K     \u001b[90m━━━━━━━━━━━━━━━━━━━━━━━━━━━━━━━━━━━━━━━━\u001b[0m \u001b[32m67.8/67.8 kB\u001b[0m \u001b[31m11.5 MB/s\u001b[0m eta \u001b[36m0:00:00\u001b[0m\n",
            "\u001b[?25hRequirement already satisfied: python-dateutil in /usr/local/lib/python3.10/dist-packages (from roboflow) (2.8.2)\n",
            "Collecting python-dotenv (from roboflow)\n",
            "  Downloading python_dotenv-1.0.0-py3-none-any.whl (19 kB)\n",
            "Requirement already satisfied: requests in /usr/local/lib/python3.10/dist-packages (from roboflow) (2.31.0)\n",
            "Requirement already satisfied: six in /usr/local/lib/python3.10/dist-packages (from roboflow) (1.16.0)\n",
            "Collecting supervision (from roboflow)\n",
            "  Downloading supervision-0.16.0-py3-none-any.whl (72 kB)\n",
            "\u001b[2K     \u001b[90m━━━━━━━━━━━━━━━━━━━━━━━━━━━━━━━━━━━━━━━━\u001b[0m \u001b[32m72.2/72.2 kB\u001b[0m \u001b[31m11.8 MB/s\u001b[0m eta \u001b[36m0:00:00\u001b[0m\n",
            "\u001b[?25hRequirement already satisfied: urllib3>=1.26.6 in /usr/local/lib/python3.10/dist-packages (from roboflow) (2.0.7)\n",
            "Requirement already satisfied: tqdm>=4.41.0 in /usr/local/lib/python3.10/dist-packages (from roboflow) (4.66.1)\n",
            "Requirement already satisfied: PyYAML>=5.3.1 in /usr/local/lib/python3.10/dist-packages (from roboflow) (6.0.1)\n",
            "Collecting requests-toolbelt (from roboflow)\n",
            "  Downloading requests_toolbelt-1.0.0-py2.py3-none-any.whl (54 kB)\n",
            "\u001b[2K     \u001b[90m━━━━━━━━━━━━━━━━━━━━━━━━━━━━━━━━━━━━━━━━\u001b[0m \u001b[32m54.5/54.5 kB\u001b[0m \u001b[31m9.6 MB/s\u001b[0m eta \u001b[36m0:00:00\u001b[0m\n",
            "\u001b[?25hRequirement already satisfied: contourpy>=1.0.1 in /usr/local/lib/python3.10/dist-packages (from matplotlib->roboflow) (1.1.1)\n",
            "Requirement already satisfied: fonttools>=4.22.0 in /usr/local/lib/python3.10/dist-packages (from matplotlib->roboflow) (4.43.1)\n",
            "Requirement already satisfied: packaging>=20.0 in /usr/local/lib/python3.10/dist-packages (from matplotlib->roboflow) (23.2)\n",
            "Requirement already satisfied: charset-normalizer<4,>=2 in /usr/local/lib/python3.10/dist-packages (from requests->roboflow) (3.3.0)\n",
            "Requirement already satisfied: scipy<2.0.0,>=1.9.0 in /usr/local/lib/python3.10/dist-packages (from supervision->roboflow) (1.11.3)\n",
            "Installing collected packages: python-dotenv, pyparsing, opencv-python-headless, idna, cycler, chardet, certifi, supervision, requests-toolbelt, roboflow\n",
            "  Attempting uninstall: pyparsing\n",
            "    Found existing installation: pyparsing 3.1.1\n",
            "    Uninstalling pyparsing-3.1.1:\n",
            "      Successfully uninstalled pyparsing-3.1.1\n",
            "  Attempting uninstall: opencv-python-headless\n",
            "    Found existing installation: opencv-python-headless 4.8.1.78\n",
            "    Uninstalling opencv-python-headless-4.8.1.78:\n",
            "      Successfully uninstalled opencv-python-headless-4.8.1.78\n",
            "  Attempting uninstall: idna\n",
            "    Found existing installation: idna 3.4\n",
            "    Uninstalling idna-3.4:\n",
            "      Successfully uninstalled idna-3.4\n",
            "  Attempting uninstall: cycler\n",
            "    Found existing installation: cycler 0.12.1\n",
            "    Uninstalling cycler-0.12.1:\n",
            "      Successfully uninstalled cycler-0.12.1\n",
            "  Attempting uninstall: chardet\n",
            "    Found existing installation: chardet 5.2.0\n",
            "    Uninstalling chardet-5.2.0:\n",
            "      Successfully uninstalled chardet-5.2.0\n",
            "  Attempting uninstall: certifi\n",
            "    Found existing installation: certifi 2023.7.22\n",
            "    Uninstalling certifi-2023.7.22:\n",
            "      Successfully uninstalled certifi-2023.7.22\n",
            "\u001b[31mERROR: pip's dependency resolver does not currently take into account all the packages that are installed. This behaviour is the source of the following dependency conflicts.\n",
            "lida 0.0.10 requires fastapi, which is not installed.\n",
            "lida 0.0.10 requires kaleido, which is not installed.\n",
            "lida 0.0.10 requires python-multipart, which is not installed.\n",
            "lida 0.0.10 requires uvicorn, which is not installed.\u001b[0m\u001b[31m\n",
            "\u001b[0mSuccessfully installed certifi-2022.12.7 chardet-4.0.0 cycler-0.10.0 idna-2.10 opencv-python-headless-4.8.0.74 pyparsing-2.4.7 python-dotenv-1.0.0 requests-toolbelt-1.0.0 roboflow-1.1.7 supervision-0.16.0\n"
          ]
        },
        {
          "output_type": "display_data",
          "data": {
            "application/vnd.colab-display-data+json": {
              "pip_warning": {
                "packages": [
                  "certifi",
                  "cycler",
                  "pyparsing"
                ]
              }
            }
          },
          "metadata": {}
        },
        {
          "output_type": "stream",
          "name": "stdout",
          "text": [
            "loading Roboflow workspace...\n",
            "loading Roboflow project...\n",
            "[WARNING] we noticed you are downloading a `yolov8` datasets but you don't have `ultralytics` installed. Roboflow `.deploy` supports only models trained with `ultralytics==8.0.134`, to intall it `pip install ultralytics==8.0.134`.\n"
          ]
        },
        {
          "output_type": "stream",
          "name": "stderr",
          "text": [
            "Downloading Dataset Version Zip in Embryo-Classification-8 to yolov8:: 100%|██████████| 8782/8782 [00:00<00:00, 40159.11it/s]"
          ]
        },
        {
          "output_type": "stream",
          "name": "stdout",
          "text": [
            "\n"
          ]
        },
        {
          "output_type": "stream",
          "name": "stderr",
          "text": [
            "\n",
            "Extracting Dataset Version Zip to Embryo-Classification-8 in yolov8:: 100%|██████████| 1117/1117 [00:00<00:00, 9435.99it/s]\n"
          ]
        }
      ]
    },
    {
      "cell_type": "markdown",
      "source": [
        "D5 no augment"
      ],
      "metadata": {
        "id": "RyO9Cjlxh5Gv"
      }
    },
    {
      "cell_type": "code",
      "source": [
        "!pip install roboflow\n",
        "\n",
        "from roboflow import Roboflow\n",
        "rf = Roboflow(api_key=\"yv2LwLQXXzHTR1ZyEQUx\")\n",
        "project = rf.workspace(\"embryo-qnehw\").project(\"embryo-classification\")\n",
        "dataset = project.version(7).download(\"yolov8\")\n"
      ],
      "metadata": {
        "colab": {
          "base_uri": "https://localhost:8080/"
        },
        "id": "Vq5HIhbZh6ap",
        "outputId": "87147a10-bbab-4d56-c47c-0981d686b294"
      },
      "execution_count": null,
      "outputs": [
        {
          "output_type": "stream",
          "name": "stdout",
          "text": [
            "Requirement already satisfied: roboflow in /usr/local/lib/python3.10/dist-packages (1.1.7)\n",
            "Requirement already satisfied: certifi==2022.12.7 in /usr/local/lib/python3.10/dist-packages (from roboflow) (2022.12.7)\n",
            "Requirement already satisfied: chardet==4.0.0 in /usr/local/lib/python3.10/dist-packages (from roboflow) (4.0.0)\n",
            "Requirement already satisfied: cycler==0.10.0 in /usr/local/lib/python3.10/dist-packages (from roboflow) (0.10.0)\n",
            "Requirement already satisfied: idna==2.10 in /usr/local/lib/python3.10/dist-packages (from roboflow) (2.10)\n",
            "Requirement already satisfied: kiwisolver>=1.3.1 in /usr/local/lib/python3.10/dist-packages (from roboflow) (1.4.5)\n",
            "Requirement already satisfied: matplotlib in /usr/local/lib/python3.10/dist-packages (from roboflow) (3.7.1)\n",
            "Requirement already satisfied: numpy>=1.18.5 in /usr/local/lib/python3.10/dist-packages (from roboflow) (1.23.5)\n",
            "Requirement already satisfied: opencv-python-headless==4.8.0.74 in /usr/local/lib/python3.10/dist-packages (from roboflow) (4.8.0.74)\n",
            "Requirement already satisfied: Pillow>=7.1.2 in /usr/local/lib/python3.10/dist-packages (from roboflow) (9.4.0)\n",
            "Requirement already satisfied: pyparsing==2.4.7 in /usr/local/lib/python3.10/dist-packages (from roboflow) (2.4.7)\n",
            "Requirement already satisfied: python-dateutil in /usr/local/lib/python3.10/dist-packages (from roboflow) (2.8.2)\n",
            "Requirement already satisfied: python-dotenv in /usr/local/lib/python3.10/dist-packages (from roboflow) (1.0.0)\n",
            "Requirement already satisfied: requests in /usr/local/lib/python3.10/dist-packages (from roboflow) (2.31.0)\n",
            "Requirement already satisfied: six in /usr/local/lib/python3.10/dist-packages (from roboflow) (1.16.0)\n",
            "Requirement already satisfied: supervision in /usr/local/lib/python3.10/dist-packages (from roboflow) (0.16.0)\n",
            "Requirement already satisfied: urllib3>=1.26.6 in /usr/local/lib/python3.10/dist-packages (from roboflow) (2.0.7)\n",
            "Requirement already satisfied: tqdm>=4.41.0 in /usr/local/lib/python3.10/dist-packages (from roboflow) (4.66.1)\n",
            "Requirement already satisfied: PyYAML>=5.3.1 in /usr/local/lib/python3.10/dist-packages (from roboflow) (6.0.1)\n",
            "Requirement already satisfied: requests-toolbelt in /usr/local/lib/python3.10/dist-packages (from roboflow) (1.0.0)\n",
            "Requirement already satisfied: contourpy>=1.0.1 in /usr/local/lib/python3.10/dist-packages (from matplotlib->roboflow) (1.1.1)\n",
            "Requirement already satisfied: fonttools>=4.22.0 in /usr/local/lib/python3.10/dist-packages (from matplotlib->roboflow) (4.43.1)\n",
            "Requirement already satisfied: packaging>=20.0 in /usr/local/lib/python3.10/dist-packages (from matplotlib->roboflow) (23.2)\n",
            "Requirement already satisfied: charset-normalizer<4,>=2 in /usr/local/lib/python3.10/dist-packages (from requests->roboflow) (3.3.0)\n",
            "Requirement already satisfied: scipy<2.0.0,>=1.9.0 in /usr/local/lib/python3.10/dist-packages (from supervision->roboflow) (1.11.3)\n",
            "loading Roboflow workspace...\n",
            "loading Roboflow project...\n",
            "[WARNING] we noticed you are downloading a `yolov8` datasets but you don't have `ultralytics` installed. Roboflow `.deploy` supports only models trained with `ultralytics==8.0.134`, to intall it `pip install ultralytics==8.0.134`.\n"
          ]
        },
        {
          "output_type": "stream",
          "name": "stderr",
          "text": [
            "Downloading Dataset Version Zip in Embryo-Classification-7 to yolov8:: 100%|██████████| 4051/4051 [00:00<00:00, 37290.93it/s]"
          ]
        },
        {
          "output_type": "stream",
          "name": "stdout",
          "text": [
            "\n"
          ]
        },
        {
          "output_type": "stream",
          "name": "stderr",
          "text": [
            "\n",
            "Extracting Dataset Version Zip to Embryo-Classification-7 in yolov8:: 100%|██████████| 536/536 [00:00<00:00, 6889.94it/s]\n"
          ]
        }
      ]
    },
    {
      "cell_type": "code",
      "source": [
        "!pip install ultralytics"
      ],
      "metadata": {
        "colab": {
          "base_uri": "https://localhost:8080/"
        },
        "id": "_7_6Gzpo9b6d",
        "outputId": "b88c5e87-6308-40cc-a648-1fa5969dc9c8"
      },
      "execution_count": null,
      "outputs": [
        {
          "output_type": "stream",
          "name": "stdout",
          "text": [
            "Collecting ultralytics\n",
            "  Downloading ultralytics-8.0.201-py3-none-any.whl (644 kB)\n",
            "\u001b[?25l     \u001b[90m━━━━━━━━━━━━━━━━━━━━━━━━━━━━━━━━━━━━━━━━\u001b[0m \u001b[32m0.0/644.7 kB\u001b[0m \u001b[31m?\u001b[0m eta \u001b[36m-:--:--\u001b[0m\r\u001b[2K     \u001b[91m━━━━━━━━━━\u001b[0m\u001b[91m╸\u001b[0m\u001b[90m━━━━━━━━━━━━━━━━━━━━━━━━━━━━━\u001b[0m \u001b[32m174.1/644.7 kB\u001b[0m \u001b[31m5.5 MB/s\u001b[0m eta \u001b[36m0:00:01\u001b[0m\r\u001b[2K     \u001b[91m━━━━━━━━━━━━━━━━━━━━━━━━━━━━━━━━━━━━━━━\u001b[0m\u001b[90m╺\u001b[0m \u001b[32m634.9/644.7 kB\u001b[0m \u001b[31m9.4 MB/s\u001b[0m eta \u001b[36m0:00:01\u001b[0m\r\u001b[2K     \u001b[90m━━━━━━━━━━━━━━━━━━━━━━━━━━━━━━━━━━━━━━━━\u001b[0m \u001b[32m644.7/644.7 kB\u001b[0m \u001b[31m8.3 MB/s\u001b[0m eta \u001b[36m0:00:00\u001b[0m\n",
            "\u001b[?25hRequirement already satisfied: matplotlib>=3.3.0 in /usr/local/lib/python3.10/dist-packages (from ultralytics) (3.7.1)\n",
            "Requirement already satisfied: numpy>=1.22.2 in /usr/local/lib/python3.10/dist-packages (from ultralytics) (1.23.5)\n",
            "Requirement already satisfied: opencv-python>=4.6.0 in /usr/local/lib/python3.10/dist-packages (from ultralytics) (4.8.0.76)\n",
            "Requirement already satisfied: pillow>=7.1.2 in /usr/local/lib/python3.10/dist-packages (from ultralytics) (9.4.0)\n",
            "Requirement already satisfied: pyyaml>=5.3.1 in /usr/local/lib/python3.10/dist-packages (from ultralytics) (6.0.1)\n",
            "Requirement already satisfied: requests>=2.23.0 in /usr/local/lib/python3.10/dist-packages (from ultralytics) (2.31.0)\n",
            "Requirement already satisfied: scipy>=1.4.1 in /usr/local/lib/python3.10/dist-packages (from ultralytics) (1.11.3)\n",
            "Requirement already satisfied: torch>=1.8.0 in /usr/local/lib/python3.10/dist-packages (from ultralytics) (2.1.0+cu118)\n",
            "Requirement already satisfied: torchvision>=0.9.0 in /usr/local/lib/python3.10/dist-packages (from ultralytics) (0.16.0+cu118)\n",
            "Requirement already satisfied: tqdm>=4.64.0 in /usr/local/lib/python3.10/dist-packages (from ultralytics) (4.66.1)\n",
            "Requirement already satisfied: pandas>=1.1.4 in /usr/local/lib/python3.10/dist-packages (from ultralytics) (1.5.3)\n",
            "Requirement already satisfied: seaborn>=0.11.0 in /usr/local/lib/python3.10/dist-packages (from ultralytics) (0.12.2)\n",
            "Requirement already satisfied: psutil in /usr/local/lib/python3.10/dist-packages (from ultralytics) (5.9.5)\n",
            "Requirement already satisfied: py-cpuinfo in /usr/local/lib/python3.10/dist-packages (from ultralytics) (9.0.0)\n",
            "Collecting thop>=0.1.1 (from ultralytics)\n",
            "  Downloading thop-0.1.1.post2209072238-py3-none-any.whl (15 kB)\n",
            "Requirement already satisfied: contourpy>=1.0.1 in /usr/local/lib/python3.10/dist-packages (from matplotlib>=3.3.0->ultralytics) (1.1.1)\n",
            "Requirement already satisfied: cycler>=0.10 in /usr/local/lib/python3.10/dist-packages (from matplotlib>=3.3.0->ultralytics) (0.10.0)\n",
            "Requirement already satisfied: fonttools>=4.22.0 in /usr/local/lib/python3.10/dist-packages (from matplotlib>=3.3.0->ultralytics) (4.43.1)\n",
            "Requirement already satisfied: kiwisolver>=1.0.1 in /usr/local/lib/python3.10/dist-packages (from matplotlib>=3.3.0->ultralytics) (1.4.5)\n",
            "Requirement already satisfied: packaging>=20.0 in /usr/local/lib/python3.10/dist-packages (from matplotlib>=3.3.0->ultralytics) (23.2)\n",
            "Requirement already satisfied: pyparsing>=2.3.1 in /usr/local/lib/python3.10/dist-packages (from matplotlib>=3.3.0->ultralytics) (2.4.7)\n",
            "Requirement already satisfied: python-dateutil>=2.7 in /usr/local/lib/python3.10/dist-packages (from matplotlib>=3.3.0->ultralytics) (2.8.2)\n",
            "Requirement already satisfied: pytz>=2020.1 in /usr/local/lib/python3.10/dist-packages (from pandas>=1.1.4->ultralytics) (2023.3.post1)\n",
            "Requirement already satisfied: charset-normalizer<4,>=2 in /usr/local/lib/python3.10/dist-packages (from requests>=2.23.0->ultralytics) (3.3.0)\n",
            "Requirement already satisfied: idna<4,>=2.5 in /usr/local/lib/python3.10/dist-packages (from requests>=2.23.0->ultralytics) (2.10)\n",
            "Requirement already satisfied: urllib3<3,>=1.21.1 in /usr/local/lib/python3.10/dist-packages (from requests>=2.23.0->ultralytics) (2.0.7)\n",
            "Requirement already satisfied: certifi>=2017.4.17 in /usr/local/lib/python3.10/dist-packages (from requests>=2.23.0->ultralytics) (2022.12.7)\n",
            "Requirement already satisfied: filelock in /usr/local/lib/python3.10/dist-packages (from torch>=1.8.0->ultralytics) (3.12.4)\n",
            "Requirement already satisfied: typing-extensions in /usr/local/lib/python3.10/dist-packages (from torch>=1.8.0->ultralytics) (4.5.0)\n",
            "Requirement already satisfied: sympy in /usr/local/lib/python3.10/dist-packages (from torch>=1.8.0->ultralytics) (1.12)\n",
            "Requirement already satisfied: networkx in /usr/local/lib/python3.10/dist-packages (from torch>=1.8.0->ultralytics) (3.2)\n",
            "Requirement already satisfied: jinja2 in /usr/local/lib/python3.10/dist-packages (from torch>=1.8.0->ultralytics) (3.1.2)\n",
            "Requirement already satisfied: fsspec in /usr/local/lib/python3.10/dist-packages (from torch>=1.8.0->ultralytics) (2023.6.0)\n",
            "Requirement already satisfied: triton==2.1.0 in /usr/local/lib/python3.10/dist-packages (from torch>=1.8.0->ultralytics) (2.1.0)\n",
            "Requirement already satisfied: six in /usr/local/lib/python3.10/dist-packages (from cycler>=0.10->matplotlib>=3.3.0->ultralytics) (1.16.0)\n",
            "Requirement already satisfied: MarkupSafe>=2.0 in /usr/local/lib/python3.10/dist-packages (from jinja2->torch>=1.8.0->ultralytics) (2.1.3)\n",
            "Requirement already satisfied: mpmath>=0.19 in /usr/local/lib/python3.10/dist-packages (from sympy->torch>=1.8.0->ultralytics) (1.3.0)\n",
            "Installing collected packages: thop, ultralytics\n",
            "Successfully installed thop-0.1.1.post2209072238 ultralytics-8.0.201\n"
          ]
        }
      ]
    },
    {
      "cell_type": "code",
      "source": [
        "import cv2\n",
        "from ultralytics import YOLO"
      ],
      "metadata": {
        "id": "GdNJC92E8tLq"
      },
      "execution_count": null,
      "outputs": []
    },
    {
      "cell_type": "markdown",
      "source": [
        "D3_train"
      ],
      "metadata": {
        "id": "CvxF5Koiisxu"
      }
    },
    {
      "cell_type": "code",
      "source": [
        "%cd /content/drive/MyDrive/wcs2023/Hieu/V8-seg/D3_no_augment"
      ],
      "metadata": {
        "colab": {
          "base_uri": "https://localhost:8080/"
        },
        "id": "94bmDIzxi4BV",
        "outputId": "7d122c5e-4cfb-429c-c929-5f93de3713e9"
      },
      "execution_count": null,
      "outputs": [
        {
          "output_type": "stream",
          "name": "stdout",
          "text": [
            "/content/drive/MyDrive/wcs2023/Hieu/V8-seg/D3_no_augment\n"
          ]
        }
      ]
    },
    {
      "cell_type": "code",
      "source": [
        "model = YOLO('yolov8n-seg.yaml')  # build a new model from YAML\n",
        "model = YOLO('yolov8n-seg.pt')  # load a pretrained model (recommended for training)\n",
        "\n",
        "# Train the model\n",
        "results = model.train(data='/content/drive/MyDrive/wcs2023/Hieu/V8-seg/D3_no_augment/data.yaml', epochs=50, imgsz=640)"
      ],
      "metadata": {
        "colab": {
          "base_uri": "https://localhost:8080/"
        },
        "id": "2XJtx-uB82Xc",
        "outputId": "c2145110-c1bb-444c-bcce-2349856c6395"
      },
      "execution_count": null,
      "outputs": [
        {
          "output_type": "stream",
          "name": "stderr",
          "text": [
            "\n",
            "                   from  n    params  module                                       arguments                     \n",
            "  0                  -1  1       464  ultralytics.nn.modules.conv.Conv             [3, 16, 3, 2]                 \n",
            "  1                  -1  1      4672  ultralytics.nn.modules.conv.Conv             [16, 32, 3, 2]                \n",
            "  2                  -1  1      7360  ultralytics.nn.modules.block.C2f             [32, 32, 1, True]             \n",
            "  3                  -1  1     18560  ultralytics.nn.modules.conv.Conv             [32, 64, 3, 2]                \n",
            "  4                  -1  2     49664  ultralytics.nn.modules.block.C2f             [64, 64, 2, True]             \n",
            "  5                  -1  1     73984  ultralytics.nn.modules.conv.Conv             [64, 128, 3, 2]               \n",
            "  6                  -1  2    197632  ultralytics.nn.modules.block.C2f             [128, 128, 2, True]           \n",
            "  7                  -1  1    295424  ultralytics.nn.modules.conv.Conv             [128, 256, 3, 2]              \n",
            "  8                  -1  1    460288  ultralytics.nn.modules.block.C2f             [256, 256, 1, True]           \n",
            "  9                  -1  1    164608  ultralytics.nn.modules.block.SPPF            [256, 256, 5]                 \n",
            " 10                  -1  1         0  torch.nn.modules.upsampling.Upsample         [None, 2, 'nearest']          \n",
            " 11             [-1, 6]  1         0  ultralytics.nn.modules.conv.Concat           [1]                           \n",
            " 12                  -1  1    148224  ultralytics.nn.modules.block.C2f             [384, 128, 1]                 \n",
            " 13                  -1  1         0  torch.nn.modules.upsampling.Upsample         [None, 2, 'nearest']          \n",
            " 14             [-1, 4]  1         0  ultralytics.nn.modules.conv.Concat           [1]                           \n",
            " 15                  -1  1     37248  ultralytics.nn.modules.block.C2f             [192, 64, 1]                  \n",
            " 16                  -1  1     36992  ultralytics.nn.modules.conv.Conv             [64, 64, 3, 2]                \n",
            " 17            [-1, 12]  1         0  ultralytics.nn.modules.conv.Concat           [1]                           \n",
            " 18                  -1  1    123648  ultralytics.nn.modules.block.C2f             [192, 128, 1]                 \n",
            " 19                  -1  1    147712  ultralytics.nn.modules.conv.Conv             [128, 128, 3, 2]              \n",
            " 20             [-1, 9]  1         0  ultralytics.nn.modules.conv.Concat           [1]                           \n",
            " 21                  -1  1    493056  ultralytics.nn.modules.block.C2f             [384, 256, 1]                 \n",
            " 22        [15, 18, 21]  1   1150432  ultralytics.nn.modules.head.Segment          [80, 32, 64, [64, 128, 256]]  \n",
            "YOLOv8n-seg summary: 261 layers, 3409968 parameters, 3409952 gradients, 12.8 GFLOPs\n",
            "\n",
            "Downloading https://github.com/ultralytics/assets/releases/download/v0.0.0/yolov8n-seg.pt to 'yolov8n-seg.pt'...\n",
            "100%|██████████| 6.73M/6.73M [00:00<00:00, 87.3MB/s]\n",
            "Ultralytics YOLOv8.0.201 🚀 Python-3.10.12 torch-2.1.0+cu118 CUDA:0 (Tesla T4, 15102MiB)\n",
            "\u001b[34m\u001b[1mengine/trainer: \u001b[0mtask=segment, mode=train, model=yolov8n-seg.pt, data=/content/drive/MyDrive/wcs2023/Hieu/V8-seg/D3_no_augment/data.yaml, epochs=50, patience=50, batch=16, imgsz=640, save=True, save_period=-1, cache=False, device=None, workers=8, project=None, name=train, exist_ok=False, pretrained=True, optimizer=auto, verbose=True, seed=0, deterministic=True, single_cls=False, rect=False, cos_lr=False, close_mosaic=10, resume=False, amp=True, fraction=1.0, profile=False, freeze=None, overlap_mask=True, mask_ratio=4, dropout=0.0, val=True, split=val, save_json=False, save_hybrid=False, conf=None, iou=0.7, max_det=300, half=False, dnn=False, plots=True, source=None, show=False, save_txt=False, save_conf=False, save_crop=False, show_labels=True, show_conf=True, vid_stride=1, stream_buffer=False, line_width=None, visualize=False, augment=False, agnostic_nms=False, classes=None, retina_masks=False, boxes=True, format=torchscript, keras=False, optimize=False, int8=False, dynamic=False, simplify=False, opset=None, workspace=4, nms=False, lr0=0.01, lrf=0.01, momentum=0.937, weight_decay=0.0005, warmup_epochs=3.0, warmup_momentum=0.8, warmup_bias_lr=0.1, box=7.5, cls=0.5, dfl=1.5, pose=12.0, kobj=1.0, label_smoothing=0.0, nbs=64, hsv_h=0.015, hsv_s=0.7, hsv_v=0.4, degrees=0.0, translate=0.1, scale=0.5, shear=0.0, perspective=0.0, flipud=0.0, fliplr=0.5, mosaic=1.0, mixup=0.0, copy_paste=0.0, cfg=None, tracker=botsort.yaml, save_dir=runs/segment/train\n",
            "Downloading https://ultralytics.com/assets/Arial.ttf to '/root/.config/Ultralytics/Arial.ttf'...\n",
            "100%|██████████| 755k/755k [00:00<00:00, 21.8MB/s]\n",
            "Overriding model.yaml nc=80 with nc=2\n",
            "\n",
            "                   from  n    params  module                                       arguments                     \n",
            "  0                  -1  1       464  ultralytics.nn.modules.conv.Conv             [3, 16, 3, 2]                 \n",
            "  1                  -1  1      4672  ultralytics.nn.modules.conv.Conv             [16, 32, 3, 2]                \n",
            "  2                  -1  1      7360  ultralytics.nn.modules.block.C2f             [32, 32, 1, True]             \n",
            "  3                  -1  1     18560  ultralytics.nn.modules.conv.Conv             [32, 64, 3, 2]                \n",
            "  4                  -1  2     49664  ultralytics.nn.modules.block.C2f             [64, 64, 2, True]             \n",
            "  5                  -1  1     73984  ultralytics.nn.modules.conv.Conv             [64, 128, 3, 2]               \n",
            "  6                  -1  2    197632  ultralytics.nn.modules.block.C2f             [128, 128, 2, True]           \n",
            "  7                  -1  1    295424  ultralytics.nn.modules.conv.Conv             [128, 256, 3, 2]              \n",
            "  8                  -1  1    460288  ultralytics.nn.modules.block.C2f             [256, 256, 1, True]           \n",
            "  9                  -1  1    164608  ultralytics.nn.modules.block.SPPF            [256, 256, 5]                 \n",
            " 10                  -1  1         0  torch.nn.modules.upsampling.Upsample         [None, 2, 'nearest']          \n",
            " 11             [-1, 6]  1         0  ultralytics.nn.modules.conv.Concat           [1]                           \n",
            " 12                  -1  1    148224  ultralytics.nn.modules.block.C2f             [384, 128, 1]                 \n",
            " 13                  -1  1         0  torch.nn.modules.upsampling.Upsample         [None, 2, 'nearest']          \n",
            " 14             [-1, 4]  1         0  ultralytics.nn.modules.conv.Concat           [1]                           \n",
            " 15                  -1  1     37248  ultralytics.nn.modules.block.C2f             [192, 64, 1]                  \n",
            " 16                  -1  1     36992  ultralytics.nn.modules.conv.Conv             [64, 64, 3, 2]                \n",
            " 17            [-1, 12]  1         0  ultralytics.nn.modules.conv.Concat           [1]                           \n",
            " 18                  -1  1    123648  ultralytics.nn.modules.block.C2f             [192, 128, 1]                 \n",
            " 19                  -1  1    147712  ultralytics.nn.modules.conv.Conv             [128, 128, 3, 2]              \n",
            " 20             [-1, 9]  1         0  ultralytics.nn.modules.conv.Concat           [1]                           \n",
            " 21                  -1  1    493056  ultralytics.nn.modules.block.C2f             [384, 256, 1]                 \n",
            " 22        [15, 18, 21]  1   1004470  ultralytics.nn.modules.head.Segment          [2, 32, 64, [64, 128, 256]]   \n",
            "YOLOv8n-seg summary: 261 layers, 3264006 parameters, 3263990 gradients, 12.1 GFLOPs\n",
            "\n",
            "Transferred 381/417 items from pretrained weights\n",
            "\u001b[34m\u001b[1mTensorBoard: \u001b[0mStart with 'tensorboard --logdir runs/segment/train', view at http://localhost:6006/\n",
            "Freezing layer 'model.22.dfl.conv.weight'\n",
            "\u001b[34m\u001b[1mAMP: \u001b[0mrunning Automatic Mixed Precision (AMP) checks with YOLOv8n...\n",
            "Downloading https://github.com/ultralytics/assets/releases/download/v0.0.0/yolov8n.pt to 'yolov8n.pt'...\n",
            "100%|██████████| 6.23M/6.23M [00:00<00:00, 83.1MB/s]\n",
            "\u001b[34m\u001b[1mAMP: \u001b[0mchecks passed ✅\n",
            "\u001b[34m\u001b[1mtrain: \u001b[0mScanning /content/drive/MyDrive/wcs2023/Hieu/V8-seg/D3_no_augment/train/labels... 536 images, 1 backgrounds, 0 corrupt: 100%|██████████| 536/536 [00:04<00:00, 131.33it/s]\n",
            "\u001b[34m\u001b[1mtrain: \u001b[0mNew cache created: /content/drive/MyDrive/wcs2023/Hieu/V8-seg/D3_no_augment/train/labels.cache\n",
            "\u001b[34m\u001b[1malbumentations: \u001b[0mBlur(p=0.01, blur_limit=(3, 7)), MedianBlur(p=0.01, blur_limit=(3, 7)), ToGray(p=0.01), CLAHE(p=0.01, clip_limit=(1, 4.0), tile_grid_size=(8, 8))\n",
            "\u001b[34m\u001b[1mval: \u001b[0mScanning /content/drive/MyDrive/wcs2023/Hieu/V8-seg/D3_no_augment/valid/labels... 18 images, 0 backgrounds, 0 corrupt: 100%|██████████| 18/18 [00:00<00:00, 147.18it/s]\n",
            "\u001b[34m\u001b[1mval: \u001b[0mNew cache created: /content/drive/MyDrive/wcs2023/Hieu/V8-seg/D3_no_augment/valid/labels.cache\n",
            "Plotting labels to runs/segment/train/labels.jpg... \n",
            "\u001b[34m\u001b[1moptimizer:\u001b[0m 'optimizer=auto' found, ignoring 'lr0=0.01' and 'momentum=0.937' and determining best 'optimizer', 'lr0' and 'momentum' automatically... \n",
            "\u001b[34m\u001b[1moptimizer:\u001b[0m AdamW(lr=0.001667, momentum=0.9) with parameter groups 66 weight(decay=0.0), 77 weight(decay=0.0005), 76 bias(decay=0.0)\n",
            "Image sizes 640 train, 640 val\n",
            "Using 2 dataloader workers\n",
            "Logging results to \u001b[1mruns/segment/train\u001b[0m\n",
            "Starting training for 50 epochs...\n",
            "\n",
            "      Epoch    GPU_mem   box_loss   seg_loss   cls_loss   dfl_loss  Instances       Size\n",
            "       1/50      3.38G      1.252      4.151      2.202      1.583         76        640: 100%|██████████| 34/34 [00:27<00:00,  1.23it/s]\n",
            "                 Class     Images  Instances      Box(P          R      mAP50  mAP50-95)     Mask(P          R      mAP50  mAP50-95): 100%|██████████| 1/1 [00:00<00:00,  1.21it/s]\n",
            "                   all         18        131      0.863      0.632      0.756       0.51      0.441      0.207      0.242     0.0852\n",
            "\n",
            "      Epoch    GPU_mem   box_loss   seg_loss   cls_loss   dfl_loss  Instances       Size\n",
            "       2/50      3.21G      1.138      3.354       1.43      1.469         63        640: 100%|██████████| 34/34 [00:24<00:00,  1.38it/s]\n",
            "                 Class     Images  Instances      Box(P          R      mAP50  mAP50-95)     Mask(P          R      mAP50  mAP50-95): 100%|██████████| 1/1 [00:01<00:00,  1.13s/it]\n",
            "                   all         18        131        0.8      0.719      0.765      0.492      0.338      0.298      0.252     0.0902\n",
            "\n",
            "      Epoch    GPU_mem   box_loss   seg_loss   cls_loss   dfl_loss  Instances       Size\n",
            "       3/50      3.33G      1.104      3.248      1.359      1.425         74        640: 100%|██████████| 34/34 [00:32<00:00,  1.04it/s]\n",
            "                 Class     Images  Instances      Box(P          R      mAP50  mAP50-95)     Mask(P          R      mAP50  mAP50-95): 100%|██████████| 1/1 [00:01<00:00,  1.24s/it]\n",
            "                   all         18        131      0.799      0.772      0.838       0.51      0.371      0.245      0.253      0.104\n",
            "\n",
            "      Epoch    GPU_mem   box_loss   seg_loss   cls_loss   dfl_loss  Instances       Size\n",
            "       4/50      3.13G      1.102      3.278      1.317      1.438         83        640: 100%|██████████| 34/34 [00:19<00:00,  1.73it/s]\n",
            "                 Class     Images  Instances      Box(P          R      mAP50  mAP50-95)     Mask(P          R      mAP50  mAP50-95): 100%|██████████| 1/1 [00:00<00:00,  2.11it/s]\n",
            "                   all         18        131      0.542      0.757      0.655      0.433      0.198       0.19      0.151     0.0427\n",
            "\n",
            "      Epoch    GPU_mem   box_loss   seg_loss   cls_loss   dfl_loss  Instances       Size\n",
            "       5/50      3.26G      1.061      3.109      1.265      1.421         59        640: 100%|██████████| 34/34 [00:26<00:00,  1.30it/s]\n",
            "                 Class     Images  Instances      Box(P          R      mAP50  mAP50-95)     Mask(P          R      mAP50  mAP50-95): 100%|██████████| 1/1 [00:00<00:00,  1.19it/s]\n",
            "                   all         18        131      0.921      0.848        0.9      0.644      0.432      0.365       0.32      0.129\n",
            "\n",
            "      Epoch    GPU_mem   box_loss   seg_loss   cls_loss   dfl_loss  Instances       Size\n",
            "       6/50      3.13G      1.031      3.197      1.179      1.401         58        640: 100%|██████████| 34/34 [00:28<00:00,  1.18it/s]\n",
            "                 Class     Images  Instances      Box(P          R      mAP50  mAP50-95)     Mask(P          R      mAP50  mAP50-95): 100%|██████████| 1/1 [00:01<00:00,  1.34s/it]\n",
            "                   all         18        131      0.929       0.71      0.856      0.574      0.343      0.311      0.287      0.113\n",
            "\n",
            "      Epoch    GPU_mem   box_loss   seg_loss   cls_loss   dfl_loss  Instances       Size\n",
            "       7/50      3.22G     0.9959      3.016      1.111      1.351         65        640: 100%|██████████| 34/34 [00:33<00:00,  1.03it/s]\n",
            "                 Class     Images  Instances      Box(P          R      mAP50  mAP50-95)     Mask(P          R      mAP50  mAP50-95): 100%|██████████| 1/1 [00:00<00:00,  1.34it/s]\n",
            "                   all         18        131       0.98      0.761      0.913      0.685       0.48      0.468      0.366      0.146\n",
            "\n",
            "      Epoch    GPU_mem   box_loss   seg_loss   cls_loss   dfl_loss  Instances       Size\n",
            "       8/50      3.21G     0.9605      2.966       1.07      1.336         65        640: 100%|██████████| 34/34 [00:27<00:00,  1.25it/s]\n",
            "                 Class     Images  Instances      Box(P          R      mAP50  mAP50-95)     Mask(P          R      mAP50  mAP50-95): 100%|██████████| 1/1 [00:00<00:00,  1.11it/s]\n",
            "                   all         18        131      0.832      0.728      0.822      0.535      0.403      0.321        0.3      0.123\n",
            "\n",
            "      Epoch    GPU_mem   box_loss   seg_loss   cls_loss   dfl_loss  Instances       Size\n",
            "       9/50      3.15G     0.9566      2.988      1.049      1.345         60        640: 100%|██████████| 34/34 [00:21<00:00,  1.55it/s]\n",
            "                 Class     Images  Instances      Box(P          R      mAP50  mAP50-95)     Mask(P          R      mAP50  mAP50-95): 100%|██████████| 1/1 [00:00<00:00,  1.33it/s]\n",
            "                   all         18        131      0.914      0.814      0.887      0.659      0.443      0.368       0.33      0.122\n",
            "\n",
            "      Epoch    GPU_mem   box_loss   seg_loss   cls_loss   dfl_loss  Instances       Size\n",
            "      10/50       3.2G      0.957      2.948      1.019       1.34         79        640: 100%|██████████| 34/34 [00:24<00:00,  1.36it/s]\n",
            "                 Class     Images  Instances      Box(P          R      mAP50  mAP50-95)     Mask(P          R      mAP50  mAP50-95): 100%|██████████| 1/1 [00:01<00:00,  1.52s/it]\n",
            "                   all         18        131      0.901      0.704      0.811      0.615      0.493      0.332      0.328      0.135\n",
            "\n",
            "      Epoch    GPU_mem   box_loss   seg_loss   cls_loss   dfl_loss  Instances       Size\n",
            "      11/50      3.15G     0.9585      2.936     0.9987      1.334         80        640: 100%|██████████| 34/34 [00:28<00:00,  1.18it/s]\n",
            "                 Class     Images  Instances      Box(P          R      mAP50  mAP50-95)     Mask(P          R      mAP50  mAP50-95): 100%|██████████| 1/1 [00:00<00:00,  1.08it/s]\n",
            "                   all         18        131      0.767      0.769      0.801      0.488      0.383      0.298      0.257     0.0914\n",
            "\n",
            "      Epoch    GPU_mem   box_loss   seg_loss   cls_loss   dfl_loss  Instances       Size\n",
            "      12/50      3.15G     0.9222      2.881     0.9976      1.312         78        640: 100%|██████████| 34/34 [00:22<00:00,  1.50it/s]\n",
            "                 Class     Images  Instances      Box(P          R      mAP50  mAP50-95)     Mask(P          R      mAP50  mAP50-95): 100%|██████████| 1/1 [00:01<00:00,  1.16s/it]\n",
            "                   all         18        131      0.904      0.817      0.911      0.661      0.449      0.408      0.342      0.144\n",
            "\n",
            "      Epoch    GPU_mem   box_loss   seg_loss   cls_loss   dfl_loss  Instances       Size\n",
            "      13/50      3.18G     0.9243      2.807     0.9625       1.31         49        640: 100%|██████████| 34/34 [00:25<00:00,  1.35it/s]\n",
            "                 Class     Images  Instances      Box(P          R      mAP50  mAP50-95)     Mask(P          R      mAP50  mAP50-95): 100%|██████████| 1/1 [00:00<00:00,  1.59it/s]\n",
            "                   all         18        131      0.894      0.819      0.894      0.679      0.608      0.548      0.452      0.162\n",
            "\n",
            "      Epoch    GPU_mem   box_loss   seg_loss   cls_loss   dfl_loss  Instances       Size\n",
            "      14/50      3.16G     0.9143      2.817     0.9449      1.297         92        640: 100%|██████████| 34/34 [00:20<00:00,  1.63it/s]\n",
            "                 Class     Images  Instances      Box(P          R      mAP50  mAP50-95)     Mask(P          R      mAP50  mAP50-95): 100%|██████████| 1/1 [00:00<00:00,  1.03it/s]\n",
            "                   all         18        131      0.896      0.827      0.892      0.663      0.465       0.33      0.333      0.149\n",
            "\n",
            "      Epoch    GPU_mem   box_loss   seg_loss   cls_loss   dfl_loss  Instances       Size\n",
            "      15/50      3.18G     0.9038      2.765     0.8899      1.295         70        640: 100%|██████████| 34/34 [00:18<00:00,  1.85it/s]\n",
            "                 Class     Images  Instances      Box(P          R      mAP50  mAP50-95)     Mask(P          R      mAP50  mAP50-95): 100%|██████████| 1/1 [00:00<00:00,  1.75it/s]\n",
            "                   all         18        131      0.957      0.801      0.909      0.666      0.578      0.429      0.412      0.168\n",
            "\n",
            "      Epoch    GPU_mem   box_loss   seg_loss   cls_loss   dfl_loss  Instances       Size\n",
            "      16/50      3.16G     0.8956      2.802     0.9101      1.289         64        640: 100%|██████████| 34/34 [00:18<00:00,  1.88it/s]\n",
            "                 Class     Images  Instances      Box(P          R      mAP50  mAP50-95)     Mask(P          R      mAP50  mAP50-95): 100%|██████████| 1/1 [00:00<00:00,  1.89it/s]\n",
            "                   all         18        131      0.923       0.81      0.888      0.685      0.574       0.46      0.429      0.168\n",
            "\n",
            "      Epoch    GPU_mem   box_loss   seg_loss   cls_loss   dfl_loss  Instances       Size\n",
            "      17/50      3.19G     0.8822      2.761     0.8878      1.274         65        640: 100%|██████████| 34/34 [00:22<00:00,  1.54it/s]\n",
            "                 Class     Images  Instances      Box(P          R      mAP50  mAP50-95)     Mask(P          R      mAP50  mAP50-95): 100%|██████████| 1/1 [00:00<00:00,  1.71it/s]\n",
            "                   all         18        131      0.955      0.817      0.904      0.688      0.658      0.457      0.478      0.173\n",
            "\n",
            "      Epoch    GPU_mem   box_loss   seg_loss   cls_loss   dfl_loss  Instances       Size\n",
            "      18/50      3.11G     0.8741      2.623     0.8645      1.273         81        640: 100%|██████████| 34/34 [00:17<00:00,  1.91it/s]\n",
            "                 Class     Images  Instances      Box(P          R      mAP50  mAP50-95)     Mask(P          R      mAP50  mAP50-95): 100%|██████████| 1/1 [00:00<00:00,  1.76it/s]\n",
            "                   all         18        131       0.94      0.844      0.911      0.696      0.569      0.466      0.419      0.162\n",
            "\n",
            "      Epoch    GPU_mem   box_loss   seg_loss   cls_loss   dfl_loss  Instances       Size\n",
            "      19/50      3.22G     0.8545      2.663     0.8424      1.268         98        640: 100%|██████████| 34/34 [00:19<00:00,  1.78it/s]\n",
            "                 Class     Images  Instances      Box(P          R      mAP50  mAP50-95)     Mask(P          R      mAP50  mAP50-95): 100%|██████████| 1/1 [00:00<00:00,  1.14it/s]\n",
            "                   all         18        131      0.871      0.778      0.876      0.678      0.521      0.414      0.398      0.156\n",
            "\n",
            "      Epoch    GPU_mem   box_loss   seg_loss   cls_loss   dfl_loss  Instances       Size\n",
            "      20/50       3.2G     0.8507      2.699     0.8262      1.261         71        640: 100%|██████████| 34/34 [00:18<00:00,  1.80it/s]\n",
            "                 Class     Images  Instances      Box(P          R      mAP50  mAP50-95)     Mask(P          R      mAP50  mAP50-95): 100%|██████████| 1/1 [00:00<00:00,  1.78it/s]\n",
            "                   all         18        131      0.877      0.832      0.896      0.712      0.732      0.591      0.598      0.226\n",
            "\n",
            "      Epoch    GPU_mem   box_loss   seg_loss   cls_loss   dfl_loss  Instances       Size\n",
            "      21/50      3.21G     0.8585      2.594     0.8403      1.256         54        640: 100%|██████████| 34/34 [00:18<00:00,  1.85it/s]\n",
            "                 Class     Images  Instances      Box(P          R      mAP50  mAP50-95)     Mask(P          R      mAP50  mAP50-95): 100%|██████████| 1/1 [00:00<00:00,  1.70it/s]\n",
            "                   all         18        131      0.867      0.863      0.904      0.725       0.67      0.574      0.547      0.192\n",
            "\n",
            "      Epoch    GPU_mem   box_loss   seg_loss   cls_loss   dfl_loss  Instances       Size\n",
            "      22/50       3.2G     0.8529      2.661     0.8318      1.264         70        640: 100%|██████████| 34/34 [00:20<00:00,  1.69it/s]\n",
            "                 Class     Images  Instances      Box(P          R      mAP50  mAP50-95)     Mask(P          R      mAP50  mAP50-95): 100%|██████████| 1/1 [00:00<00:00,  1.61it/s]\n",
            "                   all         18        131      0.935       0.85       0.92      0.733       0.52      0.517      0.443      0.173\n",
            "\n",
            "      Epoch    GPU_mem   box_loss   seg_loss   cls_loss   dfl_loss  Instances       Size\n",
            "      23/50      3.12G     0.8462      2.634     0.8247      1.262         81        640: 100%|██████████| 34/34 [00:18<00:00,  1.88it/s]\n",
            "                 Class     Images  Instances      Box(P          R      mAP50  mAP50-95)     Mask(P          R      mAP50  mAP50-95): 100%|██████████| 1/1 [00:00<00:00,  1.79it/s]\n",
            "                   all         18        131      0.898      0.822      0.901      0.682      0.693      0.574      0.568      0.217\n",
            "\n",
            "      Epoch    GPU_mem   box_loss   seg_loss   cls_loss   dfl_loss  Instances       Size\n",
            "      24/50      3.18G     0.8418      2.607     0.8112      1.241         59        640: 100%|██████████| 34/34 [00:18<00:00,  1.80it/s]\n",
            "                 Class     Images  Instances      Box(P          R      mAP50  mAP50-95)     Mask(P          R      mAP50  mAP50-95): 100%|██████████| 1/1 [00:00<00:00,  1.11it/s]\n",
            "                   all         18        131      0.922      0.809      0.901      0.699      0.604      0.482       0.45      0.189\n",
            "\n",
            "      Epoch    GPU_mem   box_loss   seg_loss   cls_loss   dfl_loss  Instances       Size\n",
            "      25/50      3.24G     0.8197      2.554      0.782       1.24         55        640: 100%|██████████| 34/34 [00:19<00:00,  1.76it/s]\n",
            "                 Class     Images  Instances      Box(P          R      mAP50  mAP50-95)     Mask(P          R      mAP50  mAP50-95): 100%|██████████| 1/1 [00:00<00:00,  1.76it/s]\n",
            "                   all         18        131      0.905      0.894      0.937       0.76        0.7      0.615      0.588      0.207\n",
            "\n",
            "      Epoch    GPU_mem   box_loss   seg_loss   cls_loss   dfl_loss  Instances       Size\n",
            "      26/50      3.14G     0.8097      2.593      0.787      1.234         90        640: 100%|██████████| 34/34 [00:19<00:00,  1.77it/s]\n",
            "                 Class     Images  Instances      Box(P          R      mAP50  mAP50-95)     Mask(P          R      mAP50  mAP50-95): 100%|██████████| 1/1 [00:00<00:00,  1.77it/s]\n",
            "                   all         18        131      0.919      0.879      0.938      0.752      0.675      0.583      0.558      0.225\n",
            "\n",
            "      Epoch    GPU_mem   box_loss   seg_loss   cls_loss   dfl_loss  Instances       Size\n",
            "      27/50      3.14G     0.8133      2.586     0.7984      1.229         84        640: 100%|██████████| 34/34 [00:20<00:00,  1.64it/s]\n",
            "                 Class     Images  Instances      Box(P          R      mAP50  mAP50-95)     Mask(P          R      mAP50  mAP50-95): 100%|██████████| 1/1 [00:00<00:00,  1.72it/s]\n",
            "                   all         18        131      0.924      0.845      0.922      0.742      0.518      0.403      0.387      0.192\n",
            "\n",
            "      Epoch    GPU_mem   box_loss   seg_loss   cls_loss   dfl_loss  Instances       Size\n",
            "      28/50      3.17G     0.8118      2.454     0.7502      1.217         92        640: 100%|██████████| 34/34 [00:18<00:00,  1.84it/s]\n",
            "                 Class     Images  Instances      Box(P          R      mAP50  mAP50-95)     Mask(P          R      mAP50  mAP50-95): 100%|██████████| 1/1 [00:00<00:00,  2.11it/s]\n",
            "                   all         18        131      0.877      0.866      0.914      0.736      0.631      0.501      0.483      0.193\n",
            "\n",
            "      Epoch    GPU_mem   box_loss   seg_loss   cls_loss   dfl_loss  Instances       Size\n",
            "      29/50       3.2G     0.7843       2.45     0.7282        1.2         76        640: 100%|██████████| 34/34 [00:21<00:00,  1.59it/s]\n",
            "                 Class     Images  Instances      Box(P          R      mAP50  mAP50-95)     Mask(P          R      mAP50  mAP50-95): 100%|██████████| 1/1 [00:00<00:00,  1.01it/s]\n",
            "                   all         18        131      0.926      0.876      0.951      0.757      0.683      0.579      0.571       0.22\n",
            "\n",
            "      Epoch    GPU_mem   box_loss   seg_loss   cls_loss   dfl_loss  Instances       Size\n",
            "      30/50      3.21G     0.7983      2.543     0.7484      1.225         77        640: 100%|██████████| 34/34 [00:18<00:00,  1.81it/s]\n",
            "                 Class     Images  Instances      Box(P          R      mAP50  mAP50-95)     Mask(P          R      mAP50  mAP50-95): 100%|██████████| 1/1 [00:00<00:00,  1.77it/s]\n",
            "                   all         18        131      0.942      0.866      0.937      0.759      0.653      0.679      0.608      0.218\n",
            "\n",
            "      Epoch    GPU_mem   box_loss   seg_loss   cls_loss   dfl_loss  Instances       Size\n",
            "      31/50      3.27G       0.79      2.455     0.7336      1.218         56        640: 100%|██████████| 34/34 [00:18<00:00,  1.83it/s]\n",
            "                 Class     Images  Instances      Box(P          R      mAP50  mAP50-95)     Mask(P          R      mAP50  mAP50-95): 100%|██████████| 1/1 [00:00<00:00,  1.87it/s]\n",
            "                   all         18        131       0.94      0.847      0.921      0.748      0.624      0.505      0.454      0.179\n",
            "\n",
            "      Epoch    GPU_mem   box_loss   seg_loss   cls_loss   dfl_loss  Instances       Size\n",
            "      32/50      3.18G     0.7851      2.436     0.7152        1.2         90        640: 100%|██████████| 34/34 [00:19<00:00,  1.71it/s]\n",
            "                 Class     Images  Instances      Box(P          R      mAP50  mAP50-95)     Mask(P          R      mAP50  mAP50-95): 100%|██████████| 1/1 [00:00<00:00,  1.90it/s]\n",
            "                   all         18        131      0.934      0.867      0.939      0.765      0.666      0.583      0.564       0.22\n",
            "\n",
            "      Epoch    GPU_mem   box_loss   seg_loss   cls_loss   dfl_loss  Instances       Size\n",
            "      33/50      3.23G     0.7742        2.4     0.7118      1.199         78        640: 100%|██████████| 34/34 [00:18<00:00,  1.82it/s]\n",
            "                 Class     Images  Instances      Box(P          R      mAP50  mAP50-95)     Mask(P          R      mAP50  mAP50-95): 100%|██████████| 1/1 [00:00<00:00,  1.83it/s]\n",
            "                   all         18        131      0.918      0.827      0.923      0.757      0.498      0.395      0.422      0.193\n",
            "\n",
            "      Epoch    GPU_mem   box_loss   seg_loss   cls_loss   dfl_loss  Instances       Size\n",
            "      34/50      3.29G     0.7764      2.385     0.7024      1.208         79        640: 100%|██████████| 34/34 [00:19<00:00,  1.71it/s]\n",
            "                 Class     Images  Instances      Box(P          R      mAP50  mAP50-95)     Mask(P          R      mAP50  mAP50-95): 100%|██████████| 1/1 [00:00<00:00,  1.06it/s]\n",
            "                   all         18        131      0.943      0.822      0.908      0.736      0.623      0.502      0.499      0.194\n",
            "\n",
            "      Epoch    GPU_mem   box_loss   seg_loss   cls_loss   dfl_loss  Instances       Size\n",
            "      35/50      3.16G     0.7661      2.391      0.701      1.203         58        640: 100%|██████████| 34/34 [00:18<00:00,  1.86it/s]\n",
            "                 Class     Images  Instances      Box(P          R      mAP50  mAP50-95)     Mask(P          R      mAP50  mAP50-95): 100%|██████████| 1/1 [00:00<00:00,  1.75it/s]\n",
            "                   all         18        131      0.856      0.838      0.912      0.721      0.538      0.441      0.394      0.178\n",
            "\n",
            "      Epoch    GPU_mem   box_loss   seg_loss   cls_loss   dfl_loss  Instances       Size\n",
            "      36/50      3.15G     0.7487      2.408      0.686       1.18         71        640: 100%|██████████| 34/34 [00:18<00:00,  1.84it/s]\n",
            "                 Class     Images  Instances      Box(P          R      mAP50  mAP50-95)     Mask(P          R      mAP50  mAP50-95): 100%|██████████| 1/1 [00:00<00:00,  3.06it/s]\n",
            "                   all         18        131      0.891      0.872      0.918      0.747      0.557       0.53      0.473      0.189\n",
            "\n",
            "      Epoch    GPU_mem   box_loss   seg_loss   cls_loss   dfl_loss  Instances       Size\n",
            "      37/50      3.18G      0.735      2.338     0.6686      1.166         70        640: 100%|██████████| 34/34 [00:20<00:00,  1.63it/s]\n",
            "                 Class     Images  Instances      Box(P          R      mAP50  mAP50-95)     Mask(P          R      mAP50  mAP50-95): 100%|██████████| 1/1 [00:00<00:00,  1.92it/s]\n",
            "                   all         18        131      0.904      0.877      0.943      0.743      0.658      0.529      0.486      0.199\n",
            "\n",
            "      Epoch    GPU_mem   box_loss   seg_loss   cls_loss   dfl_loss  Instances       Size\n",
            "      38/50      3.15G     0.7448       2.31      0.663      1.175         80        640: 100%|██████████| 34/34 [00:18<00:00,  1.87it/s]\n",
            "                 Class     Images  Instances      Box(P          R      mAP50  mAP50-95)     Mask(P          R      mAP50  mAP50-95): 100%|██████████| 1/1 [00:00<00:00,  1.83it/s]\n",
            "                   all         18        131      0.923       0.85      0.929      0.768      0.547      0.459      0.475      0.204\n",
            "\n",
            "      Epoch    GPU_mem   box_loss   seg_loss   cls_loss   dfl_loss  Instances       Size\n",
            "      39/50      3.11G     0.7524      2.296     0.6792      1.176         84        640: 100%|██████████| 34/34 [00:18<00:00,  1.88it/s]\n",
            "                 Class     Images  Instances      Box(P          R      mAP50  mAP50-95)     Mask(P          R      mAP50  mAP50-95): 100%|██████████| 1/1 [00:00<00:00,  1.59it/s]\n",
            "                   all         18        131       0.94      0.826      0.923      0.744      0.648      0.524      0.535       0.21\n",
            "\n",
            "      Epoch    GPU_mem   box_loss   seg_loss   cls_loss   dfl_loss  Instances       Size\n",
            "      40/50      3.22G     0.7566      2.322     0.6665      1.181         67        640: 100%|██████████| 34/34 [00:20<00:00,  1.69it/s]\n",
            "                 Class     Images  Instances      Box(P          R      mAP50  mAP50-95)     Mask(P          R      mAP50  mAP50-95): 100%|██████████| 1/1 [00:00<00:00,  1.85it/s]\n",
            "                   all         18        131      0.895      0.867      0.929      0.758      0.636      0.488       0.53      0.216\n",
            "Closing dataloader mosaic\n",
            "\u001b[34m\u001b[1malbumentations: \u001b[0mBlur(p=0.01, blur_limit=(3, 7)), MedianBlur(p=0.01, blur_limit=(3, 7)), ToGray(p=0.01), CLAHE(p=0.01, clip_limit=(1, 4.0), tile_grid_size=(8, 8))\n",
            "\n",
            "      Epoch    GPU_mem   box_loss   seg_loss   cls_loss   dfl_loss  Instances       Size\n",
            "      41/50      3.15G     0.6846      2.168     0.6709      1.183         30        640: 100%|██████████| 34/34 [00:17<00:00,  1.91it/s]\n",
            "                 Class     Images  Instances      Box(P          R      mAP50  mAP50-95)     Mask(P          R      mAP50  mAP50-95): 100%|██████████| 1/1 [00:00<00:00,  1.68it/s]\n",
            "                   all         18        131      0.891      0.855      0.917      0.716       0.71       0.58      0.564      0.201\n",
            "\n",
            "      Epoch    GPU_mem   box_loss   seg_loss   cls_loss   dfl_loss  Instances       Size\n",
            "      42/50      2.77G     0.6835      2.156      0.613      1.181         26        640: 100%|██████████| 34/34 [00:16<00:00,  2.05it/s]\n",
            "                 Class     Images  Instances      Box(P          R      mAP50  mAP50-95)     Mask(P          R      mAP50  mAP50-95): 100%|██████████| 1/1 [00:00<00:00,  1.89it/s]\n",
            "                   all         18        131      0.916      0.845      0.938      0.753      0.579      0.486      0.495      0.212\n",
            "\n",
            "      Epoch    GPU_mem   box_loss   seg_loss   cls_loss   dfl_loss  Instances       Size\n",
            "      43/50      2.79G     0.6655      2.093     0.5897      1.164         37        640: 100%|██████████| 34/34 [00:14<00:00,  2.35it/s]\n",
            "                 Class     Images  Instances      Box(P          R      mAP50  mAP50-95)     Mask(P          R      mAP50  mAP50-95): 100%|██████████| 1/1 [00:00<00:00,  2.88it/s]\n",
            "                   all         18        131      0.932      0.858      0.925      0.759       0.64      0.538      0.511      0.204\n",
            "\n",
            "      Epoch    GPU_mem   box_loss   seg_loss   cls_loss   dfl_loss  Instances       Size\n",
            "      44/50      2.84G     0.6507      2.039     0.5779      1.146         38        640: 100%|██████████| 34/34 [00:14<00:00,  2.40it/s]\n",
            "                 Class     Images  Instances      Box(P          R      mAP50  mAP50-95)     Mask(P          R      mAP50  mAP50-95): 100%|██████████| 1/1 [00:00<00:00,  1.76it/s]\n",
            "                   all         18        131       0.91      0.836      0.922      0.756      0.546      0.468      0.458      0.213\n",
            "\n",
            "      Epoch    GPU_mem   box_loss   seg_loss   cls_loss   dfl_loss  Instances       Size\n",
            "      45/50      2.81G     0.6432      1.991     0.5578      1.136         45        640: 100%|██████████| 34/34 [00:13<00:00,  2.44it/s]\n",
            "                 Class     Images  Instances      Box(P          R      mAP50  mAP50-95)     Mask(P          R      mAP50  mAP50-95): 100%|██████████| 1/1 [00:00<00:00,  1.82it/s]\n",
            "                   all         18        131      0.938      0.847      0.943      0.763      0.663      0.588      0.587      0.233\n",
            "\n",
            "      Epoch    GPU_mem   box_loss   seg_loss   cls_loss   dfl_loss  Instances       Size\n",
            "      46/50      2.84G     0.6314      1.962     0.5392      1.117         21        640: 100%|██████████| 34/34 [00:14<00:00,  2.35it/s]\n",
            "                 Class     Images  Instances      Box(P          R      mAP50  mAP50-95)     Mask(P          R      mAP50  mAP50-95): 100%|██████████| 1/1 [00:00<00:00,  2.36it/s]\n",
            "                   all         18        131      0.933      0.844      0.941      0.773      0.599      0.513      0.493      0.218\n",
            "\n",
            "      Epoch    GPU_mem   box_loss   seg_loss   cls_loss   dfl_loss  Instances       Size\n",
            "      47/50      2.79G     0.6291      1.908     0.5287      1.116         41        640: 100%|██████████| 34/34 [00:14<00:00,  2.41it/s]\n",
            "                 Class     Images  Instances      Box(P          R      mAP50  mAP50-95)     Mask(P          R      mAP50  mAP50-95): 100%|██████████| 1/1 [00:00<00:00,  2.27it/s]\n",
            "                   all         18        131      0.909      0.876      0.935       0.77      0.653      0.582      0.545      0.227\n",
            "\n",
            "      Epoch    GPU_mem   box_loss   seg_loss   cls_loss   dfl_loss  Instances       Size\n",
            "      48/50      2.82G     0.6219      1.885     0.5272       1.12         26        640: 100%|██████████| 34/34 [00:14<00:00,  2.39it/s]\n",
            "                 Class     Images  Instances      Box(P          R      mAP50  mAP50-95)     Mask(P          R      mAP50  mAP50-95): 100%|██████████| 1/1 [00:00<00:00,  1.72it/s]\n",
            "                   all         18        131      0.919      0.874      0.932       0.78      0.662      0.592      0.559      0.225\n",
            "\n",
            "      Epoch    GPU_mem   box_loss   seg_loss   cls_loss   dfl_loss  Instances       Size\n",
            "      49/50      2.81G      0.615      1.872     0.5114      1.116         42        640: 100%|██████████| 34/34 [00:13<00:00,  2.48it/s]\n",
            "                 Class     Images  Instances      Box(P          R      mAP50  mAP50-95)     Mask(P          R      mAP50  mAP50-95): 100%|██████████| 1/1 [00:00<00:00,  1.05it/s]\n",
            "                   all         18        131      0.909      0.889      0.935      0.779      0.651      0.588      0.569      0.227\n",
            "\n",
            "      Epoch    GPU_mem   box_loss   seg_loss   cls_loss   dfl_loss  Instances       Size\n",
            "      50/50      2.93G     0.6133      1.808     0.5021      1.103         36        640: 100%|██████████| 34/34 [00:13<00:00,  2.43it/s]\n",
            "                 Class     Images  Instances      Box(P          R      mAP50  mAP50-95)     Mask(P          R      mAP50  mAP50-95): 100%|██████████| 1/1 [00:00<00:00,  1.08it/s]\n",
            "                   all         18        131      0.909      0.872      0.932      0.779       0.59      0.536      0.501      0.218\n",
            "\n",
            "50 epochs completed in 0.313 hours.\n",
            "Optimizer stripped from runs/segment/train/weights/last.pt, 6.8MB\n",
            "Optimizer stripped from runs/segment/train/weights/best.pt, 6.8MB\n",
            "\n",
            "Validating runs/segment/train/weights/best.pt...\n",
            "Ultralytics YOLOv8.0.201 🚀 Python-3.10.12 torch-2.1.0+cu118 CUDA:0 (Tesla T4, 15102MiB)\n",
            "YOLOv8n-seg summary (fused): 195 layers, 3258454 parameters, 0 gradients, 12.0 GFLOPs\n",
            "                 Class     Images  Instances      Box(P          R      mAP50  mAP50-95)     Mask(P          R      mAP50  mAP50-95): 100%|██████████| 1/1 [00:00<00:00,  2.79it/s]\n",
            "                   all         18        131      0.909      0.889      0.935      0.779      0.651      0.588      0.565      0.226\n",
            "                D3_All         18         18      0.951          1      0.995      0.931      0.532      0.556      0.429      0.107\n",
            "               D3_Cell         18        113      0.867      0.779      0.876      0.626       0.77      0.621      0.701      0.345\n",
            "Speed: 0.3ms preprocess, 3.5ms inference, 0.0ms loss, 2.7ms postprocess per image\n",
            "Results saved to \u001b[1mruns/segment/train\u001b[0m\n"
          ]
        }
      ]
    },
    {
      "cell_type": "markdown",
      "source": [
        "D5_train"
      ],
      "metadata": {
        "id": "epXb31kIixRF"
      }
    },
    {
      "cell_type": "code",
      "source": [
        "%cd /content/drive/MyDrive/wcs2023/Hieu/V8-seg/D5_no_augment"
      ],
      "metadata": {
        "colab": {
          "base_uri": "https://localhost:8080/"
        },
        "id": "gW_GVV7jjZOk",
        "outputId": "c55dee9b-58c1-49e2-abd8-abfb8519bd1e"
      },
      "execution_count": null,
      "outputs": [
        {
          "output_type": "stream",
          "name": "stdout",
          "text": [
            "/content/drive/MyDrive/wcs2023/Hieu/V8-seg/D5_no_augment\n"
          ]
        }
      ]
    },
    {
      "cell_type": "code",
      "source": [
        "model = YOLO('yolov8n-seg.yaml')  # build a new model from YAML\n",
        "model = YOLO('yolov8n-seg.pt')  # load a pretrained model (recommended for training)\n",
        "\n",
        "# Train the model\n",
        "results = model.train(data='/content/drive/MyDrive/wcs2023/Hieu/V8-seg/D5_no_augment/data.yaml', epochs=50, imgsz=640)"
      ],
      "metadata": {
        "colab": {
          "base_uri": "https://localhost:8080/"
        },
        "id": "ybG8EiMKiyck",
        "outputId": "d0ff824c-5c8c-4418-907d-6dbf157c3e83"
      },
      "execution_count": null,
      "outputs": [
        {
          "output_type": "stream",
          "name": "stderr",
          "text": [
            "\n",
            "                   from  n    params  module                                       arguments                     \n",
            "  0                  -1  1       464  ultralytics.nn.modules.conv.Conv             [3, 16, 3, 2]                 \n",
            "  1                  -1  1      4672  ultralytics.nn.modules.conv.Conv             [16, 32, 3, 2]                \n",
            "  2                  -1  1      7360  ultralytics.nn.modules.block.C2f             [32, 32, 1, True]             \n",
            "  3                  -1  1     18560  ultralytics.nn.modules.conv.Conv             [32, 64, 3, 2]                \n",
            "  4                  -1  2     49664  ultralytics.nn.modules.block.C2f             [64, 64, 2, True]             \n",
            "  5                  -1  1     73984  ultralytics.nn.modules.conv.Conv             [64, 128, 3, 2]               \n",
            "  6                  -1  2    197632  ultralytics.nn.modules.block.C2f             [128, 128, 2, True]           \n",
            "  7                  -1  1    295424  ultralytics.nn.modules.conv.Conv             [128, 256, 3, 2]              \n",
            "  8                  -1  1    460288  ultralytics.nn.modules.block.C2f             [256, 256, 1, True]           \n",
            "  9                  -1  1    164608  ultralytics.nn.modules.block.SPPF            [256, 256, 5]                 \n",
            " 10                  -1  1         0  torch.nn.modules.upsampling.Upsample         [None, 2, 'nearest']          \n",
            " 11             [-1, 6]  1         0  ultralytics.nn.modules.conv.Concat           [1]                           \n",
            " 12                  -1  1    148224  ultralytics.nn.modules.block.C2f             [384, 128, 1]                 \n",
            " 13                  -1  1         0  torch.nn.modules.upsampling.Upsample         [None, 2, 'nearest']          \n",
            " 14             [-1, 4]  1         0  ultralytics.nn.modules.conv.Concat           [1]                           \n",
            " 15                  -1  1     37248  ultralytics.nn.modules.block.C2f             [192, 64, 1]                  \n",
            " 16                  -1  1     36992  ultralytics.nn.modules.conv.Conv             [64, 64, 3, 2]                \n",
            " 17            [-1, 12]  1         0  ultralytics.nn.modules.conv.Concat           [1]                           \n",
            " 18                  -1  1    123648  ultralytics.nn.modules.block.C2f             [192, 128, 1]                 \n",
            " 19                  -1  1    147712  ultralytics.nn.modules.conv.Conv             [128, 128, 3, 2]              \n",
            " 20             [-1, 9]  1         0  ultralytics.nn.modules.conv.Concat           [1]                           \n",
            " 21                  -1  1    493056  ultralytics.nn.modules.block.C2f             [384, 256, 1]                 \n",
            " 22        [15, 18, 21]  1   1150432  ultralytics.nn.modules.head.Segment          [80, 32, 64, [64, 128, 256]]  \n",
            "YOLOv8n-seg summary: 261 layers, 3409968 parameters, 3409952 gradients, 12.8 GFLOPs\n",
            "\n",
            "Ultralytics YOLOv8.0.201 🚀 Python-3.10.12 torch-2.1.0+cu118 CUDA:0 (Tesla T4, 15102MiB)\n",
            "\u001b[34m\u001b[1mengine/trainer: \u001b[0mtask=segment, mode=train, model=yolov8n-seg.pt, data=/content/drive/MyDrive/wcs2023/Hieu/V8-seg/D5_no_augment/data.yaml, epochs=50, patience=50, batch=16, imgsz=640, save=True, save_period=-1, cache=False, device=None, workers=8, project=None, name=train2, exist_ok=False, pretrained=True, optimizer=auto, verbose=True, seed=0, deterministic=True, single_cls=False, rect=False, cos_lr=False, close_mosaic=10, resume=False, amp=True, fraction=1.0, profile=False, freeze=None, overlap_mask=True, mask_ratio=4, dropout=0.0, val=True, split=val, save_json=False, save_hybrid=False, conf=None, iou=0.7, max_det=300, half=False, dnn=False, plots=True, source=None, show=False, save_txt=False, save_conf=False, save_crop=False, show_labels=True, show_conf=True, vid_stride=1, stream_buffer=False, line_width=None, visualize=False, augment=False, agnostic_nms=False, classes=None, retina_masks=False, boxes=True, format=torchscript, keras=False, optimize=False, int8=False, dynamic=False, simplify=False, opset=None, workspace=4, nms=False, lr0=0.01, lrf=0.01, momentum=0.937, weight_decay=0.0005, warmup_epochs=3.0, warmup_momentum=0.8, warmup_bias_lr=0.1, box=7.5, cls=0.5, dfl=1.5, pose=12.0, kobj=1.0, label_smoothing=0.0, nbs=64, hsv_h=0.015, hsv_s=0.7, hsv_v=0.4, degrees=0.0, translate=0.1, scale=0.5, shear=0.0, perspective=0.0, flipud=0.0, fliplr=0.5, mosaic=1.0, mixup=0.0, copy_paste=0.0, cfg=None, tracker=botsort.yaml, save_dir=runs/segment/train2\n",
            "Overriding model.yaml nc=80 with nc=6\n",
            "\n",
            "                   from  n    params  module                                       arguments                     \n",
            "  0                  -1  1       464  ultralytics.nn.modules.conv.Conv             [3, 16, 3, 2]                 \n",
            "  1                  -1  1      4672  ultralytics.nn.modules.conv.Conv             [16, 32, 3, 2]                \n",
            "  2                  -1  1      7360  ultralytics.nn.modules.block.C2f             [32, 32, 1, True]             \n",
            "  3                  -1  1     18560  ultralytics.nn.modules.conv.Conv             [32, 64, 3, 2]                \n",
            "  4                  -1  2     49664  ultralytics.nn.modules.block.C2f             [64, 64, 2, True]             \n",
            "  5                  -1  1     73984  ultralytics.nn.modules.conv.Conv             [64, 128, 3, 2]               \n",
            "  6                  -1  2    197632  ultralytics.nn.modules.block.C2f             [128, 128, 2, True]           \n",
            "  7                  -1  1    295424  ultralytics.nn.modules.conv.Conv             [128, 256, 3, 2]              \n",
            "  8                  -1  1    460288  ultralytics.nn.modules.block.C2f             [256, 256, 1, True]           \n",
            "  9                  -1  1    164608  ultralytics.nn.modules.block.SPPF            [256, 256, 5]                 \n",
            " 10                  -1  1         0  torch.nn.modules.upsampling.Upsample         [None, 2, 'nearest']          \n",
            " 11             [-1, 6]  1         0  ultralytics.nn.modules.conv.Concat           [1]                           \n",
            " 12                  -1  1    148224  ultralytics.nn.modules.block.C2f             [384, 128, 1]                 \n",
            " 13                  -1  1         0  torch.nn.modules.upsampling.Upsample         [None, 2, 'nearest']          \n",
            " 14             [-1, 4]  1         0  ultralytics.nn.modules.conv.Concat           [1]                           \n",
            " 15                  -1  1     37248  ultralytics.nn.modules.block.C2f             [192, 64, 1]                  \n",
            " 16                  -1  1     36992  ultralytics.nn.modules.conv.Conv             [64, 64, 3, 2]                \n",
            " 17            [-1, 12]  1         0  ultralytics.nn.modules.conv.Concat           [1]                           \n",
            " 18                  -1  1    123648  ultralytics.nn.modules.block.C2f             [192, 128, 1]                 \n",
            " 19                  -1  1    147712  ultralytics.nn.modules.conv.Conv             [128, 128, 3, 2]              \n",
            " 20             [-1, 9]  1         0  ultralytics.nn.modules.conv.Concat           [1]                           \n",
            " 21                  -1  1    493056  ultralytics.nn.modules.block.C2f             [384, 256, 1]                 \n",
            " 22        [15, 18, 21]  1   1005250  ultralytics.nn.modules.head.Segment          [6, 32, 64, [64, 128, 256]]   \n",
            "YOLOv8n-seg summary: 261 layers, 3264786 parameters, 3264770 gradients, 12.1 GFLOPs\n",
            "\n",
            "Transferred 381/417 items from pretrained weights\n",
            "\u001b[34m\u001b[1mTensorBoard: \u001b[0mStart with 'tensorboard --logdir runs/segment/train2', view at http://localhost:6006/\n",
            "Freezing layer 'model.22.dfl.conv.weight'\n",
            "\u001b[34m\u001b[1mAMP: \u001b[0mrunning Automatic Mixed Precision (AMP) checks with YOLOv8n...\n",
            "Downloading https://github.com/ultralytics/assets/releases/download/v0.0.0/yolov8n.pt to 'yolov8n.pt'...\n",
            "100%|██████████| 6.23M/6.23M [00:00<00:00, 98.7MB/s]\n",
            "\u001b[34m\u001b[1mAMP: \u001b[0mchecks passed ✅\n",
            "\u001b[34m\u001b[1mtrain: \u001b[0mScanning /content/drive/MyDrive/wcs2023/Hieu/V8-seg/D5_no_augment/train/labels... 263 images, 0 backgrounds, 0 corrupt: 100%|██████████| 263/263 [00:01<00:00, 197.72it/s]\n",
            "\u001b[34m\u001b[1mtrain: \u001b[0mNew cache created: /content/drive/MyDrive/wcs2023/Hieu/V8-seg/D5_no_augment/train/labels.cache\n",
            "\u001b[34m\u001b[1malbumentations: \u001b[0mBlur(p=0.01, blur_limit=(3, 7)), MedianBlur(p=0.01, blur_limit=(3, 7)), ToGray(p=0.01), CLAHE(p=0.01, clip_limit=(1, 4.0), tile_grid_size=(8, 8))\n",
            "\u001b[34m\u001b[1mval: \u001b[0mScanning /content/drive/MyDrive/wcs2023/Hieu/V8-seg/D5_no_augment/valid/labels... 2 images, 0 backgrounds, 0 corrupt: 100%|██████████| 2/2 [00:00<00:00, 59.17it/s]\n",
            "\u001b[34m\u001b[1mval: \u001b[0mNew cache created: /content/drive/MyDrive/wcs2023/Hieu/V8-seg/D5_no_augment/valid/labels.cache\n",
            "Plotting labels to runs/segment/train2/labels.jpg... \n",
            "\u001b[34m\u001b[1moptimizer:\u001b[0m 'optimizer=auto' found, ignoring 'lr0=0.01' and 'momentum=0.937' and determining best 'optimizer', 'lr0' and 'momentum' automatically... \n",
            "\u001b[34m\u001b[1moptimizer:\u001b[0m AdamW(lr=0.001, momentum=0.9) with parameter groups 66 weight(decay=0.0), 77 weight(decay=0.0005), 76 bias(decay=0.0)\n",
            "Image sizes 640 train, 640 val\n",
            "Using 2 dataloader workers\n",
            "Logging results to \u001b[1mruns/segment/train2\u001b[0m\n",
            "Starting training for 50 epochs...\n",
            "\n",
            "      Epoch    GPU_mem   box_loss   seg_loss   cls_loss   dfl_loss  Instances       Size\n",
            "       1/50      3.33G      1.188      5.709      3.384      1.687         39        640: 100%|██████████| 17/17 [00:12<00:00,  1.34it/s]\n",
            "                 Class     Images  Instances      Box(P          R      mAP50  mAP50-95)     Mask(P          R      mAP50  mAP50-95): 100%|██████████| 1/1 [00:00<00:00,  4.27it/s]\n",
            "                   all          2          6     0.0308      0.667      0.663      0.474    0.00392      0.167      0.166     0.0498\n",
            "\n",
            "      Epoch    GPU_mem   box_loss   seg_loss   cls_loss   dfl_loss  Instances       Size\n",
            "       2/50      3.16G     0.9879      4.031      2.743      1.546         44        640: 100%|██████████| 17/17 [00:07<00:00,  2.21it/s]\n",
            "                 Class     Images  Instances      Box(P          R      mAP50  mAP50-95)     Mask(P          R      mAP50  mAP50-95): 100%|██████████| 1/1 [00:00<00:00,  5.17it/s]\n",
            "                   all          2          6     0.0671      0.833      0.665      0.516          0          0          0          0\n",
            "\n",
            "      Epoch    GPU_mem   box_loss   seg_loss   cls_loss   dfl_loss  Instances       Size\n",
            "       3/50      3.09G      1.065       3.89      2.312      1.572         38        640: 100%|██████████| 17/17 [00:06<00:00,  2.61it/s]\n",
            "                 Class     Images  Instances      Box(P          R      mAP50  mAP50-95)     Mask(P          R      mAP50  mAP50-95): 100%|██████████| 1/1 [00:00<00:00,  7.18it/s]\n",
            "                   all          2          6          1      0.601      0.663      0.465     0.0021      0.167      0.166      0.036\n",
            "\n",
            "      Epoch    GPU_mem   box_loss   seg_loss   cls_loss   dfl_loss  Instances       Size\n",
            "       4/50       3.1G      1.135      3.711       2.09      1.646         43        640: 100%|██████████| 17/17 [00:07<00:00,  2.14it/s]\n",
            "                 Class     Images  Instances      Box(P          R      mAP50  mAP50-95)     Mask(P          R      mAP50  mAP50-95): 100%|██████████| 1/1 [00:00<00:00,  4.76it/s]\n",
            "                   all          2          6      0.942      0.649      0.663      0.373      0.387      0.134     0.0458      0.011\n",
            "\n",
            "      Epoch    GPU_mem   box_loss   seg_loss   cls_loss   dfl_loss  Instances       Size\n",
            "       5/50      3.06G      1.039      3.456      1.903      1.558         36        640: 100%|██████████| 17/17 [00:06<00:00,  2.72it/s]\n",
            "                 Class     Images  Instances      Box(P          R      mAP50  mAP50-95)     Mask(P          R      mAP50  mAP50-95): 100%|██████████| 1/1 [00:00<00:00,  6.66it/s]\n",
            "                   all          2          6      0.818      0.667      0.619      0.524      0.416      0.167      0.192     0.0263\n",
            "\n",
            "      Epoch    GPU_mem   box_loss   seg_loss   cls_loss   dfl_loss  Instances       Size\n",
            "       6/50      3.16G      1.066      3.435      1.803      1.585         46        640: 100%|██████████| 17/17 [00:09<00:00,  1.84it/s]\n",
            "                 Class     Images  Instances      Box(P          R      mAP50  mAP50-95)     Mask(P          R      mAP50  mAP50-95): 100%|██████████| 1/1 [00:00<00:00,  7.88it/s]\n",
            "                   all          2          6      0.974       0.65       0.67      0.515       0.54      0.167      0.185     0.0185\n",
            "\n",
            "      Epoch    GPU_mem   box_loss   seg_loss   cls_loss   dfl_loss  Instances       Size\n",
            "       7/50      3.04G      1.027       3.43      1.734      1.568         35        640: 100%|██████████| 17/17 [00:05<00:00,  2.93it/s]\n",
            "                 Class     Images  Instances      Box(P          R      mAP50  mAP50-95)     Mask(P          R      mAP50  mAP50-95): 100%|██████████| 1/1 [00:00<00:00, 10.30it/s]\n",
            "                   all          2          6       0.97      0.667      0.829      0.696      0.279      0.333      0.332     0.0996\n",
            "\n",
            "      Epoch    GPU_mem   box_loss   seg_loss   cls_loss   dfl_loss  Instances       Size\n",
            "       8/50       3.1G      1.059      3.475      1.748      1.569         43        640: 100%|██████████| 17/17 [00:07<00:00,  2.20it/s]\n",
            "                 Class     Images  Instances      Box(P          R      mAP50  mAP50-95)     Mask(P          R      mAP50  mAP50-95): 100%|██████████| 1/1 [00:00<00:00,  7.92it/s]\n",
            "                   all          2          6      0.677      0.833      0.829      0.564      0.191      0.167      0.179     0.0411\n",
            "\n",
            "      Epoch    GPU_mem   box_loss   seg_loss   cls_loss   dfl_loss  Instances       Size\n",
            "       9/50      3.12G      1.007      3.261      1.642      1.556         37        640: 100%|██████████| 17/17 [00:06<00:00,  2.43it/s]\n",
            "                 Class     Images  Instances      Box(P          R      mAP50  mAP50-95)     Mask(P          R      mAP50  mAP50-95): 100%|██████████| 1/1 [00:00<00:00,  3.56it/s]\n",
            "                   all          2          6      0.963      0.667      0.697      0.618      0.251      0.333      0.266     0.0841\n",
            "\n",
            "      Epoch    GPU_mem   box_loss   seg_loss   cls_loss   dfl_loss  Instances       Size\n",
            "      10/50      3.12G      1.017      3.314      1.645      1.576         39        640: 100%|██████████| 17/17 [00:06<00:00,  2.51it/s]\n",
            "                 Class     Images  Instances      Box(P          R      mAP50  mAP50-95)     Mask(P          R      mAP50  mAP50-95): 100%|██████████| 1/1 [00:00<00:00,  5.64it/s]\n",
            "                   all          2          6      0.554      0.833      0.829       0.68      0.953      0.333      0.499      0.216\n",
            "\n",
            "      Epoch    GPU_mem   box_loss   seg_loss   cls_loss   dfl_loss  Instances       Size\n",
            "      11/50      3.15G      0.977       3.21      1.574      1.514         32        640: 100%|██████████| 17/17 [00:08<00:00,  2.11it/s]\n",
            "                 Class     Images  Instances      Box(P          R      mAP50  mAP50-95)     Mask(P          R      mAP50  mAP50-95): 100%|██████████| 1/1 [00:00<00:00,  7.63it/s]\n",
            "                   all          2          6      0.653      0.833      0.829      0.476      0.874      0.167      0.165     0.0992\n",
            "\n",
            "      Epoch    GPU_mem   box_loss   seg_loss   cls_loss   dfl_loss  Instances       Size\n",
            "      12/50      3.13G     0.9623      3.183      1.532      1.496         43        640: 100%|██████████| 17/17 [00:06<00:00,  2.55it/s]\n",
            "                 Class     Images  Instances      Box(P          R      mAP50  mAP50-95)     Mask(P          R      mAP50  mAP50-95): 100%|██████████| 1/1 [00:00<00:00,  6.59it/s]\n",
            "                   all          2          6      0.921      0.651      0.697      0.594      0.928        0.5      0.547     0.0942\n",
            "\n",
            "      Epoch    GPU_mem   box_loss   seg_loss   cls_loss   dfl_loss  Instances       Size\n",
            "      13/50       3.1G     0.9345      3.056      1.481      1.471         38        640: 100%|██████████| 17/17 [00:08<00:00,  2.01it/s]\n",
            "                 Class     Images  Instances      Box(P          R      mAP50  mAP50-95)     Mask(P          R      mAP50  mAP50-95): 100%|██████████| 1/1 [00:00<00:00,  5.24it/s]\n",
            "                   all          2          6      0.967      0.667      0.691      0.658      0.808        0.5      0.545      0.147\n",
            "\n",
            "      Epoch    GPU_mem   box_loss   seg_loss   cls_loss   dfl_loss  Instances       Size\n",
            "      14/50      3.19G     0.9267      3.103      1.517      1.466         42        640: 100%|██████████| 17/17 [00:06<00:00,  2.61it/s]\n",
            "                 Class     Images  Instances      Box(P          R      mAP50  mAP50-95)     Mask(P          R      mAP50  mAP50-95): 100%|██████████| 1/1 [00:00<00:00,  6.77it/s]\n",
            "                   all          2          6       0.97      0.667       0.68      0.563      0.806        0.5      0.527      0.126\n",
            "\n",
            "      Epoch    GPU_mem   box_loss   seg_loss   cls_loss   dfl_loss  Instances       Size\n",
            "      15/50      3.18G     0.9065      3.035      1.441      1.443         47        640: 100%|██████████| 17/17 [00:07<00:00,  2.35it/s]\n",
            "                 Class     Images  Instances      Box(P          R      mAP50  mAP50-95)     Mask(P          R      mAP50  mAP50-95): 100%|██████████| 1/1 [00:00<00:00, 10.37it/s]\n",
            "                   all          2          6      0.918      0.667      0.829      0.682       0.74        0.5      0.581      0.159\n",
            "\n",
            "      Epoch    GPU_mem   box_loss   seg_loss   cls_loss   dfl_loss  Instances       Size\n",
            "      16/50      3.15G     0.9289      3.106      1.451      1.469         45        640: 100%|██████████| 17/17 [00:07<00:00,  2.36it/s]\n",
            "                 Class     Images  Instances      Box(P          R      mAP50  mAP50-95)     Mask(P          R      mAP50  mAP50-95): 100%|██████████| 1/1 [00:00<00:00,  5.04it/s]\n",
            "                   all          2          6      0.879      0.833      0.829      0.647      0.441      0.333      0.332      0.123\n",
            "\n",
            "      Epoch    GPU_mem   box_loss   seg_loss   cls_loss   dfl_loss  Instances       Size\n",
            "      17/50      3.18G     0.9097      3.042      1.383      1.448         33        640: 100%|██████████| 17/17 [00:06<00:00,  2.52it/s]\n",
            "                 Class     Images  Instances      Box(P          R      mAP50  mAP50-95)     Mask(P          R      mAP50  mAP50-95): 100%|██████████| 1/1 [00:00<00:00,  5.58it/s]\n",
            "                   all          2          6      0.875      0.819      0.829       0.68       0.75        0.5      0.508      0.184\n",
            "\n",
            "      Epoch    GPU_mem   box_loss   seg_loss   cls_loss   dfl_loss  Instances       Size\n",
            "      18/50      3.06G     0.8591      2.894      1.412       1.43         44        640: 100%|██████████| 17/17 [00:08<00:00,  2.06it/s]\n",
            "                 Class     Images  Instances      Box(P          R      mAP50  mAP50-95)     Mask(P          R      mAP50  mAP50-95): 100%|██████████| 1/1 [00:00<00:00,  4.91it/s]\n",
            "                   all          2          6      0.805      0.667      0.829      0.688      0.788      0.333      0.498      0.199\n",
            "\n",
            "      Epoch    GPU_mem   box_loss   seg_loss   cls_loss   dfl_loss  Instances       Size\n",
            "      19/50      3.15G     0.8609      2.934      1.379      1.415         45        640: 100%|██████████| 17/17 [00:06<00:00,  2.65it/s]\n",
            "                 Class     Images  Instances      Box(P          R      mAP50  mAP50-95)     Mask(P          R      mAP50  mAP50-95): 100%|██████████| 1/1 [00:00<00:00,  6.84it/s]\n",
            "                   all          2          6      0.716      0.771      0.774      0.658      0.587        0.5      0.498      0.249\n",
            "\n",
            "      Epoch    GPU_mem   box_loss   seg_loss   cls_loss   dfl_loss  Instances       Size\n",
            "      20/50       3.1G     0.8437      2.895      1.347      1.386         52        640: 100%|██████████| 17/17 [00:09<00:00,  1.76it/s]\n",
            "                 Class     Images  Instances      Box(P          R      mAP50  mAP50-95)     Mask(P          R      mAP50  mAP50-95): 100%|██████████| 1/1 [00:00<00:00,  4.06it/s]\n",
            "                   all          2          6      0.675      0.777      0.774      0.591        0.7      0.333       0.36      0.109\n",
            "\n",
            "      Epoch    GPU_mem   box_loss   seg_loss   cls_loss   dfl_loss  Instances       Size\n",
            "      21/50      3.12G     0.8608      2.873      1.323       1.41         31        640: 100%|██████████| 17/17 [00:07<00:00,  2.42it/s]\n",
            "                 Class     Images  Instances      Box(P          R      mAP50  mAP50-95)     Mask(P          R      mAP50  mAP50-95): 100%|██████████| 1/1 [00:00<00:00,  4.33it/s]\n",
            "                   all          2          6      0.714      0.833      0.829      0.647      0.451        0.5      0.498      0.166\n",
            "\n",
            "      Epoch    GPU_mem   box_loss   seg_loss   cls_loss   dfl_loss  Instances       Size\n",
            "      22/50      3.14G     0.8385      2.858      1.318      1.407         41        640: 100%|██████████| 17/17 [00:06<00:00,  2.57it/s]\n",
            "                 Class     Images  Instances      Box(P          R      mAP50  mAP50-95)     Mask(P          R      mAP50  mAP50-95): 100%|██████████| 1/1 [00:00<00:00,  6.68it/s]\n",
            "                   all          2          6      0.819       0.81      0.831      0.718      0.372      0.333      0.334      0.152\n",
            "\n",
            "      Epoch    GPU_mem   box_loss   seg_loss   cls_loss   dfl_loss  Instances       Size\n",
            "      23/50      3.14G      0.826       2.89      1.302      1.389         39        640: 100%|██████████| 17/17 [00:07<00:00,  2.16it/s]\n",
            "                 Class     Images  Instances      Box(P          R      mAP50  mAP50-95)     Mask(P          R      mAP50  mAP50-95): 100%|██████████| 1/1 [00:00<00:00,  5.62it/s]\n",
            "                   all          2          6      0.816      0.833      0.829      0.696      0.677      0.667      0.581       0.18\n",
            "\n",
            "      Epoch    GPU_mem   box_loss   seg_loss   cls_loss   dfl_loss  Instances       Size\n",
            "      24/50      3.12G     0.8423      2.911      1.336      1.396         44        640: 100%|██████████| 17/17 [00:06<00:00,  2.82it/s]\n",
            "                 Class     Images  Instances      Box(P          R      mAP50  mAP50-95)     Mask(P          R      mAP50  mAP50-95): 100%|██████████| 1/1 [00:00<00:00,  8.71it/s]\n",
            "                   all          2          6      0.819      0.833      0.829      0.696      0.653      0.667      0.663        0.2\n",
            "\n",
            "      Epoch    GPU_mem   box_loss   seg_loss   cls_loss   dfl_loss  Instances       Size\n",
            "      25/50      3.12G     0.7932      2.768      1.238      1.351         33        640: 100%|██████████| 17/17 [00:08<00:00,  2.03it/s]\n",
            "                 Class     Images  Instances      Box(P          R      mAP50  mAP50-95)     Mask(P          R      mAP50  mAP50-95): 100%|██████████| 1/1 [00:00<00:00,  6.49it/s]\n",
            "                   all          2          6      0.949      0.811      0.829      0.729      0.845      0.667      0.663      0.249\n",
            "\n",
            "      Epoch    GPU_mem   box_loss   seg_loss   cls_loss   dfl_loss  Instances       Size\n",
            "      26/50      3.14G     0.7975      2.799      1.276      1.365         28        640: 100%|██████████| 17/17 [00:06<00:00,  2.70it/s]\n",
            "                 Class     Images  Instances      Box(P          R      mAP50  mAP50-95)     Mask(P          R      mAP50  mAP50-95): 100%|██████████| 1/1 [00:00<00:00, 10.78it/s]\n",
            "                   all          2          6      0.944      0.789      0.829      0.746      0.822      0.667       0.67      0.233\n",
            "\n",
            "      Epoch    GPU_mem   box_loss   seg_loss   cls_loss   dfl_loss  Instances       Size\n",
            "      27/50      3.17G     0.8202      2.741      1.248      1.379         37        640: 100%|██████████| 17/17 [00:07<00:00,  2.18it/s]\n",
            "                 Class     Images  Instances      Box(P          R      mAP50  mAP50-95)     Mask(P          R      mAP50  mAP50-95): 100%|██████████| 1/1 [00:00<00:00,  5.57it/s]\n",
            "                   all          2          6      0.742      0.833      0.773      0.686       0.83        0.5       0.61      0.201\n",
            "\n",
            "      Epoch    GPU_mem   box_loss   seg_loss   cls_loss   dfl_loss  Instances       Size\n",
            "      28/50       3.1G     0.7981      2.749      1.218      1.359         30        640: 100%|██████████| 17/17 [00:06<00:00,  2.53it/s]\n",
            "                 Class     Images  Instances      Box(P          R      mAP50  mAP50-95)     Mask(P          R      mAP50  mAP50-95): 100%|██████████| 1/1 [00:00<00:00,  4.32it/s]\n",
            "                   all          2          6       0.93      0.819      0.829       0.68      0.914      0.589      0.669      0.177\n",
            "\n",
            "      Epoch    GPU_mem   box_loss   seg_loss   cls_loss   dfl_loss  Instances       Size\n",
            "      29/50      3.06G     0.7791      2.683      1.194      1.346         32        640: 100%|██████████| 17/17 [00:06<00:00,  2.50it/s]\n",
            "                 Class     Images  Instances      Box(P          R      mAP50  mAP50-95)     Mask(P          R      mAP50  mAP50-95): 100%|██████████| 1/1 [00:00<00:00,  9.22it/s]\n",
            "                   all          2          6      0.842      0.792      0.829      0.713      0.834      0.642      0.663      0.315\n",
            "\n",
            "      Epoch    GPU_mem   box_loss   seg_loss   cls_loss   dfl_loss  Instances       Size\n",
            "      30/50      3.12G     0.7833       2.62      1.215      1.341         38        640: 100%|██████████| 17/17 [00:07<00:00,  2.25it/s]\n",
            "                 Class     Images  Instances      Box(P          R      mAP50  mAP50-95)     Mask(P          R      mAP50  mAP50-95): 100%|██████████| 1/1 [00:00<00:00,  4.96it/s]\n",
            "                   all          2          6      0.782      0.833      0.829      0.663      0.619      0.667      0.598      0.226\n",
            "\n",
            "      Epoch    GPU_mem   box_loss   seg_loss   cls_loss   dfl_loss  Instances       Size\n",
            "      31/50      3.15G        0.8      2.667      1.183      1.373         42        640: 100%|██████████| 17/17 [00:05<00:00,  2.84it/s]\n",
            "                 Class     Images  Instances      Box(P          R      mAP50  mAP50-95)     Mask(P          R      mAP50  mAP50-95): 100%|██████████| 1/1 [00:00<00:00,  8.57it/s]\n",
            "                   all          2          6      0.706      0.667      0.746      0.605      0.977        0.5      0.549      0.176\n",
            "\n",
            "      Epoch    GPU_mem   box_loss   seg_loss   cls_loss   dfl_loss  Instances       Size\n",
            "      32/50      3.16G      0.756      2.539       1.14      1.332         38        640: 100%|██████████| 17/17 [00:08<00:00,  1.93it/s]\n",
            "                 Class     Images  Instances      Box(P          R      mAP50  mAP50-95)     Mask(P          R      mAP50  mAP50-95): 100%|██████████| 1/1 [00:00<00:00,  7.09it/s]\n",
            "                   all          2          6      0.639      0.833      0.774      0.571      0.483      0.667      0.525      0.179\n",
            "\n",
            "      Epoch    GPU_mem   box_loss   seg_loss   cls_loss   dfl_loss  Instances       Size\n",
            "      33/50      3.17G     0.7776      2.627      1.155      1.339         36        640: 100%|██████████| 17/17 [00:06<00:00,  2.70it/s]\n",
            "                 Class     Images  Instances      Box(P          R      mAP50  mAP50-95)     Mask(P          R      mAP50  mAP50-95): 100%|██████████| 1/1 [00:00<00:00,  8.01it/s]\n",
            "                   all          2          6       0.79      0.833      0.747      0.623       0.79      0.833      0.747      0.283\n",
            "\n",
            "      Epoch    GPU_mem   box_loss   seg_loss   cls_loss   dfl_loss  Instances       Size\n",
            "      34/50      3.07G     0.7946      2.613      1.175      1.375         24        640: 100%|██████████| 17/17 [00:08<00:00,  1.92it/s]\n",
            "                 Class     Images  Instances      Box(P          R      mAP50  mAP50-95)     Mask(P          R      mAP50  mAP50-95): 100%|██████████| 1/1 [00:00<00:00,  7.22it/s]\n",
            "                   all          2          6       0.79      0.815      0.774      0.555       0.79      0.815      0.774      0.281\n",
            "\n",
            "      Epoch    GPU_mem   box_loss   seg_loss   cls_loss   dfl_loss  Instances       Size\n",
            "      35/50      3.12G     0.7749      2.565      1.145      1.348         35        640: 100%|██████████| 17/17 [00:06<00:00,  2.73it/s]\n",
            "                 Class     Images  Instances      Box(P          R      mAP50  mAP50-95)     Mask(P          R      mAP50  mAP50-95): 100%|██████████| 1/1 [00:00<00:00,  5.66it/s]\n",
            "                   all          2          6       0.94      0.818      0.829      0.697      0.638        0.5      0.497      0.216\n",
            "\n",
            "      Epoch    GPU_mem   box_loss   seg_loss   cls_loss   dfl_loss  Instances       Size\n",
            "      36/50      3.22G     0.7553      2.597      1.136      1.339         42        640: 100%|██████████| 17/17 [00:07<00:00,  2.27it/s]\n",
            "                 Class     Images  Instances      Box(P          R      mAP50  mAP50-95)     Mask(P          R      mAP50  mAP50-95): 100%|██████████| 1/1 [00:00<00:00,  5.90it/s]\n",
            "                   all          2          6      0.888      0.833      0.829      0.746      0.596        0.5      0.501      0.249\n",
            "\n",
            "      Epoch    GPU_mem   box_loss   seg_loss   cls_loss   dfl_loss  Instances       Size\n",
            "      37/50      3.16G     0.7377      2.548      1.101      1.314         48        640: 100%|██████████| 17/17 [00:07<00:00,  2.20it/s]\n",
            "                 Class     Images  Instances      Box(P          R      mAP50  mAP50-95)     Mask(P          R      mAP50  mAP50-95): 100%|██████████| 1/1 [00:00<00:00,  7.59it/s]\n",
            "                   all          2          6      0.875      0.819      0.829       0.73      0.723      0.667      0.681      0.275\n",
            "\n",
            "      Epoch    GPU_mem   box_loss   seg_loss   cls_loss   dfl_loss  Instances       Size\n",
            "      38/50      3.16G     0.7336      2.559      1.112      1.327         37        640: 100%|██████████| 17/17 [00:06<00:00,  2.58it/s]\n",
            "                 Class     Images  Instances      Box(P          R      mAP50  mAP50-95)     Mask(P          R      mAP50  mAP50-95): 100%|██████████| 1/1 [00:00<00:00,  7.90it/s]\n",
            "                   all          2          6      0.855      0.749      0.829      0.701      0.557        0.5      0.527      0.166\n",
            "\n",
            "      Epoch    GPU_mem   box_loss   seg_loss   cls_loss   dfl_loss  Instances       Size\n",
            "      39/50      3.06G     0.7541      2.569      1.113      1.328         34        640: 100%|██████████| 17/17 [00:08<00:00,  1.93it/s]\n",
            "                 Class     Images  Instances      Box(P          R      mAP50  mAP50-95)     Mask(P          R      mAP50  mAP50-95): 100%|██████████| 1/1 [00:00<00:00,  6.80it/s]\n",
            "                   all          2          6      0.683      0.833      0.774      0.663      0.481        0.5      0.508      0.123\n",
            "\n",
            "      Epoch    GPU_mem   box_loss   seg_loss   cls_loss   dfl_loss  Instances       Size\n",
            "      40/50      3.21G     0.7273      2.428      1.047      1.299         26        640: 100%|██████████| 17/17 [00:06<00:00,  2.71it/s]\n",
            "                 Class     Images  Instances      Box(P          R      mAP50  mAP50-95)     Mask(P          R      mAP50  mAP50-95): 100%|██████████| 1/1 [00:00<00:00,  6.54it/s]\n",
            "                   all          2          6      0.797      0.784      0.829       0.69      0.885      0.667      0.663      0.232\n",
            "Closing dataloader mosaic\n",
            "\u001b[34m\u001b[1malbumentations: \u001b[0mBlur(p=0.01, blur_limit=(3, 7)), MedianBlur(p=0.01, blur_limit=(3, 7)), ToGray(p=0.01), CLAHE(p=0.01, clip_limit=(1, 4.0), tile_grid_size=(8, 8))\n",
            "\n",
            "      Epoch    GPU_mem   box_loss   seg_loss   cls_loss   dfl_loss  Instances       Size\n",
            "      41/50      3.31G     0.7668      2.563      1.475      1.577         17        640: 100%|██████████| 17/17 [00:11<00:00,  1.51it/s]\n",
            "                 Class     Images  Instances      Box(P          R      mAP50  mAP50-95)     Mask(P          R      mAP50  mAP50-95): 100%|██████████| 1/1 [00:00<00:00,  5.64it/s]\n",
            "                   all          2          6      0.731      0.628      0.692      0.642      0.464      0.468      0.416       0.15\n",
            "\n",
            "      Epoch    GPU_mem   box_loss   seg_loss   cls_loss   dfl_loss  Instances       Size\n",
            "      42/50      2.96G     0.7175      2.389       1.31      1.501         15        640: 100%|██████████| 17/17 [00:06<00:00,  2.64it/s]\n",
            "                 Class     Images  Instances      Box(P          R      mAP50  mAP50-95)     Mask(P          R      mAP50  mAP50-95): 100%|██████████| 1/1 [00:00<00:00,  4.94it/s]\n",
            "                   all          2          6       0.76      0.808       0.72      0.687      0.623      0.646      0.554      0.172\n",
            "\n",
            "      Epoch    GPU_mem   box_loss   seg_loss   cls_loss   dfl_loss  Instances       Size\n",
            "      43/50      2.95G     0.6945      2.242      1.129      1.508          8        640: 100%|██████████| 17/17 [00:05<00:00,  3.07it/s]\n",
            "                 Class     Images  Instances      Box(P          R      mAP50  mAP50-95)     Mask(P          R      mAP50  mAP50-95): 100%|██████████| 1/1 [00:00<00:00, 10.37it/s]\n",
            "                   all          2          6      0.889      0.737       0.83      0.676      0.586      0.479      0.554      0.205\n",
            "\n",
            "      Epoch    GPU_mem   box_loss   seg_loss   cls_loss   dfl_loss  Instances       Size\n",
            "      44/50      2.92G     0.6541      2.191      1.091      1.466         14        640: 100%|██████████| 17/17 [00:05<00:00,  2.93it/s]\n",
            "                 Class     Images  Instances      Box(P          R      mAP50  mAP50-95)     Mask(P          R      mAP50  mAP50-95): 100%|██████████| 1/1 [00:00<00:00,  3.94it/s]\n",
            "                   all          2          6      0.779      0.783       0.83      0.697       0.88       0.49      0.503      0.175\n",
            "\n",
            "      Epoch    GPU_mem   box_loss   seg_loss   cls_loss   dfl_loss  Instances       Size\n",
            "      45/50      2.92G     0.6695      2.107      1.104      1.451         18        640: 100%|██████████| 17/17 [00:06<00:00,  2.78it/s]\n",
            "                 Class     Images  Instances      Box(P          R      mAP50  mAP50-95)     Mask(P          R      mAP50  mAP50-95): 100%|██████████| 1/1 [00:00<00:00,  7.81it/s]\n",
            "                   all          2          6      0.843      0.758       0.83      0.747      0.515      0.486      0.515      0.174\n",
            "\n",
            "      Epoch    GPU_mem   box_loss   seg_loss   cls_loss   dfl_loss  Instances       Size\n",
            "      46/50       2.9G     0.6461      2.153      1.131       1.42         15        640: 100%|██████████| 17/17 [00:05<00:00,  3.28it/s]\n",
            "                 Class     Images  Instances      Box(P          R      mAP50  mAP50-95)     Mask(P          R      mAP50  mAP50-95): 100%|██████████| 1/1 [00:00<00:00,  9.62it/s]\n",
            "                   all          2          6      0.841      0.779       0.83      0.747      0.508      0.464      0.513      0.169\n",
            "\n",
            "      Epoch    GPU_mem   box_loss   seg_loss   cls_loss   dfl_loss  Instances       Size\n",
            "      47/50      3.06G     0.6212      2.215      1.112      1.439         15        640: 100%|██████████| 17/17 [00:07<00:00,  2.26it/s]\n",
            "                 Class     Images  Instances      Box(P          R      mAP50  mAP50-95)     Mask(P          R      mAP50  mAP50-95): 100%|██████████| 1/1 [00:00<00:00, 12.43it/s]\n",
            "                   all          2          6      0.848      0.803       0.83      0.763        0.9      0.593       0.67      0.233\n",
            "\n",
            "      Epoch    GPU_mem   box_loss   seg_loss   cls_loss   dfl_loss  Instances       Size\n",
            "      48/50      2.91G     0.6409      2.131       1.08      1.447         16        640: 100%|██████████| 17/17 [00:05<00:00,  3.23it/s]\n",
            "                 Class     Images  Instances      Box(P          R      mAP50  mAP50-95)     Mask(P          R      mAP50  mAP50-95): 100%|██████████| 1/1 [00:00<00:00, 11.90it/s]\n",
            "                   all          2          6      0.808      0.794       0.83      0.747      0.875      0.656       0.67      0.283\n",
            "\n",
            "      Epoch    GPU_mem   box_loss   seg_loss   cls_loss   dfl_loss  Instances       Size\n",
            "      49/50       2.9G     0.5954       2.08      1.016      1.385         11        640: 100%|██████████| 17/17 [00:07<00:00,  2.30it/s]\n",
            "                 Class     Images  Instances      Box(P          R      mAP50  mAP50-95)     Mask(P          R      mAP50  mAP50-95): 100%|██████████| 1/1 [00:00<00:00,  7.13it/s]\n",
            "                   all          2          6      0.791      0.804       0.83      0.734      0.844      0.667      0.671      0.259\n",
            "\n",
            "      Epoch    GPU_mem   box_loss   seg_loss   cls_loss   dfl_loss  Instances       Size\n",
            "      50/50      2.94G     0.5895      2.057      1.011      1.392         15        640: 100%|██████████| 17/17 [00:05<00:00,  3.21it/s]\n",
            "                 Class     Images  Instances      Box(P          R      mAP50  mAP50-95)     Mask(P          R      mAP50  mAP50-95): 100%|██████████| 1/1 [00:00<00:00, 11.49it/s]\n",
            "                   all          2          6      0.834      0.781       0.83       0.75      0.579      0.493      0.516      0.195\n",
            "\n",
            "50 epochs completed in 0.122 hours.\n",
            "Optimizer stripped from runs/segment/train2/weights/last.pt, 6.8MB\n",
            "Optimizer stripped from runs/segment/train2/weights/best.pt, 6.8MB\n",
            "\n",
            "Validating runs/segment/train2/weights/best.pt...\n",
            "Ultralytics YOLOv8.0.201 🚀 Python-3.10.12 torch-2.1.0+cu118 CUDA:0 (Tesla T4, 15102MiB)\n",
            "YOLOv8n-seg summary (fused): 195 layers, 3259234 parameters, 0 gradients, 12.0 GFLOPs\n",
            "                 Class     Images  Instances      Box(P          R      mAP50  mAP50-95)     Mask(P          R      mAP50  mAP50-95): 100%|██████████| 1/1 [00:00<00:00, 13.72it/s]\n",
            "                   all          2          6      0.809      0.793       0.83      0.747      0.875      0.655       0.67      0.283\n",
            "               D5_Core          2          2      0.584        0.5      0.499        0.3      0.705        0.5      0.499        0.3\n",
            "                 D5_OK          2          2          1      0.879      0.995      0.995       0.92        0.5      0.517      0.252\n",
            "                 D5_TE          2          2      0.844          1      0.995      0.945          1      0.965      0.995      0.298\n",
            "Speed: 0.8ms preprocess, 13.9ms inference, 0.0ms loss, 1.8ms postprocess per image\n",
            "Results saved to \u001b[1mruns/segment/train2\u001b[0m\n"
          ]
        }
      ]
    },
    {
      "cell_type": "markdown",
      "source": [
        "predict"
      ],
      "metadata": {
        "id": "KtspC2V6jc-H"
      }
    },
    {
      "cell_type": "code",
      "source": [
        "modelD3 = YOLO('/content/drive/MyDrive/wcs2023/Hieu/V8-seg/D3_no_augment/runs/segment/train/weights/best.pt')\n",
        "modelD5 = YOLO('/content/drive/MyDrive/wcs2023/Hieu/V8-seg/D5_no_augment/runs/segment/train2/weights/best.pt')"
      ],
      "metadata": {
        "id": "yu85vpgnEiDH"
      },
      "execution_count": null,
      "outputs": []
    },
    {
      "cell_type": "code",
      "source": [
        "image = cv2.imread('/content/drive/MyDrive/wcs2023/hvwc23/test/D5_153.jpg')"
      ],
      "metadata": {
        "id": "N_MNOLEyO3TJ"
      },
      "execution_count": null,
      "outputs": []
    },
    {
      "cell_type": "code",
      "source": [
        "results = model(image)"
      ],
      "metadata": {
        "colab": {
          "base_uri": "https://localhost:8080/"
        },
        "id": "40cO1jfXEi3l",
        "outputId": "a461f186-6c22-4530-fd78-349646922915"
      },
      "execution_count": null,
      "outputs": [
        {
          "output_type": "stream",
          "name": "stderr",
          "text": [
            "\n",
            "0: 640x640 1 D5_Core, 1 D5_NG, 1 D5_OK, 1 D5_TE, 43.6ms\n",
            "Speed: 5.3ms preprocess, 43.6ms inference, 19.3ms postprocess per image at shape (1, 3, 640, 640)\n"
          ]
        }
      ]
    },
    {
      "cell_type": "code",
      "source": [
        "results"
      ],
      "metadata": {
        "colab": {
          "base_uri": "https://localhost:8080/"
        },
        "id": "D1Z1BUnsE5S-",
        "outputId": "df1d9a3b-41b8-448d-e280-2c6df0a1e043"
      },
      "execution_count": null,
      "outputs": [
        {
          "output_type": "execute_result",
          "data": {
            "text/plain": [
              "[ultralytics.engine.results.Results object with attributes:\n",
              " \n",
              " boxes: ultralytics.engine.results.Boxes object\n",
              " keypoints: None\n",
              " masks: ultralytics.engine.results.Masks object\n",
              " names: {0: 'D3_All', 1: 'D3_Cell', 2: 'D5_Background', 3: 'D5_Core', 4: 'D5_NG', 5: 'D5_OK', 6: 'D5_TE'}\n",
              " orig_img: array([[[225, 199, 199],\n",
              "         [225, 199, 199],\n",
              "         [224, 198, 198],\n",
              "         ...,\n",
              "         [224, 202, 204],\n",
              "         [224, 202, 204],\n",
              "         [225, 203, 205]],\n",
              " \n",
              "        [[225, 199, 199],\n",
              "         [225, 199, 199],\n",
              "         [225, 199, 199],\n",
              "         ...,\n",
              "         [222, 200, 202],\n",
              "         [223, 201, 203],\n",
              "         [225, 203, 205]],\n",
              " \n",
              "        [[225, 199, 199],\n",
              "         [225, 199, 199],\n",
              "         [225, 199, 199],\n",
              "         ...,\n",
              "         [220, 199, 201],\n",
              "         [222, 201, 203],\n",
              "         [224, 203, 205]],\n",
              " \n",
              "        ...,\n",
              " \n",
              "        [[204, 200, 199],\n",
              "         [205, 201, 200],\n",
              "         [205, 200, 199],\n",
              "         ...,\n",
              "         [107, 113, 118],\n",
              "         [ 73,  78,  81],\n",
              "         [ 30,  35,  38]],\n",
              " \n",
              "        [[204, 200, 199],\n",
              "         [205, 201, 200],\n",
              "         [206, 201, 200],\n",
              "         ...,\n",
              "         [120, 124, 129],\n",
              "         [ 75,  78,  82],\n",
              "         [ 34,  38,  39]],\n",
              " \n",
              "        [[205, 201, 200],\n",
              "         [205, 201, 200],\n",
              "         [205, 200, 199],\n",
              "         ...,\n",
              "         [112, 117, 120],\n",
              "         [ 62,  65,  69],\n",
              "         [ 42,  46,  47]]], dtype=uint8)\n",
              " orig_shape: (256, 256)\n",
              " path: 'image0.jpg'\n",
              " probs: None\n",
              " save_dir: None\n",
              " speed: {'preprocess': 5.25665283203125, 'inference': 43.55025291442871, 'postprocess': 19.33121681213379}]"
            ]
          },
          "metadata": {},
          "execution_count": 44
        }
      ]
    },
    {
      "cell_type": "code",
      "source": [
        "results[0].boxes"
      ],
      "metadata": {
        "colab": {
          "base_uri": "https://localhost:8080/"
        },
        "id": "arkYvKVjJqnf",
        "outputId": "a7795927-682c-4c14-a3ea-6120d80221d2"
      },
      "execution_count": null,
      "outputs": [
        {
          "output_type": "execute_result",
          "data": {
            "text/plain": [
              "ultralytics.engine.results.Boxes object with attributes:\n",
              "\n",
              "cls: tensor([3., 4., 6., 5.], device='cuda:0')\n",
              "conf: tensor([0.7142, 0.6437, 0.6216, 0.4468], device='cuda:0')\n",
              "data: tensor([[ 35.1375,  49.8709, 130.5814, 158.8170,   0.7142,   3.0000],\n",
              "        [  5.3090,   0.0000, 243.4607, 248.8481,   0.6437,   4.0000],\n",
              "        [ 35.5585,  17.3500, 231.8845, 222.3431,   0.6216,   6.0000],\n",
              "        [ 32.4014,   9.0972, 231.9175, 229.4898,   0.4468,   5.0000]], device='cuda:0')\n",
              "id: None\n",
              "is_track: False\n",
              "orig_shape: (256, 256)\n",
              "shape: torch.Size([4, 6])\n",
              "xywh: tensor([[ 82.8594, 104.3440,  95.4439, 108.9461],\n",
              "        [124.3849, 124.4240, 238.1516, 248.8481],\n",
              "        [133.7215, 119.8465, 196.3260, 204.9931],\n",
              "        [132.1595, 119.2935, 199.5161, 220.3925]], device='cuda:0')\n",
              "xywhn: tensor([[0.3237, 0.4076, 0.3728, 0.4256],\n",
              "        [0.4859, 0.4860, 0.9303, 0.9721],\n",
              "        [0.5223, 0.4682, 0.7669, 0.8008],\n",
              "        [0.5162, 0.4660, 0.7794, 0.8609]], device='cuda:0')\n",
              "xyxy: tensor([[ 35.1375,  49.8709, 130.5814, 158.8170],\n",
              "        [  5.3090,   0.0000, 243.4607, 248.8481],\n",
              "        [ 35.5585,  17.3500, 231.8845, 222.3431],\n",
              "        [ 32.4014,   9.0972, 231.9175, 229.4898]], device='cuda:0')\n",
              "xyxyn: tensor([[0.1373, 0.1948, 0.5101, 0.6204],\n",
              "        [0.0207, 0.0000, 0.9510, 0.9721],\n",
              "        [0.1389, 0.0678, 0.9058, 0.8685],\n",
              "        [0.1266, 0.0355, 0.9059, 0.8964]], device='cuda:0')"
            ]
          },
          "metadata": {},
          "execution_count": 43
        }
      ]
    },
    {
      "cell_type": "code",
      "source": [
        "boxes = results[0].boxes\n",
        "class_id = boxes.cls.tolist()\n",
        "#print(class_id)\n",
        "box = boxes.xyxy.tolist()\n",
        "imageH, imageW = boxes.orig_shape\n",
        "conf = boxes.conf.tolist()"
      ],
      "metadata": {
        "id": "sxEShB1SOL-5"
      },
      "execution_count": null,
      "outputs": []
    },
    {
      "cell_type": "code",
      "source": [
        "for item in range(len(class_id)):\n",
        "  if conf[item] >= 0.6:\n",
        "    class_name = results[0].names[class_id[item]]\n",
        "    bbox = box[item]\n",
        "    bbox = [int(coord) for coord in bbox]\n",
        "    #Draw bbox and class name\n",
        "    cv2.rectangle(image, (bbox[0], bbox[1]), (bbox[2], bbox[3]), (0, 255, 0), 2)\n",
        "    text = class_name\n",
        "    font = cv2.FONT_HERSHEY_SIMPLEX\n",
        "    font_scale = 0.8\n",
        "    thickness = 2\n",
        "    text_size, _ = cv2.getTextSize(text, font, font_scale, thickness)\n",
        "    cv2.putText(image, text, (bbox[0], bbox[1] - 5), font, font_scale, (0, 255, 0), thickness, cv2.LINE_AA)\n",
        "    print(f'Class name: {class_name}, bbox: {bbox}')\n",
        "\n",
        "cv2.imwrite('/content/output.jpg', image)\n"
      ],
      "metadata": {
        "colab": {
          "base_uri": "https://localhost:8080/"
        },
        "id": "5X66ydHSN4yt",
        "outputId": "8c7a24ca-b62c-4c03-f51b-399d51aa3e75"
      },
      "execution_count": null,
      "outputs": [
        {
          "output_type": "stream",
          "name": "stdout",
          "text": [
            "Class name: D5_Core, bbox: [35, 49, 130, 158]\n",
            "Class name: D5_NG, bbox: [5, 0, 243, 248]\n",
            "Class name: D5_TE, bbox: [35, 17, 231, 222]\n"
          ]
        },
        {
          "output_type": "execute_result",
          "data": {
            "text/plain": [
              "True"
            ]
          },
          "metadata": {},
          "execution_count": 45
        }
      ]
    },
    {
      "cell_type": "code",
      "source": [
        "import os\n",
        "import csv\n",
        "test_dir = '/content/drive/MyDrive/wcs2023/hvwc23/test'\n",
        "test_name_dir = '/content/drive/MyDrive/wcs2023/hvwc23/test.csv'\n",
        "result_dir = '/content/drive/MyDrive/wcs2023/result/YOLO8seg2models.csv'\n",
        "class_names_D3 = {0: 'D3_All', 1: 'D3_Cell'}\n",
        "class_names_D5 = {0: 'D3_Cell', 1: 'D5_Background', 2: 'D5_Core', 3: 'D5_NG', 4: 'D5_OK', 5: 'D5_TE'}\n",
        "test_id=[]\n",
        "test_name=[]\n",
        "#os.makedirs(result_dir, exist_ok=True)\n",
        "with open(result_dir, 'w', newline='') as f:\n",
        "  summit = csv.writer(f)\n",
        "  summit.writerow(['ID', 'Class'])\n",
        "\n",
        "with open(test_name_dir, 'r') as f:\n",
        "  test_name_reader = csv.reader(f)\n",
        "  next(test_name_reader)\n",
        "  for row in test_name_reader:\n",
        "    test_id.append(int(row[0]))\n",
        "    test_name.append(row[1])\n",
        "\n",
        "#model = YOLO('/content/drive/MyDrive/wcs2023/Hieu/V8-seg/runs/segment/train2/weights/best.pt')\n",
        "for count in test_id:\n",
        "    #print(image)\n",
        "    image = test_name[count-1]\n",
        "    print(image)\n",
        "    flag = 0\n",
        "    file_extension = os.path.splitext(image)[0]\n",
        "    #print('file: ', file_extension)\n",
        "    day_of_embryo = file_extension.split('_')[0]\n",
        "\n",
        "    #print(class_id)\n",
        "    #print(bbox_info)\n",
        "    #print(len(class_id))\n",
        "\n",
        "    if day_of_embryo == 'D3':\n",
        "      results = modelD3(os.path.join(test_dir, image))\n",
        "      bbox_info = results[0].boxes\n",
        "      class_id = bbox_info.cls.tolist()\n",
        "      number_of_cells = 0\n",
        "      for class_id_detected in class_id:\n",
        "        class_name = class_names_D3[class_id_detected]\n",
        "        if class_name == 'D3_Cell': number_of_cells = number_of_cells + 1\n",
        "\n",
        "      if number_of_cells in [x for x in range(6,11)]:\n",
        "        id = 1\n",
        "      else:\n",
        "        id = 0\n",
        "\n",
        "      with open(result_dir, 'a', newline='') as f:\n",
        "          submission = csv.writer(f)\n",
        "          submission.writerow([count, id])\n",
        "\n",
        "    elif day_of_embryo == 'D5':\n",
        "      results = modelD5(os.path.join(test_dir, image))\n",
        "      bbox_info = results[0].boxes\n",
        "      class_id = bbox_info.cls.tolist()\n",
        "      core_checked = 0\n",
        "      te_checked = 0\n",
        "      OK_checked = 0\n",
        "      for class_id_detected in class_id:\n",
        "        class_name = class_names_D5[class_id_detected]\n",
        "        if class_name == 'D5_Core': core_checked =  1\n",
        "        if class_name == 'D5_TE': te_checked = 1\n",
        "        if class_name == 'D5_OK': OK_checked = 1\n",
        "\n",
        "      if core_checked and te_checked:\n",
        "        if OK_checked: id = 1\n",
        "        else: id = 0\n",
        "      else: id = 0\n",
        "\n",
        "      with open(result_dir, 'a', newline='') as f:\n",
        "          submission = csv.writer(f)\n",
        "          submission.writerow([count, id])\n",
        "\n"
      ],
      "metadata": {
        "colab": {
          "base_uri": "https://localhost:8080/"
        },
        "id": "J5g-WzS-E6rX",
        "outputId": "a3307d6a-25f1-41b4-e582-8cbb4d9ab302"
      },
      "execution_count": null,
      "outputs": [
        {
          "output_type": "stream",
          "name": "stderr",
          "text": [
            "\n"
          ]
        },
        {
          "output_type": "stream",
          "name": "stdout",
          "text": [
            "D3_693.jpg\n"
          ]
        },
        {
          "output_type": "stream",
          "name": "stderr",
          "text": [
            "image 1/1 /content/drive/MyDrive/wcs2023/hvwc23/test/D3_693.jpg: 640x640 1 D3_All, 5 D3_Cells, 14.0ms\n",
            "Speed: 3.3ms preprocess, 14.0ms inference, 12.3ms postprocess per image at shape (1, 3, 640, 640)\n",
            "\n"
          ]
        },
        {
          "output_type": "stream",
          "name": "stdout",
          "text": [
            "D3_212.jpg\n"
          ]
        },
        {
          "output_type": "stream",
          "name": "stderr",
          "text": [
            "image 1/1 /content/drive/MyDrive/wcs2023/hvwc23/test/D3_212.jpg: 640x640 1 D3_All, 3 D3_Cells, 11.9ms\n",
            "Speed: 2.9ms preprocess, 11.9ms inference, 7.8ms postprocess per image at shape (1, 3, 640, 640)\n",
            "\n"
          ]
        },
        {
          "output_type": "stream",
          "name": "stdout",
          "text": [
            "D3_724.jpg\n"
          ]
        },
        {
          "output_type": "stream",
          "name": "stderr",
          "text": [
            "image 1/1 /content/drive/MyDrive/wcs2023/hvwc23/test/D3_724.jpg: 640x640 1 D3_All, 5 D3_Cells, 12.6ms\n",
            "Speed: 3.0ms preprocess, 12.6ms inference, 5.7ms postprocess per image at shape (1, 3, 640, 640)\n",
            "\n"
          ]
        },
        {
          "output_type": "stream",
          "name": "stdout",
          "text": [
            "D3_623.jpg\n"
          ]
        },
        {
          "output_type": "stream",
          "name": "stderr",
          "text": [
            "image 1/1 /content/drive/MyDrive/wcs2023/hvwc23/test/D3_623.jpg: 640x640 1 D3_All, 1 D3_Cell, 11.5ms\n",
            "Speed: 3.1ms preprocess, 11.5ms inference, 4.2ms postprocess per image at shape (1, 3, 640, 640)\n",
            "\n"
          ]
        },
        {
          "output_type": "stream",
          "name": "stdout",
          "text": [
            "D3_210.jpg\n"
          ]
        },
        {
          "output_type": "stream",
          "name": "stderr",
          "text": [
            "image 1/1 /content/drive/MyDrive/wcs2023/hvwc23/test/D3_210.jpg: 640x640 1 D3_All, 17.1ms\n",
            "Speed: 3.1ms preprocess, 17.1ms inference, 3.9ms postprocess per image at shape (1, 3, 640, 640)\n",
            "\n"
          ]
        },
        {
          "output_type": "stream",
          "name": "stdout",
          "text": [
            "D3_590.jpg\n"
          ]
        },
        {
          "output_type": "stream",
          "name": "stderr",
          "text": [
            "image 1/1 /content/drive/MyDrive/wcs2023/hvwc23/test/D3_590.jpg: 640x640 2 D3_Alls, 6 D3_Cells, 11.6ms\n",
            "Speed: 2.8ms preprocess, 11.6ms inference, 6.5ms postprocess per image at shape (1, 3, 640, 640)\n",
            "\n"
          ]
        },
        {
          "output_type": "stream",
          "name": "stdout",
          "text": [
            "D3_651.jpg\n"
          ]
        },
        {
          "output_type": "stream",
          "name": "stderr",
          "text": [
            "image 1/1 /content/drive/MyDrive/wcs2023/hvwc23/test/D3_651.jpg: 640x608 1 D3_All, 5 D3_Cells, 80.0ms\n",
            "Speed: 3.4ms preprocess, 80.0ms inference, 5.4ms postprocess per image at shape (1, 3, 640, 608)\n",
            "\n"
          ]
        },
        {
          "output_type": "stream",
          "name": "stdout",
          "text": [
            "D3_384.jpg\n"
          ]
        },
        {
          "output_type": "stream",
          "name": "stderr",
          "text": [
            "image 1/1 /content/drive/MyDrive/wcs2023/hvwc23/test/D3_384.jpg: 640x640 1 D3_All, 2 D3_Cells, 13.3ms\n",
            "Speed: 2.9ms preprocess, 13.3ms inference, 5.2ms postprocess per image at shape (1, 3, 640, 640)\n",
            "\n"
          ]
        },
        {
          "output_type": "stream",
          "name": "stdout",
          "text": [
            "D3_287.jpg\n"
          ]
        },
        {
          "output_type": "stream",
          "name": "stderr",
          "text": [
            "image 1/1 /content/drive/MyDrive/wcs2023/hvwc23/test/D3_287.jpg: 640x640 1 D3_All, 6 D3_Cells, 11.5ms\n",
            "Speed: 2.7ms preprocess, 11.5ms inference, 6.0ms postprocess per image at shape (1, 3, 640, 640)\n",
            "\n"
          ]
        },
        {
          "output_type": "stream",
          "name": "stdout",
          "text": [
            "D3_235.jpg\n"
          ]
        },
        {
          "output_type": "stream",
          "name": "stderr",
          "text": [
            "image 1/1 /content/drive/MyDrive/wcs2023/hvwc23/test/D3_235.jpg: 640x640 1 D3_All, 5 D3_Cells, 11.9ms\n",
            "Speed: 2.3ms preprocess, 11.9ms inference, 5.4ms postprocess per image at shape (1, 3, 640, 640)\n",
            "\n"
          ]
        },
        {
          "output_type": "stream",
          "name": "stdout",
          "text": [
            "D3_638.jpg\n"
          ]
        },
        {
          "output_type": "stream",
          "name": "stderr",
          "text": [
            "image 1/1 /content/drive/MyDrive/wcs2023/hvwc23/test/D3_638.jpg: 640x640 2 D3_Alls, 11.7ms\n",
            "Speed: 2.8ms preprocess, 11.7ms inference, 4.3ms postprocess per image at shape (1, 3, 640, 640)\n",
            "\n"
          ]
        },
        {
          "output_type": "stream",
          "name": "stdout",
          "text": [
            "D3_327.jpg\n"
          ]
        },
        {
          "output_type": "stream",
          "name": "stderr",
          "text": [
            "image 1/1 /content/drive/MyDrive/wcs2023/hvwc23/test/D3_327.jpg: 640x640 1 D3_All, 2 D3_Cells, 11.9ms\n",
            "Speed: 2.9ms preprocess, 11.9ms inference, 4.5ms postprocess per image at shape (1, 3, 640, 640)\n",
            "\n"
          ]
        },
        {
          "output_type": "stream",
          "name": "stdout",
          "text": [
            "D3_067.jpg\n"
          ]
        },
        {
          "output_type": "stream",
          "name": "stderr",
          "text": [
            "image 1/1 /content/drive/MyDrive/wcs2023/hvwc23/test/D3_067.jpg: 640x640 1 D3_All, 1 D3_Cell, 11.5ms\n",
            "Speed: 2.2ms preprocess, 11.5ms inference, 4.2ms postprocess per image at shape (1, 3, 640, 640)\n",
            "\n"
          ]
        },
        {
          "output_type": "stream",
          "name": "stdout",
          "text": [
            "D3_119.jpg\n"
          ]
        },
        {
          "output_type": "stream",
          "name": "stderr",
          "text": [
            "image 1/1 /content/drive/MyDrive/wcs2023/hvwc23/test/D3_119.jpg: 640x640 1 D3_All, 3 D3_Cells, 14.4ms\n",
            "Speed: 3.0ms preprocess, 14.4ms inference, 4.8ms postprocess per image at shape (1, 3, 640, 640)\n",
            "\n"
          ]
        },
        {
          "output_type": "stream",
          "name": "stdout",
          "text": [
            "D3_579.jpg\n"
          ]
        },
        {
          "output_type": "stream",
          "name": "stderr",
          "text": [
            "image 1/1 /content/drive/MyDrive/wcs2023/hvwc23/test/D3_579.jpg: 640x640 1 D3_All, 5 D3_Cells, 12.3ms\n",
            "Speed: 2.9ms preprocess, 12.3ms inference, 5.6ms postprocess per image at shape (1, 3, 640, 640)\n",
            "\n"
          ]
        },
        {
          "output_type": "stream",
          "name": "stdout",
          "text": [
            "D3_645.jpg\n"
          ]
        },
        {
          "output_type": "stream",
          "name": "stderr",
          "text": [
            "image 1/1 /content/drive/MyDrive/wcs2023/hvwc23/test/D3_645.jpg: 640x640 1 D3_All, 1 D3_Cell, 17.9ms\n",
            "Speed: 3.3ms preprocess, 17.9ms inference, 5.8ms postprocess per image at shape (1, 3, 640, 640)\n",
            "\n"
          ]
        },
        {
          "output_type": "stream",
          "name": "stdout",
          "text": [
            "D3_310.jpg\n"
          ]
        },
        {
          "output_type": "stream",
          "name": "stderr",
          "text": [
            "image 1/1 /content/drive/MyDrive/wcs2023/hvwc23/test/D3_310.jpg: 640x640 1 D3_All, 5 D3_Cells, 14.3ms\n",
            "Speed: 3.2ms preprocess, 14.3ms inference, 6.6ms postprocess per image at shape (1, 3, 640, 640)\n",
            "\n"
          ]
        },
        {
          "output_type": "stream",
          "name": "stdout",
          "text": [
            "D3_656.jpg\n"
          ]
        },
        {
          "output_type": "stream",
          "name": "stderr",
          "text": [
            "image 1/1 /content/drive/MyDrive/wcs2023/hvwc23/test/D3_656.jpg: 640x640 (no detections), 14.0ms\n",
            "Speed: 3.1ms preprocess, 14.0ms inference, 0.7ms postprocess per image at shape (1, 3, 640, 640)\n",
            "\n"
          ]
        },
        {
          "output_type": "stream",
          "name": "stdout",
          "text": [
            "D3_507.jpg\n"
          ]
        },
        {
          "output_type": "stream",
          "name": "stderr",
          "text": [
            "image 1/1 /content/drive/MyDrive/wcs2023/hvwc23/test/D3_507.jpg: 640x640 1 D3_All, 3 D3_Cells, 14.0ms\n",
            "Speed: 3.1ms preprocess, 14.0ms inference, 6.0ms postprocess per image at shape (1, 3, 640, 640)\n",
            "\n"
          ]
        },
        {
          "output_type": "stream",
          "name": "stdout",
          "text": [
            "D3_267.jpg\n"
          ]
        },
        {
          "output_type": "stream",
          "name": "stderr",
          "text": [
            "image 1/1 /content/drive/MyDrive/wcs2023/hvwc23/test/D3_267.jpg: 640x640 1 D3_All, 4 D3_Cells, 17.6ms\n",
            "Speed: 3.3ms preprocess, 17.6ms inference, 6.6ms postprocess per image at shape (1, 3, 640, 640)\n",
            "\n"
          ]
        },
        {
          "output_type": "stream",
          "name": "stdout",
          "text": [
            "D3_449.jpg\n"
          ]
        },
        {
          "output_type": "stream",
          "name": "stderr",
          "text": [
            "image 1/1 /content/drive/MyDrive/wcs2023/hvwc23/test/D3_449.jpg: 640x640 1 D3_All, 1 D3_Cell, 13.6ms\n",
            "Speed: 4.6ms preprocess, 13.6ms inference, 5.5ms postprocess per image at shape (1, 3, 640, 640)\n",
            "\n"
          ]
        },
        {
          "output_type": "stream",
          "name": "stdout",
          "text": [
            "D3_674.jpg\n"
          ]
        },
        {
          "output_type": "stream",
          "name": "stderr",
          "text": [
            "image 1/1 /content/drive/MyDrive/wcs2023/hvwc23/test/D3_674.jpg: 640x640 1 D3_All, 3 D3_Cells, 13.7ms\n",
            "Speed: 3.0ms preprocess, 13.7ms inference, 5.8ms postprocess per image at shape (1, 3, 640, 640)\n",
            "\n"
          ]
        },
        {
          "output_type": "stream",
          "name": "stdout",
          "text": [
            "D3_546.jpg\n"
          ]
        },
        {
          "output_type": "stream",
          "name": "stderr",
          "text": [
            "image 1/1 /content/drive/MyDrive/wcs2023/hvwc23/test/D3_546.jpg: 640x640 1 D3_All, 6 D3_Cells, 16.1ms\n",
            "Speed: 2.5ms preprocess, 16.1ms inference, 7.3ms postprocess per image at shape (1, 3, 640, 640)\n",
            "\n"
          ]
        },
        {
          "output_type": "stream",
          "name": "stdout",
          "text": [
            "D3_714.jpg\n"
          ]
        },
        {
          "output_type": "stream",
          "name": "stderr",
          "text": [
            "image 1/1 /content/drive/MyDrive/wcs2023/hvwc23/test/D3_714.jpg: 640x640 1 D3_All, 5 D3_Cells, 11.7ms\n",
            "Speed: 3.0ms preprocess, 11.7ms inference, 5.6ms postprocess per image at shape (1, 3, 640, 640)\n",
            "\n"
          ]
        },
        {
          "output_type": "stream",
          "name": "stdout",
          "text": [
            "D3_232.jpg\n"
          ]
        },
        {
          "output_type": "stream",
          "name": "stderr",
          "text": [
            "image 1/1 /content/drive/MyDrive/wcs2023/hvwc23/test/D3_232.jpg: 640x640 1 D3_All, 3 D3_Cells, 12.1ms\n",
            "Speed: 2.9ms preprocess, 12.1ms inference, 4.8ms postprocess per image at shape (1, 3, 640, 640)\n",
            "\n"
          ]
        },
        {
          "output_type": "stream",
          "name": "stdout",
          "text": [
            "D3_596.jpg\n"
          ]
        },
        {
          "output_type": "stream",
          "name": "stderr",
          "text": [
            "image 1/1 /content/drive/MyDrive/wcs2023/hvwc23/test/D3_596.jpg: 640x640 1 D3_All, 1 D3_Cell, 11.7ms\n",
            "Speed: 2.9ms preprocess, 11.7ms inference, 4.2ms postprocess per image at shape (1, 3, 640, 640)\n",
            "\n"
          ]
        },
        {
          "output_type": "stream",
          "name": "stdout",
          "text": [
            "D3_520.jpg\n"
          ]
        },
        {
          "output_type": "stream",
          "name": "stderr",
          "text": [
            "image 1/1 /content/drive/MyDrive/wcs2023/hvwc23/test/D3_520.jpg: 640x640 1 D3_All, 5 D3_Cells, 12.0ms\n",
            "Speed: 3.1ms preprocess, 12.0ms inference, 6.0ms postprocess per image at shape (1, 3, 640, 640)\n",
            "\n"
          ]
        },
        {
          "output_type": "stream",
          "name": "stdout",
          "text": [
            "D3_140.jpg\n"
          ]
        },
        {
          "output_type": "stream",
          "name": "stderr",
          "text": [
            "image 1/1 /content/drive/MyDrive/wcs2023/hvwc23/test/D3_140.jpg: 608x640 2 D3_Alls, 3 D3_Cells, 75.4ms\n",
            "Speed: 2.6ms preprocess, 75.4ms inference, 5.0ms postprocess per image at shape (1, 3, 608, 640)\n",
            "\n"
          ]
        },
        {
          "output_type": "stream",
          "name": "stdout",
          "text": [
            "D3_720.jpg\n"
          ]
        },
        {
          "output_type": "stream",
          "name": "stderr",
          "text": [
            "image 1/1 /content/drive/MyDrive/wcs2023/hvwc23/test/D3_720.jpg: 640x640 1 D3_All, 9 D3_Cells, 12.9ms\n",
            "Speed: 2.8ms preprocess, 12.9ms inference, 6.8ms postprocess per image at shape (1, 3, 640, 640)\n",
            "\n"
          ]
        },
        {
          "output_type": "stream",
          "name": "stdout",
          "text": [
            "D3_722.jpg\n"
          ]
        },
        {
          "output_type": "stream",
          "name": "stderr",
          "text": [
            "image 1/1 /content/drive/MyDrive/wcs2023/hvwc23/test/D3_722.jpg: 640x640 1 D3_All, 7 D3_Cells, 12.1ms\n",
            "Speed: 2.8ms preprocess, 12.1ms inference, 6.1ms postprocess per image at shape (1, 3, 640, 640)\n",
            "\n"
          ]
        },
        {
          "output_type": "stream",
          "name": "stdout",
          "text": [
            "D3_621.jpg\n"
          ]
        },
        {
          "output_type": "stream",
          "name": "stderr",
          "text": [
            "image 1/1 /content/drive/MyDrive/wcs2023/hvwc23/test/D3_621.jpg: 640x640 1 D3_All, 3 D3_Cells, 12.2ms\n",
            "Speed: 3.0ms preprocess, 12.2ms inference, 4.8ms postprocess per image at shape (1, 3, 640, 640)\n",
            "\n"
          ]
        },
        {
          "output_type": "stream",
          "name": "stdout",
          "text": [
            "D3_182.jpg\n"
          ]
        },
        {
          "output_type": "stream",
          "name": "stderr",
          "text": [
            "image 1/1 /content/drive/MyDrive/wcs2023/hvwc23/test/D3_182.jpg: 640x640 1 D3_All, 11.8ms\n",
            "Speed: 2.8ms preprocess, 11.8ms inference, 3.9ms postprocess per image at shape (1, 3, 640, 640)\n",
            "\n"
          ]
        },
        {
          "output_type": "stream",
          "name": "stdout",
          "text": [
            "D3_138.jpg\n"
          ]
        },
        {
          "output_type": "stream",
          "name": "stderr",
          "text": [
            "image 1/1 /content/drive/MyDrive/wcs2023/hvwc23/test/D3_138.jpg: 640x640 1 D3_All, 12.2ms\n",
            "Speed: 2.7ms preprocess, 12.2ms inference, 3.7ms postprocess per image at shape (1, 3, 640, 640)\n",
            "\n"
          ]
        },
        {
          "output_type": "stream",
          "name": "stdout",
          "text": [
            "D3_742.jpg\n"
          ]
        },
        {
          "output_type": "stream",
          "name": "stderr",
          "text": [
            "image 1/1 /content/drive/MyDrive/wcs2023/hvwc23/test/D3_742.jpg: 640x640 1 D3_All, 6 D3_Cells, 15.2ms\n",
            "Speed: 3.1ms preprocess, 15.2ms inference, 5.7ms postprocess per image at shape (1, 3, 640, 640)\n",
            "\n"
          ]
        },
        {
          "output_type": "stream",
          "name": "stdout",
          "text": [
            "D3_291.jpg\n"
          ]
        },
        {
          "output_type": "stream",
          "name": "stderr",
          "text": [
            "image 1/1 /content/drive/MyDrive/wcs2023/hvwc23/test/D3_291.jpg: 640x640 2 D3_Alls, 11.8ms\n",
            "Speed: 2.9ms preprocess, 11.8ms inference, 4.2ms postprocess per image at shape (1, 3, 640, 640)\n",
            "\n"
          ]
        },
        {
          "output_type": "stream",
          "name": "stdout",
          "text": [
            "D3_597.jpg\n"
          ]
        },
        {
          "output_type": "stream",
          "name": "stderr",
          "text": [
            "image 1/1 /content/drive/MyDrive/wcs2023/hvwc23/test/D3_597.jpg: 640x640 1 D3_All, 7 D3_Cells, 18.3ms\n",
            "Speed: 2.9ms preprocess, 18.3ms inference, 6.1ms postprocess per image at shape (1, 3, 640, 640)\n",
            "\n"
          ]
        },
        {
          "output_type": "stream",
          "name": "stdout",
          "text": [
            "D3_629.jpg\n"
          ]
        },
        {
          "output_type": "stream",
          "name": "stderr",
          "text": [
            "image 1/1 /content/drive/MyDrive/wcs2023/hvwc23/test/D3_629.jpg: 640x640 1 D3_All, 3 D3_Cells, 11.8ms\n",
            "Speed: 2.9ms preprocess, 11.8ms inference, 4.7ms postprocess per image at shape (1, 3, 640, 640)\n",
            "\n"
          ]
        },
        {
          "output_type": "stream",
          "name": "stdout",
          "text": [
            "D3_528.jpg\n"
          ]
        },
        {
          "output_type": "stream",
          "name": "stderr",
          "text": [
            "image 1/1 /content/drive/MyDrive/wcs2023/hvwc23/test/D3_528.jpg: 640x640 1 D3_All, 5 D3_Cells, 11.8ms\n",
            "Speed: 2.8ms preprocess, 11.8ms inference, 5.4ms postprocess per image at shape (1, 3, 640, 640)\n",
            "\n"
          ]
        },
        {
          "output_type": "stream",
          "name": "stdout",
          "text": [
            "D3_324.jpg\n"
          ]
        },
        {
          "output_type": "stream",
          "name": "stderr",
          "text": [
            "image 1/1 /content/drive/MyDrive/wcs2023/hvwc23/test/D3_324.jpg: 640x640 1 D3_All, 4 D3_Cells, 11.7ms\n",
            "Speed: 2.7ms preprocess, 11.7ms inference, 5.4ms postprocess per image at shape (1, 3, 640, 640)\n",
            "\n"
          ]
        },
        {
          "output_type": "stream",
          "name": "stdout",
          "text": [
            "D3_465.jpg\n"
          ]
        },
        {
          "output_type": "stream",
          "name": "stderr",
          "text": [
            "image 1/1 /content/drive/MyDrive/wcs2023/hvwc23/test/D3_465.jpg: 640x640 1 D3_All, 2 D3_Cells, 14.5ms\n",
            "Speed: 3.1ms preprocess, 14.5ms inference, 4.6ms postprocess per image at shape (1, 3, 640, 640)\n",
            "\n"
          ]
        },
        {
          "output_type": "stream",
          "name": "stdout",
          "text": [
            "D3_007.jpg\n"
          ]
        },
        {
          "output_type": "stream",
          "name": "stderr",
          "text": [
            "image 1/1 /content/drive/MyDrive/wcs2023/hvwc23/test/D3_007.jpg: 640x640 1 D3_All, 7 D3_Cells, 11.8ms\n",
            "Speed: 2.7ms preprocess, 11.8ms inference, 6.1ms postprocess per image at shape (1, 3, 640, 640)\n",
            "\n"
          ]
        },
        {
          "output_type": "stream",
          "name": "stdout",
          "text": [
            "D3_534.jpg\n"
          ]
        },
        {
          "output_type": "stream",
          "name": "stderr",
          "text": [
            "image 1/1 /content/drive/MyDrive/wcs2023/hvwc23/test/D3_534.jpg: 640x640 1 D3_All, 18.4ms\n",
            "Speed: 3.3ms preprocess, 18.4ms inference, 4.4ms postprocess per image at shape (1, 3, 640, 640)\n",
            "\n"
          ]
        },
        {
          "output_type": "stream",
          "name": "stdout",
          "text": [
            "D3_205.jpg\n"
          ]
        },
        {
          "output_type": "stream",
          "name": "stderr",
          "text": [
            "image 1/1 /content/drive/MyDrive/wcs2023/hvwc23/test/D3_205.jpg: 640x640 1 D3_All, 12.4ms\n",
            "Speed: 2.9ms preprocess, 12.4ms inference, 3.8ms postprocess per image at shape (1, 3, 640, 640)\n",
            "\n"
          ]
        },
        {
          "output_type": "stream",
          "name": "stdout",
          "text": [
            "D3_295.jpg\n"
          ]
        },
        {
          "output_type": "stream",
          "name": "stderr",
          "text": [
            "image 1/1 /content/drive/MyDrive/wcs2023/hvwc23/test/D3_295.jpg: 640x640 1 D3_All, 7 D3_Cells, 12.1ms\n",
            "Speed: 3.0ms preprocess, 12.1ms inference, 6.2ms postprocess per image at shape (1, 3, 640, 640)\n",
            "\n"
          ]
        },
        {
          "output_type": "stream",
          "name": "stdout",
          "text": [
            "D3_689.jpg\n"
          ]
        },
        {
          "output_type": "stream",
          "name": "stderr",
          "text": [
            "image 1/1 /content/drive/MyDrive/wcs2023/hvwc23/test/D3_689.jpg: 640x640 1 D3_All, 12.3ms\n",
            "Speed: 3.0ms preprocess, 12.3ms inference, 3.9ms postprocess per image at shape (1, 3, 640, 640)\n",
            "\n"
          ]
        },
        {
          "output_type": "stream",
          "name": "stdout",
          "text": [
            "D3_194.jpg\n"
          ]
        },
        {
          "output_type": "stream",
          "name": "stderr",
          "text": [
            "image 1/1 /content/drive/MyDrive/wcs2023/hvwc23/test/D3_194.jpg: 640x640 1 D3_All, 5 D3_Cells, 12.0ms\n",
            "Speed: 3.0ms preprocess, 12.0ms inference, 5.7ms postprocess per image at shape (1, 3, 640, 640)\n",
            "\n"
          ]
        },
        {
          "output_type": "stream",
          "name": "stdout",
          "text": [
            "D3_690.jpg\n"
          ]
        },
        {
          "output_type": "stream",
          "name": "stderr",
          "text": [
            "image 1/1 /content/drive/MyDrive/wcs2023/hvwc23/test/D3_690.jpg: 640x608 1 D3_All, 3 D3_Cells, 14.5ms\n",
            "Speed: 3.1ms preprocess, 14.5ms inference, 5.7ms postprocess per image at shape (1, 3, 640, 608)\n",
            "\n"
          ]
        },
        {
          "output_type": "stream",
          "name": "stdout",
          "text": [
            "D3_665.jpg\n"
          ]
        },
        {
          "output_type": "stream",
          "name": "stderr",
          "text": [
            "image 1/1 /content/drive/MyDrive/wcs2023/hvwc23/test/D3_665.jpg: 640x640 1 D3_All, 6 D3_Cells, 15.7ms\n",
            "Speed: 3.0ms preprocess, 15.7ms inference, 6.8ms postprocess per image at shape (1, 3, 640, 640)\n",
            "\n"
          ]
        },
        {
          "output_type": "stream",
          "name": "stdout",
          "text": [
            "D3_535.jpg\n"
          ]
        },
        {
          "output_type": "stream",
          "name": "stderr",
          "text": [
            "image 1/1 /content/drive/MyDrive/wcs2023/hvwc23/test/D3_535.jpg: 640x640 1 D3_All, 3 D3_Cells, 14.2ms\n",
            "Speed: 3.1ms preprocess, 14.2ms inference, 5.8ms postprocess per image at shape (1, 3, 640, 640)\n",
            "\n"
          ]
        },
        {
          "output_type": "stream",
          "name": "stdout",
          "text": [
            "D3_343.jpg\n"
          ]
        },
        {
          "output_type": "stream",
          "name": "stderr",
          "text": [
            "image 1/1 /content/drive/MyDrive/wcs2023/hvwc23/test/D3_343.jpg: 640x640 1 D3_All, 4 D3_Cells, 17.1ms\n",
            "Speed: 3.3ms preprocess, 17.1ms inference, 6.1ms postprocess per image at shape (1, 3, 640, 640)\n",
            "\n"
          ]
        },
        {
          "output_type": "stream",
          "name": "stdout",
          "text": [
            "D3_429.jpg\n"
          ]
        },
        {
          "output_type": "stream",
          "name": "stderr",
          "text": [
            "image 1/1 /content/drive/MyDrive/wcs2023/hvwc23/test/D3_429.jpg: 640x640 1 D3_All, 9 D3_Cells, 15.9ms\n",
            "Speed: 3.4ms preprocess, 15.9ms inference, 8.2ms postprocess per image at shape (1, 3, 640, 640)\n",
            "\n"
          ]
        },
        {
          "output_type": "stream",
          "name": "stdout",
          "text": [
            "D3_040.jpg\n"
          ]
        },
        {
          "output_type": "stream",
          "name": "stderr",
          "text": [
            "image 1/1 /content/drive/MyDrive/wcs2023/hvwc23/test/D3_040.jpg: 640x640 1 D3_All, 5 D3_Cells, 14.9ms\n",
            "Speed: 3.3ms preprocess, 14.9ms inference, 6.6ms postprocess per image at shape (1, 3, 640, 640)\n",
            "\n"
          ]
        },
        {
          "output_type": "stream",
          "name": "stdout",
          "text": [
            "D3_491.jpg\n"
          ]
        },
        {
          "output_type": "stream",
          "name": "stderr",
          "text": [
            "image 1/1 /content/drive/MyDrive/wcs2023/hvwc23/test/D3_491.jpg: 640x640 1 D3_All, 5 D3_Cells, 14.1ms\n",
            "Speed: 3.2ms preprocess, 14.1ms inference, 5.7ms postprocess per image at shape (1, 3, 640, 640)\n",
            "\n"
          ]
        },
        {
          "output_type": "stream",
          "name": "stdout",
          "text": [
            "D3_708.jpg\n"
          ]
        },
        {
          "output_type": "stream",
          "name": "stderr",
          "text": [
            "image 1/1 /content/drive/MyDrive/wcs2023/hvwc23/test/D3_708.jpg: 640x640 1 D3_All, 4 D3_Cells, 14.6ms\n",
            "Speed: 3.3ms preprocess, 14.6ms inference, 5.3ms postprocess per image at shape (1, 3, 640, 640)\n",
            "\n"
          ]
        },
        {
          "output_type": "stream",
          "name": "stdout",
          "text": [
            "D3_426.jpg\n"
          ]
        },
        {
          "output_type": "stream",
          "name": "stderr",
          "text": [
            "image 1/1 /content/drive/MyDrive/wcs2023/hvwc23/test/D3_426.jpg: 640x640 1 D3_All, 5 D3_Cells, 11.6ms\n",
            "Speed: 2.9ms preprocess, 11.6ms inference, 6.1ms postprocess per image at shape (1, 3, 640, 640)\n",
            "\n"
          ]
        },
        {
          "output_type": "stream",
          "name": "stdout",
          "text": [
            "D3_716.jpg\n"
          ]
        },
        {
          "output_type": "stream",
          "name": "stderr",
          "text": [
            "image 1/1 /content/drive/MyDrive/wcs2023/hvwc23/test/D3_716.jpg: 640x640 1 D3_All, 11.9ms\n",
            "Speed: 3.0ms preprocess, 11.9ms inference, 4.0ms postprocess per image at shape (1, 3, 640, 640)\n",
            "\n"
          ]
        },
        {
          "output_type": "stream",
          "name": "stdout",
          "text": [
            "D3_078.jpg\n"
          ]
        },
        {
          "output_type": "stream",
          "name": "stderr",
          "text": [
            "image 1/1 /content/drive/MyDrive/wcs2023/hvwc23/test/D3_078.jpg: 640x640 1 D3_All, 8 D3_Cells, 11.7ms\n",
            "Speed: 2.9ms preprocess, 11.7ms inference, 6.5ms postprocess per image at shape (1, 3, 640, 640)\n",
            "\n"
          ]
        },
        {
          "output_type": "stream",
          "name": "stdout",
          "text": [
            "D3_166.jpg\n"
          ]
        },
        {
          "output_type": "stream",
          "name": "stderr",
          "text": [
            "image 1/1 /content/drive/MyDrive/wcs2023/hvwc23/test/D3_166.jpg: 640x640 1 D3_All, 3 D3_Cells, 11.7ms\n",
            "Speed: 3.1ms preprocess, 11.7ms inference, 4.8ms postprocess per image at shape (1, 3, 640, 640)\n",
            "\n"
          ]
        },
        {
          "output_type": "stream",
          "name": "stdout",
          "text": [
            "D3_240.jpg\n"
          ]
        },
        {
          "output_type": "stream",
          "name": "stderr",
          "text": [
            "image 1/1 /content/drive/MyDrive/wcs2023/hvwc23/test/D3_240.jpg: 640x640 1 D3_All, 2 D3_Cells, 11.8ms\n",
            "Speed: 2.9ms preprocess, 11.8ms inference, 4.6ms postprocess per image at shape (1, 3, 640, 640)\n",
            "\n"
          ]
        },
        {
          "output_type": "stream",
          "name": "stdout",
          "text": [
            "D3_097.jpg\n"
          ]
        },
        {
          "output_type": "stream",
          "name": "stderr",
          "text": [
            "image 1/1 /content/drive/MyDrive/wcs2023/hvwc23/test/D3_097.jpg: 640x640 1 D3_All, 4 D3_Cells, 12.2ms\n",
            "Speed: 3.0ms preprocess, 12.2ms inference, 5.6ms postprocess per image at shape (1, 3, 640, 640)\n",
            "\n"
          ]
        },
        {
          "output_type": "stream",
          "name": "stdout",
          "text": [
            "D3_761.jpg\n"
          ]
        },
        {
          "output_type": "stream",
          "name": "stderr",
          "text": [
            "image 1/1 /content/drive/MyDrive/wcs2023/hvwc23/test/D3_761.jpg: 640x640 1 D3_All, 1 D3_Cell, 11.7ms\n",
            "Speed: 2.6ms preprocess, 11.7ms inference, 4.2ms postprocess per image at shape (1, 3, 640, 640)\n",
            "\n"
          ]
        },
        {
          "output_type": "stream",
          "name": "stdout",
          "text": [
            "D3_068.jpg\n"
          ]
        },
        {
          "output_type": "stream",
          "name": "stderr",
          "text": [
            "image 1/1 /content/drive/MyDrive/wcs2023/hvwc23/test/D3_068.jpg: 640x640 1 D3_All, 3 D3_Cells, 11.9ms\n",
            "Speed: 2.3ms preprocess, 11.9ms inference, 4.8ms postprocess per image at shape (1, 3, 640, 640)\n",
            "\n"
          ]
        },
        {
          "output_type": "stream",
          "name": "stdout",
          "text": [
            "D3_169.jpg\n"
          ]
        },
        {
          "output_type": "stream",
          "name": "stderr",
          "text": [
            "image 1/1 /content/drive/MyDrive/wcs2023/hvwc23/test/D3_169.jpg: 640x640 1 D3_All, 5 D3_Cells, 16.2ms\n",
            "Speed: 2.8ms preprocess, 16.2ms inference, 5.5ms postprocess per image at shape (1, 3, 640, 640)\n",
            "\n"
          ]
        },
        {
          "output_type": "stream",
          "name": "stdout",
          "text": [
            "D3_045.jpg\n"
          ]
        },
        {
          "output_type": "stream",
          "name": "stderr",
          "text": [
            "image 1/1 /content/drive/MyDrive/wcs2023/hvwc23/test/D3_045.jpg: 608x640 1 D3_All, 3 D3_Cells, 12.6ms\n",
            "Speed: 2.5ms preprocess, 12.6ms inference, 4.7ms postprocess per image at shape (1, 3, 608, 640)\n",
            "\n"
          ]
        },
        {
          "output_type": "stream",
          "name": "stdout",
          "text": [
            "D3_297.jpg\n"
          ]
        },
        {
          "output_type": "stream",
          "name": "stderr",
          "text": [
            "image 1/1 /content/drive/MyDrive/wcs2023/hvwc23/test/D3_297.jpg: 640x640 1 D3_All, 5 D3_Cells, 12.6ms\n",
            "Speed: 2.9ms preprocess, 12.6ms inference, 5.4ms postprocess per image at shape (1, 3, 640, 640)\n",
            "\n"
          ]
        },
        {
          "output_type": "stream",
          "name": "stdout",
          "text": [
            "D3_378.jpg\n"
          ]
        },
        {
          "output_type": "stream",
          "name": "stderr",
          "text": [
            "image 1/1 /content/drive/MyDrive/wcs2023/hvwc23/test/D3_378.jpg: 640x640 1 D3_All, 5 D3_Cells, 11.8ms\n",
            "Speed: 2.3ms preprocess, 11.8ms inference, 5.5ms postprocess per image at shape (1, 3, 640, 640)\n",
            "\n"
          ]
        },
        {
          "output_type": "stream",
          "name": "stdout",
          "text": [
            "D3_149.jpg\n"
          ]
        },
        {
          "output_type": "stream",
          "name": "stderr",
          "text": [
            "image 1/1 /content/drive/MyDrive/wcs2023/hvwc23/test/D3_149.jpg: 640x640 1 D3_All, 4 D3_Cells, 11.5ms\n",
            "Speed: 3.0ms preprocess, 11.5ms inference, 5.1ms postprocess per image at shape (1, 3, 640, 640)\n",
            "\n"
          ]
        },
        {
          "output_type": "stream",
          "name": "stdout",
          "text": [
            "D3_796.jpg\n"
          ]
        },
        {
          "output_type": "stream",
          "name": "stderr",
          "text": [
            "image 1/1 /content/drive/MyDrive/wcs2023/hvwc23/test/D3_796.jpg: 640x640 1 D3_All, 6 D3_Cells, 13.4ms\n",
            "Speed: 2.8ms preprocess, 13.4ms inference, 6.8ms postprocess per image at shape (1, 3, 640, 640)\n",
            "\n"
          ]
        },
        {
          "output_type": "stream",
          "name": "stdout",
          "text": [
            "D3_074.jpg\n"
          ]
        },
        {
          "output_type": "stream",
          "name": "stderr",
          "text": [
            "image 1/1 /content/drive/MyDrive/wcs2023/hvwc23/test/D3_074.jpg: 640x640 1 D3_All, 2 D3_Cells, 20.1ms\n",
            "Speed: 2.8ms preprocess, 20.1ms inference, 5.5ms postprocess per image at shape (1, 3, 640, 640)\n",
            "\n"
          ]
        },
        {
          "output_type": "stream",
          "name": "stdout",
          "text": [
            "D3_303.jpg\n"
          ]
        },
        {
          "output_type": "stream",
          "name": "stderr",
          "text": [
            "image 1/1 /content/drive/MyDrive/wcs2023/hvwc23/test/D3_303.jpg: 640x640 1 D3_All, 6 D3_Cells, 20.6ms\n",
            "Speed: 3.0ms preprocess, 20.6ms inference, 5.7ms postprocess per image at shape (1, 3, 640, 640)\n",
            "\n"
          ]
        },
        {
          "output_type": "stream",
          "name": "stdout",
          "text": [
            "D3_091.jpg\n"
          ]
        },
        {
          "output_type": "stream",
          "name": "stderr",
          "text": [
            "image 1/1 /content/drive/MyDrive/wcs2023/hvwc23/test/D3_091.jpg: 640x640 1 D3_All, 4 D3_Cells, 13.9ms\n",
            "Speed: 2.9ms preprocess, 13.9ms inference, 5.5ms postprocess per image at shape (1, 3, 640, 640)\n",
            "\n"
          ]
        },
        {
          "output_type": "stream",
          "name": "stdout",
          "text": [
            "D3_731.jpg\n"
          ]
        },
        {
          "output_type": "stream",
          "name": "stderr",
          "text": [
            "image 1/1 /content/drive/MyDrive/wcs2023/hvwc23/test/D3_731.jpg: 640x640 1 D3_All, 6 D3_Cells, 12.8ms\n",
            "Speed: 2.9ms preprocess, 12.8ms inference, 5.9ms postprocess per image at shape (1, 3, 640, 640)\n",
            "\n"
          ]
        },
        {
          "output_type": "stream",
          "name": "stdout",
          "text": [
            "D3_307.jpg\n"
          ]
        },
        {
          "output_type": "stream",
          "name": "stderr",
          "text": [
            "image 1/1 /content/drive/MyDrive/wcs2023/hvwc23/test/D3_307.jpg: 640x640 2 D3_Alls, 5 D3_Cells, 12.2ms\n",
            "Speed: 2.9ms preprocess, 12.2ms inference, 5.9ms postprocess per image at shape (1, 3, 640, 640)\n",
            "\n"
          ]
        },
        {
          "output_type": "stream",
          "name": "stdout",
          "text": [
            "D3_337.jpg\n"
          ]
        },
        {
          "output_type": "stream",
          "name": "stderr",
          "text": [
            "image 1/1 /content/drive/MyDrive/wcs2023/hvwc23/test/D3_337.jpg: 640x640 1 D3_All, 6 D3_Cells, 13.4ms\n",
            "Speed: 2.8ms preprocess, 13.4ms inference, 5.8ms postprocess per image at shape (1, 3, 640, 640)\n",
            "\n"
          ]
        },
        {
          "output_type": "stream",
          "name": "stdout",
          "text": [
            "D3_765.jpg\n"
          ]
        },
        {
          "output_type": "stream",
          "name": "stderr",
          "text": [
            "image 1/1 /content/drive/MyDrive/wcs2023/hvwc23/test/D3_765.jpg: 640x640 1 D3_All, 12.1ms\n",
            "Speed: 2.7ms preprocess, 12.1ms inference, 3.8ms postprocess per image at shape (1, 3, 640, 640)\n",
            "\n"
          ]
        },
        {
          "output_type": "stream",
          "name": "stdout",
          "text": [
            "D3_266.jpg\n"
          ]
        },
        {
          "output_type": "stream",
          "name": "stderr",
          "text": [
            "image 1/1 /content/drive/MyDrive/wcs2023/hvwc23/test/D3_266.jpg: 640x640 1 D3_All, 5 D3_Cells, 18.1ms\n",
            "Speed: 3.4ms preprocess, 18.1ms inference, 5.5ms postprocess per image at shape (1, 3, 640, 640)\n",
            "\n"
          ]
        },
        {
          "output_type": "stream",
          "name": "stdout",
          "text": [
            "D3_791.jpg\n"
          ]
        },
        {
          "output_type": "stream",
          "name": "stderr",
          "text": [
            "image 1/1 /content/drive/MyDrive/wcs2023/hvwc23/test/D3_791.jpg: 640x640 1 D3_All, 15.5ms\n",
            "Speed: 2.4ms preprocess, 15.5ms inference, 5.5ms postprocess per image at shape (1, 3, 640, 640)\n",
            "\n"
          ]
        },
        {
          "output_type": "stream",
          "name": "stdout",
          "text": [
            "D3_214.jpg\n"
          ]
        },
        {
          "output_type": "stream",
          "name": "stderr",
          "text": [
            "image 1/1 /content/drive/MyDrive/wcs2023/hvwc23/test/D3_214.jpg: 640x640 1 D3_All, 4 D3_Cells, 14.5ms\n",
            "Speed: 3.5ms preprocess, 14.5ms inference, 6.3ms postprocess per image at shape (1, 3, 640, 640)\n",
            "\n"
          ]
        },
        {
          "output_type": "stream",
          "name": "stdout",
          "text": [
            "D3_555.jpg\n"
          ]
        },
        {
          "output_type": "stream",
          "name": "stderr",
          "text": [
            "image 1/1 /content/drive/MyDrive/wcs2023/hvwc23/test/D3_555.jpg: 608x640 1 D3_All, 5 D3_Cells, 15.4ms\n",
            "Speed: 3.4ms preprocess, 15.4ms inference, 6.6ms postprocess per image at shape (1, 3, 608, 640)\n",
            "\n"
          ]
        },
        {
          "output_type": "stream",
          "name": "stdout",
          "text": [
            "D3_604.jpg\n"
          ]
        },
        {
          "output_type": "stream",
          "name": "stderr",
          "text": [
            "image 1/1 /content/drive/MyDrive/wcs2023/hvwc23/test/D3_604.jpg: 640x640 1 D3_All, 4 D3_Cells, 17.1ms\n",
            "Speed: 3.3ms preprocess, 17.1ms inference, 7.5ms postprocess per image at shape (1, 3, 640, 640)\n",
            "\n"
          ]
        },
        {
          "output_type": "stream",
          "name": "stdout",
          "text": [
            "D3_451.jpg\n"
          ]
        },
        {
          "output_type": "stream",
          "name": "stderr",
          "text": [
            "image 1/1 /content/drive/MyDrive/wcs2023/hvwc23/test/D3_451.jpg: 640x640 1 D3_All, 5 D3_Cells, 17.6ms\n",
            "Speed: 3.5ms preprocess, 17.6ms inference, 6.5ms postprocess per image at shape (1, 3, 640, 640)\n",
            "\n"
          ]
        },
        {
          "output_type": "stream",
          "name": "stdout",
          "text": [
            "D3_136.jpg\n"
          ]
        },
        {
          "output_type": "stream",
          "name": "stderr",
          "text": [
            "image 1/1 /content/drive/MyDrive/wcs2023/hvwc23/test/D3_136.jpg: 640x640 1 D3_All, 7 D3_Cells, 16.2ms\n",
            "Speed: 3.0ms preprocess, 16.2ms inference, 7.2ms postprocess per image at shape (1, 3, 640, 640)\n",
            "\n"
          ]
        },
        {
          "output_type": "stream",
          "name": "stdout",
          "text": [
            "D3_441.jpg\n"
          ]
        },
        {
          "output_type": "stream",
          "name": "stderr",
          "text": [
            "image 1/1 /content/drive/MyDrive/wcs2023/hvwc23/test/D3_441.jpg: 640x640 1 D3_All, 7 D3_Cells, 14.0ms\n",
            "Speed: 3.3ms preprocess, 14.0ms inference, 7.4ms postprocess per image at shape (1, 3, 640, 640)\n",
            "\n"
          ]
        },
        {
          "output_type": "stream",
          "name": "stdout",
          "text": [
            "D3_199.jpg\n"
          ]
        },
        {
          "output_type": "stream",
          "name": "stderr",
          "text": [
            "image 1/1 /content/drive/MyDrive/wcs2023/hvwc23/test/D3_199.jpg: 640x640 1 D3_All, 5 D3_Cells, 19.5ms\n",
            "Speed: 3.1ms preprocess, 19.5ms inference, 6.3ms postprocess per image at shape (1, 3, 640, 640)\n",
            "\n"
          ]
        },
        {
          "output_type": "stream",
          "name": "stdout",
          "text": [
            "D3_605.jpg\n"
          ]
        },
        {
          "output_type": "stream",
          "name": "stderr",
          "text": [
            "image 1/1 /content/drive/MyDrive/wcs2023/hvwc23/test/D3_605.jpg: 640x640 1 D3_All, 8 D3_Cells, 12.6ms\n",
            "Speed: 3.1ms preprocess, 12.6ms inference, 6.6ms postprocess per image at shape (1, 3, 640, 640)\n",
            "\n"
          ]
        },
        {
          "output_type": "stream",
          "name": "stdout",
          "text": [
            "D3_362.jpg\n"
          ]
        },
        {
          "output_type": "stream",
          "name": "stderr",
          "text": [
            "image 1/1 /content/drive/MyDrive/wcs2023/hvwc23/test/D3_362.jpg: 640x640 1 D3_All, 6 D3_Cells, 11.6ms\n",
            "Speed: 2.6ms preprocess, 11.6ms inference, 5.7ms postprocess per image at shape (1, 3, 640, 640)\n",
            "\n"
          ]
        },
        {
          "output_type": "stream",
          "name": "stdout",
          "text": [
            "D3_530.jpg\n"
          ]
        },
        {
          "output_type": "stream",
          "name": "stderr",
          "text": [
            "image 1/1 /content/drive/MyDrive/wcs2023/hvwc23/test/D3_530.jpg: 640x640 1 D3_All, 1 D3_Cell, 11.8ms\n",
            "Speed: 2.6ms preprocess, 11.8ms inference, 4.5ms postprocess per image at shape (1, 3, 640, 640)\n",
            "\n"
          ]
        },
        {
          "output_type": "stream",
          "name": "stdout",
          "text": [
            "D3_334.jpg\n"
          ]
        },
        {
          "output_type": "stream",
          "name": "stderr",
          "text": [
            "image 1/1 /content/drive/MyDrive/wcs2023/hvwc23/test/D3_334.jpg: 640x640 1 D3_All, 12 D3_Cells, 11.7ms\n",
            "Speed: 2.7ms preprocess, 11.7ms inference, 7.8ms postprocess per image at shape (1, 3, 640, 640)\n",
            "\n"
          ]
        },
        {
          "output_type": "stream",
          "name": "stdout",
          "text": [
            "D3_518.jpg\n"
          ]
        },
        {
          "output_type": "stream",
          "name": "stderr",
          "text": [
            "image 1/1 /content/drive/MyDrive/wcs2023/hvwc23/test/D3_518.jpg: 640x640 1 D3_All, 4 D3_Cells, 12.8ms\n",
            "Speed: 3.6ms preprocess, 12.8ms inference, 5.2ms postprocess per image at shape (1, 3, 640, 640)\n",
            "\n"
          ]
        },
        {
          "output_type": "stream",
          "name": "stdout",
          "text": [
            "D3_265.jpg\n"
          ]
        },
        {
          "output_type": "stream",
          "name": "stderr",
          "text": [
            "image 1/1 /content/drive/MyDrive/wcs2023/hvwc23/test/D3_265.jpg: 640x640 1 D3_All, 7 D3_Cells, 11.9ms\n",
            "Speed: 2.8ms preprocess, 11.9ms inference, 6.2ms postprocess per image at shape (1, 3, 640, 640)\n",
            "\n"
          ]
        },
        {
          "output_type": "stream",
          "name": "stdout",
          "text": [
            "D3_146.jpg\n"
          ]
        },
        {
          "output_type": "stream",
          "name": "stderr",
          "text": [
            "image 1/1 /content/drive/MyDrive/wcs2023/hvwc23/test/D3_146.jpg: 640x640 1 D3_All, 5 D3_Cells, 19.1ms\n",
            "Speed: 2.8ms preprocess, 19.1ms inference, 6.0ms postprocess per image at shape (1, 3, 640, 640)\n",
            "\n"
          ]
        },
        {
          "output_type": "stream",
          "name": "stdout",
          "text": [
            "D3_632.jpg\n"
          ]
        },
        {
          "output_type": "stream",
          "name": "stderr",
          "text": [
            "image 1/1 /content/drive/MyDrive/wcs2023/hvwc23/test/D3_632.jpg: 640x640 1 D3_All, 4 D3_Cells, 11.6ms\n",
            "Speed: 2.7ms preprocess, 11.6ms inference, 5.5ms postprocess per image at shape (1, 3, 640, 640)\n",
            "\n"
          ]
        },
        {
          "output_type": "stream",
          "name": "stdout",
          "text": [
            "D3_437.jpg\n"
          ]
        },
        {
          "output_type": "stream",
          "name": "stderr",
          "text": [
            "image 1/1 /content/drive/MyDrive/wcs2023/hvwc23/test/D3_437.jpg: 640x640 1 D3_All, 4 D3_Cells, 13.6ms\n",
            "Speed: 2.9ms preprocess, 13.6ms inference, 5.2ms postprocess per image at shape (1, 3, 640, 640)\n",
            "\n"
          ]
        },
        {
          "output_type": "stream",
          "name": "stdout",
          "text": [
            "D3_657.jpg\n"
          ]
        },
        {
          "output_type": "stream",
          "name": "stderr",
          "text": [
            "image 1/1 /content/drive/MyDrive/wcs2023/hvwc23/test/D3_657.jpg: 608x640 1 D3_All, 5 D3_Cells, 12.3ms\n",
            "Speed: 2.6ms preprocess, 12.3ms inference, 5.2ms postprocess per image at shape (1, 3, 608, 640)\n",
            "\n"
          ]
        },
        {
          "output_type": "stream",
          "name": "stdout",
          "text": [
            "D3_399.jpg\n"
          ]
        },
        {
          "output_type": "stream",
          "name": "stderr",
          "text": [
            "image 1/1 /content/drive/MyDrive/wcs2023/hvwc23/test/D3_399.jpg: 640x640 1 D3_All, 3 D3_Cells, 12.9ms\n",
            "Speed: 2.8ms preprocess, 12.9ms inference, 5.1ms postprocess per image at shape (1, 3, 640, 640)\n",
            "\n"
          ]
        },
        {
          "output_type": "stream",
          "name": "stdout",
          "text": [
            "D3_745.jpg\n"
          ]
        },
        {
          "output_type": "stream",
          "name": "stderr",
          "text": [
            "image 1/1 /content/drive/MyDrive/wcs2023/hvwc23/test/D3_745.jpg: 640x640 1 D3_All, 11.9ms\n",
            "Speed: 2.8ms preprocess, 11.9ms inference, 3.8ms postprocess per image at shape (1, 3, 640, 640)\n",
            "\n"
          ]
        },
        {
          "output_type": "stream",
          "name": "stdout",
          "text": [
            "D3_474.jpg\n"
          ]
        },
        {
          "output_type": "stream",
          "name": "stderr",
          "text": [
            "image 1/1 /content/drive/MyDrive/wcs2023/hvwc23/test/D3_474.jpg: 640x640 1 D3_All, 3 D3_Cells, 11.6ms\n",
            "Speed: 2.9ms preprocess, 11.6ms inference, 4.9ms postprocess per image at shape (1, 3, 640, 640)\n",
            "\n"
          ]
        },
        {
          "output_type": "stream",
          "name": "stdout",
          "text": [
            "D3_668.jpg\n"
          ]
        },
        {
          "output_type": "stream",
          "name": "stderr",
          "text": [
            "image 1/1 /content/drive/MyDrive/wcs2023/hvwc23/test/D3_668.jpg: 640x640 1 D3_All, 5 D3_Cells, 12.1ms\n",
            "Speed: 2.9ms preprocess, 12.1ms inference, 5.4ms postprocess per image at shape (1, 3, 640, 640)\n",
            "\n"
          ]
        },
        {
          "output_type": "stream",
          "name": "stdout",
          "text": [
            "D3_667.jpg\n"
          ]
        },
        {
          "output_type": "stream",
          "name": "stderr",
          "text": [
            "image 1/1 /content/drive/MyDrive/wcs2023/hvwc23/test/D3_667.jpg: 640x640 1 D3_All, 7 D3_Cells, 11.7ms\n",
            "Speed: 2.9ms preprocess, 11.7ms inference, 6.6ms postprocess per image at shape (1, 3, 640, 640)\n",
            "\n"
          ]
        },
        {
          "output_type": "stream",
          "name": "stdout",
          "text": [
            "D3_538.jpg\n"
          ]
        },
        {
          "output_type": "stream",
          "name": "stderr",
          "text": [
            "image 1/1 /content/drive/MyDrive/wcs2023/hvwc23/test/D3_538.jpg: 640x640 1 D3_All, 15.5ms\n",
            "Speed: 2.9ms preprocess, 15.5ms inference, 4.2ms postprocess per image at shape (1, 3, 640, 640)\n",
            "\n"
          ]
        },
        {
          "output_type": "stream",
          "name": "stdout",
          "text": [
            "D3_663.jpg\n"
          ]
        },
        {
          "output_type": "stream",
          "name": "stderr",
          "text": [
            "image 1/1 /content/drive/MyDrive/wcs2023/hvwc23/test/D3_663.jpg: 640x608 1 D3_All, 4 D3_Cells, 12.8ms\n",
            "Speed: 2.7ms preprocess, 12.8ms inference, 5.0ms postprocess per image at shape (1, 3, 640, 608)\n",
            "\n"
          ]
        },
        {
          "output_type": "stream",
          "name": "stdout",
          "text": [
            "D3_003.jpg\n"
          ]
        },
        {
          "output_type": "stream",
          "name": "stderr",
          "text": [
            "image 1/1 /content/drive/MyDrive/wcs2023/hvwc23/test/D3_003.jpg: 640x640 1 D3_All, 8 D3_Cells, 12.8ms\n",
            "Speed: 2.9ms preprocess, 12.8ms inference, 6.4ms postprocess per image at shape (1, 3, 640, 640)\n",
            "\n"
          ]
        },
        {
          "output_type": "stream",
          "name": "stdout",
          "text": [
            "D3_121.jpg\n"
          ]
        },
        {
          "output_type": "stream",
          "name": "stderr",
          "text": [
            "image 1/1 /content/drive/MyDrive/wcs2023/hvwc23/test/D3_121.jpg: 640x640 1 D3_All, 13.1ms\n",
            "Speed: 3.4ms preprocess, 13.1ms inference, 3.7ms postprocess per image at shape (1, 3, 640, 640)\n",
            "\n"
          ]
        },
        {
          "output_type": "stream",
          "name": "stdout",
          "text": [
            "D3_751.jpg\n"
          ]
        },
        {
          "output_type": "stream",
          "name": "stderr",
          "text": [
            "image 1/1 /content/drive/MyDrive/wcs2023/hvwc23/test/D3_751.jpg: 640x640 1 D3_All, 5 D3_Cells, 12.0ms\n",
            "Speed: 3.0ms preprocess, 12.0ms inference, 5.5ms postprocess per image at shape (1, 3, 640, 640)\n",
            "\n"
          ]
        },
        {
          "output_type": "stream",
          "name": "stdout",
          "text": [
            "D3_522.jpg\n"
          ]
        },
        {
          "output_type": "stream",
          "name": "stderr",
          "text": [
            "image 1/1 /content/drive/MyDrive/wcs2023/hvwc23/test/D3_522.jpg: 640x640 1 D3_All, 12.4ms\n",
            "Speed: 2.8ms preprocess, 12.4ms inference, 3.8ms postprocess per image at shape (1, 3, 640, 640)\n",
            "\n"
          ]
        },
        {
          "output_type": "stream",
          "name": "stdout",
          "text": [
            "D3_276.jpg\n"
          ]
        },
        {
          "output_type": "stream",
          "name": "stderr",
          "text": [
            "image 1/1 /content/drive/MyDrive/wcs2023/hvwc23/test/D3_276.jpg: 640x640 1 D3_All, 11.5ms\n",
            "Speed: 2.3ms preprocess, 11.5ms inference, 4.3ms postprocess per image at shape (1, 3, 640, 640)\n",
            "\n"
          ]
        },
        {
          "output_type": "stream",
          "name": "stdout",
          "text": [
            "D3_070.jpg\n"
          ]
        },
        {
          "output_type": "stream",
          "name": "stderr",
          "text": [
            "image 1/1 /content/drive/MyDrive/wcs2023/hvwc23/test/D3_070.jpg: 640x640 1 D3_All, 5 D3_Cells, 13.0ms\n",
            "Speed: 2.8ms preprocess, 13.0ms inference, 5.4ms postprocess per image at shape (1, 3, 640, 640)\n",
            "\n"
          ]
        },
        {
          "output_type": "stream",
          "name": "stdout",
          "text": [
            "D3_032.jpg\n"
          ]
        },
        {
          "output_type": "stream",
          "name": "stderr",
          "text": [
            "image 1/1 /content/drive/MyDrive/wcs2023/hvwc23/test/D3_032.jpg: 640x640 1 D3_All, 7 D3_Cells, 12.0ms\n",
            "Speed: 2.8ms preprocess, 12.0ms inference, 6.0ms postprocess per image at shape (1, 3, 640, 640)\n",
            "\n"
          ]
        },
        {
          "output_type": "stream",
          "name": "stdout",
          "text": [
            "D3_165.jpg\n"
          ]
        },
        {
          "output_type": "stream",
          "name": "stderr",
          "text": [
            "image 1/1 /content/drive/MyDrive/wcs2023/hvwc23/test/D3_165.jpg: 640x640 1 D3_All, 4 D3_Cells, 21.7ms\n",
            "Speed: 3.2ms preprocess, 21.7ms inference, 6.3ms postprocess per image at shape (1, 3, 640, 640)\n",
            "\n"
          ]
        },
        {
          "output_type": "stream",
          "name": "stdout",
          "text": [
            "D3_762.jpg\n"
          ]
        },
        {
          "output_type": "stream",
          "name": "stderr",
          "text": [
            "image 1/1 /content/drive/MyDrive/wcs2023/hvwc23/test/D3_762.jpg: 608x640 1 D3_All, 3 D3_Cells, 20.5ms\n",
            "Speed: 3.2ms preprocess, 20.5ms inference, 6.5ms postprocess per image at shape (1, 3, 608, 640)\n",
            "\n"
          ]
        },
        {
          "output_type": "stream",
          "name": "stdout",
          "text": [
            "D3_389.jpg\n"
          ]
        },
        {
          "output_type": "stream",
          "name": "stderr",
          "text": [
            "image 1/1 /content/drive/MyDrive/wcs2023/hvwc23/test/D3_389.jpg: 640x640 1 D3_All, 9 D3_Cells, 14.7ms\n",
            "Speed: 3.2ms preprocess, 14.7ms inference, 7.7ms postprocess per image at shape (1, 3, 640, 640)\n",
            "\n"
          ]
        },
        {
          "output_type": "stream",
          "name": "stdout",
          "text": [
            "D3_376.jpg\n"
          ]
        },
        {
          "output_type": "stream",
          "name": "stderr",
          "text": [
            "image 1/1 /content/drive/MyDrive/wcs2023/hvwc23/test/D3_376.jpg: 640x640 1 D3_All, 6 D3_Cells, 14.1ms\n",
            "Speed: 3.7ms preprocess, 14.1ms inference, 6.8ms postprocess per image at shape (1, 3, 640, 640)\n",
            "\n"
          ]
        },
        {
          "output_type": "stream",
          "name": "stdout",
          "text": [
            "D3_659.jpg\n"
          ]
        },
        {
          "output_type": "stream",
          "name": "stderr",
          "text": [
            "image 1/1 /content/drive/MyDrive/wcs2023/hvwc23/test/D3_659.jpg: 608x640 1 D3_All, 4 D3_Cells, 16.3ms\n",
            "Speed: 2.6ms preprocess, 16.3ms inference, 6.0ms postprocess per image at shape (1, 3, 608, 640)\n",
            "\n"
          ]
        },
        {
          "output_type": "stream",
          "name": "stdout",
          "text": [
            "D3_432.jpg\n"
          ]
        },
        {
          "output_type": "stream",
          "name": "stderr",
          "text": [
            "image 1/1 /content/drive/MyDrive/wcs2023/hvwc23/test/D3_432.jpg: 640x640 1 D3_All, 7 D3_Cells, 15.0ms\n",
            "Speed: 3.0ms preprocess, 15.0ms inference, 7.1ms postprocess per image at shape (1, 3, 640, 640)\n",
            "\n"
          ]
        },
        {
          "output_type": "stream",
          "name": "stdout",
          "text": [
            "D3_193.jpg\n"
          ]
        },
        {
          "output_type": "stream",
          "name": "stderr",
          "text": [
            "image 1/1 /content/drive/MyDrive/wcs2023/hvwc23/test/D3_193.jpg: 640x640 1 D3_All, 5 D3_Cells, 18.7ms\n",
            "Speed: 3.1ms preprocess, 18.7ms inference, 6.4ms postprocess per image at shape (1, 3, 640, 640)\n",
            "\n"
          ]
        },
        {
          "output_type": "stream",
          "name": "stdout",
          "text": [
            "D3_353.jpg\n"
          ]
        },
        {
          "output_type": "stream",
          "name": "stderr",
          "text": [
            "image 1/1 /content/drive/MyDrive/wcs2023/hvwc23/test/D3_353.jpg: 640x640 1 D3_All, 6 D3_Cells, 20.3ms\n",
            "Speed: 3.0ms preprocess, 20.3ms inference, 7.2ms postprocess per image at shape (1, 3, 640, 640)\n",
            "\n"
          ]
        },
        {
          "output_type": "stream",
          "name": "stdout",
          "text": [
            "D3_328.jpg\n"
          ]
        },
        {
          "output_type": "stream",
          "name": "stderr",
          "text": [
            "image 1/1 /content/drive/MyDrive/wcs2023/hvwc23/test/D3_328.jpg: 608x640 1 D3_All, 4 D3_Cells, 13.1ms\n",
            "Speed: 2.5ms preprocess, 13.1ms inference, 5.2ms postprocess per image at shape (1, 3, 608, 640)\n",
            "\n"
          ]
        },
        {
          "output_type": "stream",
          "name": "stdout",
          "text": [
            "D3_282.jpg\n"
          ]
        },
        {
          "output_type": "stream",
          "name": "stderr",
          "text": [
            "image 1/1 /content/drive/MyDrive/wcs2023/hvwc23/test/D3_282.jpg: 640x640 1 D3_All, 12.9ms\n",
            "Speed: 2.9ms preprocess, 12.9ms inference, 3.7ms postprocess per image at shape (1, 3, 640, 640)\n",
            "\n"
          ]
        },
        {
          "output_type": "stream",
          "name": "stdout",
          "text": [
            "D3_583.jpg\n"
          ]
        },
        {
          "output_type": "stream",
          "name": "stderr",
          "text": [
            "image 1/1 /content/drive/MyDrive/wcs2023/hvwc23/test/D3_583.jpg: 608x640 1 D3_All, 7 D3_Cells, 13.2ms\n",
            "Speed: 2.5ms preprocess, 13.2ms inference, 6.1ms postprocess per image at shape (1, 3, 608, 640)\n",
            "\n"
          ]
        },
        {
          "output_type": "stream",
          "name": "stdout",
          "text": [
            "D3_098.jpg\n"
          ]
        },
        {
          "output_type": "stream",
          "name": "stderr",
          "text": [
            "image 1/1 /content/drive/MyDrive/wcs2023/hvwc23/test/D3_098.jpg: 640x640 1 D3_All, 12.7ms\n",
            "Speed: 2.8ms preprocess, 12.7ms inference, 3.7ms postprocess per image at shape (1, 3, 640, 640)\n",
            "\n"
          ]
        },
        {
          "output_type": "stream",
          "name": "stdout",
          "text": [
            "D5_251.jpg\n"
          ]
        },
        {
          "output_type": "stream",
          "name": "stderr",
          "text": [
            "image 1/1 /content/drive/MyDrive/wcs2023/hvwc23/test/D5_251.jpg: 640x640 1 D5_NG, 12.0ms\n",
            "Speed: 2.9ms preprocess, 12.0ms inference, 3.8ms postprocess per image at shape (1, 3, 640, 640)\n",
            "\n"
          ]
        },
        {
          "output_type": "stream",
          "name": "stdout",
          "text": [
            "D5_226.jpg\n"
          ]
        },
        {
          "output_type": "stream",
          "name": "stderr",
          "text": [
            "image 1/1 /content/drive/MyDrive/wcs2023/hvwc23/test/D5_226.jpg: 640x640 1 D5_NG, 1 D5_OK, 14.3ms\n",
            "Speed: 3.0ms preprocess, 14.3ms inference, 4.2ms postprocess per image at shape (1, 3, 640, 640)\n",
            "\n"
          ]
        },
        {
          "output_type": "stream",
          "name": "stdout",
          "text": [
            "D5_386.jpg\n"
          ]
        },
        {
          "output_type": "stream",
          "name": "stderr",
          "text": [
            "image 1/1 /content/drive/MyDrive/wcs2023/hvwc23/test/D5_386.jpg: 640x640 1 D5_Core, 2 D5_NGs, 11.8ms\n",
            "Speed: 2.9ms preprocess, 11.8ms inference, 4.5ms postprocess per image at shape (1, 3, 640, 640)\n",
            "\n"
          ]
        },
        {
          "output_type": "stream",
          "name": "stdout",
          "text": [
            "D5_315.jpg\n"
          ]
        },
        {
          "output_type": "stream",
          "name": "stderr",
          "text": [
            "image 1/1 /content/drive/MyDrive/wcs2023/hvwc23/test/D5_315.jpg: 640x640 1 D5_NG, 13.9ms\n",
            "Speed: 2.7ms preprocess, 13.9ms inference, 4.2ms postprocess per image at shape (1, 3, 640, 640)\n",
            "\n"
          ]
        },
        {
          "output_type": "stream",
          "name": "stdout",
          "text": [
            "D5_248.jpg\n"
          ]
        },
        {
          "output_type": "stream",
          "name": "stderr",
          "text": [
            "image 1/1 /content/drive/MyDrive/wcs2023/hvwc23/test/D5_248.jpg: 640x640 1 D5_OK, 1 D5_TE, 12.1ms\n",
            "Speed: 3.0ms preprocess, 12.1ms inference, 4.2ms postprocess per image at shape (1, 3, 640, 640)\n",
            "\n"
          ]
        },
        {
          "output_type": "stream",
          "name": "stdout",
          "text": [
            "D5_267.jpg\n"
          ]
        },
        {
          "output_type": "stream",
          "name": "stderr",
          "text": [
            "image 1/1 /content/drive/MyDrive/wcs2023/hvwc23/test/D5_267.jpg: 640x640 1 D5_NG, 13.8ms\n",
            "Speed: 2.8ms preprocess, 13.8ms inference, 3.8ms postprocess per image at shape (1, 3, 640, 640)\n",
            "\n"
          ]
        },
        {
          "output_type": "stream",
          "name": "stdout",
          "text": [
            "D5_073.jpg\n"
          ]
        },
        {
          "output_type": "stream",
          "name": "stderr",
          "text": [
            "image 1/1 /content/drive/MyDrive/wcs2023/hvwc23/test/D5_073.jpg: 640x640 1 D5_NG, 1 D5_TE, 12.6ms\n",
            "Speed: 3.2ms preprocess, 12.6ms inference, 4.4ms postprocess per image at shape (1, 3, 640, 640)\n",
            "\n"
          ]
        },
        {
          "output_type": "stream",
          "name": "stdout",
          "text": [
            "D5_275.jpg\n"
          ]
        },
        {
          "output_type": "stream",
          "name": "stderr",
          "text": [
            "image 1/1 /content/drive/MyDrive/wcs2023/hvwc23/test/D5_275.jpg: 640x640 1 D5_Core, 1 D5_NG, 1 D5_OK, 1 D5_TE, 13.0ms\n",
            "Speed: 3.2ms preprocess, 13.0ms inference, 5.7ms postprocess per image at shape (1, 3, 640, 640)\n",
            "\n"
          ]
        },
        {
          "output_type": "stream",
          "name": "stdout",
          "text": [
            "D5_211.jpg\n"
          ]
        },
        {
          "output_type": "stream",
          "name": "stderr",
          "text": [
            "image 1/1 /content/drive/MyDrive/wcs2023/hvwc23/test/D5_211.jpg: 640x640 1 D5_NG, 11.8ms\n",
            "Speed: 2.7ms preprocess, 11.8ms inference, 3.9ms postprocess per image at shape (1, 3, 640, 640)\n",
            "\n"
          ]
        },
        {
          "output_type": "stream",
          "name": "stdout",
          "text": [
            "D5_377.jpg\n"
          ]
        },
        {
          "output_type": "stream",
          "name": "stderr",
          "text": [
            "image 1/1 /content/drive/MyDrive/wcs2023/hvwc23/test/D5_377.jpg: 640x640 1 D5_NG, 12.1ms\n",
            "Speed: 3.1ms preprocess, 12.1ms inference, 4.4ms postprocess per image at shape (1, 3, 640, 640)\n",
            "\n"
          ]
        },
        {
          "output_type": "stream",
          "name": "stdout",
          "text": [
            "D5_159.jpg\n"
          ]
        },
        {
          "output_type": "stream",
          "name": "stderr",
          "text": [
            "image 1/1 /content/drive/MyDrive/wcs2023/hvwc23/test/D5_159.jpg: 640x640 1 D5_Core, 1 D5_OK, 1 D5_TE, 11.8ms\n",
            "Speed: 2.9ms preprocess, 11.8ms inference, 4.5ms postprocess per image at shape (1, 3, 640, 640)\n",
            "\n"
          ]
        },
        {
          "output_type": "stream",
          "name": "stdout",
          "text": [
            "D5_286.jpg\n"
          ]
        },
        {
          "output_type": "stream",
          "name": "stderr",
          "text": [
            "image 1/1 /content/drive/MyDrive/wcs2023/hvwc23/test/D5_286.jpg: 640x640 1 D5_NG, 11.9ms\n",
            "Speed: 2.9ms preprocess, 11.9ms inference, 3.8ms postprocess per image at shape (1, 3, 640, 640)\n",
            "\n"
          ]
        },
        {
          "output_type": "stream",
          "name": "stdout",
          "text": [
            "D5_330.jpg\n"
          ]
        },
        {
          "output_type": "stream",
          "name": "stderr",
          "text": [
            "image 1/1 /content/drive/MyDrive/wcs2023/hvwc23/test/D5_330.jpg: 640x640 1 D5_Background, 1 D5_Core, 1 D5_NG, 1 D5_OK, 1 D5_TE, 13.5ms\n",
            "Speed: 3.1ms preprocess, 13.5ms inference, 5.2ms postprocess per image at shape (1, 3, 640, 640)\n",
            "\n"
          ]
        },
        {
          "output_type": "stream",
          "name": "stdout",
          "text": [
            "D5_370.jpg\n"
          ]
        },
        {
          "output_type": "stream",
          "name": "stderr",
          "text": [
            "image 1/1 /content/drive/MyDrive/wcs2023/hvwc23/test/D5_370.jpg: 640x640 1 D5_Core, 1 D5_NG, 1 D5_OK, 1 D5_TE, 13.1ms\n",
            "Speed: 3.4ms preprocess, 13.1ms inference, 5.0ms postprocess per image at shape (1, 3, 640, 640)\n",
            "\n"
          ]
        },
        {
          "output_type": "stream",
          "name": "stdout",
          "text": [
            "D5_388.jpg\n"
          ]
        },
        {
          "output_type": "stream",
          "name": "stderr",
          "text": [
            "image 1/1 /content/drive/MyDrive/wcs2023/hvwc23/test/D5_388.jpg: 608x640 1 D5_Core, 1 D5_NG, 1 D5_OK, 1 D5_TE, 16.0ms\n",
            "Speed: 2.7ms preprocess, 16.0ms inference, 4.6ms postprocess per image at shape (1, 3, 608, 640)\n",
            "\n"
          ]
        },
        {
          "output_type": "stream",
          "name": "stdout",
          "text": [
            "D5_181.jpg\n"
          ]
        },
        {
          "output_type": "stream",
          "name": "stderr",
          "text": [
            "image 1/1 /content/drive/MyDrive/wcs2023/hvwc23/test/D5_181.jpg: 640x640 1 D5_Core, 1 D5_NG, 1 D5_TE, 12.7ms\n",
            "Speed: 2.9ms preprocess, 12.7ms inference, 4.5ms postprocess per image at shape (1, 3, 640, 640)\n",
            "\n"
          ]
        },
        {
          "output_type": "stream",
          "name": "stdout",
          "text": [
            "D5_375.jpg\n"
          ]
        },
        {
          "output_type": "stream",
          "name": "stderr",
          "text": [
            "image 1/1 /content/drive/MyDrive/wcs2023/hvwc23/test/D5_375.jpg: 640x640 1 D5_NG, 1 D5_TE, 12.1ms\n",
            "Speed: 2.6ms preprocess, 12.1ms inference, 4.3ms postprocess per image at shape (1, 3, 640, 640)\n",
            "\n"
          ]
        },
        {
          "output_type": "stream",
          "name": "stdout",
          "text": [
            "D5_047.jpg\n"
          ]
        },
        {
          "output_type": "stream",
          "name": "stderr",
          "text": [
            "image 1/1 /content/drive/MyDrive/wcs2023/hvwc23/test/D5_047.jpg: 640x640 1 D5_Core, 1 D5_NG, 1 D5_OK, 1 D5_TE, 12.3ms\n",
            "Speed: 2.9ms preprocess, 12.3ms inference, 4.9ms postprocess per image at shape (1, 3, 640, 640)\n",
            "\n"
          ]
        },
        {
          "output_type": "stream",
          "name": "stdout",
          "text": [
            "D5_004.jpg\n"
          ]
        },
        {
          "output_type": "stream",
          "name": "stderr",
          "text": [
            "image 1/1 /content/drive/MyDrive/wcs2023/hvwc23/test/D5_004.jpg: 640x640 1 D5_NG, 1 D5_TE, 11.7ms\n",
            "Speed: 3.0ms preprocess, 11.7ms inference, 4.2ms postprocess per image at shape (1, 3, 640, 640)\n",
            "\n"
          ]
        },
        {
          "output_type": "stream",
          "name": "stdout",
          "text": [
            "D5_149.jpg\n"
          ]
        },
        {
          "output_type": "stream",
          "name": "stderr",
          "text": [
            "image 1/1 /content/drive/MyDrive/wcs2023/hvwc23/test/D5_149.jpg: 640x640 1 D5_OK, 11.9ms\n",
            "Speed: 2.8ms preprocess, 11.9ms inference, 3.8ms postprocess per image at shape (1, 3, 640, 640)\n",
            "\n"
          ]
        },
        {
          "output_type": "stream",
          "name": "stdout",
          "text": [
            "D5_019.jpg\n"
          ]
        },
        {
          "output_type": "stream",
          "name": "stderr",
          "text": [
            "image 1/1 /content/drive/MyDrive/wcs2023/hvwc23/test/D5_019.jpg: 640x640 1 D5_NG, 15.2ms\n",
            "Speed: 3.1ms preprocess, 15.2ms inference, 6.0ms postprocess per image at shape (1, 3, 640, 640)\n",
            "\n"
          ]
        },
        {
          "output_type": "stream",
          "name": "stdout",
          "text": [
            "D5_295.jpg\n"
          ]
        },
        {
          "output_type": "stream",
          "name": "stderr",
          "text": [
            "image 1/1 /content/drive/MyDrive/wcs2023/hvwc23/test/D5_295.jpg: 640x640 1 D5_Core, 1 D5_NG, 15.0ms\n",
            "Speed: 3.1ms preprocess, 15.0ms inference, 5.5ms postprocess per image at shape (1, 3, 640, 640)\n",
            "\n"
          ]
        },
        {
          "output_type": "stream",
          "name": "stdout",
          "text": [
            "D5_080.jpg\n"
          ]
        },
        {
          "output_type": "stream",
          "name": "stderr",
          "text": [
            "image 1/1 /content/drive/MyDrive/wcs2023/hvwc23/test/D5_080.jpg: 640x640 1 D5_NG, 18.4ms\n",
            "Speed: 3.1ms preprocess, 18.4ms inference, 4.8ms postprocess per image at shape (1, 3, 640, 640)\n",
            "\n"
          ]
        },
        {
          "output_type": "stream",
          "name": "stdout",
          "text": [
            "D5_290.jpg\n"
          ]
        },
        {
          "output_type": "stream",
          "name": "stderr",
          "text": [
            "image 1/1 /content/drive/MyDrive/wcs2023/hvwc23/test/D5_290.jpg: 640x640 1 D5_NG, 14.4ms\n",
            "Speed: 3.1ms preprocess, 14.4ms inference, 4.8ms postprocess per image at shape (1, 3, 640, 640)\n",
            "\n"
          ]
        },
        {
          "output_type": "stream",
          "name": "stdout",
          "text": [
            "D5_221.jpg\n"
          ]
        },
        {
          "output_type": "stream",
          "name": "stderr",
          "text": [
            "image 1/1 /content/drive/MyDrive/wcs2023/hvwc23/test/D5_221.jpg: 640x640 1 D5_NG, 18.9ms\n",
            "Speed: 3.2ms preprocess, 18.9ms inference, 4.8ms postprocess per image at shape (1, 3, 640, 640)\n",
            "\n"
          ]
        },
        {
          "output_type": "stream",
          "name": "stdout",
          "text": [
            "D5_056.jpg\n"
          ]
        },
        {
          "output_type": "stream",
          "name": "stderr",
          "text": [
            "image 1/1 /content/drive/MyDrive/wcs2023/hvwc23/test/D5_056.jpg: 640x640 1 D5_NG, 15.1ms\n",
            "Speed: 3.4ms preprocess, 15.1ms inference, 5.0ms postprocess per image at shape (1, 3, 640, 640)\n",
            "\n"
          ]
        },
        {
          "output_type": "stream",
          "name": "stdout",
          "text": [
            "D5_031.jpg\n"
          ]
        },
        {
          "output_type": "stream",
          "name": "stderr",
          "text": [
            "image 1/1 /content/drive/MyDrive/wcs2023/hvwc23/test/D5_031.jpg: 640x640 1 D5_NG, 19.1ms\n",
            "Speed: 3.1ms preprocess, 19.1ms inference, 5.4ms postprocess per image at shape (1, 3, 640, 640)\n",
            "\n"
          ]
        },
        {
          "output_type": "stream",
          "name": "stdout",
          "text": [
            "D5_023.jpg\n"
          ]
        },
        {
          "output_type": "stream",
          "name": "stderr",
          "text": [
            "image 1/1 /content/drive/MyDrive/wcs2023/hvwc23/test/D5_023.jpg: 640x640 1 D5_NG, 11.7ms\n",
            "Speed: 2.7ms preprocess, 11.7ms inference, 4.0ms postprocess per image at shape (1, 3, 640, 640)\n",
            "\n"
          ]
        },
        {
          "output_type": "stream",
          "name": "stdout",
          "text": [
            "D5_111.jpg\n"
          ]
        },
        {
          "output_type": "stream",
          "name": "stderr",
          "text": [
            "image 1/1 /content/drive/MyDrive/wcs2023/hvwc23/test/D5_111.jpg: 640x640 1 D5_OK, 1 D5_TE, 11.8ms\n",
            "Speed: 2.9ms preprocess, 11.8ms inference, 4.1ms postprocess per image at shape (1, 3, 640, 640)\n",
            "\n"
          ]
        },
        {
          "output_type": "stream",
          "name": "stdout",
          "text": [
            "D5_173.jpg\n"
          ]
        },
        {
          "output_type": "stream",
          "name": "stderr",
          "text": [
            "image 1/1 /content/drive/MyDrive/wcs2023/hvwc23/test/D5_173.jpg: 640x640 1 D5_NG, 11.9ms\n",
            "Speed: 2.8ms preprocess, 11.9ms inference, 3.8ms postprocess per image at shape (1, 3, 640, 640)\n",
            "\n"
          ]
        },
        {
          "output_type": "stream",
          "name": "stdout",
          "text": [
            "D5_247.jpg\n"
          ]
        },
        {
          "output_type": "stream",
          "name": "stderr",
          "text": [
            "image 1/1 /content/drive/MyDrive/wcs2023/hvwc23/test/D5_247.jpg: 640x640 1 D5_NG, 12.3ms\n",
            "Speed: 3.0ms preprocess, 12.3ms inference, 4.0ms postprocess per image at shape (1, 3, 640, 640)\n",
            "\n"
          ]
        },
        {
          "output_type": "stream",
          "name": "stdout",
          "text": [
            "D5_262.jpg\n"
          ]
        },
        {
          "output_type": "stream",
          "name": "stderr",
          "text": [
            "image 1/1 /content/drive/MyDrive/wcs2023/hvwc23/test/D5_262.jpg: 640x640 1 D5_NG, 12.1ms\n",
            "Speed: 3.0ms preprocess, 12.1ms inference, 3.8ms postprocess per image at shape (1, 3, 640, 640)\n",
            "\n"
          ]
        },
        {
          "output_type": "stream",
          "name": "stdout",
          "text": [
            "D5_293.jpg\n"
          ]
        },
        {
          "output_type": "stream",
          "name": "stderr",
          "text": [
            "image 1/1 /content/drive/MyDrive/wcs2023/hvwc23/test/D5_293.jpg: 640x640 1 D5_NG, 11.7ms\n",
            "Speed: 2.8ms preprocess, 11.7ms inference, 3.9ms postprocess per image at shape (1, 3, 640, 640)\n",
            "\n"
          ]
        },
        {
          "output_type": "stream",
          "name": "stdout",
          "text": [
            "D5_153.jpg\n"
          ]
        },
        {
          "output_type": "stream",
          "name": "stderr",
          "text": [
            "image 1/1 /content/drive/MyDrive/wcs2023/hvwc23/test/D5_153.jpg: 640x640 1 D5_NG, 1 D5_TE, 11.6ms\n",
            "Speed: 2.2ms preprocess, 11.6ms inference, 4.3ms postprocess per image at shape (1, 3, 640, 640)\n",
            "\n"
          ]
        },
        {
          "output_type": "stream",
          "name": "stdout",
          "text": [
            "D5_079.jpg\n"
          ]
        },
        {
          "output_type": "stream",
          "name": "stderr",
          "text": [
            "image 1/1 /content/drive/MyDrive/wcs2023/hvwc23/test/D5_079.jpg: 640x640 1 D5_OK, 1 D5_TE, 11.7ms\n",
            "Speed: 2.7ms preprocess, 11.7ms inference, 6.9ms postprocess per image at shape (1, 3, 640, 640)\n",
            "\n"
          ]
        },
        {
          "output_type": "stream",
          "name": "stdout",
          "text": [
            "D5_008.jpg\n"
          ]
        },
        {
          "output_type": "stream",
          "name": "stderr",
          "text": [
            "image 1/1 /content/drive/MyDrive/wcs2023/hvwc23/test/D5_008.jpg: 640x640 1 D5_Core, 1 D5_NG, 1 D5_OK, 1 D5_TE, 12.0ms\n",
            "Speed: 2.9ms preprocess, 12.0ms inference, 4.8ms postprocess per image at shape (1, 3, 640, 640)\n",
            "\n"
          ]
        },
        {
          "output_type": "stream",
          "name": "stdout",
          "text": [
            "D5_343.jpg\n"
          ]
        },
        {
          "output_type": "stream",
          "name": "stderr",
          "text": [
            "image 1/1 /content/drive/MyDrive/wcs2023/hvwc23/test/D5_343.jpg: 640x640 1 D5_NG, 1 D5_TE, 15.5ms\n",
            "Speed: 2.9ms preprocess, 15.5ms inference, 4.1ms postprocess per image at shape (1, 3, 640, 640)\n",
            "\n"
          ]
        },
        {
          "output_type": "stream",
          "name": "stdout",
          "text": [
            "D5_105.jpg\n"
          ]
        },
        {
          "output_type": "stream",
          "name": "stderr",
          "text": [
            "image 1/1 /content/drive/MyDrive/wcs2023/hvwc23/test/D5_105.jpg: 640x640 1 D5_NG, 11.9ms\n",
            "Speed: 2.8ms preprocess, 11.9ms inference, 3.7ms postprocess per image at shape (1, 3, 640, 640)\n",
            "\n"
          ]
        },
        {
          "output_type": "stream",
          "name": "stdout",
          "text": [
            "D5_061.jpg\n"
          ]
        },
        {
          "output_type": "stream",
          "name": "stderr",
          "text": [
            "image 1/1 /content/drive/MyDrive/wcs2023/hvwc23/test/D5_061.jpg: 640x640 1 D5_OK, 1 D5_TE, 11.8ms\n",
            "Speed: 2.7ms preprocess, 11.8ms inference, 4.2ms postprocess per image at shape (1, 3, 640, 640)\n",
            "\n"
          ]
        },
        {
          "output_type": "stream",
          "name": "stdout",
          "text": [
            "D5_281.jpg\n"
          ]
        },
        {
          "output_type": "stream",
          "name": "stderr",
          "text": [
            "image 1/1 /content/drive/MyDrive/wcs2023/hvwc23/test/D5_281.jpg: 640x640 1 D5_Core, 1 D5_NG, 11.6ms\n",
            "Speed: 2.8ms preprocess, 11.6ms inference, 4.1ms postprocess per image at shape (1, 3, 640, 640)\n",
            "\n"
          ]
        },
        {
          "output_type": "stream",
          "name": "stdout",
          "text": [
            "D5_339.jpg\n"
          ]
        },
        {
          "output_type": "stream",
          "name": "stderr",
          "text": [
            "image 1/1 /content/drive/MyDrive/wcs2023/hvwc23/test/D5_339.jpg: 640x640 1 D5_Background, 1 D5_Core, 1 D5_OK, 1 D5_TE, 11.7ms\n",
            "Speed: 2.9ms preprocess, 11.7ms inference, 4.8ms postprocess per image at shape (1, 3, 640, 640)\n",
            "\n"
          ]
        },
        {
          "output_type": "stream",
          "name": "stdout",
          "text": [
            "D5_016.jpg\n"
          ]
        },
        {
          "output_type": "stream",
          "name": "stderr",
          "text": [
            "image 1/1 /content/drive/MyDrive/wcs2023/hvwc23/test/D5_016.jpg: 640x640 1 D5_Core, 1 D5_NG, 1 D5_OK, 1 D5_TE, 11.5ms\n",
            "Speed: 2.7ms preprocess, 11.5ms inference, 4.7ms postprocess per image at shape (1, 3, 640, 640)\n",
            "\n"
          ]
        },
        {
          "output_type": "stream",
          "name": "stdout",
          "text": [
            "D5_034.jpg\n"
          ]
        },
        {
          "output_type": "stream",
          "name": "stderr",
          "text": [
            "image 1/1 /content/drive/MyDrive/wcs2023/hvwc23/test/D5_034.jpg: 640x640 1 D5_NG, 12.4ms\n",
            "Speed: 2.9ms preprocess, 12.4ms inference, 3.8ms postprocess per image at shape (1, 3, 640, 640)\n",
            "\n"
          ]
        },
        {
          "output_type": "stream",
          "name": "stdout",
          "text": [
            "D5_272.jpg\n"
          ]
        },
        {
          "output_type": "stream",
          "name": "stderr",
          "text": [
            "image 1/1 /content/drive/MyDrive/wcs2023/hvwc23/test/D5_272.jpg: 640x640 1 D5_NG, 1 D5_OK, 1 D5_TE, 12.4ms\n",
            "Speed: 3.0ms preprocess, 12.4ms inference, 4.5ms postprocess per image at shape (1, 3, 640, 640)\n",
            "\n"
          ]
        },
        {
          "output_type": "stream",
          "name": "stdout",
          "text": [
            "D5_067.jpg\n"
          ]
        },
        {
          "output_type": "stream",
          "name": "stderr",
          "text": [
            "image 1/1 /content/drive/MyDrive/wcs2023/hvwc23/test/D5_067.jpg: 640x640 1 D5_NG, 12.0ms\n",
            "Speed: 2.8ms preprocess, 12.0ms inference, 3.8ms postprocess per image at shape (1, 3, 640, 640)\n",
            "\n"
          ]
        },
        {
          "output_type": "stream",
          "name": "stdout",
          "text": [
            "D5_076.jpg\n"
          ]
        },
        {
          "output_type": "stream",
          "name": "stderr",
          "text": [
            "image 1/1 /content/drive/MyDrive/wcs2023/hvwc23/test/D5_076.jpg: 608x640 2 D5_Cores, 1 D5_OK, 1 D5_TE, 12.7ms\n",
            "Speed: 2.8ms preprocess, 12.7ms inference, 4.8ms postprocess per image at shape (1, 3, 608, 640)\n",
            "\n"
          ]
        },
        {
          "output_type": "stream",
          "name": "stdout",
          "text": [
            "D5_302.jpg\n"
          ]
        },
        {
          "output_type": "stream",
          "name": "stderr",
          "text": [
            "image 1/1 /content/drive/MyDrive/wcs2023/hvwc23/test/D5_302.jpg: 640x640 1 D5_NG, 1 D5_TE, 12.7ms\n",
            "Speed: 2.9ms preprocess, 12.7ms inference, 4.1ms postprocess per image at shape (1, 3, 640, 640)\n",
            "\n"
          ]
        },
        {
          "output_type": "stream",
          "name": "stdout",
          "text": [
            "D5_356.jpg\n"
          ]
        },
        {
          "output_type": "stream",
          "name": "stderr",
          "text": [
            "image 1/1 /content/drive/MyDrive/wcs2023/hvwc23/test/D5_356.jpg: 640x640 1 D5_NG, 11.8ms\n",
            "Speed: 2.7ms preprocess, 11.8ms inference, 3.8ms postprocess per image at shape (1, 3, 640, 640)\n",
            "\n"
          ]
        },
        {
          "output_type": "stream",
          "name": "stdout",
          "text": [
            "D5_389.jpg\n"
          ]
        },
        {
          "output_type": "stream",
          "name": "stderr",
          "text": [
            "image 1/1 /content/drive/MyDrive/wcs2023/hvwc23/test/D5_389.jpg: 640x640 1 D5_NG, 1 D5_TE, 11.9ms\n",
            "Speed: 2.8ms preprocess, 11.9ms inference, 4.2ms postprocess per image at shape (1, 3, 640, 640)\n",
            "\n"
          ]
        },
        {
          "output_type": "stream",
          "name": "stdout",
          "text": [
            "D5_249.jpg\n"
          ]
        },
        {
          "output_type": "stream",
          "name": "stderr",
          "text": [
            "image 1/1 /content/drive/MyDrive/wcs2023/hvwc23/test/D5_249.jpg: 640x640 1 D5_Core, 1 D5_NG, 1 D5_TE, 11.5ms\n",
            "Speed: 3.0ms preprocess, 11.5ms inference, 4.5ms postprocess per image at shape (1, 3, 640, 640)\n",
            "\n"
          ]
        },
        {
          "output_type": "stream",
          "name": "stdout",
          "text": [
            "D5_203.jpg\n"
          ]
        },
        {
          "output_type": "stream",
          "name": "stderr",
          "text": [
            "image 1/1 /content/drive/MyDrive/wcs2023/hvwc23/test/D5_203.jpg: 640x640 1 D5_OK, 12.2ms\n",
            "Speed: 3.1ms preprocess, 12.2ms inference, 3.9ms postprocess per image at shape (1, 3, 640, 640)\n",
            "\n"
          ]
        },
        {
          "output_type": "stream",
          "name": "stdout",
          "text": [
            "D5_282.jpg\n"
          ]
        },
        {
          "output_type": "stream",
          "name": "stderr",
          "text": [
            "image 1/1 /content/drive/MyDrive/wcs2023/hvwc23/test/D5_282.jpg: 640x640 1 D5_Core, 1 D5_NG, 11.7ms\n",
            "Speed: 2.8ms preprocess, 11.7ms inference, 4.1ms postprocess per image at shape (1, 3, 640, 640)\n",
            "\n"
          ]
        },
        {
          "output_type": "stream",
          "name": "stdout",
          "text": [
            "D5_078.jpg\n"
          ]
        },
        {
          "output_type": "stream",
          "name": "stderr",
          "text": [
            "image 1/1 /content/drive/MyDrive/wcs2023/hvwc23/test/D5_078.jpg: 608x640 2 D5_Cores, 1 D5_NG, 1 D5_TE, 14.9ms\n",
            "Speed: 3.1ms preprocess, 14.9ms inference, 5.6ms postprocess per image at shape (1, 3, 608, 640)\n",
            "\n"
          ]
        },
        {
          "output_type": "stream",
          "name": "stdout",
          "text": [
            "D5_125.jpg\n"
          ]
        },
        {
          "output_type": "stream",
          "name": "stderr",
          "text": [
            "image 1/1 /content/drive/MyDrive/wcs2023/hvwc23/test/D5_125.jpg: 640x640 1 D5_OK, 1 D5_TE, 17.5ms\n",
            "Speed: 3.1ms preprocess, 17.5ms inference, 5.6ms postprocess per image at shape (1, 3, 640, 640)\n",
            "\n"
          ]
        },
        {
          "output_type": "stream",
          "name": "stdout",
          "text": [
            "D5_141.jpg\n"
          ]
        },
        {
          "output_type": "stream",
          "name": "stderr",
          "text": [
            "image 1/1 /content/drive/MyDrive/wcs2023/hvwc23/test/D5_141.jpg: 640x640 1 D5_NG, 19.1ms\n",
            "Speed: 3.0ms preprocess, 19.1ms inference, 4.9ms postprocess per image at shape (1, 3, 640, 640)\n",
            "\n"
          ]
        },
        {
          "output_type": "stream",
          "name": "stdout",
          "text": [
            "D5_020.jpg\n"
          ]
        },
        {
          "output_type": "stream",
          "name": "stderr",
          "text": [
            "image 1/1 /content/drive/MyDrive/wcs2023/hvwc23/test/D5_020.jpg: 640x640 1 D5_Core, 1 D5_NG, 1 D5_OK, 1 D5_TE, 13.8ms\n",
            "Speed: 3.1ms preprocess, 13.8ms inference, 5.9ms postprocess per image at shape (1, 3, 640, 640)\n",
            "\n"
          ]
        },
        {
          "output_type": "stream",
          "name": "stdout",
          "text": [
            "D5_133.jpg\n"
          ]
        },
        {
          "output_type": "stream",
          "name": "stderr",
          "text": [
            "image 1/1 /content/drive/MyDrive/wcs2023/hvwc23/test/D5_133.jpg: 640x640 1 D5_Core, 1 D5_NG, 1 D5_TE, 14.4ms\n",
            "Speed: 3.2ms preprocess, 14.4ms inference, 5.9ms postprocess per image at shape (1, 3, 640, 640)\n",
            "\n"
          ]
        },
        {
          "output_type": "stream",
          "name": "stdout",
          "text": [
            "D5_119.jpg\n"
          ]
        },
        {
          "output_type": "stream",
          "name": "stderr",
          "text": [
            "image 1/1 /content/drive/MyDrive/wcs2023/hvwc23/test/D5_119.jpg: 640x640 1 D5_Core, 1 D5_NG, 1 D5_OK, 1 D5_TE, 13.9ms\n",
            "Speed: 4.9ms preprocess, 13.9ms inference, 5.8ms postprocess per image at shape (1, 3, 640, 640)\n",
            "\n"
          ]
        },
        {
          "output_type": "stream",
          "name": "stdout",
          "text": [
            "D5_322.jpg\n"
          ]
        },
        {
          "output_type": "stream",
          "name": "stderr",
          "text": [
            "image 1/1 /content/drive/MyDrive/wcs2023/hvwc23/test/D5_322.jpg: 640x640 1 D5_NG, 16.5ms\n",
            "Speed: 3.1ms preprocess, 16.5ms inference, 5.1ms postprocess per image at shape (1, 3, 640, 640)\n",
            "\n"
          ]
        },
        {
          "output_type": "stream",
          "name": "stdout",
          "text": [
            "D5_017.jpg\n"
          ]
        },
        {
          "output_type": "stream",
          "name": "stderr",
          "text": [
            "image 1/1 /content/drive/MyDrive/wcs2023/hvwc23/test/D5_017.jpg: 640x640 1 D5_NG, 1 D5_OK, 1 D5_TE, 12.1ms\n",
            "Speed: 3.0ms preprocess, 12.1ms inference, 4.7ms postprocess per image at shape (1, 3, 640, 640)\n"
          ]
        }
      ]
    }
  ]
}